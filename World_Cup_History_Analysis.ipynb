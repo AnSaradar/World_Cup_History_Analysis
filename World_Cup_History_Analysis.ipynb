{
  "nbformat": 4,
  "nbformat_minor": 0,
  "metadata": {
    "colab": {
      "provenance": [],
      "collapsed_sections": [
        "5FbV6JDCP_sE",
        "sbgFvGT31xgZ",
        "CE5ELG852Zgo",
        "fEZRA02BNyEb",
        "51LhSYUKMtmS",
        "nHj-2Br256T-",
        "cSg105S6FkO3",
        "p-lPlSuEGVM_",
        "qtTPvHnf4fSg",
        "l9nkzAo68StV",
        "8pSuo6eD4mwA",
        "JU1ji4brkpMw",
        "TXvF18LmORwE",
        "B7bbSS7bOWXE",
        "3t17G-aXSopF",
        "Tk3GBTy3WfdF",
        "WM6URPRfS3DM"
      ],
      "mount_file_id": "1Rn6P63hgpcCw76NtYtbd8nItUZsFO4ca",
      "authorship_tag": "ABX9TyOMA4huZ4SLOuD0Wnj/BzL7",
      "include_colab_link": true
    },
    "kernelspec": {
      "name": "python3",
      "display_name": "Python 3"
    },
    "language_info": {
      "name": "python"
    }
  },
  "cells": [
    {
      "cell_type": "markdown",
      "metadata": {
        "id": "view-in-github",
        "colab_type": "text"
      },
      "source": [
        "<a href=\"https://colab.research.google.com/github/AnSaradar/World_Cup_History_Analysis/blob/main/World_Cup_History_Analysis.ipynb\" target=\"_parent\"><img src=\"https://colab.research.google.com/assets/colab-badge.svg\" alt=\"Open In Colab\"/></a>"
      ]
    },
    {
      "cell_type": "markdown",
      "source": [
        "#Importing Libraries & Loading the Data"
      ],
      "metadata": {
        "id": "NwqdIXoI5jOe"
      }
    },
    {
      "cell_type": "code",
      "execution_count": null,
      "metadata": {
        "id": "DWGogTxSx6fI"
      },
      "outputs": [],
      "source": [
        "import numpy as np\n",
        "import pandas as pd"
      ]
    },
    {
      "cell_type": "code",
      "source": [
        "matches_data = pd.read_csv('/content/drive/MyDrive/Datasets/World_Cup Data/matches.csv')\n",
        "attendance_data = pd.read_csv('/content/drive/MyDrive/Datasets/World_Cup Data/attendance.csv')\n",
        "stadiums_data = pd.read_csv('/content/drive/MyDrive/Datasets/World_Cup Data/stadiums.csv')\n",
        "teams_data = pd.read_csv(\"/content/drive/MyDrive/Datasets/World_Cup Data/teams.csv\")\n",
        "squads_data = pd.read_csv('/content/drive/MyDrive/Datasets/World_Cup Data/squads.csv')\n",
        "players_data = pd.read_csv('/content/drive/MyDrive/Datasets/World_Cup Data/players.csv')\n",
        "tournaments_data = pd.read_csv('/content/drive/MyDrive/Datasets/World_Cup Data/tournaments.csv')\n",
        "goals_data = pd.read_csv('/content/drive/MyDrive/Datasets/World_Cup Data/goals.csv')\n",
        "refrees_data = pd.read_csv('/content/drive/MyDrive/Datasets/World_Cup Data/referees_Fiji.csv')\n",
        "referees_appointments_data = pd.read_csv('/content/drive/MyDrive/Datasets/World_Cup Data/referee_appointments.csv')\n",
        "referees_appearances_data = pd.read_csv('/content/drive/MyDrive/Datasets/World_Cup Data/referee_appearances.csv')\n",
        "manageres_data = pd.read_csv('/content/drive/MyDrive/Datasets/World_Cup Data/managers.csv')\n",
        "manageres_appointments_data = pd.read_csv('/content/drive/MyDrive/Datasets/World_Cup Data/manager_appointments.csv')\n",
        "managers_appearances_data = pd.read_csv('/content/drive/MyDrive/Datasets/World_Cup Data/manager_appearances.csv')\n",
        "bookings_data = pd.read_csv('/content/drive/MyDrive/Datasets/World_Cup Data/bookings.csv')\n",
        "award_winners_data = pd.read_csv('/content/drive/MyDrive/Datasets/World_Cup Data/award_winners.csv')"
      ],
      "metadata": {
        "id": "Q1qgJZ9s1HZl"
      },
      "execution_count": null,
      "outputs": []
    },
    {
      "cell_type": "code",
      "source": [
        "!pip install plotly"
      ],
      "metadata": {
        "colab": {
          "base_uri": "https://localhost:8080/"
        },
        "id": "xxNDOZIRb3iI",
        "outputId": "066e12d0-08b4-4d18-c832-def276688650"
      },
      "execution_count": null,
      "outputs": [
        {
          "output_type": "stream",
          "name": "stdout",
          "text": [
            "Looking in indexes: https://pypi.org/simple, https://us-python.pkg.dev/colab-wheels/public/simple/\n",
            "Requirement already satisfied: plotly in /usr/local/lib/python3.10/dist-packages (5.13.1)\n",
            "Requirement already satisfied: tenacity>=6.2.0 in /usr/local/lib/python3.10/dist-packages (from plotly) (8.2.2)\n"
          ]
        }
      ]
    },
    {
      "cell_type": "code",
      "source": [
        "import plotly.graph_objs as go"
      ],
      "metadata": {
        "id": "ReRO_bOwb7Vf"
      },
      "execution_count": null,
      "outputs": []
    },
    {
      "cell_type": "markdown",
      "source": [
        "#Exploring & Merging the Data"
      ],
      "metadata": {
        "id": "sMHVc6FJ5oPe"
      }
    },
    {
      "cell_type": "markdown",
      "source": [
        "## A- Merging Matches , Teams , Attendance & Stadiums"
      ],
      "metadata": {
        "id": "mUVrZu1_QDSz"
      }
    },
    {
      "cell_type": "code",
      "source": [
        "attendance_data.shape"
      ],
      "metadata": {
        "colab": {
          "base_uri": "https://localhost:8080/"
        },
        "id": "AF69tuyn296j",
        "outputId": "1904d69a-f61c-41a0-f044-cd950d99ae43"
      },
      "execution_count": null,
      "outputs": [
        {
          "output_type": "execute_result",
          "data": {
            "text/plain": [
              "(964, 4)"
            ]
          },
          "metadata": {},
          "execution_count": 6
        }
      ]
    },
    {
      "cell_type": "code",
      "source": [
        "attendance_data.isnull().sum()"
      ],
      "metadata": {
        "colab": {
          "base_uri": "https://localhost:8080/"
        },
        "id": "UYeqOeaL3FyM",
        "outputId": "af9c24db-e8c8-4dea-9af4-e0f5f5d4b51d"
      },
      "execution_count": null,
      "outputs": [
        {
          "output_type": "execute_result",
          "data": {
            "text/plain": [
              "home_team     0\n",
              "away_team     0\n",
              "Attendance    0\n",
              "Date          0\n",
              "dtype: int64"
            ]
          },
          "metadata": {},
          "execution_count": 7
        }
      ]
    },
    {
      "cell_type": "markdown",
      "source": [
        "There are no missing values , and the total number of matches is 964"
      ],
      "metadata": {
        "id": "yjdw61kpytX4"
      }
    },
    {
      "cell_type": "code",
      "source": [
        "teams_data.columns"
      ],
      "metadata": {
        "colab": {
          "base_uri": "https://localhost:8080/"
        },
        "id": "0AQVwY1NL2h7",
        "outputId": "0826f480-25de-4645-eb59-4ffbb1b27885"
      },
      "execution_count": null,
      "outputs": [
        {
          "output_type": "execute_result",
          "data": {
            "text/plain": [
              "Index(['key_id', 'team_id', 'team_name', 'team_code', 'federation_name',\n",
              "       'region_name', 'confederation_id', 'confederation_name',\n",
              "       'confederation_code', 'team_wikipedia_link',\n",
              "       'federation_wikipedia_link'],\n",
              "      dtype='object')"
            ]
          },
          "metadata": {},
          "execution_count": 8
        }
      ]
    },
    {
      "cell_type": "markdown",
      "source": [
        "The Key Id Column in the teams dataset is not useful so I will get rid of it"
      ],
      "metadata": {
        "id": "BXvbmApby3_Y"
      }
    },
    {
      "cell_type": "code",
      "source": [
        "teams_data.drop(['key_id'],axis=1,inplace=True)"
      ],
      "metadata": {
        "id": "pjlV_YgzL-Js"
      },
      "execution_count": null,
      "outputs": []
    },
    {
      "cell_type": "markdown",
      "source": [
        "Now  I will Try to merge the attendance with the teams dataset , to get the info of each team like the id and the team code and other info"
      ],
      "metadata": {
        "id": "ElIPVQdLzBjI"
      }
    },
    {
      "cell_type": "markdown",
      "source": [
        "And Also I will create the match name column from the away and home teams name"
      ],
      "metadata": {
        "id": "fGVLVUwTzPF4"
      }
    },
    {
      "cell_type": "code",
      "source": [
        "home_teams = teams_data.add_prefix('home_')\n",
        "away_teams = teams_data.add_prefix('away_')\n",
        "df= pd.merge(attendance_data, home_teams,how='left' ,left_on='home_team' ,right_on = 'home_team_name')\n",
        "df= pd.merge(df, away_teams, left_on='away_team' ,right_on = 'away_team_name')\n",
        "df['match_name'] = df['home_team']+' v '+df['away_team']\n",
        "df.drop(['home_team_name','away_team_name'],axis=1)\n",
        "df.shape"
      ],
      "metadata": {
        "colab": {
          "base_uri": "https://localhost:8080/"
        },
        "id": "QE0kxsEH2QRh",
        "outputId": "505e70fc-c643-40fb-d71a-176ddea262cf"
      },
      "execution_count": null,
      "outputs": [
        {
          "output_type": "execute_result",
          "data": {
            "text/plain": [
              "(905, 25)"
            ]
          },
          "metadata": {},
          "execution_count": 10
        }
      ]
    },
    {
      "cell_type": "markdown",
      "source": [
        "Here after I tried to merge the teams with attendace I notice there are some missings records"
      ],
      "metadata": {
        "id": "7KYWRz225uCT"
      }
    },
    {
      "cell_type": "code",
      "source": [
        "df[df.isnull().any(axis=1)]"
      ],
      "metadata": {
        "colab": {
          "base_uri": "https://localhost:8080/",
          "height": 1000
        },
        "id": "TM2enXrz3wa9",
        "outputId": "1458e02a-685d-40dc-9a40-b4acf88ed34d"
      },
      "execution_count": null,
      "outputs": [
        {
          "output_type": "execute_result",
          "data": {
            "text/plain": [
              "          home_team              away_team  Attendance        Date  \\\n",
              "71   Korea Republic               Portugal       44097  2022-12-02   \n",
              "73          IR Iran               Portugal       41685  2018-06-25   \n",
              "77    Côte d'Ivoire               Portugal       37034  2010-06-15   \n",
              "144         IR Iran                  Spain       42718  2018-06-20   \n",
              "157  Korea Republic                  Spain       32733  1990-06-17   \n",
              "206  Korea Republic                 Poland       48760  2002-06-04   \n",
              "227         IR Iran          United States       42127  2022-11-29   \n",
              "238  Korea Republic          United States       60778  2002-06-10   \n",
              "258      Germany DR              Australia       17000  1974-06-14   \n",
              "269  Korea Republic                Uruguay       29039  1990-06-21   \n",
              "290  Korea Republic                Belgium       61397  2014-06-26   \n",
              "315  Korea Republic                Germany       41835  2018-06-27   \n",
              "345  Korea Republic                 Mexico       43472  2018-06-23   \n",
              "359  Korea Republic                 Mexico       39100  1998-06-13   \n",
              "424  Korea Republic                  Ghana       43983  2022-11-28   \n",
              "443        China PR             Costa Rica       27217  2002-06-04   \n",
              "486   Côte d'Ivoire                  Japan       40267  2014-06-14   \n",
              "521      Germany DR            Netherlands       68348  1974-06-30   \n",
              "598         IR Iran                Nigeria       39081  2014-06-16   \n",
              "607  Korea Republic                Algeria       42732  2014-06-22   \n",
              "616  Korea Republic                 Greece       31513  2010-06-12   \n",
              "631       Korea DPR                  Chile       13792  1966-07-15   \n",
              "648  Korea Republic                  Italy       38588  2002-06-18   \n",
              "653  Korea Republic                  Italy       20000  1986-06-10   \n",
              "663       Korea DPR                  Italy       17829  1966-07-19   \n",
              "703         IR Iran                 Angola       38000  2006-06-21   \n",
              "705   Côte d'Ivoire  Serbia and Montenegro       66000  2006-06-21   \n",
              "709  Korea Republic                   Togo       48000  2006-06-13   \n",
              "737  Korea Republic               Bulgaria       45000  1986-06-05   \n",
              "790  Korea Republic                Bolivia       54453  1994-06-23   \n",
              "857      Germany DR           West Germany       60200  1974-06-22   \n",
              "\n",
              "    home_team_id home_team_name home_team_code home_federation_name  \\\n",
              "71           NaN            NaN            NaN                  NaN   \n",
              "73           NaN            NaN            NaN                  NaN   \n",
              "77           NaN            NaN            NaN                  NaN   \n",
              "144          NaN            NaN            NaN                  NaN   \n",
              "157          NaN            NaN            NaN                  NaN   \n",
              "206          NaN            NaN            NaN                  NaN   \n",
              "227          NaN            NaN            NaN                  NaN   \n",
              "238          NaN            NaN            NaN                  NaN   \n",
              "258          NaN            NaN            NaN                  NaN   \n",
              "269          NaN            NaN            NaN                  NaN   \n",
              "290          NaN            NaN            NaN                  NaN   \n",
              "315          NaN            NaN            NaN                  NaN   \n",
              "345          NaN            NaN            NaN                  NaN   \n",
              "359          NaN            NaN            NaN                  NaN   \n",
              "424          NaN            NaN            NaN                  NaN   \n",
              "443          NaN            NaN            NaN                  NaN   \n",
              "486          NaN            NaN            NaN                  NaN   \n",
              "521          NaN            NaN            NaN                  NaN   \n",
              "598          NaN            NaN            NaN                  NaN   \n",
              "607          NaN            NaN            NaN                  NaN   \n",
              "616          NaN            NaN            NaN                  NaN   \n",
              "631          NaN            NaN            NaN                  NaN   \n",
              "648          NaN            NaN            NaN                  NaN   \n",
              "653          NaN            NaN            NaN                  NaN   \n",
              "663          NaN            NaN            NaN                  NaN   \n",
              "703          NaN            NaN            NaN                  NaN   \n",
              "705          NaN            NaN            NaN                  NaN   \n",
              "709          NaN            NaN            NaN                  NaN   \n",
              "737          NaN            NaN            NaN                  NaN   \n",
              "790          NaN            NaN            NaN                  NaN   \n",
              "857          NaN            NaN            NaN                  NaN   \n",
              "\n",
              "    home_region_name home_confederation_id  ...         away_team_name  \\\n",
              "71               NaN                   NaN  ...               Portugal   \n",
              "73               NaN                   NaN  ...               Portugal   \n",
              "77               NaN                   NaN  ...               Portugal   \n",
              "144              NaN                   NaN  ...                  Spain   \n",
              "157              NaN                   NaN  ...                  Spain   \n",
              "206              NaN                   NaN  ...                 Poland   \n",
              "227              NaN                   NaN  ...          United States   \n",
              "238              NaN                   NaN  ...          United States   \n",
              "258              NaN                   NaN  ...              Australia   \n",
              "269              NaN                   NaN  ...                Uruguay   \n",
              "290              NaN                   NaN  ...                Belgium   \n",
              "315              NaN                   NaN  ...                Germany   \n",
              "345              NaN                   NaN  ...                 Mexico   \n",
              "359              NaN                   NaN  ...                 Mexico   \n",
              "424              NaN                   NaN  ...                  Ghana   \n",
              "443              NaN                   NaN  ...             Costa Rica   \n",
              "486              NaN                   NaN  ...                  Japan   \n",
              "521              NaN                   NaN  ...            Netherlands   \n",
              "598              NaN                   NaN  ...                Nigeria   \n",
              "607              NaN                   NaN  ...                Algeria   \n",
              "616              NaN                   NaN  ...                 Greece   \n",
              "631              NaN                   NaN  ...                  Chile   \n",
              "648              NaN                   NaN  ...                  Italy   \n",
              "653              NaN                   NaN  ...                  Italy   \n",
              "663              NaN                   NaN  ...                  Italy   \n",
              "703              NaN                   NaN  ...                 Angola   \n",
              "705              NaN                   NaN  ...  Serbia and Montenegro   \n",
              "709              NaN                   NaN  ...                   Togo   \n",
              "737              NaN                   NaN  ...               Bulgaria   \n",
              "790              NaN                   NaN  ...                Bolivia   \n",
              "857              NaN                   NaN  ...           West Germany   \n",
              "\n",
              "    away_team_code                           away_federation_name  \\\n",
              "71             PRT                 Portuguese Football Federation   \n",
              "73             PRT                 Portuguese Football Federation   \n",
              "77             PRT                 Portuguese Football Federation   \n",
              "144            ESP              Royal Spanish Football Federation   \n",
              "157            ESP              Royal Spanish Football Federation   \n",
              "206            POL                    Polish Football Association   \n",
              "227            USA                United States Soccer Federation   \n",
              "238            USA                United States Soccer Federation   \n",
              "258            AUS                             Football Australia   \n",
              "269            URY                 Uruguayan Football Association   \n",
              "290            BEL             Royal Belgian Football Association   \n",
              "315            DEU                   Germany Football Association   \n",
              "345            MEX                    Mexican Football Federation   \n",
              "359            MEX                    Mexican Football Federation   \n",
              "424            GHA                     Ghana Football Association   \n",
              "443            CRI                Costa Rican Football Federation   \n",
              "486            JPN                     Japan Football Association   \n",
              "521            NLD               Royal Dutch Football Association   \n",
              "598            NGA                    Nigeria Football Federation   \n",
              "607            DZA                   Algerian Football Federation   \n",
              "616            GRC                  Hellenic Football Associaiton   \n",
              "631            CHL                   Football Federation of Chile   \n",
              "648            ITA                   Italian Football Association   \n",
              "653            ITA                   Italian Football Association   \n",
              "663            ITA                   Italian Football Association   \n",
              "703            AGO                    Angolan Football Federation   \n",
              "705            SCG  Football Association of Serbia and Montenegro   \n",
              "709            TGO                   Togolese Football Federation   \n",
              "737            BGR                       Bulgarian Football Union   \n",
              "790            BOL                   Bolivian Football Federation   \n",
              "857            DEU                   Germany Football Association   \n",
              "\n",
              "    away_region_name away_confederation_id  \\\n",
              "71            Europe                  CF-6   \n",
              "73            Europe                  CF-6   \n",
              "77            Europe                  CF-6   \n",
              "144           Europe                  CF-6   \n",
              "157           Europe                  CF-6   \n",
              "206           Europe                  CF-6   \n",
              "227    North America                  CF-3   \n",
              "238    North America                  CF-3   \n",
              "258          Oceania                  CF-1   \n",
              "269    South America                  CF-4   \n",
              "290           Europe                  CF-6   \n",
              "315           Europe                  CF-6   \n",
              "345    North America                  CF-3   \n",
              "359    North America                  CF-3   \n",
              "424           Africa                  CF-2   \n",
              "443  Central America                  CF-3   \n",
              "486        East Asia                  CF-1   \n",
              "521           Europe                  CF-6   \n",
              "598           Africa                  CF-2   \n",
              "607           Africa                  CF-2   \n",
              "616           Europe                  CF-6   \n",
              "631    South America                  CF-4   \n",
              "648           Europe                  CF-6   \n",
              "653           Europe                  CF-6   \n",
              "663           Europe                  CF-6   \n",
              "703           Africa                  CF-2   \n",
              "705           Europe                  CF-6   \n",
              "709           Africa                  CF-2   \n",
              "737           Europe                  CF-6   \n",
              "790    South America                  CF-4   \n",
              "857           Europe                  CF-6   \n",
              "\n",
              "                               away_confederation_name  \\\n",
              "71             Union of European Football Associations   \n",
              "73             Union of European Football Associations   \n",
              "77             Union of European Football Associations   \n",
              "144            Union of European Football Associations   \n",
              "157            Union of European Football Associations   \n",
              "206            Union of European Football Associations   \n",
              "227  Confederation of North, Central American and C...   \n",
              "238  Confederation of North, Central American and C...   \n",
              "258                       Asian Football Confederation   \n",
              "269              South American Football Confederation   \n",
              "290            Union of European Football Associations   \n",
              "315            Union of European Football Associations   \n",
              "345  Confederation of North, Central American and C...   \n",
              "359  Confederation of North, Central American and C...   \n",
              "424                  Confederation of African Football   \n",
              "443  Confederation of North, Central American and C...   \n",
              "486                       Asian Football Confederation   \n",
              "521            Union of European Football Associations   \n",
              "598                  Confederation of African Football   \n",
              "607                  Confederation of African Football   \n",
              "616            Union of European Football Associations   \n",
              "631              South American Football Confederation   \n",
              "648            Union of European Football Associations   \n",
              "653            Union of European Football Associations   \n",
              "663            Union of European Football Associations   \n",
              "703                  Confederation of African Football   \n",
              "705            Union of European Football Associations   \n",
              "709                  Confederation of African Football   \n",
              "737            Union of European Football Associations   \n",
              "790              South American Football Confederation   \n",
              "857            Union of European Football Associations   \n",
              "\n",
              "    away_confederation_code  \\\n",
              "71                     UEFA   \n",
              "73                     UEFA   \n",
              "77                     UEFA   \n",
              "144                    UEFA   \n",
              "157                    UEFA   \n",
              "206                    UEFA   \n",
              "227                CONCACAF   \n",
              "238                CONCACAF   \n",
              "258                     AFC   \n",
              "269                CONMEBOL   \n",
              "290                    UEFA   \n",
              "315                    UEFA   \n",
              "345                CONCACAF   \n",
              "359                CONCACAF   \n",
              "424                     CAF   \n",
              "443                CONCACAF   \n",
              "486                     AFC   \n",
              "521                    UEFA   \n",
              "598                     CAF   \n",
              "607                     CAF   \n",
              "616                    UEFA   \n",
              "631                CONMEBOL   \n",
              "648                    UEFA   \n",
              "653                    UEFA   \n",
              "663                    UEFA   \n",
              "703                     CAF   \n",
              "705                    UEFA   \n",
              "709                     CAF   \n",
              "737                    UEFA   \n",
              "790                CONMEBOL   \n",
              "857                    UEFA   \n",
              "\n",
              "                              away_team_wikipedia_link  \\\n",
              "71   https://en.wikipedia.org/wiki/Portugal_nationa...   \n",
              "73   https://en.wikipedia.org/wiki/Portugal_nationa...   \n",
              "77   https://en.wikipedia.org/wiki/Portugal_nationa...   \n",
              "144  https://en.wikipedia.org/wiki/Spain_national_f...   \n",
              "157  https://en.wikipedia.org/wiki/Spain_national_f...   \n",
              "206  https://en.wikipedia.org/wiki/Poland_national_...   \n",
              "227  https://en.wikipedia.org/wiki/United_States_me...   \n",
              "238  https://en.wikipedia.org/wiki/United_States_me...   \n",
              "258  https://en.wikipedia.org/wiki/Australia_men%27...   \n",
              "269  https://en.wikipedia.org/wiki/Uruguay_national...   \n",
              "290  https://en.wikipedia.org/wiki/Belgium_national...   \n",
              "315  https://en.wikipedia.org/wiki/Germany_national...   \n",
              "345  https://en.wikipedia.org/wiki/Mexico_national_...   \n",
              "359  https://en.wikipedia.org/wiki/Mexico_national_...   \n",
              "424  https://en.wikipedia.org/wiki/Ghana_national_f...   \n",
              "443  https://en.wikipedia.org/wiki/Costa_Rica_natio...   \n",
              "486  https://en.wikipedia.org/wiki/Japan_national_f...   \n",
              "521  https://en.wikipedia.org/wiki/Netherlands_nati...   \n",
              "598  https://en.wikipedia.org/wiki/Nigeria_national...   \n",
              "607  https://en.wikipedia.org/wiki/Algeria_national...   \n",
              "616  https://en.wikipedia.org/wiki/Greece_national_...   \n",
              "631  https://en.wikipedia.org/wiki/Chile_national_f...   \n",
              "648  https://en.wikipedia.org/wiki/Italy_national_f...   \n",
              "653  https://en.wikipedia.org/wiki/Italy_national_f...   \n",
              "663  https://en.wikipedia.org/wiki/Italy_national_f...   \n",
              "703  https://en.wikipedia.org/wiki/Angola_national_...   \n",
              "705  https://en.wikipedia.org/wiki/Serbia_and_Monte...   \n",
              "709  https://en.wikipedia.org/wiki/Togo_national_fo...   \n",
              "737  https://en.wikipedia.org/wiki/Bulgaria_nationa...   \n",
              "790  https://en.wikipedia.org/wiki/Bolivia_national...   \n",
              "857  https://en.wikipedia.org/wiki/Germany_national...   \n",
              "\n",
              "                        away_federation_wikipedia_link  \\\n",
              "71   https://en.wikipedia.org/wiki/Portuguese_Footb...   \n",
              "73   https://en.wikipedia.org/wiki/Portuguese_Footb...   \n",
              "77   https://en.wikipedia.org/wiki/Portuguese_Footb...   \n",
              "144  https://en.wikipedia.org/wiki/Royal_Spanish_Fo...   \n",
              "157  https://en.wikipedia.org/wiki/Royal_Spanish_Fo...   \n",
              "206  https://en.wikipedia.org/wiki/Polish_Football_...   \n",
              "227  https://en.wikipedia.org/wiki/United_States_So...   \n",
              "238  https://en.wikipedia.org/wiki/United_States_So...   \n",
              "258   https://en.wikipedia.org/wiki/Football_Australia   \n",
              "269  https://en.wikipedia.org/wiki/Uruguayan_Footba...   \n",
              "290  https://en.wikipedia.org/wiki/Royal_Belgian_Fo...   \n",
              "315  https://en.wikipedia.org/wiki/German_Football_...   \n",
              "345  https://en.wikipedia.org/wiki/Mexican_Football...   \n",
              "359  https://en.wikipedia.org/wiki/Mexican_Football...   \n",
              "424  https://en.wikipedia.org/wiki/Ghana_Football_A...   \n",
              "443  https://en.wikipedia.org/wiki/Costa_Rican_Foot...   \n",
              "486  https://en.wikipedia.org/wiki/Japan_Football_A...   \n",
              "521  https://en.wikipedia.org/wiki/Royal_Dutch_Foot...   \n",
              "598  https://en.wikipedia.org/wiki/Nigeria_Football...   \n",
              "607  https://en.wikipedia.org/wiki/Algerian_Footbal...   \n",
              "616  https://en.wikipedia.org/wiki/Hellenic_Footbal...   \n",
              "631  https://en.wikipedia.org/wiki/Football_Federat...   \n",
              "648  https://en.wikipedia.org/wiki/Italian_Football...   \n",
              "653  https://en.wikipedia.org/wiki/Italian_Football...   \n",
              "663  https://en.wikipedia.org/wiki/Italian_Football...   \n",
              "703  https://en.wikipedia.org/wiki/Angolan_Football...   \n",
              "705  https://en.wikipedia.org/wiki/Football_Associa...   \n",
              "709  https://en.wikipedia.org/wiki/Togolese_Footbal...   \n",
              "737  https://en.wikipedia.org/wiki/Bulgarian_Footba...   \n",
              "790  https://en.wikipedia.org/wiki/Bolivian_Footbal...   \n",
              "857  https://en.wikipedia.org/wiki/German_Football_...   \n",
              "\n",
              "                                match_name  \n",
              "71               Korea Republic v Portugal  \n",
              "73                      IR Iran v Portugal  \n",
              "77                Côte d'Ivoire v Portugal  \n",
              "144                        IR Iran v Spain  \n",
              "157                 Korea Republic v Spain  \n",
              "206                Korea Republic v Poland  \n",
              "227                IR Iran v United States  \n",
              "238         Korea Republic v United States  \n",
              "258                 Germany DR v Australia  \n",
              "269               Korea Republic v Uruguay  \n",
              "290               Korea Republic v Belgium  \n",
              "315               Korea Republic v Germany  \n",
              "345                Korea Republic v Mexico  \n",
              "359                Korea Republic v Mexico  \n",
              "424                 Korea Republic v Ghana  \n",
              "443                  China PR v Costa Rica  \n",
              "486                  Côte d'Ivoire v Japan  \n",
              "521               Germany DR v Netherlands  \n",
              "598                      IR Iran v Nigeria  \n",
              "607               Korea Republic v Algeria  \n",
              "616                Korea Republic v Greece  \n",
              "631                      Korea DPR v Chile  \n",
              "648                 Korea Republic v Italy  \n",
              "653                 Korea Republic v Italy  \n",
              "663                      Korea DPR v Italy  \n",
              "703                       IR Iran v Angola  \n",
              "705  Côte d'Ivoire v Serbia and Montenegro  \n",
              "709                  Korea Republic v Togo  \n",
              "737              Korea Republic v Bulgaria  \n",
              "790               Korea Republic v Bolivia  \n",
              "857              Germany DR v West Germany  \n",
              "\n",
              "[31 rows x 25 columns]"
            ],
            "text/html": [
              "\n",
              "  <div id=\"df-24dc8f5f-6133-430d-bae7-ab7b8bc5b831\">\n",
              "    <div class=\"colab-df-container\">\n",
              "      <div>\n",
              "<style scoped>\n",
              "    .dataframe tbody tr th:only-of-type {\n",
              "        vertical-align: middle;\n",
              "    }\n",
              "\n",
              "    .dataframe tbody tr th {\n",
              "        vertical-align: top;\n",
              "    }\n",
              "\n",
              "    .dataframe thead th {\n",
              "        text-align: right;\n",
              "    }\n",
              "</style>\n",
              "<table border=\"1\" class=\"dataframe\">\n",
              "  <thead>\n",
              "    <tr style=\"text-align: right;\">\n",
              "      <th></th>\n",
              "      <th>home_team</th>\n",
              "      <th>away_team</th>\n",
              "      <th>Attendance</th>\n",
              "      <th>Date</th>\n",
              "      <th>home_team_id</th>\n",
              "      <th>home_team_name</th>\n",
              "      <th>home_team_code</th>\n",
              "      <th>home_federation_name</th>\n",
              "      <th>home_region_name</th>\n",
              "      <th>home_confederation_id</th>\n",
              "      <th>...</th>\n",
              "      <th>away_team_name</th>\n",
              "      <th>away_team_code</th>\n",
              "      <th>away_federation_name</th>\n",
              "      <th>away_region_name</th>\n",
              "      <th>away_confederation_id</th>\n",
              "      <th>away_confederation_name</th>\n",
              "      <th>away_confederation_code</th>\n",
              "      <th>away_team_wikipedia_link</th>\n",
              "      <th>away_federation_wikipedia_link</th>\n",
              "      <th>match_name</th>\n",
              "    </tr>\n",
              "  </thead>\n",
              "  <tbody>\n",
              "    <tr>\n",
              "      <th>71</th>\n",
              "      <td>Korea Republic</td>\n",
              "      <td>Portugal</td>\n",
              "      <td>44097</td>\n",
              "      <td>2022-12-02</td>\n",
              "      <td>NaN</td>\n",
              "      <td>NaN</td>\n",
              "      <td>NaN</td>\n",
              "      <td>NaN</td>\n",
              "      <td>NaN</td>\n",
              "      <td>NaN</td>\n",
              "      <td>...</td>\n",
              "      <td>Portugal</td>\n",
              "      <td>PRT</td>\n",
              "      <td>Portuguese Football Federation</td>\n",
              "      <td>Europe</td>\n",
              "      <td>CF-6</td>\n",
              "      <td>Union of European Football Associations</td>\n",
              "      <td>UEFA</td>\n",
              "      <td>https://en.wikipedia.org/wiki/Portugal_nationa...</td>\n",
              "      <td>https://en.wikipedia.org/wiki/Portuguese_Footb...</td>\n",
              "      <td>Korea Republic v Portugal</td>\n",
              "    </tr>\n",
              "    <tr>\n",
              "      <th>73</th>\n",
              "      <td>IR Iran</td>\n",
              "      <td>Portugal</td>\n",
              "      <td>41685</td>\n",
              "      <td>2018-06-25</td>\n",
              "      <td>NaN</td>\n",
              "      <td>NaN</td>\n",
              "      <td>NaN</td>\n",
              "      <td>NaN</td>\n",
              "      <td>NaN</td>\n",
              "      <td>NaN</td>\n",
              "      <td>...</td>\n",
              "      <td>Portugal</td>\n",
              "      <td>PRT</td>\n",
              "      <td>Portuguese Football Federation</td>\n",
              "      <td>Europe</td>\n",
              "      <td>CF-6</td>\n",
              "      <td>Union of European Football Associations</td>\n",
              "      <td>UEFA</td>\n",
              "      <td>https://en.wikipedia.org/wiki/Portugal_nationa...</td>\n",
              "      <td>https://en.wikipedia.org/wiki/Portuguese_Footb...</td>\n",
              "      <td>IR Iran v Portugal</td>\n",
              "    </tr>\n",
              "    <tr>\n",
              "      <th>77</th>\n",
              "      <td>Côte d'Ivoire</td>\n",
              "      <td>Portugal</td>\n",
              "      <td>37034</td>\n",
              "      <td>2010-06-15</td>\n",
              "      <td>NaN</td>\n",
              "      <td>NaN</td>\n",
              "      <td>NaN</td>\n",
              "      <td>NaN</td>\n",
              "      <td>NaN</td>\n",
              "      <td>NaN</td>\n",
              "      <td>...</td>\n",
              "      <td>Portugal</td>\n",
              "      <td>PRT</td>\n",
              "      <td>Portuguese Football Federation</td>\n",
              "      <td>Europe</td>\n",
              "      <td>CF-6</td>\n",
              "      <td>Union of European Football Associations</td>\n",
              "      <td>UEFA</td>\n",
              "      <td>https://en.wikipedia.org/wiki/Portugal_nationa...</td>\n",
              "      <td>https://en.wikipedia.org/wiki/Portuguese_Footb...</td>\n",
              "      <td>Côte d'Ivoire v Portugal</td>\n",
              "    </tr>\n",
              "    <tr>\n",
              "      <th>144</th>\n",
              "      <td>IR Iran</td>\n",
              "      <td>Spain</td>\n",
              "      <td>42718</td>\n",
              "      <td>2018-06-20</td>\n",
              "      <td>NaN</td>\n",
              "      <td>NaN</td>\n",
              "      <td>NaN</td>\n",
              "      <td>NaN</td>\n",
              "      <td>NaN</td>\n",
              "      <td>NaN</td>\n",
              "      <td>...</td>\n",
              "      <td>Spain</td>\n",
              "      <td>ESP</td>\n",
              "      <td>Royal Spanish Football Federation</td>\n",
              "      <td>Europe</td>\n",
              "      <td>CF-6</td>\n",
              "      <td>Union of European Football Associations</td>\n",
              "      <td>UEFA</td>\n",
              "      <td>https://en.wikipedia.org/wiki/Spain_national_f...</td>\n",
              "      <td>https://en.wikipedia.org/wiki/Royal_Spanish_Fo...</td>\n",
              "      <td>IR Iran v Spain</td>\n",
              "    </tr>\n",
              "    <tr>\n",
              "      <th>157</th>\n",
              "      <td>Korea Republic</td>\n",
              "      <td>Spain</td>\n",
              "      <td>32733</td>\n",
              "      <td>1990-06-17</td>\n",
              "      <td>NaN</td>\n",
              "      <td>NaN</td>\n",
              "      <td>NaN</td>\n",
              "      <td>NaN</td>\n",
              "      <td>NaN</td>\n",
              "      <td>NaN</td>\n",
              "      <td>...</td>\n",
              "      <td>Spain</td>\n",
              "      <td>ESP</td>\n",
              "      <td>Royal Spanish Football Federation</td>\n",
              "      <td>Europe</td>\n",
              "      <td>CF-6</td>\n",
              "      <td>Union of European Football Associations</td>\n",
              "      <td>UEFA</td>\n",
              "      <td>https://en.wikipedia.org/wiki/Spain_national_f...</td>\n",
              "      <td>https://en.wikipedia.org/wiki/Royal_Spanish_Fo...</td>\n",
              "      <td>Korea Republic v Spain</td>\n",
              "    </tr>\n",
              "    <tr>\n",
              "      <th>206</th>\n",
              "      <td>Korea Republic</td>\n",
              "      <td>Poland</td>\n",
              "      <td>48760</td>\n",
              "      <td>2002-06-04</td>\n",
              "      <td>NaN</td>\n",
              "      <td>NaN</td>\n",
              "      <td>NaN</td>\n",
              "      <td>NaN</td>\n",
              "      <td>NaN</td>\n",
              "      <td>NaN</td>\n",
              "      <td>...</td>\n",
              "      <td>Poland</td>\n",
              "      <td>POL</td>\n",
              "      <td>Polish Football Association</td>\n",
              "      <td>Europe</td>\n",
              "      <td>CF-6</td>\n",
              "      <td>Union of European Football Associations</td>\n",
              "      <td>UEFA</td>\n",
              "      <td>https://en.wikipedia.org/wiki/Poland_national_...</td>\n",
              "      <td>https://en.wikipedia.org/wiki/Polish_Football_...</td>\n",
              "      <td>Korea Republic v Poland</td>\n",
              "    </tr>\n",
              "    <tr>\n",
              "      <th>227</th>\n",
              "      <td>IR Iran</td>\n",
              "      <td>United States</td>\n",
              "      <td>42127</td>\n",
              "      <td>2022-11-29</td>\n",
              "      <td>NaN</td>\n",
              "      <td>NaN</td>\n",
              "      <td>NaN</td>\n",
              "      <td>NaN</td>\n",
              "      <td>NaN</td>\n",
              "      <td>NaN</td>\n",
              "      <td>...</td>\n",
              "      <td>United States</td>\n",
              "      <td>USA</td>\n",
              "      <td>United States Soccer Federation</td>\n",
              "      <td>North America</td>\n",
              "      <td>CF-3</td>\n",
              "      <td>Confederation of North, Central American and C...</td>\n",
              "      <td>CONCACAF</td>\n",
              "      <td>https://en.wikipedia.org/wiki/United_States_me...</td>\n",
              "      <td>https://en.wikipedia.org/wiki/United_States_So...</td>\n",
              "      <td>IR Iran v United States</td>\n",
              "    </tr>\n",
              "    <tr>\n",
              "      <th>238</th>\n",
              "      <td>Korea Republic</td>\n",
              "      <td>United States</td>\n",
              "      <td>60778</td>\n",
              "      <td>2002-06-10</td>\n",
              "      <td>NaN</td>\n",
              "      <td>NaN</td>\n",
              "      <td>NaN</td>\n",
              "      <td>NaN</td>\n",
              "      <td>NaN</td>\n",
              "      <td>NaN</td>\n",
              "      <td>...</td>\n",
              "      <td>United States</td>\n",
              "      <td>USA</td>\n",
              "      <td>United States Soccer Federation</td>\n",
              "      <td>North America</td>\n",
              "      <td>CF-3</td>\n",
              "      <td>Confederation of North, Central American and C...</td>\n",
              "      <td>CONCACAF</td>\n",
              "      <td>https://en.wikipedia.org/wiki/United_States_me...</td>\n",
              "      <td>https://en.wikipedia.org/wiki/United_States_So...</td>\n",
              "      <td>Korea Republic v United States</td>\n",
              "    </tr>\n",
              "    <tr>\n",
              "      <th>258</th>\n",
              "      <td>Germany DR</td>\n",
              "      <td>Australia</td>\n",
              "      <td>17000</td>\n",
              "      <td>1974-06-14</td>\n",
              "      <td>NaN</td>\n",
              "      <td>NaN</td>\n",
              "      <td>NaN</td>\n",
              "      <td>NaN</td>\n",
              "      <td>NaN</td>\n",
              "      <td>NaN</td>\n",
              "      <td>...</td>\n",
              "      <td>Australia</td>\n",
              "      <td>AUS</td>\n",
              "      <td>Football Australia</td>\n",
              "      <td>Oceania</td>\n",
              "      <td>CF-1</td>\n",
              "      <td>Asian Football Confederation</td>\n",
              "      <td>AFC</td>\n",
              "      <td>https://en.wikipedia.org/wiki/Australia_men%27...</td>\n",
              "      <td>https://en.wikipedia.org/wiki/Football_Australia</td>\n",
              "      <td>Germany DR v Australia</td>\n",
              "    </tr>\n",
              "    <tr>\n",
              "      <th>269</th>\n",
              "      <td>Korea Republic</td>\n",
              "      <td>Uruguay</td>\n",
              "      <td>29039</td>\n",
              "      <td>1990-06-21</td>\n",
              "      <td>NaN</td>\n",
              "      <td>NaN</td>\n",
              "      <td>NaN</td>\n",
              "      <td>NaN</td>\n",
              "      <td>NaN</td>\n",
              "      <td>NaN</td>\n",
              "      <td>...</td>\n",
              "      <td>Uruguay</td>\n",
              "      <td>URY</td>\n",
              "      <td>Uruguayan Football Association</td>\n",
              "      <td>South America</td>\n",
              "      <td>CF-4</td>\n",
              "      <td>South American Football Confederation</td>\n",
              "      <td>CONMEBOL</td>\n",
              "      <td>https://en.wikipedia.org/wiki/Uruguay_national...</td>\n",
              "      <td>https://en.wikipedia.org/wiki/Uruguayan_Footba...</td>\n",
              "      <td>Korea Republic v Uruguay</td>\n",
              "    </tr>\n",
              "    <tr>\n",
              "      <th>290</th>\n",
              "      <td>Korea Republic</td>\n",
              "      <td>Belgium</td>\n",
              "      <td>61397</td>\n",
              "      <td>2014-06-26</td>\n",
              "      <td>NaN</td>\n",
              "      <td>NaN</td>\n",
              "      <td>NaN</td>\n",
              "      <td>NaN</td>\n",
              "      <td>NaN</td>\n",
              "      <td>NaN</td>\n",
              "      <td>...</td>\n",
              "      <td>Belgium</td>\n",
              "      <td>BEL</td>\n",
              "      <td>Royal Belgian Football Association</td>\n",
              "      <td>Europe</td>\n",
              "      <td>CF-6</td>\n",
              "      <td>Union of European Football Associations</td>\n",
              "      <td>UEFA</td>\n",
              "      <td>https://en.wikipedia.org/wiki/Belgium_national...</td>\n",
              "      <td>https://en.wikipedia.org/wiki/Royal_Belgian_Fo...</td>\n",
              "      <td>Korea Republic v Belgium</td>\n",
              "    </tr>\n",
              "    <tr>\n",
              "      <th>315</th>\n",
              "      <td>Korea Republic</td>\n",
              "      <td>Germany</td>\n",
              "      <td>41835</td>\n",
              "      <td>2018-06-27</td>\n",
              "      <td>NaN</td>\n",
              "      <td>NaN</td>\n",
              "      <td>NaN</td>\n",
              "      <td>NaN</td>\n",
              "      <td>NaN</td>\n",
              "      <td>NaN</td>\n",
              "      <td>...</td>\n",
              "      <td>Germany</td>\n",
              "      <td>DEU</td>\n",
              "      <td>Germany Football Association</td>\n",
              "      <td>Europe</td>\n",
              "      <td>CF-6</td>\n",
              "      <td>Union of European Football Associations</td>\n",
              "      <td>UEFA</td>\n",
              "      <td>https://en.wikipedia.org/wiki/Germany_national...</td>\n",
              "      <td>https://en.wikipedia.org/wiki/German_Football_...</td>\n",
              "      <td>Korea Republic v Germany</td>\n",
              "    </tr>\n",
              "    <tr>\n",
              "      <th>345</th>\n",
              "      <td>Korea Republic</td>\n",
              "      <td>Mexico</td>\n",
              "      <td>43472</td>\n",
              "      <td>2018-06-23</td>\n",
              "      <td>NaN</td>\n",
              "      <td>NaN</td>\n",
              "      <td>NaN</td>\n",
              "      <td>NaN</td>\n",
              "      <td>NaN</td>\n",
              "      <td>NaN</td>\n",
              "      <td>...</td>\n",
              "      <td>Mexico</td>\n",
              "      <td>MEX</td>\n",
              "      <td>Mexican Football Federation</td>\n",
              "      <td>North America</td>\n",
              "      <td>CF-3</td>\n",
              "      <td>Confederation of North, Central American and C...</td>\n",
              "      <td>CONCACAF</td>\n",
              "      <td>https://en.wikipedia.org/wiki/Mexico_national_...</td>\n",
              "      <td>https://en.wikipedia.org/wiki/Mexican_Football...</td>\n",
              "      <td>Korea Republic v Mexico</td>\n",
              "    </tr>\n",
              "    <tr>\n",
              "      <th>359</th>\n",
              "      <td>Korea Republic</td>\n",
              "      <td>Mexico</td>\n",
              "      <td>39100</td>\n",
              "      <td>1998-06-13</td>\n",
              "      <td>NaN</td>\n",
              "      <td>NaN</td>\n",
              "      <td>NaN</td>\n",
              "      <td>NaN</td>\n",
              "      <td>NaN</td>\n",
              "      <td>NaN</td>\n",
              "      <td>...</td>\n",
              "      <td>Mexico</td>\n",
              "      <td>MEX</td>\n",
              "      <td>Mexican Football Federation</td>\n",
              "      <td>North America</td>\n",
              "      <td>CF-3</td>\n",
              "      <td>Confederation of North, Central American and C...</td>\n",
              "      <td>CONCACAF</td>\n",
              "      <td>https://en.wikipedia.org/wiki/Mexico_national_...</td>\n",
              "      <td>https://en.wikipedia.org/wiki/Mexican_Football...</td>\n",
              "      <td>Korea Republic v Mexico</td>\n",
              "    </tr>\n",
              "    <tr>\n",
              "      <th>424</th>\n",
              "      <td>Korea Republic</td>\n",
              "      <td>Ghana</td>\n",
              "      <td>43983</td>\n",
              "      <td>2022-11-28</td>\n",
              "      <td>NaN</td>\n",
              "      <td>NaN</td>\n",
              "      <td>NaN</td>\n",
              "      <td>NaN</td>\n",
              "      <td>NaN</td>\n",
              "      <td>NaN</td>\n",
              "      <td>...</td>\n",
              "      <td>Ghana</td>\n",
              "      <td>GHA</td>\n",
              "      <td>Ghana Football Association</td>\n",
              "      <td>Africa</td>\n",
              "      <td>CF-2</td>\n",
              "      <td>Confederation of African Football</td>\n",
              "      <td>CAF</td>\n",
              "      <td>https://en.wikipedia.org/wiki/Ghana_national_f...</td>\n",
              "      <td>https://en.wikipedia.org/wiki/Ghana_Football_A...</td>\n",
              "      <td>Korea Republic v Ghana</td>\n",
              "    </tr>\n",
              "    <tr>\n",
              "      <th>443</th>\n",
              "      <td>China PR</td>\n",
              "      <td>Costa Rica</td>\n",
              "      <td>27217</td>\n",
              "      <td>2002-06-04</td>\n",
              "      <td>NaN</td>\n",
              "      <td>NaN</td>\n",
              "      <td>NaN</td>\n",
              "      <td>NaN</td>\n",
              "      <td>NaN</td>\n",
              "      <td>NaN</td>\n",
              "      <td>...</td>\n",
              "      <td>Costa Rica</td>\n",
              "      <td>CRI</td>\n",
              "      <td>Costa Rican Football Federation</td>\n",
              "      <td>Central America</td>\n",
              "      <td>CF-3</td>\n",
              "      <td>Confederation of North, Central American and C...</td>\n",
              "      <td>CONCACAF</td>\n",
              "      <td>https://en.wikipedia.org/wiki/Costa_Rica_natio...</td>\n",
              "      <td>https://en.wikipedia.org/wiki/Costa_Rican_Foot...</td>\n",
              "      <td>China PR v Costa Rica</td>\n",
              "    </tr>\n",
              "    <tr>\n",
              "      <th>486</th>\n",
              "      <td>Côte d'Ivoire</td>\n",
              "      <td>Japan</td>\n",
              "      <td>40267</td>\n",
              "      <td>2014-06-14</td>\n",
              "      <td>NaN</td>\n",
              "      <td>NaN</td>\n",
              "      <td>NaN</td>\n",
              "      <td>NaN</td>\n",
              "      <td>NaN</td>\n",
              "      <td>NaN</td>\n",
              "      <td>...</td>\n",
              "      <td>Japan</td>\n",
              "      <td>JPN</td>\n",
              "      <td>Japan Football Association</td>\n",
              "      <td>East Asia</td>\n",
              "      <td>CF-1</td>\n",
              "      <td>Asian Football Confederation</td>\n",
              "      <td>AFC</td>\n",
              "      <td>https://en.wikipedia.org/wiki/Japan_national_f...</td>\n",
              "      <td>https://en.wikipedia.org/wiki/Japan_Football_A...</td>\n",
              "      <td>Côte d'Ivoire v Japan</td>\n",
              "    </tr>\n",
              "    <tr>\n",
              "      <th>521</th>\n",
              "      <td>Germany DR</td>\n",
              "      <td>Netherlands</td>\n",
              "      <td>68348</td>\n",
              "      <td>1974-06-30</td>\n",
              "      <td>NaN</td>\n",
              "      <td>NaN</td>\n",
              "      <td>NaN</td>\n",
              "      <td>NaN</td>\n",
              "      <td>NaN</td>\n",
              "      <td>NaN</td>\n",
              "      <td>...</td>\n",
              "      <td>Netherlands</td>\n",
              "      <td>NLD</td>\n",
              "      <td>Royal Dutch Football Association</td>\n",
              "      <td>Europe</td>\n",
              "      <td>CF-6</td>\n",
              "      <td>Union of European Football Associations</td>\n",
              "      <td>UEFA</td>\n",
              "      <td>https://en.wikipedia.org/wiki/Netherlands_nati...</td>\n",
              "      <td>https://en.wikipedia.org/wiki/Royal_Dutch_Foot...</td>\n",
              "      <td>Germany DR v Netherlands</td>\n",
              "    </tr>\n",
              "    <tr>\n",
              "      <th>598</th>\n",
              "      <td>IR Iran</td>\n",
              "      <td>Nigeria</td>\n",
              "      <td>39081</td>\n",
              "      <td>2014-06-16</td>\n",
              "      <td>NaN</td>\n",
              "      <td>NaN</td>\n",
              "      <td>NaN</td>\n",
              "      <td>NaN</td>\n",
              "      <td>NaN</td>\n",
              "      <td>NaN</td>\n",
              "      <td>...</td>\n",
              "      <td>Nigeria</td>\n",
              "      <td>NGA</td>\n",
              "      <td>Nigeria Football Federation</td>\n",
              "      <td>Africa</td>\n",
              "      <td>CF-2</td>\n",
              "      <td>Confederation of African Football</td>\n",
              "      <td>CAF</td>\n",
              "      <td>https://en.wikipedia.org/wiki/Nigeria_national...</td>\n",
              "      <td>https://en.wikipedia.org/wiki/Nigeria_Football...</td>\n",
              "      <td>IR Iran v Nigeria</td>\n",
              "    </tr>\n",
              "    <tr>\n",
              "      <th>607</th>\n",
              "      <td>Korea Republic</td>\n",
              "      <td>Algeria</td>\n",
              "      <td>42732</td>\n",
              "      <td>2014-06-22</td>\n",
              "      <td>NaN</td>\n",
              "      <td>NaN</td>\n",
              "      <td>NaN</td>\n",
              "      <td>NaN</td>\n",
              "      <td>NaN</td>\n",
              "      <td>NaN</td>\n",
              "      <td>...</td>\n",
              "      <td>Algeria</td>\n",
              "      <td>DZA</td>\n",
              "      <td>Algerian Football Federation</td>\n",
              "      <td>Africa</td>\n",
              "      <td>CF-2</td>\n",
              "      <td>Confederation of African Football</td>\n",
              "      <td>CAF</td>\n",
              "      <td>https://en.wikipedia.org/wiki/Algeria_national...</td>\n",
              "      <td>https://en.wikipedia.org/wiki/Algerian_Footbal...</td>\n",
              "      <td>Korea Republic v Algeria</td>\n",
              "    </tr>\n",
              "    <tr>\n",
              "      <th>616</th>\n",
              "      <td>Korea Republic</td>\n",
              "      <td>Greece</td>\n",
              "      <td>31513</td>\n",
              "      <td>2010-06-12</td>\n",
              "      <td>NaN</td>\n",
              "      <td>NaN</td>\n",
              "      <td>NaN</td>\n",
              "      <td>NaN</td>\n",
              "      <td>NaN</td>\n",
              "      <td>NaN</td>\n",
              "      <td>...</td>\n",
              "      <td>Greece</td>\n",
              "      <td>GRC</td>\n",
              "      <td>Hellenic Football Associaiton</td>\n",
              "      <td>Europe</td>\n",
              "      <td>CF-6</td>\n",
              "      <td>Union of European Football Associations</td>\n",
              "      <td>UEFA</td>\n",
              "      <td>https://en.wikipedia.org/wiki/Greece_national_...</td>\n",
              "      <td>https://en.wikipedia.org/wiki/Hellenic_Footbal...</td>\n",
              "      <td>Korea Republic v Greece</td>\n",
              "    </tr>\n",
              "    <tr>\n",
              "      <th>631</th>\n",
              "      <td>Korea DPR</td>\n",
              "      <td>Chile</td>\n",
              "      <td>13792</td>\n",
              "      <td>1966-07-15</td>\n",
              "      <td>NaN</td>\n",
              "      <td>NaN</td>\n",
              "      <td>NaN</td>\n",
              "      <td>NaN</td>\n",
              "      <td>NaN</td>\n",
              "      <td>NaN</td>\n",
              "      <td>...</td>\n",
              "      <td>Chile</td>\n",
              "      <td>CHL</td>\n",
              "      <td>Football Federation of Chile</td>\n",
              "      <td>South America</td>\n",
              "      <td>CF-4</td>\n",
              "      <td>South American Football Confederation</td>\n",
              "      <td>CONMEBOL</td>\n",
              "      <td>https://en.wikipedia.org/wiki/Chile_national_f...</td>\n",
              "      <td>https://en.wikipedia.org/wiki/Football_Federat...</td>\n",
              "      <td>Korea DPR v Chile</td>\n",
              "    </tr>\n",
              "    <tr>\n",
              "      <th>648</th>\n",
              "      <td>Korea Republic</td>\n",
              "      <td>Italy</td>\n",
              "      <td>38588</td>\n",
              "      <td>2002-06-18</td>\n",
              "      <td>NaN</td>\n",
              "      <td>NaN</td>\n",
              "      <td>NaN</td>\n",
              "      <td>NaN</td>\n",
              "      <td>NaN</td>\n",
              "      <td>NaN</td>\n",
              "      <td>...</td>\n",
              "      <td>Italy</td>\n",
              "      <td>ITA</td>\n",
              "      <td>Italian Football Association</td>\n",
              "      <td>Europe</td>\n",
              "      <td>CF-6</td>\n",
              "      <td>Union of European Football Associations</td>\n",
              "      <td>UEFA</td>\n",
              "      <td>https://en.wikipedia.org/wiki/Italy_national_f...</td>\n",
              "      <td>https://en.wikipedia.org/wiki/Italian_Football...</td>\n",
              "      <td>Korea Republic v Italy</td>\n",
              "    </tr>\n",
              "    <tr>\n",
              "      <th>653</th>\n",
              "      <td>Korea Republic</td>\n",
              "      <td>Italy</td>\n",
              "      <td>20000</td>\n",
              "      <td>1986-06-10</td>\n",
              "      <td>NaN</td>\n",
              "      <td>NaN</td>\n",
              "      <td>NaN</td>\n",
              "      <td>NaN</td>\n",
              "      <td>NaN</td>\n",
              "      <td>NaN</td>\n",
              "      <td>...</td>\n",
              "      <td>Italy</td>\n",
              "      <td>ITA</td>\n",
              "      <td>Italian Football Association</td>\n",
              "      <td>Europe</td>\n",
              "      <td>CF-6</td>\n",
              "      <td>Union of European Football Associations</td>\n",
              "      <td>UEFA</td>\n",
              "      <td>https://en.wikipedia.org/wiki/Italy_national_f...</td>\n",
              "      <td>https://en.wikipedia.org/wiki/Italian_Football...</td>\n",
              "      <td>Korea Republic v Italy</td>\n",
              "    </tr>\n",
              "    <tr>\n",
              "      <th>663</th>\n",
              "      <td>Korea DPR</td>\n",
              "      <td>Italy</td>\n",
              "      <td>17829</td>\n",
              "      <td>1966-07-19</td>\n",
              "      <td>NaN</td>\n",
              "      <td>NaN</td>\n",
              "      <td>NaN</td>\n",
              "      <td>NaN</td>\n",
              "      <td>NaN</td>\n",
              "      <td>NaN</td>\n",
              "      <td>...</td>\n",
              "      <td>Italy</td>\n",
              "      <td>ITA</td>\n",
              "      <td>Italian Football Association</td>\n",
              "      <td>Europe</td>\n",
              "      <td>CF-6</td>\n",
              "      <td>Union of European Football Associations</td>\n",
              "      <td>UEFA</td>\n",
              "      <td>https://en.wikipedia.org/wiki/Italy_national_f...</td>\n",
              "      <td>https://en.wikipedia.org/wiki/Italian_Football...</td>\n",
              "      <td>Korea DPR v Italy</td>\n",
              "    </tr>\n",
              "    <tr>\n",
              "      <th>703</th>\n",
              "      <td>IR Iran</td>\n",
              "      <td>Angola</td>\n",
              "      <td>38000</td>\n",
              "      <td>2006-06-21</td>\n",
              "      <td>NaN</td>\n",
              "      <td>NaN</td>\n",
              "      <td>NaN</td>\n",
              "      <td>NaN</td>\n",
              "      <td>NaN</td>\n",
              "      <td>NaN</td>\n",
              "      <td>...</td>\n",
              "      <td>Angola</td>\n",
              "      <td>AGO</td>\n",
              "      <td>Angolan Football Federation</td>\n",
              "      <td>Africa</td>\n",
              "      <td>CF-2</td>\n",
              "      <td>Confederation of African Football</td>\n",
              "      <td>CAF</td>\n",
              "      <td>https://en.wikipedia.org/wiki/Angola_national_...</td>\n",
              "      <td>https://en.wikipedia.org/wiki/Angolan_Football...</td>\n",
              "      <td>IR Iran v Angola</td>\n",
              "    </tr>\n",
              "    <tr>\n",
              "      <th>705</th>\n",
              "      <td>Côte d'Ivoire</td>\n",
              "      <td>Serbia and Montenegro</td>\n",
              "      <td>66000</td>\n",
              "      <td>2006-06-21</td>\n",
              "      <td>NaN</td>\n",
              "      <td>NaN</td>\n",
              "      <td>NaN</td>\n",
              "      <td>NaN</td>\n",
              "      <td>NaN</td>\n",
              "      <td>NaN</td>\n",
              "      <td>...</td>\n",
              "      <td>Serbia and Montenegro</td>\n",
              "      <td>SCG</td>\n",
              "      <td>Football Association of Serbia and Montenegro</td>\n",
              "      <td>Europe</td>\n",
              "      <td>CF-6</td>\n",
              "      <td>Union of European Football Associations</td>\n",
              "      <td>UEFA</td>\n",
              "      <td>https://en.wikipedia.org/wiki/Serbia_and_Monte...</td>\n",
              "      <td>https://en.wikipedia.org/wiki/Football_Associa...</td>\n",
              "      <td>Côte d'Ivoire v Serbia and Montenegro</td>\n",
              "    </tr>\n",
              "    <tr>\n",
              "      <th>709</th>\n",
              "      <td>Korea Republic</td>\n",
              "      <td>Togo</td>\n",
              "      <td>48000</td>\n",
              "      <td>2006-06-13</td>\n",
              "      <td>NaN</td>\n",
              "      <td>NaN</td>\n",
              "      <td>NaN</td>\n",
              "      <td>NaN</td>\n",
              "      <td>NaN</td>\n",
              "      <td>NaN</td>\n",
              "      <td>...</td>\n",
              "      <td>Togo</td>\n",
              "      <td>TGO</td>\n",
              "      <td>Togolese Football Federation</td>\n",
              "      <td>Africa</td>\n",
              "      <td>CF-2</td>\n",
              "      <td>Confederation of African Football</td>\n",
              "      <td>CAF</td>\n",
              "      <td>https://en.wikipedia.org/wiki/Togo_national_fo...</td>\n",
              "      <td>https://en.wikipedia.org/wiki/Togolese_Footbal...</td>\n",
              "      <td>Korea Republic v Togo</td>\n",
              "    </tr>\n",
              "    <tr>\n",
              "      <th>737</th>\n",
              "      <td>Korea Republic</td>\n",
              "      <td>Bulgaria</td>\n",
              "      <td>45000</td>\n",
              "      <td>1986-06-05</td>\n",
              "      <td>NaN</td>\n",
              "      <td>NaN</td>\n",
              "      <td>NaN</td>\n",
              "      <td>NaN</td>\n",
              "      <td>NaN</td>\n",
              "      <td>NaN</td>\n",
              "      <td>...</td>\n",
              "      <td>Bulgaria</td>\n",
              "      <td>BGR</td>\n",
              "      <td>Bulgarian Football Union</td>\n",
              "      <td>Europe</td>\n",
              "      <td>CF-6</td>\n",
              "      <td>Union of European Football Associations</td>\n",
              "      <td>UEFA</td>\n",
              "      <td>https://en.wikipedia.org/wiki/Bulgaria_nationa...</td>\n",
              "      <td>https://en.wikipedia.org/wiki/Bulgarian_Footba...</td>\n",
              "      <td>Korea Republic v Bulgaria</td>\n",
              "    </tr>\n",
              "    <tr>\n",
              "      <th>790</th>\n",
              "      <td>Korea Republic</td>\n",
              "      <td>Bolivia</td>\n",
              "      <td>54453</td>\n",
              "      <td>1994-06-23</td>\n",
              "      <td>NaN</td>\n",
              "      <td>NaN</td>\n",
              "      <td>NaN</td>\n",
              "      <td>NaN</td>\n",
              "      <td>NaN</td>\n",
              "      <td>NaN</td>\n",
              "      <td>...</td>\n",
              "      <td>Bolivia</td>\n",
              "      <td>BOL</td>\n",
              "      <td>Bolivian Football Federation</td>\n",
              "      <td>South America</td>\n",
              "      <td>CF-4</td>\n",
              "      <td>South American Football Confederation</td>\n",
              "      <td>CONMEBOL</td>\n",
              "      <td>https://en.wikipedia.org/wiki/Bolivia_national...</td>\n",
              "      <td>https://en.wikipedia.org/wiki/Bolivian_Footbal...</td>\n",
              "      <td>Korea Republic v Bolivia</td>\n",
              "    </tr>\n",
              "    <tr>\n",
              "      <th>857</th>\n",
              "      <td>Germany DR</td>\n",
              "      <td>West Germany</td>\n",
              "      <td>60200</td>\n",
              "      <td>1974-06-22</td>\n",
              "      <td>NaN</td>\n",
              "      <td>NaN</td>\n",
              "      <td>NaN</td>\n",
              "      <td>NaN</td>\n",
              "      <td>NaN</td>\n",
              "      <td>NaN</td>\n",
              "      <td>...</td>\n",
              "      <td>West Germany</td>\n",
              "      <td>DEU</td>\n",
              "      <td>Germany Football Association</td>\n",
              "      <td>Europe</td>\n",
              "      <td>CF-6</td>\n",
              "      <td>Union of European Football Associations</td>\n",
              "      <td>UEFA</td>\n",
              "      <td>https://en.wikipedia.org/wiki/Germany_national...</td>\n",
              "      <td>https://en.wikipedia.org/wiki/German_Football_...</td>\n",
              "      <td>Germany DR v West Germany</td>\n",
              "    </tr>\n",
              "  </tbody>\n",
              "</table>\n",
              "<p>31 rows × 25 columns</p>\n",
              "</div>\n",
              "      <button class=\"colab-df-convert\" onclick=\"convertToInteractive('df-24dc8f5f-6133-430d-bae7-ab7b8bc5b831')\"\n",
              "              title=\"Convert this dataframe to an interactive table.\"\n",
              "              style=\"display:none;\">\n",
              "        \n",
              "  <svg xmlns=\"http://www.w3.org/2000/svg\" height=\"24px\"viewBox=\"0 0 24 24\"\n",
              "       width=\"24px\">\n",
              "    <path d=\"M0 0h24v24H0V0z\" fill=\"none\"/>\n",
              "    <path d=\"M18.56 5.44l.94 2.06.94-2.06 2.06-.94-2.06-.94-.94-2.06-.94 2.06-2.06.94zm-11 1L8.5 8.5l.94-2.06 2.06-.94-2.06-.94L8.5 2.5l-.94 2.06-2.06.94zm10 10l.94 2.06.94-2.06 2.06-.94-2.06-.94-.94-2.06-.94 2.06-2.06.94z\"/><path d=\"M17.41 7.96l-1.37-1.37c-.4-.4-.92-.59-1.43-.59-.52 0-1.04.2-1.43.59L10.3 9.45l-7.72 7.72c-.78.78-.78 2.05 0 2.83L4 21.41c.39.39.9.59 1.41.59.51 0 1.02-.2 1.41-.59l7.78-7.78 2.81-2.81c.8-.78.8-2.07 0-2.86zM5.41 20L4 18.59l7.72-7.72 1.47 1.35L5.41 20z\"/>\n",
              "  </svg>\n",
              "      </button>\n",
              "      \n",
              "  <style>\n",
              "    .colab-df-container {\n",
              "      display:flex;\n",
              "      flex-wrap:wrap;\n",
              "      gap: 12px;\n",
              "    }\n",
              "\n",
              "    .colab-df-convert {\n",
              "      background-color: #E8F0FE;\n",
              "      border: none;\n",
              "      border-radius: 50%;\n",
              "      cursor: pointer;\n",
              "      display: none;\n",
              "      fill: #1967D2;\n",
              "      height: 32px;\n",
              "      padding: 0 0 0 0;\n",
              "      width: 32px;\n",
              "    }\n",
              "\n",
              "    .colab-df-convert:hover {\n",
              "      background-color: #E2EBFA;\n",
              "      box-shadow: 0px 1px 2px rgba(60, 64, 67, 0.3), 0px 1px 3px 1px rgba(60, 64, 67, 0.15);\n",
              "      fill: #174EA6;\n",
              "    }\n",
              "\n",
              "    [theme=dark] .colab-df-convert {\n",
              "      background-color: #3B4455;\n",
              "      fill: #D2E3FC;\n",
              "    }\n",
              "\n",
              "    [theme=dark] .colab-df-convert:hover {\n",
              "      background-color: #434B5C;\n",
              "      box-shadow: 0px 1px 3px 1px rgba(0, 0, 0, 0.15);\n",
              "      filter: drop-shadow(0px 1px 2px rgba(0, 0, 0, 0.3));\n",
              "      fill: #FFFFFF;\n",
              "    }\n",
              "  </style>\n",
              "\n",
              "      <script>\n",
              "        const buttonEl =\n",
              "          document.querySelector('#df-24dc8f5f-6133-430d-bae7-ab7b8bc5b831 button.colab-df-convert');\n",
              "        buttonEl.style.display =\n",
              "          google.colab.kernel.accessAllowed ? 'block' : 'none';\n",
              "\n",
              "        async function convertToInteractive(key) {\n",
              "          const element = document.querySelector('#df-24dc8f5f-6133-430d-bae7-ab7b8bc5b831');\n",
              "          const dataTable =\n",
              "            await google.colab.kernel.invokeFunction('convertToInteractive',\n",
              "                                                     [key], {});\n",
              "          if (!dataTable) return;\n",
              "\n",
              "          const docLinkHtml = 'Like what you see? Visit the ' +\n",
              "            '<a target=\"_blank\" href=https://colab.research.google.com/notebooks/data_table.ipynb>data table notebook</a>'\n",
              "            + ' to learn more about interactive tables.';\n",
              "          element.innerHTML = '';\n",
              "          dataTable['output_type'] = 'display_data';\n",
              "          await google.colab.output.renderOutput(dataTable, element);\n",
              "          const docLink = document.createElement('div');\n",
              "          docLink.innerHTML = docLinkHtml;\n",
              "          element.appendChild(docLink);\n",
              "        }\n",
              "      </script>\n",
              "    </div>\n",
              "  </div>\n",
              "  "
            ]
          },
          "metadata": {},
          "execution_count": 11
        }
      ]
    },
    {
      "cell_type": "markdown",
      "source": [
        "After Exploring the missing columns , I Notice the problem, there are some team names in the attendace dataset that dont match with the team_name in the teams dataset , and that should be handeled , and the Simple way to handle it is to correct some of teams name"
      ],
      "metadata": {
        "id": "h_zZO1Al57hM"
      }
    },
    {
      "cell_type": "markdown",
      "source": [
        "For Example Republic Korea = South Korea , Korea DPR  = North Korea"
      ],
      "metadata": {
        "id": "HFzsH1vT7MAN"
      }
    },
    {
      "cell_type": "markdown",
      "source": [
        "I will correct the attendace data then I will apply the merge with teams dataframe again |"
      ],
      "metadata": {
        "id": "sLym41bT8H47"
      }
    },
    {
      "cell_type": "code",
      "source": [
        "attendance_data['home_team'] = attendance_data['home_team'].replace('IR Iran', 'Iran')\n",
        "attendance_data['away_team'] = attendance_data['away_team'].replace('IR Iran', 'Iran')\n",
        "\n",
        "attendance_data['home_team'] = attendance_data['home_team'].replace('Korea Republic', 'South Korea')\n",
        "attendance_data['away_team'] = attendance_data['away_team'].replace('Korea Republic', 'South Korea')\n",
        "\n",
        "attendance_data['home_team'] = attendance_data['home_team'].replace(\"Côte d'Ivoire\", 'Ivory Coast')\n",
        "attendance_data['away_team'] = attendance_data['away_team'].replace(\"Côte d'Ivoire\", 'Ivory Coast')\n",
        "\n",
        "attendance_data['home_team'] = attendance_data['home_team'].replace('Korea DPR', 'North Korea')\n",
        "attendance_data['away_team'] = attendance_data['away_team'].replace('Korea DPR', 'North Korea')\n",
        "\n",
        "attendance_data['home_team'] = attendance_data['home_team'].replace('Germany DR', 'East Germany')\n",
        "attendance_data['away_team'] = attendance_data['away_team'].replace('Germany DR', 'East Germany')\n",
        "\n",
        "attendance_data['home_team'] = attendance_data['home_team'].replace('China PR', 'China')\n",
        "attendance_data['away_team'] = attendance_data['away_team'].replace('China PR', 'China')\n",
        "\n",
        "attendance_data['home_team'] = attendance_data['home_team'].replace('Türkiye', 'Turkey')\n",
        "attendance_data['away_team'] = attendance_data['away_team'].replace('Türkiye', 'Turkey')\n",
        "\n",
        "attendance_data['home_team'] = attendance_data['home_team'].replace('FR Yugoslavia', 'Yugoslavia')\n",
        "attendance_data['away_team'] = attendance_data['away_team'].replace('FR Yugoslavia', 'Yugoslavia')\n"
      ],
      "metadata": {
        "id": "y_H2H4gR8HaL"
      },
      "execution_count": null,
      "outputs": []
    },
    {
      "cell_type": "code",
      "source": [
        "home_teams = teams_data.add_prefix('home_')\n",
        "away_teams = teams_data.add_prefix('away_')\n",
        "df= pd.merge(attendance_data, home_teams,how='left' ,left_on='home_team' ,right_on = 'home_team_name')\n",
        "df= pd.merge(df, away_teams, left_on='away_team' ,right_on = 'away_team_name')\n",
        "df['match_name'] = df['home_team']+' v '+df['away_team']\n",
        "df.drop(['home_team_name','away_team_name'],axis=1,inplace=True)\n",
        "df.shape"
      ],
      "metadata": {
        "colab": {
          "base_uri": "https://localhost:8080/"
        },
        "id": "ARweIqtO7vWL",
        "outputId": "a55726a4-b28b-467a-a535-949b33bd84d6"
      },
      "execution_count": null,
      "outputs": [
        {
          "output_type": "execute_result",
          "data": {
            "text/plain": [
              "(964, 23)"
            ]
          },
          "metadata": {},
          "execution_count": 13
        }
      ]
    },
    {
      "cell_type": "code",
      "source": [
        "df[df.isnull().any(axis=1)]"
      ],
      "metadata": {
        "colab": {
          "base_uri": "https://localhost:8080/",
          "height": 142
        },
        "id": "z1mOL4GB6-dz",
        "outputId": "3c7bc45f-35ce-4a7c-9a47-d80e621686e7"
      },
      "execution_count": null,
      "outputs": [
        {
          "output_type": "execute_result",
          "data": {
            "text/plain": [
              "Empty DataFrame\n",
              "Columns: [home_team, away_team, Attendance, Date, home_team_id, home_team_code, home_federation_name, home_region_name, home_confederation_id, home_confederation_name, home_confederation_code, home_team_wikipedia_link, home_federation_wikipedia_link, away_team_id, away_team_code, away_federation_name, away_region_name, away_confederation_id, away_confederation_name, away_confederation_code, away_team_wikipedia_link, away_federation_wikipedia_link, match_name]\n",
              "Index: []\n",
              "\n",
              "[0 rows x 23 columns]"
            ],
            "text/html": [
              "\n",
              "  <div id=\"df-479e912f-e01e-4223-a6f8-65280f9159a7\">\n",
              "    <div class=\"colab-df-container\">\n",
              "      <div>\n",
              "<style scoped>\n",
              "    .dataframe tbody tr th:only-of-type {\n",
              "        vertical-align: middle;\n",
              "    }\n",
              "\n",
              "    .dataframe tbody tr th {\n",
              "        vertical-align: top;\n",
              "    }\n",
              "\n",
              "    .dataframe thead th {\n",
              "        text-align: right;\n",
              "    }\n",
              "</style>\n",
              "<table border=\"1\" class=\"dataframe\">\n",
              "  <thead>\n",
              "    <tr style=\"text-align: right;\">\n",
              "      <th></th>\n",
              "      <th>home_team</th>\n",
              "      <th>away_team</th>\n",
              "      <th>Attendance</th>\n",
              "      <th>Date</th>\n",
              "      <th>home_team_id</th>\n",
              "      <th>home_team_code</th>\n",
              "      <th>home_federation_name</th>\n",
              "      <th>home_region_name</th>\n",
              "      <th>home_confederation_id</th>\n",
              "      <th>home_confederation_name</th>\n",
              "      <th>...</th>\n",
              "      <th>away_team_id</th>\n",
              "      <th>away_team_code</th>\n",
              "      <th>away_federation_name</th>\n",
              "      <th>away_region_name</th>\n",
              "      <th>away_confederation_id</th>\n",
              "      <th>away_confederation_name</th>\n",
              "      <th>away_confederation_code</th>\n",
              "      <th>away_team_wikipedia_link</th>\n",
              "      <th>away_federation_wikipedia_link</th>\n",
              "      <th>match_name</th>\n",
              "    </tr>\n",
              "  </thead>\n",
              "  <tbody>\n",
              "  </tbody>\n",
              "</table>\n",
              "<p>0 rows × 23 columns</p>\n",
              "</div>\n",
              "      <button class=\"colab-df-convert\" onclick=\"convertToInteractive('df-479e912f-e01e-4223-a6f8-65280f9159a7')\"\n",
              "              title=\"Convert this dataframe to an interactive table.\"\n",
              "              style=\"display:none;\">\n",
              "        \n",
              "  <svg xmlns=\"http://www.w3.org/2000/svg\" height=\"24px\"viewBox=\"0 0 24 24\"\n",
              "       width=\"24px\">\n",
              "    <path d=\"M0 0h24v24H0V0z\" fill=\"none\"/>\n",
              "    <path d=\"M18.56 5.44l.94 2.06.94-2.06 2.06-.94-2.06-.94-.94-2.06-.94 2.06-2.06.94zm-11 1L8.5 8.5l.94-2.06 2.06-.94-2.06-.94L8.5 2.5l-.94 2.06-2.06.94zm10 10l.94 2.06.94-2.06 2.06-.94-2.06-.94-.94-2.06-.94 2.06-2.06.94z\"/><path d=\"M17.41 7.96l-1.37-1.37c-.4-.4-.92-.59-1.43-.59-.52 0-1.04.2-1.43.59L10.3 9.45l-7.72 7.72c-.78.78-.78 2.05 0 2.83L4 21.41c.39.39.9.59 1.41.59.51 0 1.02-.2 1.41-.59l7.78-7.78 2.81-2.81c.8-.78.8-2.07 0-2.86zM5.41 20L4 18.59l7.72-7.72 1.47 1.35L5.41 20z\"/>\n",
              "  </svg>\n",
              "      </button>\n",
              "      \n",
              "  <style>\n",
              "    .colab-df-container {\n",
              "      display:flex;\n",
              "      flex-wrap:wrap;\n",
              "      gap: 12px;\n",
              "    }\n",
              "\n",
              "    .colab-df-convert {\n",
              "      background-color: #E8F0FE;\n",
              "      border: none;\n",
              "      border-radius: 50%;\n",
              "      cursor: pointer;\n",
              "      display: none;\n",
              "      fill: #1967D2;\n",
              "      height: 32px;\n",
              "      padding: 0 0 0 0;\n",
              "      width: 32px;\n",
              "    }\n",
              "\n",
              "    .colab-df-convert:hover {\n",
              "      background-color: #E2EBFA;\n",
              "      box-shadow: 0px 1px 2px rgba(60, 64, 67, 0.3), 0px 1px 3px 1px rgba(60, 64, 67, 0.15);\n",
              "      fill: #174EA6;\n",
              "    }\n",
              "\n",
              "    [theme=dark] .colab-df-convert {\n",
              "      background-color: #3B4455;\n",
              "      fill: #D2E3FC;\n",
              "    }\n",
              "\n",
              "    [theme=dark] .colab-df-convert:hover {\n",
              "      background-color: #434B5C;\n",
              "      box-shadow: 0px 1px 3px 1px rgba(0, 0, 0, 0.15);\n",
              "      filter: drop-shadow(0px 1px 2px rgba(0, 0, 0, 0.3));\n",
              "      fill: #FFFFFF;\n",
              "    }\n",
              "  </style>\n",
              "\n",
              "      <script>\n",
              "        const buttonEl =\n",
              "          document.querySelector('#df-479e912f-e01e-4223-a6f8-65280f9159a7 button.colab-df-convert');\n",
              "        buttonEl.style.display =\n",
              "          google.colab.kernel.accessAllowed ? 'block' : 'none';\n",
              "\n",
              "        async function convertToInteractive(key) {\n",
              "          const element = document.querySelector('#df-479e912f-e01e-4223-a6f8-65280f9159a7');\n",
              "          const dataTable =\n",
              "            await google.colab.kernel.invokeFunction('convertToInteractive',\n",
              "                                                     [key], {});\n",
              "          if (!dataTable) return;\n",
              "\n",
              "          const docLinkHtml = 'Like what you see? Visit the ' +\n",
              "            '<a target=\"_blank\" href=https://colab.research.google.com/notebooks/data_table.ipynb>data table notebook</a>'\n",
              "            + ' to learn more about interactive tables.';\n",
              "          element.innerHTML = '';\n",
              "          dataTable['output_type'] = 'display_data';\n",
              "          await google.colab.output.renderOutput(dataTable, element);\n",
              "          const docLink = document.createElement('div');\n",
              "          docLink.innerHTML = docLinkHtml;\n",
              "          element.appendChild(docLink);\n",
              "        }\n",
              "      </script>\n",
              "    </div>\n",
              "  </div>\n",
              "  "
            ]
          },
          "metadata": {},
          "execution_count": 14
        }
      ]
    },
    {
      "cell_type": "markdown",
      "source": [
        "Now the Problem is solved"
      ],
      "metadata": {
        "id": "gBbnMH95zziP"
      }
    },
    {
      "cell_type": "code",
      "source": [
        "df.columns"
      ],
      "metadata": {
        "colab": {
          "base_uri": "https://localhost:8080/"
        },
        "id": "BeuL-zthKhoL",
        "outputId": "831e81ee-b061-4fde-f053-2ab1aa98ed47"
      },
      "execution_count": null,
      "outputs": [
        {
          "output_type": "execute_result",
          "data": {
            "text/plain": [
              "Index(['home_team', 'away_team', 'Attendance', 'Date', 'home_team_id',\n",
              "       'home_team_code', 'home_federation_name', 'home_region_name',\n",
              "       'home_confederation_id', 'home_confederation_name',\n",
              "       'home_confederation_code', 'home_team_wikipedia_link',\n",
              "       'home_federation_wikipedia_link', 'away_team_id', 'away_team_code',\n",
              "       'away_federation_name', 'away_region_name', 'away_confederation_id',\n",
              "       'away_confederation_name', 'away_confederation_code',\n",
              "       'away_team_wikipedia_link', 'away_federation_wikipedia_link',\n",
              "       'match_name'],\n",
              "      dtype='object')"
            ]
          },
          "metadata": {},
          "execution_count": 15
        }
      ]
    },
    {
      "cell_type": "code",
      "source": [
        "df.rename(columns={'Date':'match_date'},inplace=True)"
      ],
      "metadata": {
        "id": "_YCZT8GyLOYe"
      },
      "execution_count": null,
      "outputs": []
    },
    {
      "cell_type": "code",
      "source": [
        "df.columns"
      ],
      "metadata": {
        "colab": {
          "base_uri": "https://localhost:8080/"
        },
        "id": "RVYOWvUlLqRD",
        "outputId": "595f7d00-93b3-4fe6-aef7-51de5362cb11"
      },
      "execution_count": null,
      "outputs": [
        {
          "output_type": "execute_result",
          "data": {
            "text/plain": [
              "Index(['home_team', 'away_team', 'Attendance', 'match_date', 'home_team_id',\n",
              "       'home_team_code', 'home_federation_name', 'home_region_name',\n",
              "       'home_confederation_id', 'home_confederation_name',\n",
              "       'home_confederation_code', 'home_team_wikipedia_link',\n",
              "       'home_federation_wikipedia_link', 'away_team_id', 'away_team_code',\n",
              "       'away_federation_name', 'away_region_name', 'away_confederation_id',\n",
              "       'away_confederation_name', 'away_confederation_code',\n",
              "       'away_team_wikipedia_link', 'away_federation_wikipedia_link',\n",
              "       'match_name'],\n",
              "      dtype='object')"
            ]
          },
          "metadata": {},
          "execution_count": 17
        }
      ]
    },
    {
      "cell_type": "code",
      "source": [
        "df.to_csv('df.csv')"
      ],
      "metadata": {
        "id": "CJDF5SA1LPEU"
      },
      "execution_count": null,
      "outputs": []
    },
    {
      "cell_type": "markdown",
      "source": [
        "So I Solved the problem and Now there are no missing values"
      ],
      "metadata": {
        "id": "bZ4aNpk5_j_b"
      }
    },
    {
      "cell_type": "markdown",
      "source": [
        "Now I will Merge the matches dataframe with the stadiums dataframe to get all the info of the stadiums"
      ],
      "metadata": {
        "id": "htfA_kuYEbn7"
      }
    },
    {
      "cell_type": "code",
      "source": [
        "matches_data.shape"
      ],
      "metadata": {
        "colab": {
          "base_uri": "https://localhost:8080/"
        },
        "id": "qu-Y6xPRAJ3s",
        "outputId": "5fbd7e55-b19b-4e8b-84db-0b27d5dd841c"
      },
      "execution_count": null,
      "outputs": [
        {
          "output_type": "execute_result",
          "data": {
            "text/plain": [
              "(964, 37)"
            ]
          },
          "metadata": {},
          "execution_count": 19
        }
      ]
    },
    {
      "cell_type": "markdown",
      "source": [
        "Notice that the number of records is the same in each teams and matches"
      ],
      "metadata": {
        "id": "vd9MckFw0j_p"
      }
    },
    {
      "cell_type": "code",
      "source": [
        "matches_data.drop(['key_id'],axis=1,inplace=True)\n",
        "matches_data.columns"
      ],
      "metadata": {
        "colab": {
          "base_uri": "https://localhost:8080/"
        },
        "id": "OBnoEUElFUU8",
        "outputId": "8b1257d3-b84b-48a7-e662-29875f61a0f1"
      },
      "execution_count": null,
      "outputs": [
        {
          "output_type": "execute_result",
          "data": {
            "text/plain": [
              "Index(['tournament_id', 'tournament_name', 'match_id', 'match_name',\n",
              "       'stage_name', 'group_name', 'group_stage', 'knockout_stage', 'replayed',\n",
              "       'replay', 'match_date', 'match_time', 'stadium_id', 'stadium_name',\n",
              "       'city_name', 'country_name', 'home_team_id', 'home_team_name',\n",
              "       'home_team_code', 'away_team_id', 'away_team_name', 'away_team_code',\n",
              "       'score', 'home_team_score', 'away_team_score', 'home_team_score_margin',\n",
              "       'away_team_score_margin', 'extra_time', 'penalty_shootout',\n",
              "       'score_penalties', 'home_team_score_penalties',\n",
              "       'away_team_score_penalties', 'result', 'home_team_win', 'away_team_win',\n",
              "       'draw'],\n",
              "      dtype='object')"
            ]
          },
          "metadata": {},
          "execution_count": 20
        }
      ]
    },
    {
      "cell_type": "code",
      "source": [
        "stadiums_data.drop(['key_id'],axis=1,inplace=True)\n"
      ],
      "metadata": {
        "id": "K67fyp5KFYt_"
      },
      "execution_count": null,
      "outputs": []
    },
    {
      "cell_type": "markdown",
      "source": [
        "I will merge these two dataframes , But Notice there are some duplicates features , So we have to drop them before the merge"
      ],
      "metadata": {
        "id": "6b3bmWe5G7tc"
      }
    },
    {
      "cell_type": "code",
      "source": [
        "matches_data = pd.merge(matches_data,stadiums_data.drop(['stadium_name','city_name','country_name'],axis=1),on = 'stadium_id',how='left')\n",
        "matches_data.shape"
      ],
      "metadata": {
        "colab": {
          "base_uri": "https://localhost:8080/"
        },
        "id": "Int-EkhHHPlY",
        "outputId": "846a7df6-ed54-472f-a73b-dccbf675fdba"
      },
      "execution_count": null,
      "outputs": [
        {
          "output_type": "execute_result",
          "data": {
            "text/plain": [
              "(964, 39)"
            ]
          },
          "metadata": {},
          "execution_count": 22
        }
      ]
    },
    {
      "cell_type": "code",
      "source": [
        "matches_data.columns"
      ],
      "metadata": {
        "colab": {
          "base_uri": "https://localhost:8080/"
        },
        "id": "_e0ohjyKIUjF",
        "outputId": "5846be8e-d057-4848-bc7c-5f8fa3a0e785"
      },
      "execution_count": null,
      "outputs": [
        {
          "output_type": "execute_result",
          "data": {
            "text/plain": [
              "Index(['tournament_id', 'tournament_name', 'match_id', 'match_name',\n",
              "       'stage_name', 'group_name', 'group_stage', 'knockout_stage', 'replayed',\n",
              "       'replay', 'match_date', 'match_time', 'stadium_id', 'stadium_name',\n",
              "       'city_name', 'country_name', 'home_team_id', 'home_team_name',\n",
              "       'home_team_code', 'away_team_id', 'away_team_name', 'away_team_code',\n",
              "       'score', 'home_team_score', 'away_team_score', 'home_team_score_margin',\n",
              "       'away_team_score_margin', 'extra_time', 'penalty_shootout',\n",
              "       'score_penalties', 'home_team_score_penalties',\n",
              "       'away_team_score_penalties', 'result', 'home_team_win', 'away_team_win',\n",
              "       'draw', 'stadium_capacity', 'stadium_wikipedia_link',\n",
              "       'city_wikipedia_link'],\n",
              "      dtype='object')"
            ]
          },
          "metadata": {},
          "execution_count": 23
        }
      ]
    },
    {
      "cell_type": "markdown",
      "source": [
        "Now it last step, which it is merging the matches with the attendance to get the attendance for each match"
      ],
      "metadata": {
        "id": "S7es7GvkJPQE"
      }
    },
    {
      "cell_type": "code",
      "source": [
        "df.columns"
      ],
      "metadata": {
        "colab": {
          "base_uri": "https://localhost:8080/"
        },
        "id": "9FbK2QAYNNvc",
        "outputId": "92b9d7b6-e9b8-4aa9-b993-a067501104f9"
      },
      "execution_count": null,
      "outputs": [
        {
          "output_type": "execute_result",
          "data": {
            "text/plain": [
              "Index(['home_team', 'away_team', 'Attendance', 'match_date', 'home_team_id',\n",
              "       'home_team_code', 'home_federation_name', 'home_region_name',\n",
              "       'home_confederation_id', 'home_confederation_name',\n",
              "       'home_confederation_code', 'home_team_wikipedia_link',\n",
              "       'home_federation_wikipedia_link', 'away_team_id', 'away_team_code',\n",
              "       'away_federation_name', 'away_region_name', 'away_confederation_id',\n",
              "       'away_confederation_name', 'away_confederation_code',\n",
              "       'away_team_wikipedia_link', 'away_federation_wikipedia_link',\n",
              "       'match_name'],\n",
              "      dtype='object')"
            ]
          },
          "metadata": {},
          "execution_count": 24
        }
      ]
    },
    {
      "cell_type": "code",
      "source": [
        "def sort_string(x):\n",
        "  l = x.split()\n",
        "  l.sort()\n",
        "  st = ' '.join(l)\n",
        "  return st"
      ],
      "metadata": {
        "id": "i0JQ2lG8xnbZ"
      },
      "execution_count": null,
      "outputs": []
    },
    {
      "cell_type": "markdown",
      "source": [
        "I will merge on home/away team code after I sort them to avoid swapping the data, and also on match_date"
      ],
      "metadata": {
        "id": "2hxXFGsKLlwl"
      }
    },
    {
      "cell_type": "code",
      "source": [
        "matches_data['code_pair'] = matches_data['home_team_code'] +' '+ matches_data['away_team_code']\n",
        "matches_data['sorted_code_pair'] = matches_data['code_pair'].apply(lambda x : sort_string(x))\n",
        "\n",
        "df['code_pair'] = df['home_team_code'] +' '+ df['away_team_code']\n",
        "df['sorted_code_pair'] = df['code_pair'].apply(lambda x : sort_string(x))"
      ],
      "metadata": {
        "id": "U4jY4PpVw-zw"
      },
      "execution_count": null,
      "outputs": []
    },
    {
      "cell_type": "code",
      "source": [
        "matches_data = pd.merge(matches_data,df.drop(['home_team','away_team','home_team_id','away_team_id','match_name'],axis=1),on=['sorted_code_pair','match_date'],how='left')"
      ],
      "metadata": {
        "id": "onXEZVkUMv4r"
      },
      "execution_count": null,
      "outputs": []
    },
    {
      "cell_type": "code",
      "source": [
        "matches_data[matches_data.isnull().any(axis=1)]"
      ],
      "metadata": {
        "colab": {
          "base_uri": "https://localhost:8080/",
          "height": 142
        },
        "id": "w8NeZAm1yMm_",
        "outputId": "4d6b8c1f-bfb8-4374-8827-082026d9abf2"
      },
      "execution_count": null,
      "outputs": [
        {
          "output_type": "execute_result",
          "data": {
            "text/plain": [
              "Empty DataFrame\n",
              "Columns: [tournament_id, tournament_name, match_id, match_name, stage_name, group_name, group_stage, knockout_stage, replayed, replay, match_date, match_time, stadium_id, stadium_name, city_name, country_name, home_team_id, home_team_name, home_team_code_x, away_team_id, away_team_name, away_team_code_x, score, home_team_score, away_team_score, home_team_score_margin, away_team_score_margin, extra_time, penalty_shootout, score_penalties, home_team_score_penalties, away_team_score_penalties, result, home_team_win, away_team_win, draw, stadium_capacity, stadium_wikipedia_link, city_wikipedia_link, code_pair_x, sorted_code_pair, Attendance, home_team_code_y, home_federation_name, home_region_name, home_confederation_id, home_confederation_name, home_confederation_code, home_team_wikipedia_link, home_federation_wikipedia_link, away_team_code_y, away_federation_name, away_region_name, away_confederation_id, away_confederation_name, away_confederation_code, away_team_wikipedia_link, away_federation_wikipedia_link, code_pair_y]\n",
              "Index: []\n",
              "\n",
              "[0 rows x 59 columns]"
            ],
            "text/html": [
              "\n",
              "  <div id=\"df-ef486fe9-4e48-4029-8d42-d1a5d8f748d5\">\n",
              "    <div class=\"colab-df-container\">\n",
              "      <div>\n",
              "<style scoped>\n",
              "    .dataframe tbody tr th:only-of-type {\n",
              "        vertical-align: middle;\n",
              "    }\n",
              "\n",
              "    .dataframe tbody tr th {\n",
              "        vertical-align: top;\n",
              "    }\n",
              "\n",
              "    .dataframe thead th {\n",
              "        text-align: right;\n",
              "    }\n",
              "</style>\n",
              "<table border=\"1\" class=\"dataframe\">\n",
              "  <thead>\n",
              "    <tr style=\"text-align: right;\">\n",
              "      <th></th>\n",
              "      <th>tournament_id</th>\n",
              "      <th>tournament_name</th>\n",
              "      <th>match_id</th>\n",
              "      <th>match_name</th>\n",
              "      <th>stage_name</th>\n",
              "      <th>group_name</th>\n",
              "      <th>group_stage</th>\n",
              "      <th>knockout_stage</th>\n",
              "      <th>replayed</th>\n",
              "      <th>replay</th>\n",
              "      <th>...</th>\n",
              "      <th>home_federation_wikipedia_link</th>\n",
              "      <th>away_team_code_y</th>\n",
              "      <th>away_federation_name</th>\n",
              "      <th>away_region_name</th>\n",
              "      <th>away_confederation_id</th>\n",
              "      <th>away_confederation_name</th>\n",
              "      <th>away_confederation_code</th>\n",
              "      <th>away_team_wikipedia_link</th>\n",
              "      <th>away_federation_wikipedia_link</th>\n",
              "      <th>code_pair_y</th>\n",
              "    </tr>\n",
              "  </thead>\n",
              "  <tbody>\n",
              "  </tbody>\n",
              "</table>\n",
              "<p>0 rows × 59 columns</p>\n",
              "</div>\n",
              "      <button class=\"colab-df-convert\" onclick=\"convertToInteractive('df-ef486fe9-4e48-4029-8d42-d1a5d8f748d5')\"\n",
              "              title=\"Convert this dataframe to an interactive table.\"\n",
              "              style=\"display:none;\">\n",
              "        \n",
              "  <svg xmlns=\"http://www.w3.org/2000/svg\" height=\"24px\"viewBox=\"0 0 24 24\"\n",
              "       width=\"24px\">\n",
              "    <path d=\"M0 0h24v24H0V0z\" fill=\"none\"/>\n",
              "    <path d=\"M18.56 5.44l.94 2.06.94-2.06 2.06-.94-2.06-.94-.94-2.06-.94 2.06-2.06.94zm-11 1L8.5 8.5l.94-2.06 2.06-.94-2.06-.94L8.5 2.5l-.94 2.06-2.06.94zm10 10l.94 2.06.94-2.06 2.06-.94-2.06-.94-.94-2.06-.94 2.06-2.06.94z\"/><path d=\"M17.41 7.96l-1.37-1.37c-.4-.4-.92-.59-1.43-.59-.52 0-1.04.2-1.43.59L10.3 9.45l-7.72 7.72c-.78.78-.78 2.05 0 2.83L4 21.41c.39.39.9.59 1.41.59.51 0 1.02-.2 1.41-.59l7.78-7.78 2.81-2.81c.8-.78.8-2.07 0-2.86zM5.41 20L4 18.59l7.72-7.72 1.47 1.35L5.41 20z\"/>\n",
              "  </svg>\n",
              "      </button>\n",
              "      \n",
              "  <style>\n",
              "    .colab-df-container {\n",
              "      display:flex;\n",
              "      flex-wrap:wrap;\n",
              "      gap: 12px;\n",
              "    }\n",
              "\n",
              "    .colab-df-convert {\n",
              "      background-color: #E8F0FE;\n",
              "      border: none;\n",
              "      border-radius: 50%;\n",
              "      cursor: pointer;\n",
              "      display: none;\n",
              "      fill: #1967D2;\n",
              "      height: 32px;\n",
              "      padding: 0 0 0 0;\n",
              "      width: 32px;\n",
              "    }\n",
              "\n",
              "    .colab-df-convert:hover {\n",
              "      background-color: #E2EBFA;\n",
              "      box-shadow: 0px 1px 2px rgba(60, 64, 67, 0.3), 0px 1px 3px 1px rgba(60, 64, 67, 0.15);\n",
              "      fill: #174EA6;\n",
              "    }\n",
              "\n",
              "    [theme=dark] .colab-df-convert {\n",
              "      background-color: #3B4455;\n",
              "      fill: #D2E3FC;\n",
              "    }\n",
              "\n",
              "    [theme=dark] .colab-df-convert:hover {\n",
              "      background-color: #434B5C;\n",
              "      box-shadow: 0px 1px 3px 1px rgba(0, 0, 0, 0.15);\n",
              "      filter: drop-shadow(0px 1px 2px rgba(0, 0, 0, 0.3));\n",
              "      fill: #FFFFFF;\n",
              "    }\n",
              "  </style>\n",
              "\n",
              "      <script>\n",
              "        const buttonEl =\n",
              "          document.querySelector('#df-ef486fe9-4e48-4029-8d42-d1a5d8f748d5 button.colab-df-convert');\n",
              "        buttonEl.style.display =\n",
              "          google.colab.kernel.accessAllowed ? 'block' : 'none';\n",
              "\n",
              "        async function convertToInteractive(key) {\n",
              "          const element = document.querySelector('#df-ef486fe9-4e48-4029-8d42-d1a5d8f748d5');\n",
              "          const dataTable =\n",
              "            await google.colab.kernel.invokeFunction('convertToInteractive',\n",
              "                                                     [key], {});\n",
              "          if (!dataTable) return;\n",
              "\n",
              "          const docLinkHtml = 'Like what you see? Visit the ' +\n",
              "            '<a target=\"_blank\" href=https://colab.research.google.com/notebooks/data_table.ipynb>data table notebook</a>'\n",
              "            + ' to learn more about interactive tables.';\n",
              "          element.innerHTML = '';\n",
              "          dataTable['output_type'] = 'display_data';\n",
              "          await google.colab.output.renderOutput(dataTable, element);\n",
              "          const docLink = document.createElement('div');\n",
              "          docLink.innerHTML = docLinkHtml;\n",
              "          element.appendChild(docLink);\n",
              "        }\n",
              "      </script>\n",
              "    </div>\n",
              "  </div>\n",
              "  "
            ]
          },
          "metadata": {},
          "execution_count": 28
        }
      ]
    },
    {
      "cell_type": "markdown",
      "source": [
        "So I Solved the problem from the previous task by creating the sorted_pair_code"
      ],
      "metadata": {
        "id": "hKharAGcMX_S"
      }
    },
    {
      "cell_type": "markdown",
      "source": [
        "##B- Players Names & Squads"
      ],
      "metadata": {
        "id": "5FbV6JDCP_sE"
      }
    },
    {
      "cell_type": "code",
      "source": [
        "def get_teams_names_played_for(player_id):\n",
        "    player_squads = squads_data[squads_data['player_id'] == player_id]\n",
        "    teams_played_for = set(player_squads['team_name'].unique())\n",
        "\n",
        "    return teams_played_for"
      ],
      "metadata": {
        "id": "PZfhW_QRS77A"
      },
      "execution_count": null,
      "outputs": []
    },
    {
      "cell_type": "code",
      "source": [
        "def get_teams_codes_played_for(player_id):\n",
        "    player_squads = squads_data[squads_data['player_id'] == player_id]\n",
        "    teams_played_for = set(player_squads['team_code'].unique())\n",
        "\n",
        "    return teams_played_for"
      ],
      "metadata": {
        "id": "aovfTUEVzx83"
      },
      "execution_count": null,
      "outputs": []
    },
    {
      "cell_type": "code",
      "source": [
        "def get_num_of_teams__played_for(player_id):\n",
        "    player_squads = squads_data[squads_data['player_id'] == player_id]\n",
        "    teams_played_for = len(set(player_squads['team_name'].unique()))\n",
        "\n",
        "    return teams_played_for"
      ],
      "metadata": {
        "id": "DNFKpsObBtEU"
      },
      "execution_count": null,
      "outputs": []
    },
    {
      "cell_type": "code",
      "source": [
        "players_data['names_of_teams_played_for'] = players_data['player_id'].apply(get_teams_names_played_for)\n",
        "players_data['codes_of_teams_played_for'] = players_data['player_id'].apply(get_teams_codes_played_for)\n",
        "players_data['num_of_teams_played_for'] = players_data['player_id'].apply(get_num_of_teams__played_for)\n"
      ],
      "metadata": {
        "id": "-bdgWcI0WHeG"
      },
      "execution_count": null,
      "outputs": []
    },
    {
      "cell_type": "code",
      "source": [
        "players_teams = players_data\n",
        "players_teams.head()"
      ],
      "metadata": {
        "colab": {
          "base_uri": "https://localhost:8080/"
        },
        "id": "8Hm1gbG-AFT_",
        "outputId": "d27f44dc-111b-4a5a-b8d2-884aecca016e"
      },
      "execution_count": null,
      "outputs": [
        {
          "output_type": "execute_result",
          "data": {
            "text/plain": [
              "   key_id player_id family_name given_name  birth_date  goal_keeper  defender  \\\n",
              "0       1   P-08891     A'Court       Alan  1934-09-30            0         0   \n",
              "1       2   P-08589    Aaronson    Brenden  2000-10-22            0         0   \n",
              "2       3   P-04897   Abadzhiev     Stefan  1934-07-03            0         0   \n",
              "3       4   P-05556       Abalo  Jean-Paul  1975-06-26            0         1   \n",
              "4       5   P-08163      Abanda    Patrice  1978-08-03            0         1   \n",
              "\n",
              "   midfielder  forward  count_tournaments list_tournaments  \\\n",
              "0           0        1                  1             1958   \n",
              "1           0        1                  1             2022   \n",
              "2           0        1                  1             1966   \n",
              "3           0        0                  1             2006   \n",
              "4           0        0                  1             1998   \n",
              "\n",
              "                            player_wikipedia_link names_of_teams_played_for  \\\n",
              "0    https://en.wikipedia.org/wiki/Alan_A%27Court                 {England}   \n",
              "1  https://en.wikipedia.org/wiki/Brenden_Aaronson           {United States}   \n",
              "2  https://en.wikipedia.org/wiki/Stefan_Abadzhiev                {Bulgaria}   \n",
              "3   https://en.wikipedia.org/wiki/Jean-Paul_Abalo                    {Togo}   \n",
              "4    https://en.wikipedia.org/wiki/Patrice_Abanda                {Cameroon}   \n",
              "\n",
              "  codes_of_teams_played_for  num_of_teams_played_for  \n",
              "0                     {ENG}                        1  \n",
              "1                     {USA}                        1  \n",
              "2                     {BGR}                        1  \n",
              "3                     {TGO}                        1  \n",
              "4                     {CMR}                        1  "
            ],
            "text/html": [
              "\n",
              "  <div id=\"df-026eba7e-bbae-44cb-8498-8c8396151969\">\n",
              "    <div class=\"colab-df-container\">\n",
              "      <div>\n",
              "<style scoped>\n",
              "    .dataframe tbody tr th:only-of-type {\n",
              "        vertical-align: middle;\n",
              "    }\n",
              "\n",
              "    .dataframe tbody tr th {\n",
              "        vertical-align: top;\n",
              "    }\n",
              "\n",
              "    .dataframe thead th {\n",
              "        text-align: right;\n",
              "    }\n",
              "</style>\n",
              "<table border=\"1\" class=\"dataframe\">\n",
              "  <thead>\n",
              "    <tr style=\"text-align: right;\">\n",
              "      <th></th>\n",
              "      <th>key_id</th>\n",
              "      <th>player_id</th>\n",
              "      <th>family_name</th>\n",
              "      <th>given_name</th>\n",
              "      <th>birth_date</th>\n",
              "      <th>goal_keeper</th>\n",
              "      <th>defender</th>\n",
              "      <th>midfielder</th>\n",
              "      <th>forward</th>\n",
              "      <th>count_tournaments</th>\n",
              "      <th>list_tournaments</th>\n",
              "      <th>player_wikipedia_link</th>\n",
              "      <th>names_of_teams_played_for</th>\n",
              "      <th>codes_of_teams_played_for</th>\n",
              "      <th>num_of_teams_played_for</th>\n",
              "    </tr>\n",
              "  </thead>\n",
              "  <tbody>\n",
              "    <tr>\n",
              "      <th>0</th>\n",
              "      <td>1</td>\n",
              "      <td>P-08891</td>\n",
              "      <td>A'Court</td>\n",
              "      <td>Alan</td>\n",
              "      <td>1934-09-30</td>\n",
              "      <td>0</td>\n",
              "      <td>0</td>\n",
              "      <td>0</td>\n",
              "      <td>1</td>\n",
              "      <td>1</td>\n",
              "      <td>1958</td>\n",
              "      <td>https://en.wikipedia.org/wiki/Alan_A%27Court</td>\n",
              "      <td>{England}</td>\n",
              "      <td>{ENG}</td>\n",
              "      <td>1</td>\n",
              "    </tr>\n",
              "    <tr>\n",
              "      <th>1</th>\n",
              "      <td>2</td>\n",
              "      <td>P-08589</td>\n",
              "      <td>Aaronson</td>\n",
              "      <td>Brenden</td>\n",
              "      <td>2000-10-22</td>\n",
              "      <td>0</td>\n",
              "      <td>0</td>\n",
              "      <td>0</td>\n",
              "      <td>1</td>\n",
              "      <td>1</td>\n",
              "      <td>2022</td>\n",
              "      <td>https://en.wikipedia.org/wiki/Brenden_Aaronson</td>\n",
              "      <td>{United States}</td>\n",
              "      <td>{USA}</td>\n",
              "      <td>1</td>\n",
              "    </tr>\n",
              "    <tr>\n",
              "      <th>2</th>\n",
              "      <td>3</td>\n",
              "      <td>P-04897</td>\n",
              "      <td>Abadzhiev</td>\n",
              "      <td>Stefan</td>\n",
              "      <td>1934-07-03</td>\n",
              "      <td>0</td>\n",
              "      <td>0</td>\n",
              "      <td>0</td>\n",
              "      <td>1</td>\n",
              "      <td>1</td>\n",
              "      <td>1966</td>\n",
              "      <td>https://en.wikipedia.org/wiki/Stefan_Abadzhiev</td>\n",
              "      <td>{Bulgaria}</td>\n",
              "      <td>{BGR}</td>\n",
              "      <td>1</td>\n",
              "    </tr>\n",
              "    <tr>\n",
              "      <th>3</th>\n",
              "      <td>4</td>\n",
              "      <td>P-05556</td>\n",
              "      <td>Abalo</td>\n",
              "      <td>Jean-Paul</td>\n",
              "      <td>1975-06-26</td>\n",
              "      <td>0</td>\n",
              "      <td>1</td>\n",
              "      <td>0</td>\n",
              "      <td>0</td>\n",
              "      <td>1</td>\n",
              "      <td>2006</td>\n",
              "      <td>https://en.wikipedia.org/wiki/Jean-Paul_Abalo</td>\n",
              "      <td>{Togo}</td>\n",
              "      <td>{TGO}</td>\n",
              "      <td>1</td>\n",
              "    </tr>\n",
              "    <tr>\n",
              "      <th>4</th>\n",
              "      <td>5</td>\n",
              "      <td>P-08163</td>\n",
              "      <td>Abanda</td>\n",
              "      <td>Patrice</td>\n",
              "      <td>1978-08-03</td>\n",
              "      <td>0</td>\n",
              "      <td>1</td>\n",
              "      <td>0</td>\n",
              "      <td>0</td>\n",
              "      <td>1</td>\n",
              "      <td>1998</td>\n",
              "      <td>https://en.wikipedia.org/wiki/Patrice_Abanda</td>\n",
              "      <td>{Cameroon}</td>\n",
              "      <td>{CMR}</td>\n",
              "      <td>1</td>\n",
              "    </tr>\n",
              "  </tbody>\n",
              "</table>\n",
              "</div>\n",
              "      <button class=\"colab-df-convert\" onclick=\"convertToInteractive('df-026eba7e-bbae-44cb-8498-8c8396151969')\"\n",
              "              title=\"Convert this dataframe to an interactive table.\"\n",
              "              style=\"display:none;\">\n",
              "        \n",
              "  <svg xmlns=\"http://www.w3.org/2000/svg\" height=\"24px\"viewBox=\"0 0 24 24\"\n",
              "       width=\"24px\">\n",
              "    <path d=\"M0 0h24v24H0V0z\" fill=\"none\"/>\n",
              "    <path d=\"M18.56 5.44l.94 2.06.94-2.06 2.06-.94-2.06-.94-.94-2.06-.94 2.06-2.06.94zm-11 1L8.5 8.5l.94-2.06 2.06-.94-2.06-.94L8.5 2.5l-.94 2.06-2.06.94zm10 10l.94 2.06.94-2.06 2.06-.94-2.06-.94-.94-2.06-.94 2.06-2.06.94z\"/><path d=\"M17.41 7.96l-1.37-1.37c-.4-.4-.92-.59-1.43-.59-.52 0-1.04.2-1.43.59L10.3 9.45l-7.72 7.72c-.78.78-.78 2.05 0 2.83L4 21.41c.39.39.9.59 1.41.59.51 0 1.02-.2 1.41-.59l7.78-7.78 2.81-2.81c.8-.78.8-2.07 0-2.86zM5.41 20L4 18.59l7.72-7.72 1.47 1.35L5.41 20z\"/>\n",
              "  </svg>\n",
              "      </button>\n",
              "      \n",
              "  <style>\n",
              "    .colab-df-container {\n",
              "      display:flex;\n",
              "      flex-wrap:wrap;\n",
              "      gap: 12px;\n",
              "    }\n",
              "\n",
              "    .colab-df-convert {\n",
              "      background-color: #E8F0FE;\n",
              "      border: none;\n",
              "      border-radius: 50%;\n",
              "      cursor: pointer;\n",
              "      display: none;\n",
              "      fill: #1967D2;\n",
              "      height: 32px;\n",
              "      padding: 0 0 0 0;\n",
              "      width: 32px;\n",
              "    }\n",
              "\n",
              "    .colab-df-convert:hover {\n",
              "      background-color: #E2EBFA;\n",
              "      box-shadow: 0px 1px 2px rgba(60, 64, 67, 0.3), 0px 1px 3px 1px rgba(60, 64, 67, 0.15);\n",
              "      fill: #174EA6;\n",
              "    }\n",
              "\n",
              "    [theme=dark] .colab-df-convert {\n",
              "      background-color: #3B4455;\n",
              "      fill: #D2E3FC;\n",
              "    }\n",
              "\n",
              "    [theme=dark] .colab-df-convert:hover {\n",
              "      background-color: #434B5C;\n",
              "      box-shadow: 0px 1px 3px 1px rgba(0, 0, 0, 0.15);\n",
              "      filter: drop-shadow(0px 1px 2px rgba(0, 0, 0, 0.3));\n",
              "      fill: #FFFFFF;\n",
              "    }\n",
              "  </style>\n",
              "\n",
              "      <script>\n",
              "        const buttonEl =\n",
              "          document.querySelector('#df-026eba7e-bbae-44cb-8498-8c8396151969 button.colab-df-convert');\n",
              "        buttonEl.style.display =\n",
              "          google.colab.kernel.accessAllowed ? 'block' : 'none';\n",
              "\n",
              "        async function convertToInteractive(key) {\n",
              "          const element = document.querySelector('#df-026eba7e-bbae-44cb-8498-8c8396151969');\n",
              "          const dataTable =\n",
              "            await google.colab.kernel.invokeFunction('convertToInteractive',\n",
              "                                                     [key], {});\n",
              "          if (!dataTable) return;\n",
              "\n",
              "          const docLinkHtml = 'Like what you see? Visit the ' +\n",
              "            '<a target=\"_blank\" href=https://colab.research.google.com/notebooks/data_table.ipynb>data table notebook</a>'\n",
              "            + ' to learn more about interactive tables.';\n",
              "          element.innerHTML = '';\n",
              "          dataTable['output_type'] = 'display_data';\n",
              "          await google.colab.output.renderOutput(dataTable, element);\n",
              "          const docLink = document.createElement('div');\n",
              "          docLink.innerHTML = docLinkHtml;\n",
              "          element.appendChild(docLink);\n",
              "        }\n",
              "      </script>\n",
              "    </div>\n",
              "  </div>\n",
              "  "
            ]
          },
          "metadata": {},
          "execution_count": 33
        }
      ]
    },
    {
      "cell_type": "code",
      "source": [
        "players_teams[players_teams.isnull().any(axis=1)]"
      ],
      "metadata": {
        "colab": {
          "base_uri": "https://localhost:8080/"
        },
        "id": "FEyHL5-cA50Y",
        "outputId": "6ada7fa4-e62a-497c-cf7a-faaecda6e9cf"
      },
      "execution_count": null,
      "outputs": [
        {
          "output_type": "execute_result",
          "data": {
            "text/plain": [
              "      key_id player_id family_name given_name birth_date  goal_keeper  \\\n",
              "7061    7062   P-08148   Sepúlveda  Guillermo        NaN            0   \n",
              "\n",
              "      defender  midfielder  forward  count_tournaments list_tournaments  \\\n",
              "7061         1           1        0                  2       1958, 1962   \n",
              "\n",
              "                                  player_wikipedia_link  \\\n",
              "7061  https://en.wikipedia.org/wiki/Guillermo_Sep%C3...   \n",
              "\n",
              "     names_of_teams_played_for codes_of_teams_played_for  \\\n",
              "7061                  {Mexico}                     {MEX}   \n",
              "\n",
              "      num_of_teams_played_for  \n",
              "7061                        1  "
            ],
            "text/html": [
              "\n",
              "  <div id=\"df-d75d603b-4467-44da-8e7b-23da293db6af\">\n",
              "    <div class=\"colab-df-container\">\n",
              "      <div>\n",
              "<style scoped>\n",
              "    .dataframe tbody tr th:only-of-type {\n",
              "        vertical-align: middle;\n",
              "    }\n",
              "\n",
              "    .dataframe tbody tr th {\n",
              "        vertical-align: top;\n",
              "    }\n",
              "\n",
              "    .dataframe thead th {\n",
              "        text-align: right;\n",
              "    }\n",
              "</style>\n",
              "<table border=\"1\" class=\"dataframe\">\n",
              "  <thead>\n",
              "    <tr style=\"text-align: right;\">\n",
              "      <th></th>\n",
              "      <th>key_id</th>\n",
              "      <th>player_id</th>\n",
              "      <th>family_name</th>\n",
              "      <th>given_name</th>\n",
              "      <th>birth_date</th>\n",
              "      <th>goal_keeper</th>\n",
              "      <th>defender</th>\n",
              "      <th>midfielder</th>\n",
              "      <th>forward</th>\n",
              "      <th>count_tournaments</th>\n",
              "      <th>list_tournaments</th>\n",
              "      <th>player_wikipedia_link</th>\n",
              "      <th>names_of_teams_played_for</th>\n",
              "      <th>codes_of_teams_played_for</th>\n",
              "      <th>num_of_teams_played_for</th>\n",
              "    </tr>\n",
              "  </thead>\n",
              "  <tbody>\n",
              "    <tr>\n",
              "      <th>7061</th>\n",
              "      <td>7062</td>\n",
              "      <td>P-08148</td>\n",
              "      <td>Sepúlveda</td>\n",
              "      <td>Guillermo</td>\n",
              "      <td>NaN</td>\n",
              "      <td>0</td>\n",
              "      <td>1</td>\n",
              "      <td>1</td>\n",
              "      <td>0</td>\n",
              "      <td>2</td>\n",
              "      <td>1958, 1962</td>\n",
              "      <td>https://en.wikipedia.org/wiki/Guillermo_Sep%C3...</td>\n",
              "      <td>{Mexico}</td>\n",
              "      <td>{MEX}</td>\n",
              "      <td>1</td>\n",
              "    </tr>\n",
              "  </tbody>\n",
              "</table>\n",
              "</div>\n",
              "      <button class=\"colab-df-convert\" onclick=\"convertToInteractive('df-d75d603b-4467-44da-8e7b-23da293db6af')\"\n",
              "              title=\"Convert this dataframe to an interactive table.\"\n",
              "              style=\"display:none;\">\n",
              "        \n",
              "  <svg xmlns=\"http://www.w3.org/2000/svg\" height=\"24px\"viewBox=\"0 0 24 24\"\n",
              "       width=\"24px\">\n",
              "    <path d=\"M0 0h24v24H0V0z\" fill=\"none\"/>\n",
              "    <path d=\"M18.56 5.44l.94 2.06.94-2.06 2.06-.94-2.06-.94-.94-2.06-.94 2.06-2.06.94zm-11 1L8.5 8.5l.94-2.06 2.06-.94-2.06-.94L8.5 2.5l-.94 2.06-2.06.94zm10 10l.94 2.06.94-2.06 2.06-.94-2.06-.94-.94-2.06-.94 2.06-2.06.94z\"/><path d=\"M17.41 7.96l-1.37-1.37c-.4-.4-.92-.59-1.43-.59-.52 0-1.04.2-1.43.59L10.3 9.45l-7.72 7.72c-.78.78-.78 2.05 0 2.83L4 21.41c.39.39.9.59 1.41.59.51 0 1.02-.2 1.41-.59l7.78-7.78 2.81-2.81c.8-.78.8-2.07 0-2.86zM5.41 20L4 18.59l7.72-7.72 1.47 1.35L5.41 20z\"/>\n",
              "  </svg>\n",
              "      </button>\n",
              "      \n",
              "  <style>\n",
              "    .colab-df-container {\n",
              "      display:flex;\n",
              "      flex-wrap:wrap;\n",
              "      gap: 12px;\n",
              "    }\n",
              "\n",
              "    .colab-df-convert {\n",
              "      background-color: #E8F0FE;\n",
              "      border: none;\n",
              "      border-radius: 50%;\n",
              "      cursor: pointer;\n",
              "      display: none;\n",
              "      fill: #1967D2;\n",
              "      height: 32px;\n",
              "      padding: 0 0 0 0;\n",
              "      width: 32px;\n",
              "    }\n",
              "\n",
              "    .colab-df-convert:hover {\n",
              "      background-color: #E2EBFA;\n",
              "      box-shadow: 0px 1px 2px rgba(60, 64, 67, 0.3), 0px 1px 3px 1px rgba(60, 64, 67, 0.15);\n",
              "      fill: #174EA6;\n",
              "    }\n",
              "\n",
              "    [theme=dark] .colab-df-convert {\n",
              "      background-color: #3B4455;\n",
              "      fill: #D2E3FC;\n",
              "    }\n",
              "\n",
              "    [theme=dark] .colab-df-convert:hover {\n",
              "      background-color: #434B5C;\n",
              "      box-shadow: 0px 1px 3px 1px rgba(0, 0, 0, 0.15);\n",
              "      filter: drop-shadow(0px 1px 2px rgba(0, 0, 0, 0.3));\n",
              "      fill: #FFFFFF;\n",
              "    }\n",
              "  </style>\n",
              "\n",
              "      <script>\n",
              "        const buttonEl =\n",
              "          document.querySelector('#df-d75d603b-4467-44da-8e7b-23da293db6af button.colab-df-convert');\n",
              "        buttonEl.style.display =\n",
              "          google.colab.kernel.accessAllowed ? 'block' : 'none';\n",
              "\n",
              "        async function convertToInteractive(key) {\n",
              "          const element = document.querySelector('#df-d75d603b-4467-44da-8e7b-23da293db6af');\n",
              "          const dataTable =\n",
              "            await google.colab.kernel.invokeFunction('convertToInteractive',\n",
              "                                                     [key], {});\n",
              "          if (!dataTable) return;\n",
              "\n",
              "          const docLinkHtml = 'Like what you see? Visit the ' +\n",
              "            '<a target=\"_blank\" href=https://colab.research.google.com/notebooks/data_table.ipynb>data table notebook</a>'\n",
              "            + ' to learn more about interactive tables.';\n",
              "          element.innerHTML = '';\n",
              "          dataTable['output_type'] = 'display_data';\n",
              "          await google.colab.output.renderOutput(dataTable, element);\n",
              "          const docLink = document.createElement('div');\n",
              "          docLink.innerHTML = docLinkHtml;\n",
              "          element.appendChild(docLink);\n",
              "        }\n",
              "      </script>\n",
              "    </div>\n",
              "  </div>\n",
              "  "
            ]
          },
          "metadata": {},
          "execution_count": 34
        }
      ]
    },
    {
      "cell_type": "code",
      "source": [
        "players_teams.at[7061,'birth_date']='1934-2-28'"
      ],
      "metadata": {
        "id": "ennaHX-QThTN"
      },
      "execution_count": null,
      "outputs": []
    },
    {
      "cell_type": "markdown",
      "source": [
        "Getting his birthdate from wiki"
      ],
      "metadata": {
        "id": "g-cKI_MmhuDQ"
      }
    },
    {
      "cell_type": "code",
      "source": [
        "players_teams[players_teams.isnull().any(axis=1)]"
      ],
      "metadata": {
        "colab": {
          "base_uri": "https://localhost:8080/"
        },
        "id": "JjSaZIxOT_R_",
        "outputId": "4a8e4366-750f-46fb-bf89-51e53d93c8aa"
      },
      "execution_count": null,
      "outputs": [
        {
          "output_type": "execute_result",
          "data": {
            "text/plain": [
              "Empty DataFrame\n",
              "Columns: [key_id, player_id, family_name, given_name, birth_date, goal_keeper, defender, midfielder, forward, count_tournaments, list_tournaments, player_wikipedia_link, names_of_teams_played_for, codes_of_teams_played_for, num_of_teams_played_for]\n",
              "Index: []"
            ],
            "text/html": [
              "\n",
              "  <div id=\"df-07391a80-8a6b-429d-af12-dc77d7f31cd8\">\n",
              "    <div class=\"colab-df-container\">\n",
              "      <div>\n",
              "<style scoped>\n",
              "    .dataframe tbody tr th:only-of-type {\n",
              "        vertical-align: middle;\n",
              "    }\n",
              "\n",
              "    .dataframe tbody tr th {\n",
              "        vertical-align: top;\n",
              "    }\n",
              "\n",
              "    .dataframe thead th {\n",
              "        text-align: right;\n",
              "    }\n",
              "</style>\n",
              "<table border=\"1\" class=\"dataframe\">\n",
              "  <thead>\n",
              "    <tr style=\"text-align: right;\">\n",
              "      <th></th>\n",
              "      <th>key_id</th>\n",
              "      <th>player_id</th>\n",
              "      <th>family_name</th>\n",
              "      <th>given_name</th>\n",
              "      <th>birth_date</th>\n",
              "      <th>goal_keeper</th>\n",
              "      <th>defender</th>\n",
              "      <th>midfielder</th>\n",
              "      <th>forward</th>\n",
              "      <th>count_tournaments</th>\n",
              "      <th>list_tournaments</th>\n",
              "      <th>player_wikipedia_link</th>\n",
              "      <th>names_of_teams_played_for</th>\n",
              "      <th>codes_of_teams_played_for</th>\n",
              "      <th>num_of_teams_played_for</th>\n",
              "    </tr>\n",
              "  </thead>\n",
              "  <tbody>\n",
              "  </tbody>\n",
              "</table>\n",
              "</div>\n",
              "      <button class=\"colab-df-convert\" onclick=\"convertToInteractive('df-07391a80-8a6b-429d-af12-dc77d7f31cd8')\"\n",
              "              title=\"Convert this dataframe to an interactive table.\"\n",
              "              style=\"display:none;\">\n",
              "        \n",
              "  <svg xmlns=\"http://www.w3.org/2000/svg\" height=\"24px\"viewBox=\"0 0 24 24\"\n",
              "       width=\"24px\">\n",
              "    <path d=\"M0 0h24v24H0V0z\" fill=\"none\"/>\n",
              "    <path d=\"M18.56 5.44l.94 2.06.94-2.06 2.06-.94-2.06-.94-.94-2.06-.94 2.06-2.06.94zm-11 1L8.5 8.5l.94-2.06 2.06-.94-2.06-.94L8.5 2.5l-.94 2.06-2.06.94zm10 10l.94 2.06.94-2.06 2.06-.94-2.06-.94-.94-2.06-.94 2.06-2.06.94z\"/><path d=\"M17.41 7.96l-1.37-1.37c-.4-.4-.92-.59-1.43-.59-.52 0-1.04.2-1.43.59L10.3 9.45l-7.72 7.72c-.78.78-.78 2.05 0 2.83L4 21.41c.39.39.9.59 1.41.59.51 0 1.02-.2 1.41-.59l7.78-7.78 2.81-2.81c.8-.78.8-2.07 0-2.86zM5.41 20L4 18.59l7.72-7.72 1.47 1.35L5.41 20z\"/>\n",
              "  </svg>\n",
              "      </button>\n",
              "      \n",
              "  <style>\n",
              "    .colab-df-container {\n",
              "      display:flex;\n",
              "      flex-wrap:wrap;\n",
              "      gap: 12px;\n",
              "    }\n",
              "\n",
              "    .colab-df-convert {\n",
              "      background-color: #E8F0FE;\n",
              "      border: none;\n",
              "      border-radius: 50%;\n",
              "      cursor: pointer;\n",
              "      display: none;\n",
              "      fill: #1967D2;\n",
              "      height: 32px;\n",
              "      padding: 0 0 0 0;\n",
              "      width: 32px;\n",
              "    }\n",
              "\n",
              "    .colab-df-convert:hover {\n",
              "      background-color: #E2EBFA;\n",
              "      box-shadow: 0px 1px 2px rgba(60, 64, 67, 0.3), 0px 1px 3px 1px rgba(60, 64, 67, 0.15);\n",
              "      fill: #174EA6;\n",
              "    }\n",
              "\n",
              "    [theme=dark] .colab-df-convert {\n",
              "      background-color: #3B4455;\n",
              "      fill: #D2E3FC;\n",
              "    }\n",
              "\n",
              "    [theme=dark] .colab-df-convert:hover {\n",
              "      background-color: #434B5C;\n",
              "      box-shadow: 0px 1px 3px 1px rgba(0, 0, 0, 0.15);\n",
              "      filter: drop-shadow(0px 1px 2px rgba(0, 0, 0, 0.3));\n",
              "      fill: #FFFFFF;\n",
              "    }\n",
              "  </style>\n",
              "\n",
              "      <script>\n",
              "        const buttonEl =\n",
              "          document.querySelector('#df-07391a80-8a6b-429d-af12-dc77d7f31cd8 button.colab-df-convert');\n",
              "        buttonEl.style.display =\n",
              "          google.colab.kernel.accessAllowed ? 'block' : 'none';\n",
              "\n",
              "        async function convertToInteractive(key) {\n",
              "          const element = document.querySelector('#df-07391a80-8a6b-429d-af12-dc77d7f31cd8');\n",
              "          const dataTable =\n",
              "            await google.colab.kernel.invokeFunction('convertToInteractive',\n",
              "                                                     [key], {});\n",
              "          if (!dataTable) return;\n",
              "\n",
              "          const docLinkHtml = 'Like what you see? Visit the ' +\n",
              "            '<a target=\"_blank\" href=https://colab.research.google.com/notebooks/data_table.ipynb>data table notebook</a>'\n",
              "            + ' to learn more about interactive tables.';\n",
              "          element.innerHTML = '';\n",
              "          dataTable['output_type'] = 'display_data';\n",
              "          await google.colab.output.renderOutput(dataTable, element);\n",
              "          const docLink = document.createElement('div');\n",
              "          docLink.innerHTML = docLinkHtml;\n",
              "          element.appendChild(docLink);\n",
              "        }\n",
              "      </script>\n",
              "    </div>\n",
              "  </div>\n",
              "  "
            ]
          },
          "metadata": {},
          "execution_count": 36
        }
      ]
    },
    {
      "cell_type": "markdown",
      "source": [
        "#Feature Engineering"
      ],
      "metadata": {
        "id": "TjC65qzlDph1"
      }
    },
    {
      "cell_type": "markdown",
      "source": [
        "This stage will be Focuse on creating a new features"
      ],
      "metadata": {
        "id": "msIfz-RvVMRc"
      }
    },
    {
      "cell_type": "markdown",
      "source": [
        "- Total Goals in match"
      ],
      "metadata": {
        "id": "Ay_ymj96VVFj"
      }
    },
    {
      "cell_type": "code",
      "source": [
        "matches_data['total_goals_in_match'] = matches_data['home_team_score'] + matches_data['away_team_score']"
      ],
      "metadata": {
        "id": "NagUd3Zgjx-O"
      },
      "execution_count": null,
      "outputs": []
    },
    {
      "cell_type": "markdown",
      "source": [
        "- Match For Host (if the Host Country is playing in this match)"
      ],
      "metadata": {
        "id": "u5IoG0c_kU5c"
      }
    },
    {
      "cell_type": "code",
      "source": [
        "matches_data['match_for_host'] = ((matches_data['home_team_name'] == matches_data['country_name']) | (matches_data['away_team_name'] == matches_data['country_name'])).astype(int)\n"
      ],
      "metadata": {
        "id": "ar08h3UwlCSG"
      },
      "execution_count": null,
      "outputs": []
    },
    {
      "cell_type": "markdown",
      "source": [
        "- Used of Stadium Capacity"
      ],
      "metadata": {
        "id": "XF-Qx6F-msek"
      }
    },
    {
      "cell_type": "code",
      "source": [
        "matches_data['ratio_capacity_used'] = matches_data['Attendance'] / matches_data['stadium_capacity']"
      ],
      "metadata": {
        "id": "K-T5oZZ4DhL3"
      },
      "execution_count": null,
      "outputs": []
    },
    {
      "cell_type": "code",
      "source": [
        "matches_data['ratio_capacity_used'].describe()"
      ],
      "metadata": {
        "id": "032jkBPQ8B0i",
        "outputId": "d670c07a-c52f-4e61-fa67-55e2c39ebc7f",
        "colab": {
          "base_uri": "https://localhost:8080/"
        }
      },
      "execution_count": null,
      "outputs": [
        {
          "output_type": "execute_result",
          "data": {
            "text/plain": [
              "count    964.000000\n",
              "mean       0.831134\n",
              "std        0.229490\n",
              "min        0.022222\n",
              "25%        0.722222\n",
              "50%        0.924674\n",
              "75%        0.990742\n",
              "max        2.112903\n",
              "Name: ratio_capacity_used, dtype: float64"
            ]
          },
          "metadata": {},
          "execution_count": 40
        }
      ]
    },
    {
      "cell_type": "markdown",
      "source": [
        "- Attendance_Category & Relative Attendance Category"
      ],
      "metadata": {
        "id": "8hmCxzZknkKP"
      }
    },
    {
      "cell_type": "markdown",
      "source": [
        "For the Attendance Category"
      ],
      "metadata": {
        "id": "oDlwD4SAL2qj"
      }
    },
    {
      "cell_type": "code",
      "source": [
        "matches_data['Attendance'].describe()"
      ],
      "metadata": {
        "id": "Qr7BihRe2aAj",
        "colab": {
          "base_uri": "https://localhost:8080/"
        },
        "outputId": "a3c536e8-7aa3-4fb6-fed2-3944476f30d1"
      },
      "execution_count": null,
      "outputs": [
        {
          "output_type": "execute_result",
          "data": {
            "text/plain": [
              "count       964.000000\n",
              "mean      45693.374481\n",
              "std       22704.131689\n",
              "min        2000.000000\n",
              "25%       31800.000000\n",
              "50%       42725.000000\n",
              "75%       60984.500000\n",
              "max      173850.000000\n",
              "Name: Attendance, dtype: float64"
            ]
          },
          "metadata": {},
          "execution_count": 41
        }
      ]
    },
    {
      "cell_type": "markdown",
      "source": [
        "So I will make 6 Categories {Low , Normal , High , Very high ,Crowded , Over Crowded}"
      ],
      "metadata": {
        "id": "Ou7CFZHU810R"
      }
    },
    {
      "cell_type": "code",
      "source": [
        "def categorize_attendance(attendance):\n",
        "    if attendance < 5000:\n",
        "        return 'Low'\n",
        "    elif attendance < 20000:\n",
        "        return 'Normal'\n",
        "    elif attendance < 50000:\n",
        "        return 'High'\n",
        "    elif attendance < 100000:\n",
        "        return 'Very high'\n",
        "    elif attendance < 150000:\n",
        "        return 'Crowded'\n",
        "    else:\n",
        "        return 'Over Crowded'"
      ],
      "metadata": {
        "id": "QDcQylJH9Ufb"
      },
      "execution_count": null,
      "outputs": []
    },
    {
      "cell_type": "code",
      "source": [
        "matches_data['attendance_category'] = matches_data['Attendance'].apply(categorize_attendance)"
      ],
      "metadata": {
        "id": "nikiXjHurOoh"
      },
      "execution_count": null,
      "outputs": []
    },
    {
      "cell_type": "markdown",
      "source": [
        "For Relative Attendance Category"
      ],
      "metadata": {
        "id": "AC75LlfIrhvh"
      }
    },
    {
      "cell_type": "code",
      "source": [
        "def get_percentage_category(percentage):\n",
        "    percentage = percentage * 100\n",
        "    if percentage < 20:\n",
        "        return 'Low'\n",
        "    elif 20 <= percentage < 40:\n",
        "        return 'Normal'\n",
        "    elif 40 <= percentage < 60:\n",
        "        return 'High'\n",
        "    elif 60 <= percentage < 80:\n",
        "        return 'Very High'\n",
        "    elif 80 <= percentage < 95:\n",
        "        return 'Crowded'\n",
        "    else:\n",
        "        return 'Over Crowded'"
      ],
      "metadata": {
        "id": "4c-xZQ_croYv"
      },
      "execution_count": null,
      "outputs": []
    },
    {
      "cell_type": "code",
      "source": [
        "matches_data['relative_attendance_category'] = matches_data['Attendance'].apply(categorize_attendance)\n",
        "matches_data['relative_attendance_category'].head()"
      ],
      "metadata": {
        "colab": {
          "base_uri": "https://localhost:8080/"
        },
        "id": "ihA-U9IEsRr3",
        "outputId": "e4e976bb-293a-4cb7-99df-f79c5ee1c1a6"
      },
      "execution_count": null,
      "outputs": [
        {
          "output_type": "execute_result",
          "data": {
            "text/plain": [
              "0       Low\n",
              "1    Normal\n",
              "2      High\n",
              "3       Low\n",
              "4      High\n",
              "Name: relative_attendance_category, dtype: object"
            ]
          },
          "metadata": {},
          "execution_count": 45
        }
      ]
    },
    {
      "cell_type": "markdown",
      "source": [
        "- Host Country Code"
      ],
      "metadata": {
        "id": "QRTBYdYI2chP"
      }
    },
    {
      "cell_type": "code",
      "source": [
        "def get_team_code(team_name):\n",
        "    team_code = teams_data.loc[teams_data['team_name'] == team_name, 'team_code'].iloc[0]\n",
        "    return team_code"
      ],
      "metadata": {
        "id": "vJqeSMjb5dVL"
      },
      "execution_count": null,
      "outputs": []
    },
    {
      "cell_type": "code",
      "source": [
        "matches_data['host_country_code'] = matches_data['country_name'].apply(get_team_code)"
      ],
      "metadata": {
        "id": "UU7kSN_qnjGM"
      },
      "execution_count": null,
      "outputs": []
    },
    {
      "cell_type": "markdown",
      "source": [
        "- Tournament Year"
      ],
      "metadata": {
        "id": "oJB39Wxe7qve"
      }
    },
    {
      "cell_type": "code",
      "source": [
        "matches_data['match_date'] = pd.to_datetime(matches_data['match_date'])\n",
        "matches_data['tournament_year'] = matches_data['match_date'].dt.year"
      ],
      "metadata": {
        "id": "06BFOoBSVcnt"
      },
      "execution_count": null,
      "outputs": []
    },
    {
      "cell_type": "markdown",
      "source": [
        "- Player Full Name"
      ],
      "metadata": {
        "id": "BgGqfd7r873-"
      }
    },
    {
      "cell_type": "code",
      "source": [
        "players_data['given_name'].replace('not applicable', '', inplace=True)\n",
        "players_data['family_name'].replace('not applicable', '', inplace=True)"
      ],
      "metadata": {
        "id": "bxHJtGsmzcwo"
      },
      "execution_count": null,
      "outputs": []
    },
    {
      "cell_type": "code",
      "source": [
        "players_data['full_name'] = players_data['given_name'] +' '+ players_data['family_name']"
      ],
      "metadata": {
        "id": "UK6VPBu12Xf8"
      },
      "execution_count": null,
      "outputs": []
    },
    {
      "cell_type": "markdown",
      "source": [
        "- Short Stage Name"
      ],
      "metadata": {
        "id": "mrznB-wX-Xlq"
      }
    },
    {
      "cell_type": "code",
      "source": [
        "matches_data['short_stage_name'] = matches_data['stage_name'].apply(lambda x: 'group_stage' if x in ['group stage','second group stage'] else 'knockout_stage')"
      ],
      "metadata": {
        "id": "mZyfPozc-Vhy"
      },
      "execution_count": null,
      "outputs": []
    },
    {
      "cell_type": "markdown",
      "source": [
        "- Winner Code"
      ],
      "metadata": {
        "id": "m4M7laOd_PU7"
      }
    },
    {
      "cell_type": "code",
      "source": [
        "def get_team_code(team_name):\n",
        "\n",
        "    matching_team = teams_data[teams_data['team_name'] == team_name]\n",
        "\n",
        "    return matching_team.iloc[0]['team_code']"
      ],
      "metadata": {
        "id": "WdR4oYL-v71n"
      },
      "execution_count": null,
      "outputs": []
    },
    {
      "cell_type": "code",
      "source": [
        "tournaments_data['winner_code'] = tournaments_data['winner'].apply(get_team_code)"
      ],
      "metadata": {
        "id": "_oEJcWpc_j9Q"
      },
      "execution_count": null,
      "outputs": []
    },
    {
      "cell_type": "markdown",
      "source": [
        "- Late Goal"
      ],
      "metadata": {
        "id": "SJ1px5xl_lyr"
      }
    },
    {
      "cell_type": "markdown",
      "source": [
        "For me the late goals are the Goals that have been scored in the last 5 mins of the Second_half OR Extra_time Second_half"
      ],
      "metadata": {
        "id": "MkArJtOfG2HG"
      }
    },
    {
      "cell_type": "code",
      "source": [
        "def is_late_goal(goal):\n",
        "    if goal['match_period'] == 'second half' and goal['minute_regulation'] >= 85:\n",
        "        return 1\n",
        "    elif goal['match_period'] == 'extra time, second half' and goal['minute_regulation'] >= 115:\n",
        "        return 1\n",
        "    else:\n",
        "        return 0"
      ],
      "metadata": {
        "id": "BEwqWpoC_nrk"
      },
      "execution_count": null,
      "outputs": []
    },
    {
      "cell_type": "code",
      "source": [
        "goals_data['late_goal'] = goals_data.apply(is_late_goal, axis=1)"
      ],
      "metadata": {
        "id": "fUkpG62VJ2ST"
      },
      "execution_count": null,
      "outputs": []
    },
    {
      "cell_type": "markdown",
      "source": [
        "- Number of Goals for each player"
      ],
      "metadata": {
        "id": "jgHZYiu3GUVT"
      }
    },
    {
      "cell_type": "code",
      "source": [
        "def get_player_goals(player_id):\n",
        "    player_goals_df = goals_data[(goals_data['player_id'] == player_id) & (goals_data['own_goal'] == 0)]\n",
        "    player_goals = player_goals_df['goal_id'].count()\n",
        "\n",
        "    return player_goals"
      ],
      "metadata": {
        "id": "EeZ7lLJUFrD-"
      },
      "execution_count": null,
      "outputs": []
    },
    {
      "cell_type": "code",
      "source": [
        "players_teams['goals_scored'] = players_teams['player_id'].apply(get_player_goals)"
      ],
      "metadata": {
        "id": "eP9RYY3sy3WO"
      },
      "execution_count": null,
      "outputs": []
    },
    {
      "cell_type": "code",
      "source": [
        "sorted = players_teams.sort_values('goals_scored', ascending=False)\n",
        "sorted.head()"
      ],
      "metadata": {
        "colab": {
          "base_uri": "https://localhost:8080/",
          "height": 357
        },
        "id": "z4eM6N83y_b2",
        "outputId": "879bce90-e9cf-4296-c8f1-e8dadd7682c1"
      },
      "execution_count": null,
      "outputs": [
        {
          "output_type": "execute_result",
          "data": {
            "text/plain": [
              "      key_id player_id family_name given_name  birth_date  goal_keeper  \\\n",
              "4135    4136   P-05224       Klose   Miroslav  1978-06-09            0   \n",
              "6691    6692   P-08490     Ronaldo             1976-09-18            0   \n",
              "5411    5412   P-02173      Müller       Gerd  1945-11-03            0   \n",
              "5133    5134   P-03429       Messi     Lionel  1987-06-24            0   \n",
              "2674    2675   P-02537    Fontaine       Just  1933-08-18            0   \n",
              "\n",
              "      defender  midfielder  forward  count_tournaments  \\\n",
              "4135         0           0        1                  4   \n",
              "6691         0           0        1                  4   \n",
              "5411         0           0        1                  2   \n",
              "5133         0           0        1                  5   \n",
              "2674         0           0        1                  1   \n",
              "\n",
              "                  list_tournaments  \\\n",
              "4135        2002, 2006, 2010, 2014   \n",
              "6691        1994, 1998, 2002, 2006   \n",
              "5411                    1970, 1974   \n",
              "5133  2006, 2010, 2014, 2018, 2022   \n",
              "2674                          1958   \n",
              "\n",
              "                                  player_wikipedia_link  \\\n",
              "4135       https://en.wikipedia.org/wiki/Miroslav_Klose   \n",
              "6691  https://en.wikipedia.org/wiki/Ronaldo_(Brazili...   \n",
              "5411     https://en.wikipedia.org/wiki/Gerd_M%C3%BCller   \n",
              "5133         https://en.wikipedia.org/wiki/Lionel_Messi   \n",
              "2674        https://en.wikipedia.org/wiki/Just_Fontaine   \n",
              "\n",
              "     names_of_teams_played_for codes_of_teams_played_for  \\\n",
              "4135                 {Germany}                     {DEU}   \n",
              "6691                  {Brazil}                     {BRA}   \n",
              "5411            {West Germany}                     {DEU}   \n",
              "5133               {Argentina}                     {ARG}   \n",
              "2674                  {France}                     {FRA}   \n",
              "\n",
              "      num_of_teams_played_for       full_name  goals_scored  \n",
              "4135                        1  Miroslav Klose            16  \n",
              "6691                        1         Ronaldo            15  \n",
              "5411                        1     Gerd Müller            14  \n",
              "5133                        1    Lionel Messi            13  \n",
              "2674                        1   Just Fontaine            13  "
            ],
            "text/html": [
              "\n",
              "  <div id=\"df-26ce3da9-fd98-4cd6-9613-18c648e46395\">\n",
              "    <div class=\"colab-df-container\">\n",
              "      <div>\n",
              "<style scoped>\n",
              "    .dataframe tbody tr th:only-of-type {\n",
              "        vertical-align: middle;\n",
              "    }\n",
              "\n",
              "    .dataframe tbody tr th {\n",
              "        vertical-align: top;\n",
              "    }\n",
              "\n",
              "    .dataframe thead th {\n",
              "        text-align: right;\n",
              "    }\n",
              "</style>\n",
              "<table border=\"1\" class=\"dataframe\">\n",
              "  <thead>\n",
              "    <tr style=\"text-align: right;\">\n",
              "      <th></th>\n",
              "      <th>key_id</th>\n",
              "      <th>player_id</th>\n",
              "      <th>family_name</th>\n",
              "      <th>given_name</th>\n",
              "      <th>birth_date</th>\n",
              "      <th>goal_keeper</th>\n",
              "      <th>defender</th>\n",
              "      <th>midfielder</th>\n",
              "      <th>forward</th>\n",
              "      <th>count_tournaments</th>\n",
              "      <th>list_tournaments</th>\n",
              "      <th>player_wikipedia_link</th>\n",
              "      <th>names_of_teams_played_for</th>\n",
              "      <th>codes_of_teams_played_for</th>\n",
              "      <th>num_of_teams_played_for</th>\n",
              "      <th>full_name</th>\n",
              "      <th>goals_scored</th>\n",
              "    </tr>\n",
              "  </thead>\n",
              "  <tbody>\n",
              "    <tr>\n",
              "      <th>4135</th>\n",
              "      <td>4136</td>\n",
              "      <td>P-05224</td>\n",
              "      <td>Klose</td>\n",
              "      <td>Miroslav</td>\n",
              "      <td>1978-06-09</td>\n",
              "      <td>0</td>\n",
              "      <td>0</td>\n",
              "      <td>0</td>\n",
              "      <td>1</td>\n",
              "      <td>4</td>\n",
              "      <td>2002, 2006, 2010, 2014</td>\n",
              "      <td>https://en.wikipedia.org/wiki/Miroslav_Klose</td>\n",
              "      <td>{Germany}</td>\n",
              "      <td>{DEU}</td>\n",
              "      <td>1</td>\n",
              "      <td>Miroslav Klose</td>\n",
              "      <td>16</td>\n",
              "    </tr>\n",
              "    <tr>\n",
              "      <th>6691</th>\n",
              "      <td>6692</td>\n",
              "      <td>P-08490</td>\n",
              "      <td>Ronaldo</td>\n",
              "      <td></td>\n",
              "      <td>1976-09-18</td>\n",
              "      <td>0</td>\n",
              "      <td>0</td>\n",
              "      <td>0</td>\n",
              "      <td>1</td>\n",
              "      <td>4</td>\n",
              "      <td>1994, 1998, 2002, 2006</td>\n",
              "      <td>https://en.wikipedia.org/wiki/Ronaldo_(Brazili...</td>\n",
              "      <td>{Brazil}</td>\n",
              "      <td>{BRA}</td>\n",
              "      <td>1</td>\n",
              "      <td>Ronaldo</td>\n",
              "      <td>15</td>\n",
              "    </tr>\n",
              "    <tr>\n",
              "      <th>5411</th>\n",
              "      <td>5412</td>\n",
              "      <td>P-02173</td>\n",
              "      <td>Müller</td>\n",
              "      <td>Gerd</td>\n",
              "      <td>1945-11-03</td>\n",
              "      <td>0</td>\n",
              "      <td>0</td>\n",
              "      <td>0</td>\n",
              "      <td>1</td>\n",
              "      <td>2</td>\n",
              "      <td>1970, 1974</td>\n",
              "      <td>https://en.wikipedia.org/wiki/Gerd_M%C3%BCller</td>\n",
              "      <td>{West Germany}</td>\n",
              "      <td>{DEU}</td>\n",
              "      <td>1</td>\n",
              "      <td>Gerd Müller</td>\n",
              "      <td>14</td>\n",
              "    </tr>\n",
              "    <tr>\n",
              "      <th>5133</th>\n",
              "      <td>5134</td>\n",
              "      <td>P-03429</td>\n",
              "      <td>Messi</td>\n",
              "      <td>Lionel</td>\n",
              "      <td>1987-06-24</td>\n",
              "      <td>0</td>\n",
              "      <td>0</td>\n",
              "      <td>0</td>\n",
              "      <td>1</td>\n",
              "      <td>5</td>\n",
              "      <td>2006, 2010, 2014, 2018, 2022</td>\n",
              "      <td>https://en.wikipedia.org/wiki/Lionel_Messi</td>\n",
              "      <td>{Argentina}</td>\n",
              "      <td>{ARG}</td>\n",
              "      <td>1</td>\n",
              "      <td>Lionel Messi</td>\n",
              "      <td>13</td>\n",
              "    </tr>\n",
              "    <tr>\n",
              "      <th>2674</th>\n",
              "      <td>2675</td>\n",
              "      <td>P-02537</td>\n",
              "      <td>Fontaine</td>\n",
              "      <td>Just</td>\n",
              "      <td>1933-08-18</td>\n",
              "      <td>0</td>\n",
              "      <td>0</td>\n",
              "      <td>0</td>\n",
              "      <td>1</td>\n",
              "      <td>1</td>\n",
              "      <td>1958</td>\n",
              "      <td>https://en.wikipedia.org/wiki/Just_Fontaine</td>\n",
              "      <td>{France}</td>\n",
              "      <td>{FRA}</td>\n",
              "      <td>1</td>\n",
              "      <td>Just Fontaine</td>\n",
              "      <td>13</td>\n",
              "    </tr>\n",
              "  </tbody>\n",
              "</table>\n",
              "</div>\n",
              "      <button class=\"colab-df-convert\" onclick=\"convertToInteractive('df-26ce3da9-fd98-4cd6-9613-18c648e46395')\"\n",
              "              title=\"Convert this dataframe to an interactive table.\"\n",
              "              style=\"display:none;\">\n",
              "        \n",
              "  <svg xmlns=\"http://www.w3.org/2000/svg\" height=\"24px\"viewBox=\"0 0 24 24\"\n",
              "       width=\"24px\">\n",
              "    <path d=\"M0 0h24v24H0V0z\" fill=\"none\"/>\n",
              "    <path d=\"M18.56 5.44l.94 2.06.94-2.06 2.06-.94-2.06-.94-.94-2.06-.94 2.06-2.06.94zm-11 1L8.5 8.5l.94-2.06 2.06-.94-2.06-.94L8.5 2.5l-.94 2.06-2.06.94zm10 10l.94 2.06.94-2.06 2.06-.94-2.06-.94-.94-2.06-.94 2.06-2.06.94z\"/><path d=\"M17.41 7.96l-1.37-1.37c-.4-.4-.92-.59-1.43-.59-.52 0-1.04.2-1.43.59L10.3 9.45l-7.72 7.72c-.78.78-.78 2.05 0 2.83L4 21.41c.39.39.9.59 1.41.59.51 0 1.02-.2 1.41-.59l7.78-7.78 2.81-2.81c.8-.78.8-2.07 0-2.86zM5.41 20L4 18.59l7.72-7.72 1.47 1.35L5.41 20z\"/>\n",
              "  </svg>\n",
              "      </button>\n",
              "      \n",
              "  <style>\n",
              "    .colab-df-container {\n",
              "      display:flex;\n",
              "      flex-wrap:wrap;\n",
              "      gap: 12px;\n",
              "    }\n",
              "\n",
              "    .colab-df-convert {\n",
              "      background-color: #E8F0FE;\n",
              "      border: none;\n",
              "      border-radius: 50%;\n",
              "      cursor: pointer;\n",
              "      display: none;\n",
              "      fill: #1967D2;\n",
              "      height: 32px;\n",
              "      padding: 0 0 0 0;\n",
              "      width: 32px;\n",
              "    }\n",
              "\n",
              "    .colab-df-convert:hover {\n",
              "      background-color: #E2EBFA;\n",
              "      box-shadow: 0px 1px 2px rgba(60, 64, 67, 0.3), 0px 1px 3px 1px rgba(60, 64, 67, 0.15);\n",
              "      fill: #174EA6;\n",
              "    }\n",
              "\n",
              "    [theme=dark] .colab-df-convert {\n",
              "      background-color: #3B4455;\n",
              "      fill: #D2E3FC;\n",
              "    }\n",
              "\n",
              "    [theme=dark] .colab-df-convert:hover {\n",
              "      background-color: #434B5C;\n",
              "      box-shadow: 0px 1px 3px 1px rgba(0, 0, 0, 0.15);\n",
              "      filter: drop-shadow(0px 1px 2px rgba(0, 0, 0, 0.3));\n",
              "      fill: #FFFFFF;\n",
              "    }\n",
              "  </style>\n",
              "\n",
              "      <script>\n",
              "        const buttonEl =\n",
              "          document.querySelector('#df-26ce3da9-fd98-4cd6-9613-18c648e46395 button.colab-df-convert');\n",
              "        buttonEl.style.display =\n",
              "          google.colab.kernel.accessAllowed ? 'block' : 'none';\n",
              "\n",
              "        async function convertToInteractive(key) {\n",
              "          const element = document.querySelector('#df-26ce3da9-fd98-4cd6-9613-18c648e46395');\n",
              "          const dataTable =\n",
              "            await google.colab.kernel.invokeFunction('convertToInteractive',\n",
              "                                                     [key], {});\n",
              "          if (!dataTable) return;\n",
              "\n",
              "          const docLinkHtml = 'Like what you see? Visit the ' +\n",
              "            '<a target=\"_blank\" href=https://colab.research.google.com/notebooks/data_table.ipynb>data table notebook</a>'\n",
              "            + ' to learn more about interactive tables.';\n",
              "          element.innerHTML = '';\n",
              "          dataTable['output_type'] = 'display_data';\n",
              "          await google.colab.output.renderOutput(dataTable, element);\n",
              "          const docLink = document.createElement('div');\n",
              "          docLink.innerHTML = docLinkHtml;\n",
              "          element.appendChild(docLink);\n",
              "        }\n",
              "      </script>\n",
              "    </div>\n",
              "  </div>\n",
              "  "
            ]
          },
          "metadata": {},
          "execution_count": 58
        }
      ]
    },
    {
      "cell_type": "markdown",
      "source": [
        "#Mining & Analysis"
      ],
      "metadata": {
        "id": "fyufPPPeQnXt"
      }
    },
    {
      "cell_type": "code",
      "source": [
        "import plotly.express as px"
      ],
      "metadata": {
        "id": "TCJu92UScrpn"
      },
      "execution_count": null,
      "outputs": []
    },
    {
      "cell_type": "markdown",
      "source": [
        "## A- Attendance"
      ],
      "metadata": {
        "id": "patOV515Q5kP"
      }
    },
    {
      "cell_type": "markdown",
      "source": [
        "###MEAN , Median  Attendance of World Cup Matches"
      ],
      "metadata": {
        "id": "90ZC3KTA13kY"
      }
    },
    {
      "cell_type": "code",
      "source": [
        "mean_attendance = matches_data.groupby(\"tournament_name\")[\"Attendance\"].mean().reset_index()\n",
        "median_attendance = matches_data.groupby(\"tournament_name\")[\"Attendance\"].median().reset_index()"
      ],
      "metadata": {
        "id": "Lnh6H4Na_Lp8"
      },
      "execution_count": null,
      "outputs": []
    },
    {
      "cell_type": "code",
      "source": [
        "fig = px.line(title=\"Mean & Median of the World Cup matches Attendance Over the Years\")\n",
        "fig.add_scatter(x=mean_attendance[\"tournament_name\"], y=mean_attendance[\"Attendance\"], mode='lines', name='Mean Attendance')\n",
        "fig.add_scatter(x=median_attendance[\"tournament_name\"], y=median_attendance[\"Attendance\"], mode='lines', name='Median Attendance')\n",
        "fig.update_xaxes(tickangle=45)\n",
        "fig.show()"
      ],
      "metadata": {
        "colab": {
          "base_uri": "https://localhost:8080/",
          "height": 542
        },
        "id": "26FEhVpSDJAs",
        "outputId": "b9140577-dc52-4e08-d6d2-8191c1f382a5"
      },
      "execution_count": null,
      "outputs": [
        {
          "output_type": "display_data",
          "data": {
            "text/html": [
              "<html>\n",
              "<head><meta charset=\"utf-8\" /></head>\n",
              "<body>\n",
              "    <div>            <script src=\"https://cdnjs.cloudflare.com/ajax/libs/mathjax/2.7.5/MathJax.js?config=TeX-AMS-MML_SVG\"></script><script type=\"text/javascript\">if (window.MathJax && window.MathJax.Hub && window.MathJax.Hub.Config) {window.MathJax.Hub.Config({SVG: {font: \"STIX-Web\"}});}</script>                <script type=\"text/javascript\">window.PlotlyConfig = {MathJaxConfig: 'local'};</script>\n",
              "        <script src=\"https://cdn.plot.ly/plotly-2.18.2.min.js\"></script>                <div id=\"801cd4d9-1a04-4d00-8f2b-3e4c3f04a797\" class=\"plotly-graph-div\" style=\"height:525px; width:100%;\"></div>            <script type=\"text/javascript\">                                    window.PLOTLYENV=window.PLOTLYENV || {};                                    if (document.getElementById(\"801cd4d9-1a04-4d00-8f2b-3e4c3f04a797\")) {                    Plotly.newPlot(                        \"801cd4d9-1a04-4d00-8f2b-3e4c3f04a797\",                        [{\"hovertemplate\":\"<extra></extra>\",\"legendgroup\":\"\",\"line\":{\"color\":\"#636efa\",\"dash\":\"solid\"},\"marker\":{\"symbol\":\"circle\"},\"mode\":\"lines\",\"name\":\"\",\"orientation\":\"v\",\"showlegend\":false,\"xaxis\":\"x\",\"yaxis\":\"y\",\"type\":\"scatter\"},{\"mode\":\"lines\",\"name\":\"Mean Attendance\",\"x\":[\"1930 FIFA World Cup\",\"1934 FIFA World Cup\",\"1938 FIFA World Cup\",\"1950 FIFA World Cup\",\"1954 FIFA World Cup\",\"1958 FIFA World Cup\",\"1962 FIFA World Cup\",\"1966 FIFA World Cup\",\"1970 FIFA World Cup\",\"1974 FIFA World Cup\",\"1978 FIFA World Cup\",\"1982 FIFA World Cup\",\"1986 FIFA World Cup\",\"1990 FIFA World Cup\",\"1994 FIFA World Cup\",\"1998 FIFA World Cup\",\"2002 FIFA World Cup\",\"2006 FIFA World Cup\",\"2010 FIFA World Cup\",\"2014 FIFA World Cup\",\"2018 FIFA World Cup\",\"2022 FIFA World Cup\"],\"y\":[32808.27777777778,21352.941176470587,20872.222222222223,47511.181818181816,29561.80769230769,23423.14285714286,27911.625,48847.96875,50124.21875,49098.76315789474,40678.71052631579,40571.596153846156,46039.057692307695,48388.75,68991.11538461539,45366.828125,42270.890625,52384.453125,49669.625,53591.765625,47371.375,53191.4375],\"type\":\"scatter\"},{\"mode\":\"lines\",\"name\":\"Median Attendance\",\"x\":[\"1930 FIFA World Cup\",\"1934 FIFA World Cup\",\"1938 FIFA World Cup\",\"1950 FIFA World Cup\",\"1954 FIFA World Cup\",\"1958 FIFA World Cup\",\"1962 FIFA World Cup\",\"1966 FIFA World Cup\",\"1970 FIFA World Cup\",\"1974 FIFA World Cup\",\"1978 FIFA World Cup\",\"1982 FIFA World Cup\",\"1986 FIFA World Cup\",\"1990 FIFA World Cup\",\"1994 FIFA World Cup\",\"1998 FIFA World Cup\",\"2002 FIFA World Cup\",\"2006 FIFA World Cup\",\"2010 FIFA World Cup\",\"2014 FIFA World Cup\",\"2018 FIFA World Cup\",\"2022 FIFA World Cup\"],\"y\":[23734.0,16000.0,18570.5,22800.5,27000.0,20055.0,11782.5,41217.5,49926.0,53700.0,37203.0,38350.0,32138.5,38966.5,63749.0,39100.0,39723.5,50000.0,41234.0,54013.5,42991.0,44093.0],\"type\":\"scatter\"}],                        {\"template\":{\"data\":{\"histogram2dcontour\":[{\"type\":\"histogram2dcontour\",\"colorbar\":{\"outlinewidth\":0,\"ticks\":\"\"},\"colorscale\":[[0.0,\"#0d0887\"],[0.1111111111111111,\"#46039f\"],[0.2222222222222222,\"#7201a8\"],[0.3333333333333333,\"#9c179e\"],[0.4444444444444444,\"#bd3786\"],[0.5555555555555556,\"#d8576b\"],[0.6666666666666666,\"#ed7953\"],[0.7777777777777778,\"#fb9f3a\"],[0.8888888888888888,\"#fdca26\"],[1.0,\"#f0f921\"]]}],\"choropleth\":[{\"type\":\"choropleth\",\"colorbar\":{\"outlinewidth\":0,\"ticks\":\"\"}}],\"histogram2d\":[{\"type\":\"histogram2d\",\"colorbar\":{\"outlinewidth\":0,\"ticks\":\"\"},\"colorscale\":[[0.0,\"#0d0887\"],[0.1111111111111111,\"#46039f\"],[0.2222222222222222,\"#7201a8\"],[0.3333333333333333,\"#9c179e\"],[0.4444444444444444,\"#bd3786\"],[0.5555555555555556,\"#d8576b\"],[0.6666666666666666,\"#ed7953\"],[0.7777777777777778,\"#fb9f3a\"],[0.8888888888888888,\"#fdca26\"],[1.0,\"#f0f921\"]]}],\"heatmap\":[{\"type\":\"heatmap\",\"colorbar\":{\"outlinewidth\":0,\"ticks\":\"\"},\"colorscale\":[[0.0,\"#0d0887\"],[0.1111111111111111,\"#46039f\"],[0.2222222222222222,\"#7201a8\"],[0.3333333333333333,\"#9c179e\"],[0.4444444444444444,\"#bd3786\"],[0.5555555555555556,\"#d8576b\"],[0.6666666666666666,\"#ed7953\"],[0.7777777777777778,\"#fb9f3a\"],[0.8888888888888888,\"#fdca26\"],[1.0,\"#f0f921\"]]}],\"heatmapgl\":[{\"type\":\"heatmapgl\",\"colorbar\":{\"outlinewidth\":0,\"ticks\":\"\"},\"colorscale\":[[0.0,\"#0d0887\"],[0.1111111111111111,\"#46039f\"],[0.2222222222222222,\"#7201a8\"],[0.3333333333333333,\"#9c179e\"],[0.4444444444444444,\"#bd3786\"],[0.5555555555555556,\"#d8576b\"],[0.6666666666666666,\"#ed7953\"],[0.7777777777777778,\"#fb9f3a\"],[0.8888888888888888,\"#fdca26\"],[1.0,\"#f0f921\"]]}],\"contourcarpet\":[{\"type\":\"contourcarpet\",\"colorbar\":{\"outlinewidth\":0,\"ticks\":\"\"}}],\"contour\":[{\"type\":\"contour\",\"colorbar\":{\"outlinewidth\":0,\"ticks\":\"\"},\"colorscale\":[[0.0,\"#0d0887\"],[0.1111111111111111,\"#46039f\"],[0.2222222222222222,\"#7201a8\"],[0.3333333333333333,\"#9c179e\"],[0.4444444444444444,\"#bd3786\"],[0.5555555555555556,\"#d8576b\"],[0.6666666666666666,\"#ed7953\"],[0.7777777777777778,\"#fb9f3a\"],[0.8888888888888888,\"#fdca26\"],[1.0,\"#f0f921\"]]}],\"surface\":[{\"type\":\"surface\",\"colorbar\":{\"outlinewidth\":0,\"ticks\":\"\"},\"colorscale\":[[0.0,\"#0d0887\"],[0.1111111111111111,\"#46039f\"],[0.2222222222222222,\"#7201a8\"],[0.3333333333333333,\"#9c179e\"],[0.4444444444444444,\"#bd3786\"],[0.5555555555555556,\"#d8576b\"],[0.6666666666666666,\"#ed7953\"],[0.7777777777777778,\"#fb9f3a\"],[0.8888888888888888,\"#fdca26\"],[1.0,\"#f0f921\"]]}],\"mesh3d\":[{\"type\":\"mesh3d\",\"colorbar\":{\"outlinewidth\":0,\"ticks\":\"\"}}],\"scatter\":[{\"fillpattern\":{\"fillmode\":\"overlay\",\"size\":10,\"solidity\":0.2},\"type\":\"scatter\"}],\"parcoords\":[{\"type\":\"parcoords\",\"line\":{\"colorbar\":{\"outlinewidth\":0,\"ticks\":\"\"}}}],\"scatterpolargl\":[{\"type\":\"scatterpolargl\",\"marker\":{\"colorbar\":{\"outlinewidth\":0,\"ticks\":\"\"}}}],\"bar\":[{\"error_x\":{\"color\":\"#2a3f5f\"},\"error_y\":{\"color\":\"#2a3f5f\"},\"marker\":{\"line\":{\"color\":\"#E5ECF6\",\"width\":0.5},\"pattern\":{\"fillmode\":\"overlay\",\"size\":10,\"solidity\":0.2}},\"type\":\"bar\"}],\"scattergeo\":[{\"type\":\"scattergeo\",\"marker\":{\"colorbar\":{\"outlinewidth\":0,\"ticks\":\"\"}}}],\"scatterpolar\":[{\"type\":\"scatterpolar\",\"marker\":{\"colorbar\":{\"outlinewidth\":0,\"ticks\":\"\"}}}],\"histogram\":[{\"marker\":{\"pattern\":{\"fillmode\":\"overlay\",\"size\":10,\"solidity\":0.2}},\"type\":\"histogram\"}],\"scattergl\":[{\"type\":\"scattergl\",\"marker\":{\"colorbar\":{\"outlinewidth\":0,\"ticks\":\"\"}}}],\"scatter3d\":[{\"type\":\"scatter3d\",\"line\":{\"colorbar\":{\"outlinewidth\":0,\"ticks\":\"\"}},\"marker\":{\"colorbar\":{\"outlinewidth\":0,\"ticks\":\"\"}}}],\"scattermapbox\":[{\"type\":\"scattermapbox\",\"marker\":{\"colorbar\":{\"outlinewidth\":0,\"ticks\":\"\"}}}],\"scatterternary\":[{\"type\":\"scatterternary\",\"marker\":{\"colorbar\":{\"outlinewidth\":0,\"ticks\":\"\"}}}],\"scattercarpet\":[{\"type\":\"scattercarpet\",\"marker\":{\"colorbar\":{\"outlinewidth\":0,\"ticks\":\"\"}}}],\"carpet\":[{\"aaxis\":{\"endlinecolor\":\"#2a3f5f\",\"gridcolor\":\"white\",\"linecolor\":\"white\",\"minorgridcolor\":\"white\",\"startlinecolor\":\"#2a3f5f\"},\"baxis\":{\"endlinecolor\":\"#2a3f5f\",\"gridcolor\":\"white\",\"linecolor\":\"white\",\"minorgridcolor\":\"white\",\"startlinecolor\":\"#2a3f5f\"},\"type\":\"carpet\"}],\"table\":[{\"cells\":{\"fill\":{\"color\":\"#EBF0F8\"},\"line\":{\"color\":\"white\"}},\"header\":{\"fill\":{\"color\":\"#C8D4E3\"},\"line\":{\"color\":\"white\"}},\"type\":\"table\"}],\"barpolar\":[{\"marker\":{\"line\":{\"color\":\"#E5ECF6\",\"width\":0.5},\"pattern\":{\"fillmode\":\"overlay\",\"size\":10,\"solidity\":0.2}},\"type\":\"barpolar\"}],\"pie\":[{\"automargin\":true,\"type\":\"pie\"}]},\"layout\":{\"autotypenumbers\":\"strict\",\"colorway\":[\"#636efa\",\"#EF553B\",\"#00cc96\",\"#ab63fa\",\"#FFA15A\",\"#19d3f3\",\"#FF6692\",\"#B6E880\",\"#FF97FF\",\"#FECB52\"],\"font\":{\"color\":\"#2a3f5f\"},\"hovermode\":\"closest\",\"hoverlabel\":{\"align\":\"left\"},\"paper_bgcolor\":\"white\",\"plot_bgcolor\":\"#E5ECF6\",\"polar\":{\"bgcolor\":\"#E5ECF6\",\"angularaxis\":{\"gridcolor\":\"white\",\"linecolor\":\"white\",\"ticks\":\"\"},\"radialaxis\":{\"gridcolor\":\"white\",\"linecolor\":\"white\",\"ticks\":\"\"}},\"ternary\":{\"bgcolor\":\"#E5ECF6\",\"aaxis\":{\"gridcolor\":\"white\",\"linecolor\":\"white\",\"ticks\":\"\"},\"baxis\":{\"gridcolor\":\"white\",\"linecolor\":\"white\",\"ticks\":\"\"},\"caxis\":{\"gridcolor\":\"white\",\"linecolor\":\"white\",\"ticks\":\"\"}},\"coloraxis\":{\"colorbar\":{\"outlinewidth\":0,\"ticks\":\"\"}},\"colorscale\":{\"sequential\":[[0.0,\"#0d0887\"],[0.1111111111111111,\"#46039f\"],[0.2222222222222222,\"#7201a8\"],[0.3333333333333333,\"#9c179e\"],[0.4444444444444444,\"#bd3786\"],[0.5555555555555556,\"#d8576b\"],[0.6666666666666666,\"#ed7953\"],[0.7777777777777778,\"#fb9f3a\"],[0.8888888888888888,\"#fdca26\"],[1.0,\"#f0f921\"]],\"sequentialminus\":[[0.0,\"#0d0887\"],[0.1111111111111111,\"#46039f\"],[0.2222222222222222,\"#7201a8\"],[0.3333333333333333,\"#9c179e\"],[0.4444444444444444,\"#bd3786\"],[0.5555555555555556,\"#d8576b\"],[0.6666666666666666,\"#ed7953\"],[0.7777777777777778,\"#fb9f3a\"],[0.8888888888888888,\"#fdca26\"],[1.0,\"#f0f921\"]],\"diverging\":[[0,\"#8e0152\"],[0.1,\"#c51b7d\"],[0.2,\"#de77ae\"],[0.3,\"#f1b6da\"],[0.4,\"#fde0ef\"],[0.5,\"#f7f7f7\"],[0.6,\"#e6f5d0\"],[0.7,\"#b8e186\"],[0.8,\"#7fbc41\"],[0.9,\"#4d9221\"],[1,\"#276419\"]]},\"xaxis\":{\"gridcolor\":\"white\",\"linecolor\":\"white\",\"ticks\":\"\",\"title\":{\"standoff\":15},\"zerolinecolor\":\"white\",\"automargin\":true,\"zerolinewidth\":2},\"yaxis\":{\"gridcolor\":\"white\",\"linecolor\":\"white\",\"ticks\":\"\",\"title\":{\"standoff\":15},\"zerolinecolor\":\"white\",\"automargin\":true,\"zerolinewidth\":2},\"scene\":{\"xaxis\":{\"backgroundcolor\":\"#E5ECF6\",\"gridcolor\":\"white\",\"linecolor\":\"white\",\"showbackground\":true,\"ticks\":\"\",\"zerolinecolor\":\"white\",\"gridwidth\":2},\"yaxis\":{\"backgroundcolor\":\"#E5ECF6\",\"gridcolor\":\"white\",\"linecolor\":\"white\",\"showbackground\":true,\"ticks\":\"\",\"zerolinecolor\":\"white\",\"gridwidth\":2},\"zaxis\":{\"backgroundcolor\":\"#E5ECF6\",\"gridcolor\":\"white\",\"linecolor\":\"white\",\"showbackground\":true,\"ticks\":\"\",\"zerolinecolor\":\"white\",\"gridwidth\":2}},\"shapedefaults\":{\"line\":{\"color\":\"#2a3f5f\"}},\"annotationdefaults\":{\"arrowcolor\":\"#2a3f5f\",\"arrowhead\":0,\"arrowwidth\":1},\"geo\":{\"bgcolor\":\"white\",\"landcolor\":\"#E5ECF6\",\"subunitcolor\":\"white\",\"showland\":true,\"showlakes\":true,\"lakecolor\":\"white\"},\"title\":{\"x\":0.05},\"mapbox\":{\"style\":\"light\"}}},\"xaxis\":{\"anchor\":\"y\",\"domain\":[0.0,1.0],\"tickangle\":45},\"yaxis\":{\"anchor\":\"x\",\"domain\":[0.0,1.0]},\"legend\":{\"tracegroupgap\":0},\"title\":{\"text\":\"Mean & Median of the World Cup matches Attendance Over the Years\"}},                        {\"responsive\": true}                    ).then(function(){\n",
              "                            \n",
              "var gd = document.getElementById('801cd4d9-1a04-4d00-8f2b-3e4c3f04a797');\n",
              "var x = new MutationObserver(function (mutations, observer) {{\n",
              "        var display = window.getComputedStyle(gd).display;\n",
              "        if (!display || display === 'none') {{\n",
              "            console.log([gd, 'removed!']);\n",
              "            Plotly.purge(gd);\n",
              "            observer.disconnect();\n",
              "        }}\n",
              "}});\n",
              "\n",
              "// Listen for the removal of the full notebook cells\n",
              "var notebookContainer = gd.closest('#notebook-container');\n",
              "if (notebookContainer) {{\n",
              "    x.observe(notebookContainer, {childList: true});\n",
              "}}\n",
              "\n",
              "// Listen for the clearing of the current output cell\n",
              "var outputEl = gd.closest('.output');\n",
              "if (outputEl) {{\n",
              "    x.observe(outputEl, {childList: true});\n",
              "}}\n",
              "\n",
              "                        })                };                            </script>        </div>\n",
              "</body>\n",
              "</html>"
            ]
          },
          "metadata": {}
        }
      ]
    },
    {
      "cell_type": "markdown",
      "source": [
        "We Notice that the USA World Cup in 1994 is the best world cup for number of Audiance"
      ],
      "metadata": {
        "id": "N8HtwoQwMESa"
      }
    },
    {
      "cell_type": "markdown",
      "source": [
        "###Attendance Histogram"
      ],
      "metadata": {
        "id": "sbgFvGT31xgZ"
      }
    },
    {
      "cell_type": "code",
      "source": [
        "fig = px.histogram(matches_data, x=\"Attendance\", nbins=100, title=\"Attendance Histogram\")\n",
        "fig.show()"
      ],
      "metadata": {
        "colab": {
          "base_uri": "https://localhost:8080/"
        },
        "id": "TYlFQHakc4KZ",
        "outputId": "a065c9d8-6aa2-4528-dcdb-9693df281cbe"
      },
      "execution_count": null,
      "outputs": [
        {
          "output_type": "display_data",
          "data": {
            "text/html": [
              "<html>\n",
              "<head><meta charset=\"utf-8\" /></head>\n",
              "<body>\n",
              "    <div>            <script src=\"https://cdnjs.cloudflare.com/ajax/libs/mathjax/2.7.5/MathJax.js?config=TeX-AMS-MML_SVG\"></script><script type=\"text/javascript\">if (window.MathJax && window.MathJax.Hub && window.MathJax.Hub.Config) {window.MathJax.Hub.Config({SVG: {font: \"STIX-Web\"}});}</script>                <script type=\"text/javascript\">window.PlotlyConfig = {MathJaxConfig: 'local'};</script>\n",
              "        <script src=\"https://cdn.plot.ly/plotly-2.18.2.min.js\"></script>                <div id=\"75dbf14e-b4d8-4e03-acfe-9a97de139425\" class=\"plotly-graph-div\" style=\"height:525px; width:100%;\"></div>            <script type=\"text/javascript\">                                    window.PLOTLYENV=window.PLOTLYENV || {};                                    if (document.getElementById(\"75dbf14e-b4d8-4e03-acfe-9a97de139425\")) {                    Plotly.newPlot(                        \"75dbf14e-b4d8-4e03-acfe-9a97de139425\",                        [{\"alignmentgroup\":\"True\",\"bingroup\":\"x\",\"hovertemplate\":\"Attendance=%{x}<br>count=%{y}<extra></extra>\",\"legendgroup\":\"\",\"marker\":{\"color\":\"#636efa\",\"pattern\":{\"shape\":\"\"}},\"name\":\"\",\"nbinsx\":100,\"offsetgroup\":\"\",\"orientation\":\"v\",\"showlegend\":false,\"x\":[4444,18346,24059,2549,23409,9249,18306,18306,57735,2000,42100,25466,12000,70022,41459,72886,79867,68346,16000,9000,8000,9000,25000,21000,14000,33000,23000,12000,3000,35000,43000,15000,35000,7000,55000,27152,7000,30454,9000,19000,13452,11000,8000,20025,22021,15000,58455,7000,18141,20000,33000,12000,45000,81649,7336,29703,9511,36502,42032,11078,19790,10151,7903,142429,8501,74462,25811,5284,3580,138886,44802,152772,7987,11227,173850,13470,16000,25000,20500,43000,13000,28000,14000,34000,24637,26000,19000,56000,4000,24000,43500,17000,30000,35000,28000,40000,17000,45000,58000,32000,62500,34107,31156,10647,16518,9591,15343,17788,49348,14174,25000,11665,12217,15150,40895,21239,38850,30287,16418,21990,13554,13103,13300,50928,15872,6196,2823,23182,25923,11800,31900,20055,27100,49471,32483,49737,7908,65006,10484,7134,9622,65440,12700,7938,8829,66057,14903,9794,8040,64922,11875,7442,9973,67224,18715,7945,7167,59828,10648,5700,17736,17268,11690,63324,76594,5890,66697,68679,87148,36127,47308,23006,69237,42738,29886,27199,45662,32028,51387,13792,46587,25438,27793,92570,61112,32127,58479,17829,98270,42187,24129,16027,90584,40248,26844,40007,38273,94493,87696,96924,107160,20654,50560,13765,92205,13433,52897,12942,95261,29968,56818,13537,103058,9624,66843,12710,89979,18163,50804,17875,108192,9890,49292,12299,54233,26851,26085,23357,51261,102444,104403,107412,62000,81100,17000,27000,23800,55100,53000,32700,53300,28300,62000,31700,13400,53700,70100,25300,17400,56000,36200,60200,53300,28300,25900,70100,67385,59863,56548,44955,39400,68348,58000,67800,62000,54254,53700,41300,77100,78200,67579,42373,17396,71615,40841,32569,33431,37927,26533,9624,35258,71666,41424,34771,28125,7938,23127,22651,30667,71712,35221,42132,21262,35130,25050,67547,31278,37091,35288,66695,40750,37326,38318,67433,39586,37315,69659,71483,95000,33000,68000,11000,23000,36000,42000,44172,49562,22500,25000,25000,25000,32093,47379,19000,15000,19000,42000,41123,48000,22000,30043,15000,25000,37000,45000,20000,32500,43000,16000,28000,25000,41000,39700,49562,37000,65000,43000,75000,20000,45000,44000,90089,37000,65000,44000,75000,50000,70000,28000,90000,96000,35748,65500,60000,16500,19900,110000,22000,23000,24000,30500,18000,32000,36540,45000,13800,48000,20200,114600,28000,19915,20000,30000,26500,31420,14200,65000,20000,103763,16000,22700,28000,23980,51000,36000,20000,114580,32277,45000,26000,70000,19800,98728,38500,65000,41700,114580,45000,45000,114500,21000,114600,73780,42907,30791,73303,33266,62628,74765,30867,35238,32790,33288,35713,55759,38687,32257,73423,38962,71169,58007,31823,35267,33288,33759,32733,52733,37307,72510,27833,34857,73303,62502,30223,35950,29039,34959,33288,50026,47673,61381,74559,31818,73303,35500,34520,38971,73303,73347,55205,59978,62628,51426,73603,63117,56247,73425,75338,91856,61219,52395,93194,81061,50535,54456,63113,44132,61428,93869,74624,54453,60790,83401,71528,62387,76322,54453,63160,83401,93869,63089,63998,52535,72404,74914,77217,52959,60578,63998,53001,60246,53121,60277,90469,61355,84147,54367,71030,53400,63500,72000,83500,74110,91856,91500,94194,80000,29750,35200,36500,27650,38100,55000,38000,39100,77000,33500,36000,38100,54587,43300,49000,31800,38500,36000,35500,33500,80000,48000,36000,35500,31800,55000,41275,45500,43300,35500,33140,39500,80000,57000,36000,39100,31800,33400,41275,45500,30600,35500,38500,31800,39100,42000,80000,55000,45500,31800,77000,29800,33000,31800,30600,80000,49500,60000,43300,60000,80000,44000,80000,62561,33679,30157,32218,34050,25186,52721,28588,32239,33842,31081,27217,55256,48760,30957,37306,35854,43500,52328,38070,36194,24000,35927,47226,36472,36750,45610,42299,66108,60778,39700,31000,48100,33681,47085,65320,44864,45777,30176,31024,38524,43605,65862,39291,46640,45213,26482,50239,25176,40582,39747,38926,36380,40440,45666,38588,47436,37337,42114,44233,65625,61058,63483,69029,64950,52000,48000,62959,49480,37216,41000,45000,46000,52000,43000,48000,52000,72000,43000,66000,65000,50000,41000,72000,52000,52000,43000,48000,45000,46000,41000,66000,43000,65000,50000,52000,43000,72000,46000,45000,38000,52000,66000,48000,50000,41000,52000,65000,46000,72000,43000,45000,66000,43000,52000,41000,46000,45000,65000,43000,72000,50000,52000,48000,65000,66000,52000,69000,84490,64100,31513,55686,38646,30325,38833,62660,83465,30620,62869,23871,37034,54331,32664,62453,42658,82174,31593,35370,38294,45573,64100,62010,34812,38074,26643,38229,84455,63644,34872,54386,39415,33425,38891,61874,36893,35827,37836,83391,34850,53412,63093,27967,34763,62712,41958,28042,30597,34976,40510,84377,61962,54096,36742,62955,40186,84017,64100,55359,62479,60960,36254,84490,62103,39216,48173,40275,57174,58679,39800,40267,68351,43012,74738,51081,39081,39760,56800,60342,37603,42877,74101,39982,68748,62575,39485,40285,51003,39224,57698,59621,40499,73819,42732,40123,39375,62996,69112,41212,57823,39706,40340,59095,48011,43285,40322,73749,67540,41876,39311,61397,57714,73804,58817,41242,67882,43063,63255,51227,74240,60342,68551,51179,58141,63267,68034,74738,78011,27015,62548,43866,41279,44190,40502,31136,41432,78011,43109,42300,43257,41064,40842,44190,64468,78011,42678,42718,40727,32789,43319,64468,40904,33167,44190,43472,44287,43319,32572,42873,36823,41970,33973,41685,44073,78011,43472,64468,41835,33061,44190,43319,42189,41970,33973,37168,42873,44287,78011,40851,41970,41466,64042,44190,43319,42873,39991,44287,64286,78011,64406,78011,67372,45334,41721,43418,88012,42925,39369,40875,59407,42608,40013,40432,39089,41663,42662,88103,40875,41797,44833,68463,41823,44259,42860,88966,41479,43738,44374,68895,39789,43983,43649,88668,44569,66784,42127,44297,41232,43627,44089,84985,43102,43984,67054,44851,43443,44097,85986,41378,44846,45032,40989,65985,42523,43847,44667,83720,43893,88235,44198,68895,88966,68294,44137,88966],\"xaxis\":\"x\",\"yaxis\":\"y\",\"type\":\"histogram\"}],                        {\"template\":{\"data\":{\"histogram2dcontour\":[{\"type\":\"histogram2dcontour\",\"colorbar\":{\"outlinewidth\":0,\"ticks\":\"\"},\"colorscale\":[[0.0,\"#0d0887\"],[0.1111111111111111,\"#46039f\"],[0.2222222222222222,\"#7201a8\"],[0.3333333333333333,\"#9c179e\"],[0.4444444444444444,\"#bd3786\"],[0.5555555555555556,\"#d8576b\"],[0.6666666666666666,\"#ed7953\"],[0.7777777777777778,\"#fb9f3a\"],[0.8888888888888888,\"#fdca26\"],[1.0,\"#f0f921\"]]}],\"choropleth\":[{\"type\":\"choropleth\",\"colorbar\":{\"outlinewidth\":0,\"ticks\":\"\"}}],\"histogram2d\":[{\"type\":\"histogram2d\",\"colorbar\":{\"outlinewidth\":0,\"ticks\":\"\"},\"colorscale\":[[0.0,\"#0d0887\"],[0.1111111111111111,\"#46039f\"],[0.2222222222222222,\"#7201a8\"],[0.3333333333333333,\"#9c179e\"],[0.4444444444444444,\"#bd3786\"],[0.5555555555555556,\"#d8576b\"],[0.6666666666666666,\"#ed7953\"],[0.7777777777777778,\"#fb9f3a\"],[0.8888888888888888,\"#fdca26\"],[1.0,\"#f0f921\"]]}],\"heatmap\":[{\"type\":\"heatmap\",\"colorbar\":{\"outlinewidth\":0,\"ticks\":\"\"},\"colorscale\":[[0.0,\"#0d0887\"],[0.1111111111111111,\"#46039f\"],[0.2222222222222222,\"#7201a8\"],[0.3333333333333333,\"#9c179e\"],[0.4444444444444444,\"#bd3786\"],[0.5555555555555556,\"#d8576b\"],[0.6666666666666666,\"#ed7953\"],[0.7777777777777778,\"#fb9f3a\"],[0.8888888888888888,\"#fdca26\"],[1.0,\"#f0f921\"]]}],\"heatmapgl\":[{\"type\":\"heatmapgl\",\"colorbar\":{\"outlinewidth\":0,\"ticks\":\"\"},\"colorscale\":[[0.0,\"#0d0887\"],[0.1111111111111111,\"#46039f\"],[0.2222222222222222,\"#7201a8\"],[0.3333333333333333,\"#9c179e\"],[0.4444444444444444,\"#bd3786\"],[0.5555555555555556,\"#d8576b\"],[0.6666666666666666,\"#ed7953\"],[0.7777777777777778,\"#fb9f3a\"],[0.8888888888888888,\"#fdca26\"],[1.0,\"#f0f921\"]]}],\"contourcarpet\":[{\"type\":\"contourcarpet\",\"colorbar\":{\"outlinewidth\":0,\"ticks\":\"\"}}],\"contour\":[{\"type\":\"contour\",\"colorbar\":{\"outlinewidth\":0,\"ticks\":\"\"},\"colorscale\":[[0.0,\"#0d0887\"],[0.1111111111111111,\"#46039f\"],[0.2222222222222222,\"#7201a8\"],[0.3333333333333333,\"#9c179e\"],[0.4444444444444444,\"#bd3786\"],[0.5555555555555556,\"#d8576b\"],[0.6666666666666666,\"#ed7953\"],[0.7777777777777778,\"#fb9f3a\"],[0.8888888888888888,\"#fdca26\"],[1.0,\"#f0f921\"]]}],\"surface\":[{\"type\":\"surface\",\"colorbar\":{\"outlinewidth\":0,\"ticks\":\"\"},\"colorscale\":[[0.0,\"#0d0887\"],[0.1111111111111111,\"#46039f\"],[0.2222222222222222,\"#7201a8\"],[0.3333333333333333,\"#9c179e\"],[0.4444444444444444,\"#bd3786\"],[0.5555555555555556,\"#d8576b\"],[0.6666666666666666,\"#ed7953\"],[0.7777777777777778,\"#fb9f3a\"],[0.8888888888888888,\"#fdca26\"],[1.0,\"#f0f921\"]]}],\"mesh3d\":[{\"type\":\"mesh3d\",\"colorbar\":{\"outlinewidth\":0,\"ticks\":\"\"}}],\"scatter\":[{\"fillpattern\":{\"fillmode\":\"overlay\",\"size\":10,\"solidity\":0.2},\"type\":\"scatter\"}],\"parcoords\":[{\"type\":\"parcoords\",\"line\":{\"colorbar\":{\"outlinewidth\":0,\"ticks\":\"\"}}}],\"scatterpolargl\":[{\"type\":\"scatterpolargl\",\"marker\":{\"colorbar\":{\"outlinewidth\":0,\"ticks\":\"\"}}}],\"bar\":[{\"error_x\":{\"color\":\"#2a3f5f\"},\"error_y\":{\"color\":\"#2a3f5f\"},\"marker\":{\"line\":{\"color\":\"#E5ECF6\",\"width\":0.5},\"pattern\":{\"fillmode\":\"overlay\",\"size\":10,\"solidity\":0.2}},\"type\":\"bar\"}],\"scattergeo\":[{\"type\":\"scattergeo\",\"marker\":{\"colorbar\":{\"outlinewidth\":0,\"ticks\":\"\"}}}],\"scatterpolar\":[{\"type\":\"scatterpolar\",\"marker\":{\"colorbar\":{\"outlinewidth\":0,\"ticks\":\"\"}}}],\"histogram\":[{\"marker\":{\"pattern\":{\"fillmode\":\"overlay\",\"size\":10,\"solidity\":0.2}},\"type\":\"histogram\"}],\"scattergl\":[{\"type\":\"scattergl\",\"marker\":{\"colorbar\":{\"outlinewidth\":0,\"ticks\":\"\"}}}],\"scatter3d\":[{\"type\":\"scatter3d\",\"line\":{\"colorbar\":{\"outlinewidth\":0,\"ticks\":\"\"}},\"marker\":{\"colorbar\":{\"outlinewidth\":0,\"ticks\":\"\"}}}],\"scattermapbox\":[{\"type\":\"scattermapbox\",\"marker\":{\"colorbar\":{\"outlinewidth\":0,\"ticks\":\"\"}}}],\"scatterternary\":[{\"type\":\"scatterternary\",\"marker\":{\"colorbar\":{\"outlinewidth\":0,\"ticks\":\"\"}}}],\"scattercarpet\":[{\"type\":\"scattercarpet\",\"marker\":{\"colorbar\":{\"outlinewidth\":0,\"ticks\":\"\"}}}],\"carpet\":[{\"aaxis\":{\"endlinecolor\":\"#2a3f5f\",\"gridcolor\":\"white\",\"linecolor\":\"white\",\"minorgridcolor\":\"white\",\"startlinecolor\":\"#2a3f5f\"},\"baxis\":{\"endlinecolor\":\"#2a3f5f\",\"gridcolor\":\"white\",\"linecolor\":\"white\",\"minorgridcolor\":\"white\",\"startlinecolor\":\"#2a3f5f\"},\"type\":\"carpet\"}],\"table\":[{\"cells\":{\"fill\":{\"color\":\"#EBF0F8\"},\"line\":{\"color\":\"white\"}},\"header\":{\"fill\":{\"color\":\"#C8D4E3\"},\"line\":{\"color\":\"white\"}},\"type\":\"table\"}],\"barpolar\":[{\"marker\":{\"line\":{\"color\":\"#E5ECF6\",\"width\":0.5},\"pattern\":{\"fillmode\":\"overlay\",\"size\":10,\"solidity\":0.2}},\"type\":\"barpolar\"}],\"pie\":[{\"automargin\":true,\"type\":\"pie\"}]},\"layout\":{\"autotypenumbers\":\"strict\",\"colorway\":[\"#636efa\",\"#EF553B\",\"#00cc96\",\"#ab63fa\",\"#FFA15A\",\"#19d3f3\",\"#FF6692\",\"#B6E880\",\"#FF97FF\",\"#FECB52\"],\"font\":{\"color\":\"#2a3f5f\"},\"hovermode\":\"closest\",\"hoverlabel\":{\"align\":\"left\"},\"paper_bgcolor\":\"white\",\"plot_bgcolor\":\"#E5ECF6\",\"polar\":{\"bgcolor\":\"#E5ECF6\",\"angularaxis\":{\"gridcolor\":\"white\",\"linecolor\":\"white\",\"ticks\":\"\"},\"radialaxis\":{\"gridcolor\":\"white\",\"linecolor\":\"white\",\"ticks\":\"\"}},\"ternary\":{\"bgcolor\":\"#E5ECF6\",\"aaxis\":{\"gridcolor\":\"white\",\"linecolor\":\"white\",\"ticks\":\"\"},\"baxis\":{\"gridcolor\":\"white\",\"linecolor\":\"white\",\"ticks\":\"\"},\"caxis\":{\"gridcolor\":\"white\",\"linecolor\":\"white\",\"ticks\":\"\"}},\"coloraxis\":{\"colorbar\":{\"outlinewidth\":0,\"ticks\":\"\"}},\"colorscale\":{\"sequential\":[[0.0,\"#0d0887\"],[0.1111111111111111,\"#46039f\"],[0.2222222222222222,\"#7201a8\"],[0.3333333333333333,\"#9c179e\"],[0.4444444444444444,\"#bd3786\"],[0.5555555555555556,\"#d8576b\"],[0.6666666666666666,\"#ed7953\"],[0.7777777777777778,\"#fb9f3a\"],[0.8888888888888888,\"#fdca26\"],[1.0,\"#f0f921\"]],\"sequentialminus\":[[0.0,\"#0d0887\"],[0.1111111111111111,\"#46039f\"],[0.2222222222222222,\"#7201a8\"],[0.3333333333333333,\"#9c179e\"],[0.4444444444444444,\"#bd3786\"],[0.5555555555555556,\"#d8576b\"],[0.6666666666666666,\"#ed7953\"],[0.7777777777777778,\"#fb9f3a\"],[0.8888888888888888,\"#fdca26\"],[1.0,\"#f0f921\"]],\"diverging\":[[0,\"#8e0152\"],[0.1,\"#c51b7d\"],[0.2,\"#de77ae\"],[0.3,\"#f1b6da\"],[0.4,\"#fde0ef\"],[0.5,\"#f7f7f7\"],[0.6,\"#e6f5d0\"],[0.7,\"#b8e186\"],[0.8,\"#7fbc41\"],[0.9,\"#4d9221\"],[1,\"#276419\"]]},\"xaxis\":{\"gridcolor\":\"white\",\"linecolor\":\"white\",\"ticks\":\"\",\"title\":{\"standoff\":15},\"zerolinecolor\":\"white\",\"automargin\":true,\"zerolinewidth\":2},\"yaxis\":{\"gridcolor\":\"white\",\"linecolor\":\"white\",\"ticks\":\"\",\"title\":{\"standoff\":15},\"zerolinecolor\":\"white\",\"automargin\":true,\"zerolinewidth\":2},\"scene\":{\"xaxis\":{\"backgroundcolor\":\"#E5ECF6\",\"gridcolor\":\"white\",\"linecolor\":\"white\",\"showbackground\":true,\"ticks\":\"\",\"zerolinecolor\":\"white\",\"gridwidth\":2},\"yaxis\":{\"backgroundcolor\":\"#E5ECF6\",\"gridcolor\":\"white\",\"linecolor\":\"white\",\"showbackground\":true,\"ticks\":\"\",\"zerolinecolor\":\"white\",\"gridwidth\":2},\"zaxis\":{\"backgroundcolor\":\"#E5ECF6\",\"gridcolor\":\"white\",\"linecolor\":\"white\",\"showbackground\":true,\"ticks\":\"\",\"zerolinecolor\":\"white\",\"gridwidth\":2}},\"shapedefaults\":{\"line\":{\"color\":\"#2a3f5f\"}},\"annotationdefaults\":{\"arrowcolor\":\"#2a3f5f\",\"arrowhead\":0,\"arrowwidth\":1},\"geo\":{\"bgcolor\":\"white\",\"landcolor\":\"#E5ECF6\",\"subunitcolor\":\"white\",\"showland\":true,\"showlakes\":true,\"lakecolor\":\"white\"},\"title\":{\"x\":0.05},\"mapbox\":{\"style\":\"light\"}}},\"xaxis\":{\"anchor\":\"y\",\"domain\":[0.0,1.0],\"title\":{\"text\":\"Attendance\"}},\"yaxis\":{\"anchor\":\"x\",\"domain\":[0.0,1.0],\"title\":{\"text\":\"count\"}},\"legend\":{\"tracegroupgap\":0},\"title\":{\"text\":\"Attendance Histogram\"},\"barmode\":\"relative\"},                        {\"responsive\": true}                    ).then(function(){\n",
              "                            \n",
              "var gd = document.getElementById('75dbf14e-b4d8-4e03-acfe-9a97de139425');\n",
              "var x = new MutationObserver(function (mutations, observer) {{\n",
              "        var display = window.getComputedStyle(gd).display;\n",
              "        if (!display || display === 'none') {{\n",
              "            console.log([gd, 'removed!']);\n",
              "            Plotly.purge(gd);\n",
              "            observer.disconnect();\n",
              "        }}\n",
              "}});\n",
              "\n",
              "// Listen for the removal of the full notebook cells\n",
              "var notebookContainer = gd.closest('#notebook-container');\n",
              "if (notebookContainer) {{\n",
              "    x.observe(notebookContainer, {childList: true});\n",
              "}}\n",
              "\n",
              "// Listen for the clearing of the current output cell\n",
              "var outputEl = gd.closest('.output');\n",
              "if (outputEl) {{\n",
              "    x.observe(outputEl, {childList: true});\n",
              "}}\n",
              "\n",
              "                        })                };                            </script>        </div>\n",
              "</body>\n",
              "</html>"
            ]
          },
          "metadata": {}
        }
      ]
    },
    {
      "cell_type": "markdown",
      "source": [
        "We Notice that the median value of attendance is about 42k , and there are very few matches where the number of attendace exceeded 100K.\n",
        "And the most Crowded game was about 170K."
      ],
      "metadata": {
        "id": "MKZQMheB2tUp"
      }
    },
    {
      "cell_type": "markdown",
      "source": [
        "###Attendance Boxplot for each Tournaments"
      ],
      "metadata": {
        "id": "CE5ELG852Zgo"
      }
    },
    {
      "cell_type": "code",
      "source": [
        "fig = px.box(matches_data, x=\"tournament_name\", y=\"Attendance\", title=\"Attendance Box Plot by Year\")\n",
        "fig.update_xaxes(tickangle=45)\n",
        "fig.show()"
      ],
      "metadata": {
        "colab": {
          "base_uri": "https://localhost:8080/"
        },
        "id": "1jz57lXkEi-I",
        "outputId": "b6b3a74c-0e03-4cc7-a2a0-d2188e042086"
      },
      "execution_count": null,
      "outputs": [
        {
          "output_type": "display_data",
          "data": {
            "text/html": [
              "<html>\n",
              "<head><meta charset=\"utf-8\" /></head>\n",
              "<body>\n",
              "    <div>            <script src=\"https://cdnjs.cloudflare.com/ajax/libs/mathjax/2.7.5/MathJax.js?config=TeX-AMS-MML_SVG\"></script><script type=\"text/javascript\">if (window.MathJax && window.MathJax.Hub && window.MathJax.Hub.Config) {window.MathJax.Hub.Config({SVG: {font: \"STIX-Web\"}});}</script>                <script type=\"text/javascript\">window.PlotlyConfig = {MathJaxConfig: 'local'};</script>\n",
              "        <script src=\"https://cdn.plot.ly/plotly-2.18.2.min.js\"></script>                <div id=\"fd6dd5b0-42aa-45ed-a8bd-98a75dae28f0\" class=\"plotly-graph-div\" style=\"height:525px; width:100%;\"></div>            <script type=\"text/javascript\">                                    window.PLOTLYENV=window.PLOTLYENV || {};                                    if (document.getElementById(\"fd6dd5b0-42aa-45ed-a8bd-98a75dae28f0\")) {                    Plotly.newPlot(                        \"fd6dd5b0-42aa-45ed-a8bd-98a75dae28f0\",                        [{\"alignmentgroup\":\"True\",\"hovertemplate\":\"tournament_name=%{x}<br>Attendance=%{y}<extra></extra>\",\"legendgroup\":\"\",\"marker\":{\"color\":\"#636efa\"},\"name\":\"\",\"notched\":false,\"offsetgroup\":\"\",\"orientation\":\"v\",\"showlegend\":false,\"x\":[\"1930 FIFA World Cup\",\"1930 FIFA World Cup\",\"1930 FIFA World Cup\",\"1930 FIFA World Cup\",\"1930 FIFA World Cup\",\"1930 FIFA World Cup\",\"1930 FIFA World Cup\",\"1930 FIFA World Cup\",\"1930 FIFA World Cup\",\"1930 FIFA World Cup\",\"1930 FIFA World Cup\",\"1930 FIFA World Cup\",\"1930 FIFA World Cup\",\"1930 FIFA World Cup\",\"1930 FIFA World Cup\",\"1930 FIFA World Cup\",\"1930 FIFA World Cup\",\"1930 FIFA World Cup\",\"1934 FIFA World Cup\",\"1934 FIFA World Cup\",\"1934 FIFA World Cup\",\"1934 FIFA World Cup\",\"1934 FIFA World Cup\",\"1934 FIFA World Cup\",\"1934 FIFA World Cup\",\"1934 FIFA World Cup\",\"1934 FIFA World Cup\",\"1934 FIFA World Cup\",\"1934 FIFA World Cup\",\"1934 FIFA World Cup\",\"1934 FIFA World Cup\",\"1934 FIFA World Cup\",\"1934 FIFA World Cup\",\"1934 FIFA World Cup\",\"1934 FIFA World Cup\",\"1938 FIFA World Cup\",\"1938 FIFA World Cup\",\"1938 FIFA World Cup\",\"1938 FIFA World Cup\",\"1938 FIFA World Cup\",\"1938 FIFA World Cup\",\"1938 FIFA World Cup\",\"1938 FIFA World Cup\",\"1938 FIFA World Cup\",\"1938 FIFA World Cup\",\"1938 FIFA World Cup\",\"1938 FIFA World Cup\",\"1938 FIFA World Cup\",\"1938 FIFA World Cup\",\"1938 FIFA World Cup\",\"1938 FIFA World Cup\",\"1938 FIFA World Cup\",\"1938 FIFA World Cup\",\"1950 FIFA World Cup\",\"1950 FIFA World Cup\",\"1950 FIFA World Cup\",\"1950 FIFA World Cup\",\"1950 FIFA World Cup\",\"1950 FIFA World Cup\",\"1950 FIFA World Cup\",\"1950 FIFA World Cup\",\"1950 FIFA World Cup\",\"1950 FIFA World Cup\",\"1950 FIFA World Cup\",\"1950 FIFA World Cup\",\"1950 FIFA World Cup\",\"1950 FIFA World Cup\",\"1950 FIFA World Cup\",\"1950 FIFA World Cup\",\"1950 FIFA World Cup\",\"1950 FIFA World Cup\",\"1950 FIFA World Cup\",\"1950 FIFA World Cup\",\"1950 FIFA World Cup\",\"1950 FIFA World Cup\",\"1954 FIFA World Cup\",\"1954 FIFA World Cup\",\"1954 FIFA World Cup\",\"1954 FIFA World Cup\",\"1954 FIFA World Cup\",\"1954 FIFA World Cup\",\"1954 FIFA World Cup\",\"1954 FIFA World Cup\",\"1954 FIFA World Cup\",\"1954 FIFA World Cup\",\"1954 FIFA World Cup\",\"1954 FIFA World Cup\",\"1954 FIFA World Cup\",\"1954 FIFA World Cup\",\"1954 FIFA World Cup\",\"1954 FIFA World Cup\",\"1954 FIFA World Cup\",\"1954 FIFA World Cup\",\"1954 FIFA World Cup\",\"1954 FIFA World Cup\",\"1954 FIFA World Cup\",\"1954 FIFA World Cup\",\"1954 FIFA World Cup\",\"1954 FIFA World Cup\",\"1954 FIFA World Cup\",\"1954 FIFA World Cup\",\"1958 FIFA World Cup\",\"1958 FIFA World Cup\",\"1958 FIFA World Cup\",\"1958 FIFA World Cup\",\"1958 FIFA World Cup\",\"1958 FIFA World Cup\",\"1958 FIFA World Cup\",\"1958 FIFA World Cup\",\"1958 FIFA World Cup\",\"1958 FIFA World Cup\",\"1958 FIFA World Cup\",\"1958 FIFA World Cup\",\"1958 FIFA World Cup\",\"1958 FIFA World Cup\",\"1958 FIFA World Cup\",\"1958 FIFA World Cup\",\"1958 FIFA World Cup\",\"1958 FIFA World Cup\",\"1958 FIFA World Cup\",\"1958 FIFA World Cup\",\"1958 FIFA World Cup\",\"1958 FIFA World Cup\",\"1958 FIFA World Cup\",\"1958 FIFA World Cup\",\"1958 FIFA World Cup\",\"1958 FIFA World Cup\",\"1958 FIFA World Cup\",\"1958 FIFA World Cup\",\"1958 FIFA World Cup\",\"1958 FIFA World Cup\",\"1958 FIFA World Cup\",\"1958 FIFA World Cup\",\"1958 FIFA World Cup\",\"1958 FIFA World Cup\",\"1958 FIFA World Cup\",\"1962 FIFA World Cup\",\"1962 FIFA World Cup\",\"1962 FIFA World Cup\",\"1962 FIFA World Cup\",\"1962 FIFA World Cup\",\"1962 FIFA World Cup\",\"1962 FIFA World Cup\",\"1962 FIFA World Cup\",\"1962 FIFA World Cup\",\"1962 FIFA World Cup\",\"1962 FIFA World Cup\",\"1962 FIFA World Cup\",\"1962 FIFA World Cup\",\"1962 FIFA World Cup\",\"1962 FIFA World Cup\",\"1962 FIFA World Cup\",\"1962 FIFA World Cup\",\"1962 FIFA World Cup\",\"1962 FIFA World Cup\",\"1962 FIFA World Cup\",\"1962 FIFA World Cup\",\"1962 FIFA World Cup\",\"1962 FIFA World Cup\",\"1962 FIFA World Cup\",\"1962 FIFA World Cup\",\"1962 FIFA World Cup\",\"1962 FIFA World Cup\",\"1962 FIFA World Cup\",\"1962 FIFA World Cup\",\"1962 FIFA World Cup\",\"1962 FIFA World Cup\",\"1962 FIFA World Cup\",\"1966 FIFA World Cup\",\"1966 FIFA World Cup\",\"1966 FIFA World Cup\",\"1966 FIFA World Cup\",\"1966 FIFA World Cup\",\"1966 FIFA World Cup\",\"1966 FIFA World Cup\",\"1966 FIFA World Cup\",\"1966 FIFA World Cup\",\"1966 FIFA World Cup\",\"1966 FIFA World Cup\",\"1966 FIFA World Cup\",\"1966 FIFA World Cup\",\"1966 FIFA World Cup\",\"1966 FIFA World Cup\",\"1966 FIFA World Cup\",\"1966 FIFA World Cup\",\"1966 FIFA World Cup\",\"1966 FIFA World Cup\",\"1966 FIFA World Cup\",\"1966 FIFA World Cup\",\"1966 FIFA World Cup\",\"1966 FIFA World Cup\",\"1966 FIFA World Cup\",\"1966 FIFA World Cup\",\"1966 FIFA World Cup\",\"1966 FIFA World Cup\",\"1966 FIFA World Cup\",\"1966 FIFA World Cup\",\"1966 FIFA World Cup\",\"1966 FIFA World Cup\",\"1966 FIFA World Cup\",\"1970 FIFA World Cup\",\"1970 FIFA World Cup\",\"1970 FIFA World Cup\",\"1970 FIFA World Cup\",\"1970 FIFA World Cup\",\"1970 FIFA World Cup\",\"1970 FIFA World Cup\",\"1970 FIFA World Cup\",\"1970 FIFA World Cup\",\"1970 FIFA World Cup\",\"1970 FIFA World Cup\",\"1970 FIFA World Cup\",\"1970 FIFA World Cup\",\"1970 FIFA World Cup\",\"1970 FIFA World Cup\",\"1970 FIFA World Cup\",\"1970 FIFA World Cup\",\"1970 FIFA World Cup\",\"1970 FIFA World Cup\",\"1970 FIFA World Cup\",\"1970 FIFA World Cup\",\"1970 FIFA World Cup\",\"1970 FIFA World Cup\",\"1970 FIFA World Cup\",\"1970 FIFA World Cup\",\"1970 FIFA World Cup\",\"1970 FIFA World Cup\",\"1970 FIFA World Cup\",\"1970 FIFA World Cup\",\"1970 FIFA World Cup\",\"1970 FIFA World Cup\",\"1970 FIFA World Cup\",\"1974 FIFA World Cup\",\"1974 FIFA World Cup\",\"1974 FIFA World Cup\",\"1974 FIFA World Cup\",\"1974 FIFA World Cup\",\"1974 FIFA World Cup\",\"1974 FIFA World Cup\",\"1974 FIFA World Cup\",\"1974 FIFA World Cup\",\"1974 FIFA World Cup\",\"1974 FIFA World Cup\",\"1974 FIFA World Cup\",\"1974 FIFA World Cup\",\"1974 FIFA World Cup\",\"1974 FIFA World Cup\",\"1974 FIFA World Cup\",\"1974 FIFA World Cup\",\"1974 FIFA World Cup\",\"1974 FIFA World Cup\",\"1974 FIFA World Cup\",\"1974 FIFA World Cup\",\"1974 FIFA World Cup\",\"1974 FIFA World Cup\",\"1974 FIFA World Cup\",\"1974 FIFA World Cup\",\"1974 FIFA World Cup\",\"1974 FIFA World Cup\",\"1974 FIFA World Cup\",\"1974 FIFA World Cup\",\"1974 FIFA World Cup\",\"1974 FIFA World Cup\",\"1974 FIFA World Cup\",\"1974 FIFA World Cup\",\"1974 FIFA World Cup\",\"1974 FIFA World Cup\",\"1974 FIFA World Cup\",\"1974 FIFA World Cup\",\"1974 FIFA World Cup\",\"1978 FIFA World Cup\",\"1978 FIFA World Cup\",\"1978 FIFA World Cup\",\"1978 FIFA World Cup\",\"1978 FIFA World Cup\",\"1978 FIFA World Cup\",\"1978 FIFA World Cup\",\"1978 FIFA World Cup\",\"1978 FIFA World Cup\",\"1978 FIFA World Cup\",\"1978 FIFA World Cup\",\"1978 FIFA World Cup\",\"1978 FIFA World Cup\",\"1978 FIFA World Cup\",\"1978 FIFA World Cup\",\"1978 FIFA World Cup\",\"1978 FIFA World Cup\",\"1978 FIFA World Cup\",\"1978 FIFA World Cup\",\"1978 FIFA World Cup\",\"1978 FIFA World Cup\",\"1978 FIFA World Cup\",\"1978 FIFA World Cup\",\"1978 FIFA World Cup\",\"1978 FIFA World Cup\",\"1978 FIFA World Cup\",\"1978 FIFA World Cup\",\"1978 FIFA World Cup\",\"1978 FIFA World Cup\",\"1978 FIFA World Cup\",\"1978 FIFA World Cup\",\"1978 FIFA World Cup\",\"1978 FIFA World Cup\",\"1978 FIFA World Cup\",\"1978 FIFA World Cup\",\"1978 FIFA World Cup\",\"1978 FIFA World Cup\",\"1978 FIFA World Cup\",\"1982 FIFA World Cup\",\"1982 FIFA World Cup\",\"1982 FIFA World Cup\",\"1982 FIFA World Cup\",\"1982 FIFA World Cup\",\"1982 FIFA World Cup\",\"1982 FIFA World Cup\",\"1982 FIFA World Cup\",\"1982 FIFA World Cup\",\"1982 FIFA World Cup\",\"1982 FIFA World Cup\",\"1982 FIFA World Cup\",\"1982 FIFA World Cup\",\"1982 FIFA World Cup\",\"1982 FIFA World Cup\",\"1982 FIFA World Cup\",\"1982 FIFA World Cup\",\"1982 FIFA World Cup\",\"1982 FIFA World Cup\",\"1982 FIFA World Cup\",\"1982 FIFA World Cup\",\"1982 FIFA World Cup\",\"1982 FIFA World Cup\",\"1982 FIFA World Cup\",\"1982 FIFA World Cup\",\"1982 FIFA World Cup\",\"1982 FIFA World Cup\",\"1982 FIFA World Cup\",\"1982 FIFA World Cup\",\"1982 FIFA World Cup\",\"1982 FIFA World Cup\",\"1982 FIFA World Cup\",\"1982 FIFA World Cup\",\"1982 FIFA World Cup\",\"1982 FIFA World Cup\",\"1982 FIFA World Cup\",\"1982 FIFA World Cup\",\"1982 FIFA World Cup\",\"1982 FIFA World Cup\",\"1982 FIFA World Cup\",\"1982 FIFA World Cup\",\"1982 FIFA World Cup\",\"1982 FIFA World Cup\",\"1982 FIFA World Cup\",\"1982 FIFA World Cup\",\"1982 FIFA World Cup\",\"1982 FIFA World Cup\",\"1982 FIFA World Cup\",\"1982 FIFA World Cup\",\"1982 FIFA World Cup\",\"1982 FIFA World Cup\",\"1982 FIFA World Cup\",\"1986 FIFA World Cup\",\"1986 FIFA World Cup\",\"1986 FIFA World Cup\",\"1986 FIFA World Cup\",\"1986 FIFA World Cup\",\"1986 FIFA World Cup\",\"1986 FIFA World Cup\",\"1986 FIFA World Cup\",\"1986 FIFA World Cup\",\"1986 FIFA World Cup\",\"1986 FIFA World Cup\",\"1986 FIFA World Cup\",\"1986 FIFA World Cup\",\"1986 FIFA World Cup\",\"1986 FIFA World Cup\",\"1986 FIFA World Cup\",\"1986 FIFA World Cup\",\"1986 FIFA World Cup\",\"1986 FIFA World Cup\",\"1986 FIFA World Cup\",\"1986 FIFA World Cup\",\"1986 FIFA World Cup\",\"1986 FIFA World Cup\",\"1986 FIFA World Cup\",\"1986 FIFA World Cup\",\"1986 FIFA World Cup\",\"1986 FIFA World Cup\",\"1986 FIFA World Cup\",\"1986 FIFA World Cup\",\"1986 FIFA World Cup\",\"1986 FIFA World Cup\",\"1986 FIFA World Cup\",\"1986 FIFA World Cup\",\"1986 FIFA World Cup\",\"1986 FIFA World Cup\",\"1986 FIFA World Cup\",\"1986 FIFA World Cup\",\"1986 FIFA World Cup\",\"1986 FIFA World Cup\",\"1986 FIFA World Cup\",\"1986 FIFA World Cup\",\"1986 FIFA World Cup\",\"1986 FIFA World Cup\",\"1986 FIFA World Cup\",\"1986 FIFA World Cup\",\"1986 FIFA World Cup\",\"1986 FIFA World Cup\",\"1986 FIFA World Cup\",\"1986 FIFA World Cup\",\"1986 FIFA World Cup\",\"1986 FIFA World Cup\",\"1986 FIFA World Cup\",\"1990 FIFA World Cup\",\"1990 FIFA World Cup\",\"1990 FIFA World Cup\",\"1990 FIFA World Cup\",\"1990 FIFA World Cup\",\"1990 FIFA World Cup\",\"1990 FIFA World Cup\",\"1990 FIFA World Cup\",\"1990 FIFA World Cup\",\"1990 FIFA World Cup\",\"1990 FIFA World Cup\",\"1990 FIFA World Cup\",\"1990 FIFA World Cup\",\"1990 FIFA World Cup\",\"1990 FIFA World Cup\",\"1990 FIFA World Cup\",\"1990 FIFA World Cup\",\"1990 FIFA World Cup\",\"1990 FIFA World Cup\",\"1990 FIFA World Cup\",\"1990 FIFA World Cup\",\"1990 FIFA World Cup\",\"1990 FIFA World Cup\",\"1990 FIFA World Cup\",\"1990 FIFA World Cup\",\"1990 FIFA World Cup\",\"1990 FIFA World Cup\",\"1990 FIFA World Cup\",\"1990 FIFA World Cup\",\"1990 FIFA World Cup\",\"1990 FIFA World Cup\",\"1990 FIFA World Cup\",\"1990 FIFA World Cup\",\"1990 FIFA World Cup\",\"1990 FIFA World Cup\",\"1990 FIFA World Cup\",\"1990 FIFA World Cup\",\"1990 FIFA World Cup\",\"1990 FIFA World Cup\",\"1990 FIFA World Cup\",\"1990 FIFA World Cup\",\"1990 FIFA World Cup\",\"1990 FIFA World Cup\",\"1990 FIFA World Cup\",\"1990 FIFA World Cup\",\"1990 FIFA World Cup\",\"1990 FIFA World Cup\",\"1990 FIFA World Cup\",\"1990 FIFA World Cup\",\"1990 FIFA World Cup\",\"1990 FIFA World Cup\",\"1990 FIFA World Cup\",\"1994 FIFA World Cup\",\"1994 FIFA World Cup\",\"1994 FIFA World Cup\",\"1994 FIFA World Cup\",\"1994 FIFA World Cup\",\"1994 FIFA World Cup\",\"1994 FIFA World Cup\",\"1994 FIFA World Cup\",\"1994 FIFA World Cup\",\"1994 FIFA World Cup\",\"1994 FIFA World Cup\",\"1994 FIFA World Cup\",\"1994 FIFA World Cup\",\"1994 FIFA World Cup\",\"1994 FIFA World Cup\",\"1994 FIFA World Cup\",\"1994 FIFA World Cup\",\"1994 FIFA World Cup\",\"1994 FIFA World Cup\",\"1994 FIFA World Cup\",\"1994 FIFA World Cup\",\"1994 FIFA World Cup\",\"1994 FIFA World Cup\",\"1994 FIFA World Cup\",\"1994 FIFA World Cup\",\"1994 FIFA World Cup\",\"1994 FIFA World Cup\",\"1994 FIFA World Cup\",\"1994 FIFA World Cup\",\"1994 FIFA World Cup\",\"1994 FIFA World Cup\",\"1994 FIFA World Cup\",\"1994 FIFA World Cup\",\"1994 FIFA World Cup\",\"1994 FIFA World Cup\",\"1994 FIFA World Cup\",\"1994 FIFA World Cup\",\"1994 FIFA World Cup\",\"1994 FIFA World Cup\",\"1994 FIFA World Cup\",\"1994 FIFA World Cup\",\"1994 FIFA World Cup\",\"1994 FIFA World Cup\",\"1994 FIFA World Cup\",\"1994 FIFA World Cup\",\"1994 FIFA World Cup\",\"1994 FIFA World Cup\",\"1994 FIFA World Cup\",\"1994 FIFA World Cup\",\"1994 FIFA World Cup\",\"1994 FIFA World Cup\",\"1994 FIFA World Cup\",\"1998 FIFA World Cup\",\"1998 FIFA World Cup\",\"1998 FIFA World Cup\",\"1998 FIFA World Cup\",\"1998 FIFA World Cup\",\"1998 FIFA World Cup\",\"1998 FIFA World Cup\",\"1998 FIFA World Cup\",\"1998 FIFA World Cup\",\"1998 FIFA World Cup\",\"1998 FIFA World Cup\",\"1998 FIFA World Cup\",\"1998 FIFA World Cup\",\"1998 FIFA World Cup\",\"1998 FIFA World Cup\",\"1998 FIFA World Cup\",\"1998 FIFA World Cup\",\"1998 FIFA World Cup\",\"1998 FIFA World Cup\",\"1998 FIFA World Cup\",\"1998 FIFA World Cup\",\"1998 FIFA World Cup\",\"1998 FIFA World Cup\",\"1998 FIFA World Cup\",\"1998 FIFA World Cup\",\"1998 FIFA World Cup\",\"1998 FIFA World Cup\",\"1998 FIFA World Cup\",\"1998 FIFA World Cup\",\"1998 FIFA World Cup\",\"1998 FIFA World Cup\",\"1998 FIFA World Cup\",\"1998 FIFA World Cup\",\"1998 FIFA World Cup\",\"1998 FIFA World Cup\",\"1998 FIFA World Cup\",\"1998 FIFA World Cup\",\"1998 FIFA World Cup\",\"1998 FIFA World Cup\",\"1998 FIFA World Cup\",\"1998 FIFA World Cup\",\"1998 FIFA World Cup\",\"1998 FIFA World Cup\",\"1998 FIFA World Cup\",\"1998 FIFA World Cup\",\"1998 FIFA World Cup\",\"1998 FIFA World Cup\",\"1998 FIFA World Cup\",\"1998 FIFA World Cup\",\"1998 FIFA World Cup\",\"1998 FIFA World Cup\",\"1998 FIFA World Cup\",\"1998 FIFA World Cup\",\"1998 FIFA World Cup\",\"1998 FIFA World Cup\",\"1998 FIFA World Cup\",\"1998 FIFA World Cup\",\"1998 FIFA World Cup\",\"1998 FIFA World Cup\",\"1998 FIFA World Cup\",\"1998 FIFA World Cup\",\"1998 FIFA World Cup\",\"1998 FIFA World Cup\",\"1998 FIFA World Cup\",\"2002 FIFA World Cup\",\"2002 FIFA World Cup\",\"2002 FIFA World Cup\",\"2002 FIFA World Cup\",\"2002 FIFA World Cup\",\"2002 FIFA World Cup\",\"2002 FIFA World Cup\",\"2002 FIFA World Cup\",\"2002 FIFA World Cup\",\"2002 FIFA World Cup\",\"2002 FIFA World Cup\",\"2002 FIFA World Cup\",\"2002 FIFA World Cup\",\"2002 FIFA World Cup\",\"2002 FIFA World Cup\",\"2002 FIFA World Cup\",\"2002 FIFA World Cup\",\"2002 FIFA World Cup\",\"2002 FIFA World Cup\",\"2002 FIFA World Cup\",\"2002 FIFA World Cup\",\"2002 FIFA World Cup\",\"2002 FIFA World Cup\",\"2002 FIFA World Cup\",\"2002 FIFA World Cup\",\"2002 FIFA World Cup\",\"2002 FIFA World Cup\",\"2002 FIFA World Cup\",\"2002 FIFA World Cup\",\"2002 FIFA World Cup\",\"2002 FIFA World Cup\",\"2002 FIFA World Cup\",\"2002 FIFA World Cup\",\"2002 FIFA World Cup\",\"2002 FIFA World Cup\",\"2002 FIFA World Cup\",\"2002 FIFA World Cup\",\"2002 FIFA World Cup\",\"2002 FIFA World Cup\",\"2002 FIFA World Cup\",\"2002 FIFA World Cup\",\"2002 FIFA World Cup\",\"2002 FIFA World Cup\",\"2002 FIFA World Cup\",\"2002 FIFA World Cup\",\"2002 FIFA World Cup\",\"2002 FIFA World Cup\",\"2002 FIFA World Cup\",\"2002 FIFA World Cup\",\"2002 FIFA World Cup\",\"2002 FIFA World Cup\",\"2002 FIFA World Cup\",\"2002 FIFA World Cup\",\"2002 FIFA World Cup\",\"2002 FIFA World Cup\",\"2002 FIFA World Cup\",\"2002 FIFA World Cup\",\"2002 FIFA World Cup\",\"2002 FIFA World Cup\",\"2002 FIFA World Cup\",\"2002 FIFA World Cup\",\"2002 FIFA World Cup\",\"2002 FIFA World Cup\",\"2002 FIFA World Cup\",\"2006 FIFA World Cup\",\"2006 FIFA World Cup\",\"2006 FIFA World Cup\",\"2006 FIFA World Cup\",\"2006 FIFA World Cup\",\"2006 FIFA World Cup\",\"2006 FIFA World Cup\",\"2006 FIFA World Cup\",\"2006 FIFA World Cup\",\"2006 FIFA World Cup\",\"2006 FIFA World Cup\",\"2006 FIFA World Cup\",\"2006 FIFA World Cup\",\"2006 FIFA World Cup\",\"2006 FIFA World Cup\",\"2006 FIFA World Cup\",\"2006 FIFA World Cup\",\"2006 FIFA World Cup\",\"2006 FIFA World Cup\",\"2006 FIFA World Cup\",\"2006 FIFA World Cup\",\"2006 FIFA World Cup\",\"2006 FIFA World Cup\",\"2006 FIFA World Cup\",\"2006 FIFA World Cup\",\"2006 FIFA World Cup\",\"2006 FIFA World Cup\",\"2006 FIFA World Cup\",\"2006 FIFA World Cup\",\"2006 FIFA World Cup\",\"2006 FIFA World Cup\",\"2006 FIFA World Cup\",\"2006 FIFA World Cup\",\"2006 FIFA World Cup\",\"2006 FIFA World Cup\",\"2006 FIFA World Cup\",\"2006 FIFA World Cup\",\"2006 FIFA World Cup\",\"2006 FIFA World Cup\",\"2006 FIFA World Cup\",\"2006 FIFA World Cup\",\"2006 FIFA World Cup\",\"2006 FIFA World Cup\",\"2006 FIFA World Cup\",\"2006 FIFA World Cup\",\"2006 FIFA World Cup\",\"2006 FIFA World Cup\",\"2006 FIFA World Cup\",\"2006 FIFA World Cup\",\"2006 FIFA World Cup\",\"2006 FIFA World Cup\",\"2006 FIFA World Cup\",\"2006 FIFA World Cup\",\"2006 FIFA World Cup\",\"2006 FIFA World Cup\",\"2006 FIFA World Cup\",\"2006 FIFA World Cup\",\"2006 FIFA World Cup\",\"2006 FIFA World Cup\",\"2006 FIFA World Cup\",\"2006 FIFA World Cup\",\"2006 FIFA World Cup\",\"2006 FIFA World Cup\",\"2006 FIFA World Cup\",\"2010 FIFA World Cup\",\"2010 FIFA World Cup\",\"2010 FIFA World Cup\",\"2010 FIFA World Cup\",\"2010 FIFA World Cup\",\"2010 FIFA World Cup\",\"2010 FIFA World Cup\",\"2010 FIFA World Cup\",\"2010 FIFA World Cup\",\"2010 FIFA World Cup\",\"2010 FIFA World Cup\",\"2010 FIFA World Cup\",\"2010 FIFA World Cup\",\"2010 FIFA World Cup\",\"2010 FIFA World Cup\",\"2010 FIFA World Cup\",\"2010 FIFA World Cup\",\"2010 FIFA World Cup\",\"2010 FIFA World Cup\",\"2010 FIFA World Cup\",\"2010 FIFA World Cup\",\"2010 FIFA World Cup\",\"2010 FIFA World Cup\",\"2010 FIFA World Cup\",\"2010 FIFA World Cup\",\"2010 FIFA World Cup\",\"2010 FIFA World Cup\",\"2010 FIFA World Cup\",\"2010 FIFA World Cup\",\"2010 FIFA World Cup\",\"2010 FIFA World Cup\",\"2010 FIFA World Cup\",\"2010 FIFA World Cup\",\"2010 FIFA World Cup\",\"2010 FIFA World Cup\",\"2010 FIFA World Cup\",\"2010 FIFA World Cup\",\"2010 FIFA World Cup\",\"2010 FIFA World Cup\",\"2010 FIFA World Cup\",\"2010 FIFA World Cup\",\"2010 FIFA World Cup\",\"2010 FIFA World Cup\",\"2010 FIFA World Cup\",\"2010 FIFA World Cup\",\"2010 FIFA World Cup\",\"2010 FIFA World Cup\",\"2010 FIFA World Cup\",\"2010 FIFA World Cup\",\"2010 FIFA World Cup\",\"2010 FIFA World Cup\",\"2010 FIFA World Cup\",\"2010 FIFA World Cup\",\"2010 FIFA World Cup\",\"2010 FIFA World Cup\",\"2010 FIFA World Cup\",\"2010 FIFA World Cup\",\"2010 FIFA World Cup\",\"2010 FIFA World Cup\",\"2010 FIFA World Cup\",\"2010 FIFA World Cup\",\"2010 FIFA World Cup\",\"2010 FIFA World Cup\",\"2010 FIFA World Cup\",\"2014 FIFA World Cup\",\"2014 FIFA World Cup\",\"2014 FIFA World Cup\",\"2014 FIFA World Cup\",\"2014 FIFA World Cup\",\"2014 FIFA World Cup\",\"2014 FIFA World Cup\",\"2014 FIFA World Cup\",\"2014 FIFA World Cup\",\"2014 FIFA World Cup\",\"2014 FIFA World Cup\",\"2014 FIFA World Cup\",\"2014 FIFA World Cup\",\"2014 FIFA World Cup\",\"2014 FIFA World Cup\",\"2014 FIFA World Cup\",\"2014 FIFA World Cup\",\"2014 FIFA World Cup\",\"2014 FIFA World Cup\",\"2014 FIFA World Cup\",\"2014 FIFA World Cup\",\"2014 FIFA World Cup\",\"2014 FIFA World Cup\",\"2014 FIFA World Cup\",\"2014 FIFA World Cup\",\"2014 FIFA World Cup\",\"2014 FIFA World Cup\",\"2014 FIFA World Cup\",\"2014 FIFA World Cup\",\"2014 FIFA World Cup\",\"2014 FIFA World Cup\",\"2014 FIFA World Cup\",\"2014 FIFA World Cup\",\"2014 FIFA World Cup\",\"2014 FIFA World Cup\",\"2014 FIFA World Cup\",\"2014 FIFA World Cup\",\"2014 FIFA World Cup\",\"2014 FIFA World Cup\",\"2014 FIFA World Cup\",\"2014 FIFA World Cup\",\"2014 FIFA World Cup\",\"2014 FIFA World Cup\",\"2014 FIFA World Cup\",\"2014 FIFA World Cup\",\"2014 FIFA World Cup\",\"2014 FIFA World Cup\",\"2014 FIFA World Cup\",\"2014 FIFA World Cup\",\"2014 FIFA World Cup\",\"2014 FIFA World Cup\",\"2014 FIFA World Cup\",\"2014 FIFA World Cup\",\"2014 FIFA World Cup\",\"2014 FIFA World Cup\",\"2014 FIFA World Cup\",\"2014 FIFA World Cup\",\"2014 FIFA World Cup\",\"2014 FIFA World Cup\",\"2014 FIFA World Cup\",\"2014 FIFA World Cup\",\"2014 FIFA World Cup\",\"2014 FIFA World Cup\",\"2014 FIFA World Cup\",\"2018 FIFA World Cup\",\"2018 FIFA World Cup\",\"2018 FIFA World Cup\",\"2018 FIFA World Cup\",\"2018 FIFA World Cup\",\"2018 FIFA World Cup\",\"2018 FIFA World Cup\",\"2018 FIFA World Cup\",\"2018 FIFA World Cup\",\"2018 FIFA World Cup\",\"2018 FIFA World Cup\",\"2018 FIFA World Cup\",\"2018 FIFA World Cup\",\"2018 FIFA World Cup\",\"2018 FIFA World Cup\",\"2018 FIFA World Cup\",\"2018 FIFA World Cup\",\"2018 FIFA World Cup\",\"2018 FIFA World Cup\",\"2018 FIFA World Cup\",\"2018 FIFA World Cup\",\"2018 FIFA World Cup\",\"2018 FIFA World Cup\",\"2018 FIFA World Cup\",\"2018 FIFA World Cup\",\"2018 FIFA World Cup\",\"2018 FIFA World Cup\",\"2018 FIFA World Cup\",\"2018 FIFA World Cup\",\"2018 FIFA World Cup\",\"2018 FIFA World Cup\",\"2018 FIFA World Cup\",\"2018 FIFA World Cup\",\"2018 FIFA World Cup\",\"2018 FIFA World Cup\",\"2018 FIFA World Cup\",\"2018 FIFA World Cup\",\"2018 FIFA World Cup\",\"2018 FIFA World Cup\",\"2018 FIFA World Cup\",\"2018 FIFA World Cup\",\"2018 FIFA World Cup\",\"2018 FIFA World Cup\",\"2018 FIFA World Cup\",\"2018 FIFA World Cup\",\"2018 FIFA World Cup\",\"2018 FIFA World Cup\",\"2018 FIFA World Cup\",\"2018 FIFA World Cup\",\"2018 FIFA World Cup\",\"2018 FIFA World Cup\",\"2018 FIFA World Cup\",\"2018 FIFA World Cup\",\"2018 FIFA World Cup\",\"2018 FIFA World Cup\",\"2018 FIFA World Cup\",\"2018 FIFA World Cup\",\"2018 FIFA World Cup\",\"2018 FIFA World Cup\",\"2018 FIFA World Cup\",\"2018 FIFA World Cup\",\"2018 FIFA World Cup\",\"2018 FIFA World Cup\",\"2018 FIFA World Cup\",\"2022 FIFA World Cup\",\"2022 FIFA World Cup\",\"2022 FIFA World Cup\",\"2022 FIFA World Cup\",\"2022 FIFA World Cup\",\"2022 FIFA World Cup\",\"2022 FIFA World Cup\",\"2022 FIFA World Cup\",\"2022 FIFA World Cup\",\"2022 FIFA World Cup\",\"2022 FIFA World Cup\",\"2022 FIFA World Cup\",\"2022 FIFA World Cup\",\"2022 FIFA World Cup\",\"2022 FIFA World Cup\",\"2022 FIFA World Cup\",\"2022 FIFA World Cup\",\"2022 FIFA World Cup\",\"2022 FIFA World Cup\",\"2022 FIFA World Cup\",\"2022 FIFA World Cup\",\"2022 FIFA World Cup\",\"2022 FIFA World Cup\",\"2022 FIFA World Cup\",\"2022 FIFA World Cup\",\"2022 FIFA World Cup\",\"2022 FIFA World Cup\",\"2022 FIFA World Cup\",\"2022 FIFA World Cup\",\"2022 FIFA World Cup\",\"2022 FIFA World Cup\",\"2022 FIFA World Cup\",\"2022 FIFA World Cup\",\"2022 FIFA World Cup\",\"2022 FIFA World Cup\",\"2022 FIFA World Cup\",\"2022 FIFA World Cup\",\"2022 FIFA World Cup\",\"2022 FIFA World Cup\",\"2022 FIFA World Cup\",\"2022 FIFA World Cup\",\"2022 FIFA World Cup\",\"2022 FIFA World Cup\",\"2022 FIFA World Cup\",\"2022 FIFA World Cup\",\"2022 FIFA World Cup\",\"2022 FIFA World Cup\",\"2022 FIFA World Cup\",\"2022 FIFA World Cup\",\"2022 FIFA World Cup\",\"2022 FIFA World Cup\",\"2022 FIFA World Cup\",\"2022 FIFA World Cup\",\"2022 FIFA World Cup\",\"2022 FIFA World Cup\",\"2022 FIFA World Cup\",\"2022 FIFA World Cup\",\"2022 FIFA World Cup\",\"2022 FIFA World Cup\",\"2022 FIFA World Cup\",\"2022 FIFA World Cup\",\"2022 FIFA World Cup\",\"2022 FIFA World Cup\",\"2022 FIFA World Cup\"],\"x0\":\" \",\"xaxis\":\"x\",\"y\":[4444,18346,24059,2549,23409,9249,18306,18306,57735,2000,42100,25466,12000,70022,41459,72886,79867,68346,16000,9000,8000,9000,25000,21000,14000,33000,23000,12000,3000,35000,43000,15000,35000,7000,55000,27152,7000,30454,9000,19000,13452,11000,8000,20025,22021,15000,58455,7000,18141,20000,33000,12000,45000,81649,7336,29703,9511,36502,42032,11078,19790,10151,7903,142429,8501,74462,25811,5284,3580,138886,44802,152772,7987,11227,173850,13470,16000,25000,20500,43000,13000,28000,14000,34000,24637,26000,19000,56000,4000,24000,43500,17000,30000,35000,28000,40000,17000,45000,58000,32000,62500,34107,31156,10647,16518,9591,15343,17788,49348,14174,25000,11665,12217,15150,40895,21239,38850,30287,16418,21990,13554,13103,13300,50928,15872,6196,2823,23182,25923,11800,31900,20055,27100,49471,32483,49737,7908,65006,10484,7134,9622,65440,12700,7938,8829,66057,14903,9794,8040,64922,11875,7442,9973,67224,18715,7945,7167,59828,10648,5700,17736,17268,11690,63324,76594,5890,66697,68679,87148,36127,47308,23006,69237,42738,29886,27199,45662,32028,51387,13792,46587,25438,27793,92570,61112,32127,58479,17829,98270,42187,24129,16027,90584,40248,26844,40007,38273,94493,87696,96924,107160,20654,50560,13765,92205,13433,52897,12942,95261,29968,56818,13537,103058,9624,66843,12710,89979,18163,50804,17875,108192,9890,49292,12299,54233,26851,26085,23357,51261,102444,104403,107412,62000,81100,17000,27000,23800,55100,53000,32700,53300,28300,62000,31700,13400,53700,70100,25300,17400,56000,36200,60200,53300,28300,25900,70100,67385,59863,56548,44955,39400,68348,58000,67800,62000,54254,53700,41300,77100,78200,67579,42373,17396,71615,40841,32569,33431,37927,26533,9624,35258,71666,41424,34771,28125,7938,23127,22651,30667,71712,35221,42132,21262,35130,25050,67547,31278,37091,35288,66695,40750,37326,38318,67433,39586,37315,69659,71483,95000,33000,68000,11000,23000,36000,42000,44172,49562,22500,25000,25000,25000,32093,47379,19000,15000,19000,42000,41123,48000,22000,30043,15000,25000,37000,45000,20000,32500,43000,16000,28000,25000,41000,39700,49562,37000,65000,43000,75000,20000,45000,44000,90089,37000,65000,44000,75000,50000,70000,28000,90000,96000,35748,65500,60000,16500,19900,110000,22000,23000,24000,30500,18000,32000,36540,45000,13800,48000,20200,114600,28000,19915,20000,30000,26500,31420,14200,65000,20000,103763,16000,22700,28000,23980,51000,36000,20000,114580,32277,45000,26000,70000,19800,98728,38500,65000,41700,114580,45000,45000,114500,21000,114600,73780,42907,30791,73303,33266,62628,74765,30867,35238,32790,33288,35713,55759,38687,32257,73423,38962,71169,58007,31823,35267,33288,33759,32733,52733,37307,72510,27833,34857,73303,62502,30223,35950,29039,34959,33288,50026,47673,61381,74559,31818,73303,35500,34520,38971,73303,73347,55205,59978,62628,51426,73603,63117,56247,73425,75338,91856,61219,52395,93194,81061,50535,54456,63113,44132,61428,93869,74624,54453,60790,83401,71528,62387,76322,54453,63160,83401,93869,63089,63998,52535,72404,74914,77217,52959,60578,63998,53001,60246,53121,60277,90469,61355,84147,54367,71030,53400,63500,72000,83500,74110,91856,91500,94194,80000,29750,35200,36500,27650,38100,55000,38000,39100,77000,33500,36000,38100,54587,43300,49000,31800,38500,36000,35500,33500,80000,48000,36000,35500,31800,55000,41275,45500,43300,35500,33140,39500,80000,57000,36000,39100,31800,33400,41275,45500,30600,35500,38500,31800,39100,42000,80000,55000,45500,31800,77000,29800,33000,31800,30600,80000,49500,60000,43300,60000,80000,44000,80000,62561,33679,30157,32218,34050,25186,52721,28588,32239,33842,31081,27217,55256,48760,30957,37306,35854,43500,52328,38070,36194,24000,35927,47226,36472,36750,45610,42299,66108,60778,39700,31000,48100,33681,47085,65320,44864,45777,30176,31024,38524,43605,65862,39291,46640,45213,26482,50239,25176,40582,39747,38926,36380,40440,45666,38588,47436,37337,42114,44233,65625,61058,63483,69029,64950,52000,48000,62959,49480,37216,41000,45000,46000,52000,43000,48000,52000,72000,43000,66000,65000,50000,41000,72000,52000,52000,43000,48000,45000,46000,41000,66000,43000,65000,50000,52000,43000,72000,46000,45000,38000,52000,66000,48000,50000,41000,52000,65000,46000,72000,43000,45000,66000,43000,52000,41000,46000,45000,65000,43000,72000,50000,52000,48000,65000,66000,52000,69000,84490,64100,31513,55686,38646,30325,38833,62660,83465,30620,62869,23871,37034,54331,32664,62453,42658,82174,31593,35370,38294,45573,64100,62010,34812,38074,26643,38229,84455,63644,34872,54386,39415,33425,38891,61874,36893,35827,37836,83391,34850,53412,63093,27967,34763,62712,41958,28042,30597,34976,40510,84377,61962,54096,36742,62955,40186,84017,64100,55359,62479,60960,36254,84490,62103,39216,48173,40275,57174,58679,39800,40267,68351,43012,74738,51081,39081,39760,56800,60342,37603,42877,74101,39982,68748,62575,39485,40285,51003,39224,57698,59621,40499,73819,42732,40123,39375,62996,69112,41212,57823,39706,40340,59095,48011,43285,40322,73749,67540,41876,39311,61397,57714,73804,58817,41242,67882,43063,63255,51227,74240,60342,68551,51179,58141,63267,68034,74738,78011,27015,62548,43866,41279,44190,40502,31136,41432,78011,43109,42300,43257,41064,40842,44190,64468,78011,42678,42718,40727,32789,43319,64468,40904,33167,44190,43472,44287,43319,32572,42873,36823,41970,33973,41685,44073,78011,43472,64468,41835,33061,44190,43319,42189,41970,33973,37168,42873,44287,78011,40851,41970,41466,64042,44190,43319,42873,39991,44287,64286,78011,64406,78011,67372,45334,41721,43418,88012,42925,39369,40875,59407,42608,40013,40432,39089,41663,42662,88103,40875,41797,44833,68463,41823,44259,42860,88966,41479,43738,44374,68895,39789,43983,43649,88668,44569,66784,42127,44297,41232,43627,44089,84985,43102,43984,67054,44851,43443,44097,85986,41378,44846,45032,40989,65985,42523,43847,44667,83720,43893,88235,44198,68895,88966,68294,44137,88966],\"y0\":\" \",\"yaxis\":\"y\",\"type\":\"box\"}],                        {\"template\":{\"data\":{\"histogram2dcontour\":[{\"type\":\"histogram2dcontour\",\"colorbar\":{\"outlinewidth\":0,\"ticks\":\"\"},\"colorscale\":[[0.0,\"#0d0887\"],[0.1111111111111111,\"#46039f\"],[0.2222222222222222,\"#7201a8\"],[0.3333333333333333,\"#9c179e\"],[0.4444444444444444,\"#bd3786\"],[0.5555555555555556,\"#d8576b\"],[0.6666666666666666,\"#ed7953\"],[0.7777777777777778,\"#fb9f3a\"],[0.8888888888888888,\"#fdca26\"],[1.0,\"#f0f921\"]]}],\"choropleth\":[{\"type\":\"choropleth\",\"colorbar\":{\"outlinewidth\":0,\"ticks\":\"\"}}],\"histogram2d\":[{\"type\":\"histogram2d\",\"colorbar\":{\"outlinewidth\":0,\"ticks\":\"\"},\"colorscale\":[[0.0,\"#0d0887\"],[0.1111111111111111,\"#46039f\"],[0.2222222222222222,\"#7201a8\"],[0.3333333333333333,\"#9c179e\"],[0.4444444444444444,\"#bd3786\"],[0.5555555555555556,\"#d8576b\"],[0.6666666666666666,\"#ed7953\"],[0.7777777777777778,\"#fb9f3a\"],[0.8888888888888888,\"#fdca26\"],[1.0,\"#f0f921\"]]}],\"heatmap\":[{\"type\":\"heatmap\",\"colorbar\":{\"outlinewidth\":0,\"ticks\":\"\"},\"colorscale\":[[0.0,\"#0d0887\"],[0.1111111111111111,\"#46039f\"],[0.2222222222222222,\"#7201a8\"],[0.3333333333333333,\"#9c179e\"],[0.4444444444444444,\"#bd3786\"],[0.5555555555555556,\"#d8576b\"],[0.6666666666666666,\"#ed7953\"],[0.7777777777777778,\"#fb9f3a\"],[0.8888888888888888,\"#fdca26\"],[1.0,\"#f0f921\"]]}],\"heatmapgl\":[{\"type\":\"heatmapgl\",\"colorbar\":{\"outlinewidth\":0,\"ticks\":\"\"},\"colorscale\":[[0.0,\"#0d0887\"],[0.1111111111111111,\"#46039f\"],[0.2222222222222222,\"#7201a8\"],[0.3333333333333333,\"#9c179e\"],[0.4444444444444444,\"#bd3786\"],[0.5555555555555556,\"#d8576b\"],[0.6666666666666666,\"#ed7953\"],[0.7777777777777778,\"#fb9f3a\"],[0.8888888888888888,\"#fdca26\"],[1.0,\"#f0f921\"]]}],\"contourcarpet\":[{\"type\":\"contourcarpet\",\"colorbar\":{\"outlinewidth\":0,\"ticks\":\"\"}}],\"contour\":[{\"type\":\"contour\",\"colorbar\":{\"outlinewidth\":0,\"ticks\":\"\"},\"colorscale\":[[0.0,\"#0d0887\"],[0.1111111111111111,\"#46039f\"],[0.2222222222222222,\"#7201a8\"],[0.3333333333333333,\"#9c179e\"],[0.4444444444444444,\"#bd3786\"],[0.5555555555555556,\"#d8576b\"],[0.6666666666666666,\"#ed7953\"],[0.7777777777777778,\"#fb9f3a\"],[0.8888888888888888,\"#fdca26\"],[1.0,\"#f0f921\"]]}],\"surface\":[{\"type\":\"surface\",\"colorbar\":{\"outlinewidth\":0,\"ticks\":\"\"},\"colorscale\":[[0.0,\"#0d0887\"],[0.1111111111111111,\"#46039f\"],[0.2222222222222222,\"#7201a8\"],[0.3333333333333333,\"#9c179e\"],[0.4444444444444444,\"#bd3786\"],[0.5555555555555556,\"#d8576b\"],[0.6666666666666666,\"#ed7953\"],[0.7777777777777778,\"#fb9f3a\"],[0.8888888888888888,\"#fdca26\"],[1.0,\"#f0f921\"]]}],\"mesh3d\":[{\"type\":\"mesh3d\",\"colorbar\":{\"outlinewidth\":0,\"ticks\":\"\"}}],\"scatter\":[{\"fillpattern\":{\"fillmode\":\"overlay\",\"size\":10,\"solidity\":0.2},\"type\":\"scatter\"}],\"parcoords\":[{\"type\":\"parcoords\",\"line\":{\"colorbar\":{\"outlinewidth\":0,\"ticks\":\"\"}}}],\"scatterpolargl\":[{\"type\":\"scatterpolargl\",\"marker\":{\"colorbar\":{\"outlinewidth\":0,\"ticks\":\"\"}}}],\"bar\":[{\"error_x\":{\"color\":\"#2a3f5f\"},\"error_y\":{\"color\":\"#2a3f5f\"},\"marker\":{\"line\":{\"color\":\"#E5ECF6\",\"width\":0.5},\"pattern\":{\"fillmode\":\"overlay\",\"size\":10,\"solidity\":0.2}},\"type\":\"bar\"}],\"scattergeo\":[{\"type\":\"scattergeo\",\"marker\":{\"colorbar\":{\"outlinewidth\":0,\"ticks\":\"\"}}}],\"scatterpolar\":[{\"type\":\"scatterpolar\",\"marker\":{\"colorbar\":{\"outlinewidth\":0,\"ticks\":\"\"}}}],\"histogram\":[{\"marker\":{\"pattern\":{\"fillmode\":\"overlay\",\"size\":10,\"solidity\":0.2}},\"type\":\"histogram\"}],\"scattergl\":[{\"type\":\"scattergl\",\"marker\":{\"colorbar\":{\"outlinewidth\":0,\"ticks\":\"\"}}}],\"scatter3d\":[{\"type\":\"scatter3d\",\"line\":{\"colorbar\":{\"outlinewidth\":0,\"ticks\":\"\"}},\"marker\":{\"colorbar\":{\"outlinewidth\":0,\"ticks\":\"\"}}}],\"scattermapbox\":[{\"type\":\"scattermapbox\",\"marker\":{\"colorbar\":{\"outlinewidth\":0,\"ticks\":\"\"}}}],\"scatterternary\":[{\"type\":\"scatterternary\",\"marker\":{\"colorbar\":{\"outlinewidth\":0,\"ticks\":\"\"}}}],\"scattercarpet\":[{\"type\":\"scattercarpet\",\"marker\":{\"colorbar\":{\"outlinewidth\":0,\"ticks\":\"\"}}}],\"carpet\":[{\"aaxis\":{\"endlinecolor\":\"#2a3f5f\",\"gridcolor\":\"white\",\"linecolor\":\"white\",\"minorgridcolor\":\"white\",\"startlinecolor\":\"#2a3f5f\"},\"baxis\":{\"endlinecolor\":\"#2a3f5f\",\"gridcolor\":\"white\",\"linecolor\":\"white\",\"minorgridcolor\":\"white\",\"startlinecolor\":\"#2a3f5f\"},\"type\":\"carpet\"}],\"table\":[{\"cells\":{\"fill\":{\"color\":\"#EBF0F8\"},\"line\":{\"color\":\"white\"}},\"header\":{\"fill\":{\"color\":\"#C8D4E3\"},\"line\":{\"color\":\"white\"}},\"type\":\"table\"}],\"barpolar\":[{\"marker\":{\"line\":{\"color\":\"#E5ECF6\",\"width\":0.5},\"pattern\":{\"fillmode\":\"overlay\",\"size\":10,\"solidity\":0.2}},\"type\":\"barpolar\"}],\"pie\":[{\"automargin\":true,\"type\":\"pie\"}]},\"layout\":{\"autotypenumbers\":\"strict\",\"colorway\":[\"#636efa\",\"#EF553B\",\"#00cc96\",\"#ab63fa\",\"#FFA15A\",\"#19d3f3\",\"#FF6692\",\"#B6E880\",\"#FF97FF\",\"#FECB52\"],\"font\":{\"color\":\"#2a3f5f\"},\"hovermode\":\"closest\",\"hoverlabel\":{\"align\":\"left\"},\"paper_bgcolor\":\"white\",\"plot_bgcolor\":\"#E5ECF6\",\"polar\":{\"bgcolor\":\"#E5ECF6\",\"angularaxis\":{\"gridcolor\":\"white\",\"linecolor\":\"white\",\"ticks\":\"\"},\"radialaxis\":{\"gridcolor\":\"white\",\"linecolor\":\"white\",\"ticks\":\"\"}},\"ternary\":{\"bgcolor\":\"#E5ECF6\",\"aaxis\":{\"gridcolor\":\"white\",\"linecolor\":\"white\",\"ticks\":\"\"},\"baxis\":{\"gridcolor\":\"white\",\"linecolor\":\"white\",\"ticks\":\"\"},\"caxis\":{\"gridcolor\":\"white\",\"linecolor\":\"white\",\"ticks\":\"\"}},\"coloraxis\":{\"colorbar\":{\"outlinewidth\":0,\"ticks\":\"\"}},\"colorscale\":{\"sequential\":[[0.0,\"#0d0887\"],[0.1111111111111111,\"#46039f\"],[0.2222222222222222,\"#7201a8\"],[0.3333333333333333,\"#9c179e\"],[0.4444444444444444,\"#bd3786\"],[0.5555555555555556,\"#d8576b\"],[0.6666666666666666,\"#ed7953\"],[0.7777777777777778,\"#fb9f3a\"],[0.8888888888888888,\"#fdca26\"],[1.0,\"#f0f921\"]],\"sequentialminus\":[[0.0,\"#0d0887\"],[0.1111111111111111,\"#46039f\"],[0.2222222222222222,\"#7201a8\"],[0.3333333333333333,\"#9c179e\"],[0.4444444444444444,\"#bd3786\"],[0.5555555555555556,\"#d8576b\"],[0.6666666666666666,\"#ed7953\"],[0.7777777777777778,\"#fb9f3a\"],[0.8888888888888888,\"#fdca26\"],[1.0,\"#f0f921\"]],\"diverging\":[[0,\"#8e0152\"],[0.1,\"#c51b7d\"],[0.2,\"#de77ae\"],[0.3,\"#f1b6da\"],[0.4,\"#fde0ef\"],[0.5,\"#f7f7f7\"],[0.6,\"#e6f5d0\"],[0.7,\"#b8e186\"],[0.8,\"#7fbc41\"],[0.9,\"#4d9221\"],[1,\"#276419\"]]},\"xaxis\":{\"gridcolor\":\"white\",\"linecolor\":\"white\",\"ticks\":\"\",\"title\":{\"standoff\":15},\"zerolinecolor\":\"white\",\"automargin\":true,\"zerolinewidth\":2},\"yaxis\":{\"gridcolor\":\"white\",\"linecolor\":\"white\",\"ticks\":\"\",\"title\":{\"standoff\":15},\"zerolinecolor\":\"white\",\"automargin\":true,\"zerolinewidth\":2},\"scene\":{\"xaxis\":{\"backgroundcolor\":\"#E5ECF6\",\"gridcolor\":\"white\",\"linecolor\":\"white\",\"showbackground\":true,\"ticks\":\"\",\"zerolinecolor\":\"white\",\"gridwidth\":2},\"yaxis\":{\"backgroundcolor\":\"#E5ECF6\",\"gridcolor\":\"white\",\"linecolor\":\"white\",\"showbackground\":true,\"ticks\":\"\",\"zerolinecolor\":\"white\",\"gridwidth\":2},\"zaxis\":{\"backgroundcolor\":\"#E5ECF6\",\"gridcolor\":\"white\",\"linecolor\":\"white\",\"showbackground\":true,\"ticks\":\"\",\"zerolinecolor\":\"white\",\"gridwidth\":2}},\"shapedefaults\":{\"line\":{\"color\":\"#2a3f5f\"}},\"annotationdefaults\":{\"arrowcolor\":\"#2a3f5f\",\"arrowhead\":0,\"arrowwidth\":1},\"geo\":{\"bgcolor\":\"white\",\"landcolor\":\"#E5ECF6\",\"subunitcolor\":\"white\",\"showland\":true,\"showlakes\":true,\"lakecolor\":\"white\"},\"title\":{\"x\":0.05},\"mapbox\":{\"style\":\"light\"}}},\"xaxis\":{\"anchor\":\"y\",\"domain\":[0.0,1.0],\"title\":{\"text\":\"tournament_name\"},\"tickangle\":45},\"yaxis\":{\"anchor\":\"x\",\"domain\":[0.0,1.0],\"title\":{\"text\":\"Attendance\"}},\"legend\":{\"tracegroupgap\":0},\"title\":{\"text\":\"Attendance Box Plot by Year\"},\"boxmode\":\"group\"},                        {\"responsive\": true}                    ).then(function(){\n",
              "                            \n",
              "var gd = document.getElementById('fd6dd5b0-42aa-45ed-a8bd-98a75dae28f0');\n",
              "var x = new MutationObserver(function (mutations, observer) {{\n",
              "        var display = window.getComputedStyle(gd).display;\n",
              "        if (!display || display === 'none') {{\n",
              "            console.log([gd, 'removed!']);\n",
              "            Plotly.purge(gd);\n",
              "            observer.disconnect();\n",
              "        }}\n",
              "}});\n",
              "\n",
              "// Listen for the removal of the full notebook cells\n",
              "var notebookContainer = gd.closest('#notebook-container');\n",
              "if (notebookContainer) {{\n",
              "    x.observe(notebookContainer, {childList: true});\n",
              "}}\n",
              "\n",
              "// Listen for the clearing of the current output cell\n",
              "var outputEl = gd.closest('.output');\n",
              "if (outputEl) {{\n",
              "    x.observe(outputEl, {childList: true});\n",
              "}}\n",
              "\n",
              "                        })                };                            </script>        </div>\n",
              "</body>\n",
              "</html>"
            ]
          },
          "metadata": {}
        }
      ]
    },
    {
      "cell_type": "markdown",
      "source": [
        "The max number of attendance was at The 1950 world cup .\n",
        "the min number of attendacne was at the first world cup in 1930.\n",
        "The largest median of attendace was at the 1994 world cup.\n"
      ],
      "metadata": {
        "id": "rFqZFiA338QS"
      }
    },
    {
      "cell_type": "markdown",
      "source": [
        "##B- Goals"
      ],
      "metadata": {
        "id": "uOrrJnG7FdmT"
      }
    },
    {
      "cell_type": "markdown",
      "source": [
        "###Mean min goal"
      ],
      "metadata": {
        "id": "i2m4fqITMZfQ"
      }
    },
    {
      "cell_type": "code",
      "source": [
        "mean_match_period_by_tournament = goals_data.groupby('tournament_name')['minute_regulation'].mean()\n",
        "\n",
        "fig = px.bar(mean_match_period_by_tournament, x=mean_match_period_by_tournament.index, y=mean_match_period_by_tournament.values,\n",
        "             labels={'x': 'Tournament', 'y': 'Mean Match Period'})\n",
        "fig.show()"
      ],
      "metadata": {
        "colab": {
          "base_uri": "https://localhost:8080/",
          "height": 542
        },
        "id": "xftkIrINQK6a",
        "outputId": "95123871-1b50-46fb-dfa7-1ea9579a5a4d"
      },
      "execution_count": null,
      "outputs": [
        {
          "output_type": "display_data",
          "data": {
            "text/html": [
              "<html>\n",
              "<head><meta charset=\"utf-8\" /></head>\n",
              "<body>\n",
              "    <div>            <script src=\"https://cdnjs.cloudflare.com/ajax/libs/mathjax/2.7.5/MathJax.js?config=TeX-AMS-MML_SVG\"></script><script type=\"text/javascript\">if (window.MathJax && window.MathJax.Hub && window.MathJax.Hub.Config) {window.MathJax.Hub.Config({SVG: {font: \"STIX-Web\"}});}</script>                <script type=\"text/javascript\">window.PlotlyConfig = {MathJaxConfig: 'local'};</script>\n",
              "        <script src=\"https://cdn.plot.ly/plotly-2.18.2.min.js\"></script>                <div id=\"c4aff383-bfbf-49c7-8791-7ee415d518a8\" class=\"plotly-graph-div\" style=\"height:525px; width:100%;\"></div>            <script type=\"text/javascript\">                                    window.PLOTLYENV=window.PLOTLYENV || {};                                    if (document.getElementById(\"c4aff383-bfbf-49c7-8791-7ee415d518a8\")) {                    Plotly.newPlot(                        \"c4aff383-bfbf-49c7-8791-7ee415d518a8\",                        [{\"alignmentgroup\":\"True\",\"hovertemplate\":\"tournament_name=%{x}<br>Mean Match Period=%{y}<extra></extra>\",\"legendgroup\":\"\",\"marker\":{\"color\":\"#636efa\",\"pattern\":{\"shape\":\"\"}},\"name\":\"\",\"offsetgroup\":\"\",\"orientation\":\"v\",\"showlegend\":false,\"textposition\":\"auto\",\"x\":[\"1930 FIFA World Cup\",\"1934 FIFA World Cup\",\"1938 FIFA World Cup\",\"1950 FIFA World Cup\",\"1954 FIFA World Cup\",\"1958 FIFA World Cup\",\"1962 FIFA World Cup\",\"1966 FIFA World Cup\",\"1970 FIFA World Cup\",\"1974 FIFA World Cup\",\"1978 FIFA World Cup\",\"1982 FIFA World Cup\",\"1986 FIFA World Cup\",\"1990 FIFA World Cup\",\"1994 FIFA World Cup\",\"1998 FIFA World Cup\",\"2002 FIFA World Cup\",\"2006 FIFA World Cup\",\"2010 FIFA World Cup\",\"2014 FIFA World Cup\",\"2018 FIFA World Cup\",\"2022 FIFA World Cup\"],\"xaxis\":\"x\",\"y\":[48.1,48.214285714285715,53.214285714285715,48.85227272727273,48.121428571428574,48.26190476190476,48.146067415730336,50.50561797752809,54.2,47.94845360824742,50.07843137254902,52.842465753424655,51.265151515151516,59.25217391304348,49.46808510638298,52.14035087719298,50.37888198757764,50.46938775510204,52.765517241379314,55.12280701754386,53.23076923076923,55.19186046511628],\"yaxis\":\"y\",\"type\":\"bar\"}],                        {\"template\":{\"data\":{\"histogram2dcontour\":[{\"type\":\"histogram2dcontour\",\"colorbar\":{\"outlinewidth\":0,\"ticks\":\"\"},\"colorscale\":[[0.0,\"#0d0887\"],[0.1111111111111111,\"#46039f\"],[0.2222222222222222,\"#7201a8\"],[0.3333333333333333,\"#9c179e\"],[0.4444444444444444,\"#bd3786\"],[0.5555555555555556,\"#d8576b\"],[0.6666666666666666,\"#ed7953\"],[0.7777777777777778,\"#fb9f3a\"],[0.8888888888888888,\"#fdca26\"],[1.0,\"#f0f921\"]]}],\"choropleth\":[{\"type\":\"choropleth\",\"colorbar\":{\"outlinewidth\":0,\"ticks\":\"\"}}],\"histogram2d\":[{\"type\":\"histogram2d\",\"colorbar\":{\"outlinewidth\":0,\"ticks\":\"\"},\"colorscale\":[[0.0,\"#0d0887\"],[0.1111111111111111,\"#46039f\"],[0.2222222222222222,\"#7201a8\"],[0.3333333333333333,\"#9c179e\"],[0.4444444444444444,\"#bd3786\"],[0.5555555555555556,\"#d8576b\"],[0.6666666666666666,\"#ed7953\"],[0.7777777777777778,\"#fb9f3a\"],[0.8888888888888888,\"#fdca26\"],[1.0,\"#f0f921\"]]}],\"heatmap\":[{\"type\":\"heatmap\",\"colorbar\":{\"outlinewidth\":0,\"ticks\":\"\"},\"colorscale\":[[0.0,\"#0d0887\"],[0.1111111111111111,\"#46039f\"],[0.2222222222222222,\"#7201a8\"],[0.3333333333333333,\"#9c179e\"],[0.4444444444444444,\"#bd3786\"],[0.5555555555555556,\"#d8576b\"],[0.6666666666666666,\"#ed7953\"],[0.7777777777777778,\"#fb9f3a\"],[0.8888888888888888,\"#fdca26\"],[1.0,\"#f0f921\"]]}],\"heatmapgl\":[{\"type\":\"heatmapgl\",\"colorbar\":{\"outlinewidth\":0,\"ticks\":\"\"},\"colorscale\":[[0.0,\"#0d0887\"],[0.1111111111111111,\"#46039f\"],[0.2222222222222222,\"#7201a8\"],[0.3333333333333333,\"#9c179e\"],[0.4444444444444444,\"#bd3786\"],[0.5555555555555556,\"#d8576b\"],[0.6666666666666666,\"#ed7953\"],[0.7777777777777778,\"#fb9f3a\"],[0.8888888888888888,\"#fdca26\"],[1.0,\"#f0f921\"]]}],\"contourcarpet\":[{\"type\":\"contourcarpet\",\"colorbar\":{\"outlinewidth\":0,\"ticks\":\"\"}}],\"contour\":[{\"type\":\"contour\",\"colorbar\":{\"outlinewidth\":0,\"ticks\":\"\"},\"colorscale\":[[0.0,\"#0d0887\"],[0.1111111111111111,\"#46039f\"],[0.2222222222222222,\"#7201a8\"],[0.3333333333333333,\"#9c179e\"],[0.4444444444444444,\"#bd3786\"],[0.5555555555555556,\"#d8576b\"],[0.6666666666666666,\"#ed7953\"],[0.7777777777777778,\"#fb9f3a\"],[0.8888888888888888,\"#fdca26\"],[1.0,\"#f0f921\"]]}],\"surface\":[{\"type\":\"surface\",\"colorbar\":{\"outlinewidth\":0,\"ticks\":\"\"},\"colorscale\":[[0.0,\"#0d0887\"],[0.1111111111111111,\"#46039f\"],[0.2222222222222222,\"#7201a8\"],[0.3333333333333333,\"#9c179e\"],[0.4444444444444444,\"#bd3786\"],[0.5555555555555556,\"#d8576b\"],[0.6666666666666666,\"#ed7953\"],[0.7777777777777778,\"#fb9f3a\"],[0.8888888888888888,\"#fdca26\"],[1.0,\"#f0f921\"]]}],\"mesh3d\":[{\"type\":\"mesh3d\",\"colorbar\":{\"outlinewidth\":0,\"ticks\":\"\"}}],\"scatter\":[{\"fillpattern\":{\"fillmode\":\"overlay\",\"size\":10,\"solidity\":0.2},\"type\":\"scatter\"}],\"parcoords\":[{\"type\":\"parcoords\",\"line\":{\"colorbar\":{\"outlinewidth\":0,\"ticks\":\"\"}}}],\"scatterpolargl\":[{\"type\":\"scatterpolargl\",\"marker\":{\"colorbar\":{\"outlinewidth\":0,\"ticks\":\"\"}}}],\"bar\":[{\"error_x\":{\"color\":\"#2a3f5f\"},\"error_y\":{\"color\":\"#2a3f5f\"},\"marker\":{\"line\":{\"color\":\"#E5ECF6\",\"width\":0.5},\"pattern\":{\"fillmode\":\"overlay\",\"size\":10,\"solidity\":0.2}},\"type\":\"bar\"}],\"scattergeo\":[{\"type\":\"scattergeo\",\"marker\":{\"colorbar\":{\"outlinewidth\":0,\"ticks\":\"\"}}}],\"scatterpolar\":[{\"type\":\"scatterpolar\",\"marker\":{\"colorbar\":{\"outlinewidth\":0,\"ticks\":\"\"}}}],\"histogram\":[{\"marker\":{\"pattern\":{\"fillmode\":\"overlay\",\"size\":10,\"solidity\":0.2}},\"type\":\"histogram\"}],\"scattergl\":[{\"type\":\"scattergl\",\"marker\":{\"colorbar\":{\"outlinewidth\":0,\"ticks\":\"\"}}}],\"scatter3d\":[{\"type\":\"scatter3d\",\"line\":{\"colorbar\":{\"outlinewidth\":0,\"ticks\":\"\"}},\"marker\":{\"colorbar\":{\"outlinewidth\":0,\"ticks\":\"\"}}}],\"scattermapbox\":[{\"type\":\"scattermapbox\",\"marker\":{\"colorbar\":{\"outlinewidth\":0,\"ticks\":\"\"}}}],\"scatterternary\":[{\"type\":\"scatterternary\",\"marker\":{\"colorbar\":{\"outlinewidth\":0,\"ticks\":\"\"}}}],\"scattercarpet\":[{\"type\":\"scattercarpet\",\"marker\":{\"colorbar\":{\"outlinewidth\":0,\"ticks\":\"\"}}}],\"carpet\":[{\"aaxis\":{\"endlinecolor\":\"#2a3f5f\",\"gridcolor\":\"white\",\"linecolor\":\"white\",\"minorgridcolor\":\"white\",\"startlinecolor\":\"#2a3f5f\"},\"baxis\":{\"endlinecolor\":\"#2a3f5f\",\"gridcolor\":\"white\",\"linecolor\":\"white\",\"minorgridcolor\":\"white\",\"startlinecolor\":\"#2a3f5f\"},\"type\":\"carpet\"}],\"table\":[{\"cells\":{\"fill\":{\"color\":\"#EBF0F8\"},\"line\":{\"color\":\"white\"}},\"header\":{\"fill\":{\"color\":\"#C8D4E3\"},\"line\":{\"color\":\"white\"}},\"type\":\"table\"}],\"barpolar\":[{\"marker\":{\"line\":{\"color\":\"#E5ECF6\",\"width\":0.5},\"pattern\":{\"fillmode\":\"overlay\",\"size\":10,\"solidity\":0.2}},\"type\":\"barpolar\"}],\"pie\":[{\"automargin\":true,\"type\":\"pie\"}]},\"layout\":{\"autotypenumbers\":\"strict\",\"colorway\":[\"#636efa\",\"#EF553B\",\"#00cc96\",\"#ab63fa\",\"#FFA15A\",\"#19d3f3\",\"#FF6692\",\"#B6E880\",\"#FF97FF\",\"#FECB52\"],\"font\":{\"color\":\"#2a3f5f\"},\"hovermode\":\"closest\",\"hoverlabel\":{\"align\":\"left\"},\"paper_bgcolor\":\"white\",\"plot_bgcolor\":\"#E5ECF6\",\"polar\":{\"bgcolor\":\"#E5ECF6\",\"angularaxis\":{\"gridcolor\":\"white\",\"linecolor\":\"white\",\"ticks\":\"\"},\"radialaxis\":{\"gridcolor\":\"white\",\"linecolor\":\"white\",\"ticks\":\"\"}},\"ternary\":{\"bgcolor\":\"#E5ECF6\",\"aaxis\":{\"gridcolor\":\"white\",\"linecolor\":\"white\",\"ticks\":\"\"},\"baxis\":{\"gridcolor\":\"white\",\"linecolor\":\"white\",\"ticks\":\"\"},\"caxis\":{\"gridcolor\":\"white\",\"linecolor\":\"white\",\"ticks\":\"\"}},\"coloraxis\":{\"colorbar\":{\"outlinewidth\":0,\"ticks\":\"\"}},\"colorscale\":{\"sequential\":[[0.0,\"#0d0887\"],[0.1111111111111111,\"#46039f\"],[0.2222222222222222,\"#7201a8\"],[0.3333333333333333,\"#9c179e\"],[0.4444444444444444,\"#bd3786\"],[0.5555555555555556,\"#d8576b\"],[0.6666666666666666,\"#ed7953\"],[0.7777777777777778,\"#fb9f3a\"],[0.8888888888888888,\"#fdca26\"],[1.0,\"#f0f921\"]],\"sequentialminus\":[[0.0,\"#0d0887\"],[0.1111111111111111,\"#46039f\"],[0.2222222222222222,\"#7201a8\"],[0.3333333333333333,\"#9c179e\"],[0.4444444444444444,\"#bd3786\"],[0.5555555555555556,\"#d8576b\"],[0.6666666666666666,\"#ed7953\"],[0.7777777777777778,\"#fb9f3a\"],[0.8888888888888888,\"#fdca26\"],[1.0,\"#f0f921\"]],\"diverging\":[[0,\"#8e0152\"],[0.1,\"#c51b7d\"],[0.2,\"#de77ae\"],[0.3,\"#f1b6da\"],[0.4,\"#fde0ef\"],[0.5,\"#f7f7f7\"],[0.6,\"#e6f5d0\"],[0.7,\"#b8e186\"],[0.8,\"#7fbc41\"],[0.9,\"#4d9221\"],[1,\"#276419\"]]},\"xaxis\":{\"gridcolor\":\"white\",\"linecolor\":\"white\",\"ticks\":\"\",\"title\":{\"standoff\":15},\"zerolinecolor\":\"white\",\"automargin\":true,\"zerolinewidth\":2},\"yaxis\":{\"gridcolor\":\"white\",\"linecolor\":\"white\",\"ticks\":\"\",\"title\":{\"standoff\":15},\"zerolinecolor\":\"white\",\"automargin\":true,\"zerolinewidth\":2},\"scene\":{\"xaxis\":{\"backgroundcolor\":\"#E5ECF6\",\"gridcolor\":\"white\",\"linecolor\":\"white\",\"showbackground\":true,\"ticks\":\"\",\"zerolinecolor\":\"white\",\"gridwidth\":2},\"yaxis\":{\"backgroundcolor\":\"#E5ECF6\",\"gridcolor\":\"white\",\"linecolor\":\"white\",\"showbackground\":true,\"ticks\":\"\",\"zerolinecolor\":\"white\",\"gridwidth\":2},\"zaxis\":{\"backgroundcolor\":\"#E5ECF6\",\"gridcolor\":\"white\",\"linecolor\":\"white\",\"showbackground\":true,\"ticks\":\"\",\"zerolinecolor\":\"white\",\"gridwidth\":2}},\"shapedefaults\":{\"line\":{\"color\":\"#2a3f5f\"}},\"annotationdefaults\":{\"arrowcolor\":\"#2a3f5f\",\"arrowhead\":0,\"arrowwidth\":1},\"geo\":{\"bgcolor\":\"white\",\"landcolor\":\"#E5ECF6\",\"subunitcolor\":\"white\",\"showland\":true,\"showlakes\":true,\"lakecolor\":\"white\"},\"title\":{\"x\":0.05},\"mapbox\":{\"style\":\"light\"}}},\"xaxis\":{\"anchor\":\"y\",\"domain\":[0.0,1.0],\"title\":{\"text\":\"tournament_name\"}},\"yaxis\":{\"anchor\":\"x\",\"domain\":[0.0,1.0],\"title\":{\"text\":\"Mean Match Period\"}},\"legend\":{\"tracegroupgap\":0},\"margin\":{\"t\":60},\"barmode\":\"relative\"},                        {\"responsive\": true}                    ).then(function(){\n",
              "                            \n",
              "var gd = document.getElementById('c4aff383-bfbf-49c7-8791-7ee415d518a8');\n",
              "var x = new MutationObserver(function (mutations, observer) {{\n",
              "        var display = window.getComputedStyle(gd).display;\n",
              "        if (!display || display === 'none') {{\n",
              "            console.log([gd, 'removed!']);\n",
              "            Plotly.purge(gd);\n",
              "            observer.disconnect();\n",
              "        }}\n",
              "}});\n",
              "\n",
              "// Listen for the removal of the full notebook cells\n",
              "var notebookContainer = gd.closest('#notebook-container');\n",
              "if (notebookContainer) {{\n",
              "    x.observe(notebookContainer, {childList: true});\n",
              "}}\n",
              "\n",
              "// Listen for the clearing of the current output cell\n",
              "var outputEl = gd.closest('.output');\n",
              "if (outputEl) {{\n",
              "    x.observe(outputEl, {childList: true});\n",
              "}}\n",
              "\n",
              "                        })                };                            </script>        </div>\n",
              "</body>\n",
              "</html>"
            ]
          },
          "metadata": {}
        }
      ]
    },
    {
      "cell_type": "markdown",
      "source": [
        "###Histogram for Total number of goals per Match"
      ],
      "metadata": {
        "id": "nWfYPa-wMlGe"
      }
    },
    {
      "cell_type": "code",
      "source": [
        "total_goals_per_match = goals_data.groupby('match_id')['goal_id'].count()\n",
        "\n",
        "fig = go.Figure(data=[go.Histogram(x=total_goals_per_match, nbinsx=20)])\n",
        "\n",
        "fig.update_layout(title='Distribution of Total Goals per Match',\n",
        "                  xaxis_title='Total Goals',\n",
        "                  yaxis_title='Count')\n",
        "fig.show()"
      ],
      "metadata": {
        "colab": {
          "base_uri": "https://localhost:8080/",
          "height": 542
        },
        "id": "I3t-BoRxRUSZ",
        "outputId": "4a3bc92a-1e68-42be-c342-2d019cee0cb3"
      },
      "execution_count": null,
      "outputs": [
        {
          "output_type": "display_data",
          "data": {
            "text/html": [
              "<html>\n",
              "<head><meta charset=\"utf-8\" /></head>\n",
              "<body>\n",
              "    <div>            <script src=\"https://cdnjs.cloudflare.com/ajax/libs/mathjax/2.7.5/MathJax.js?config=TeX-AMS-MML_SVG\"></script><script type=\"text/javascript\">if (window.MathJax && window.MathJax.Hub && window.MathJax.Hub.Config) {window.MathJax.Hub.Config({SVG: {font: \"STIX-Web\"}});}</script>                <script type=\"text/javascript\">window.PlotlyConfig = {MathJaxConfig: 'local'};</script>\n",
              "        <script src=\"https://cdn.plot.ly/plotly-2.18.2.min.js\"></script>                <div id=\"ea879eb4-7965-4505-b8bf-573c376f7815\" class=\"plotly-graph-div\" style=\"height:525px; width:100%;\"></div>            <script type=\"text/javascript\">                                    window.PLOTLYENV=window.PLOTLYENV || {};                                    if (document.getElementById(\"ea879eb4-7965-4505-b8bf-573c376f7815\")) {                    Plotly.newPlot(                        \"ea879eb4-7965-4505-b8bf-573c376f7815\",                        [{\"nbinsx\":20,\"x\":[5,3,3,4,1,3,4,3,1,1,9,4,1,4,4,7,7,6,5,3,7,6,8,4,5,5,3,5,3,2,1,4,1,5,3,2,6,4,6,3,11,3,3,6,2,2,4,8,3,6,3,6,6,4,3,2,4,5,4,5,2,1,4,2,7,1,2,8,3,8,4,7,5,4,3,5,1,1,2,3,9,5,8,7,2,5,5,11,7,5,2,9,5,12,6,6,2,6,7,4,5,3,4,1,10,2,2,3,4,4,4,5,5,2,2,3,7,4,3,6,4,2,4,3,3,1,1,4,2,1,7,4,9,7,3,4,2,1,2,1,3,4,2,4,8,3,1,7,3,2,3,5,3,4,4,3,1,1,6,4,1,4,5,2,3,2,3,4,2,3,3,4,2,3,1,2,2,4,1,2,3,4,3,1,8,3,4,3,3,3,6,2,1,5,3,1,5,3,5,3,3,4,2,1,7,2,1,5,4,1,1,2,6,5,1,5,4,7,1,5,1,2,2,2,4,5,3,2,9,2,2,7,2,3,1,5,3,5,3,2,1,4,1,3,2,3,6,1,2,2,3,1,3,3,4,3,3,2,3,4,4,1,6,3,1,2,4,4,1,1,1,5,5,6,3,2,1,1,4,5,3,4,6,3,4,1,3,11,7,3,4,2,1,2,2,5,5,1,3,5,2,3,2,5,2,6,2,4,2,2,4,5,2,1,1,1,1,1,3,3,4,1,4,3,5,5,2,6,5,4,2,1,1,4,6,3,2,1,1,2,1,2,2,2,2,1,2,3,1,3,3,7,3,2,2,5,1,4,3,4,3,3,2,2,7,4,1,2,1,3,6,2,3,2,2,2,6,5,1,2,2,1,6,3,5,1,2,2,2,2,3,1,1,1,6,1,3,4,4,2,4,2,5,3,2,1,3,3,1,1,2,3,5,1,3,2,3,1,1,1,5,2,2,3,1,1,4,2,1,4,1,1,4,2,3,4,2,3,5,3,1,3,3,4,1,3,3,4,2,1,4,5,2,7,2,1,3,2,2,5,3,4,5,2,1,3,2,3,5,3,4,3,1,4,3,4,4,2,1,3,5,4,1,1,4,2,1,2,2,3,2,3,2,4,1,1,4,5,4,5,3,1,3,2,3,3,3,3,4,4,7,2,4,2,1,1,3,2,2,1,5,1,5,3,3,1,4,5,3,3,2,3,3,3,1,2,3,8,1,4,2,4,1,3,2,2,4,2,2,5,2,2,1,3,4,1,1,3,4,3,2,1,2,2,4,2,6,2,3,2,4,5,7,3,1,2,5,2,4,1,1,3,3,2,2,2,1,3,3,1,1,1,1,5,2,6,2,1,3,1,4,1,4,3,2,3,1,4,4,1,3,2,1,6,3,2,2,2,2,2,2,4,4,3,3,2,4,2,3,5,2,3,4,5,1,1,2,2,2,3,1,1,1,3,4,2,3,1,2,1,4,2,2,2,1,2,1,1,4,2,1,2,2,3,1,1,3,5,3,2,1,4,1,2,3,2,2,4,7,1,2,3,1,2,4,1,1,3,1,5,3,4,3,3,3,3,5,4,3,3,1,3,2,4,1,5,1,5,1,4,1,6,4,3,4,3,3,3,3,3,4,3,3,2,5,2,4,3,3,1,7,3,1,4,1,1,6,4,3,2,5,4,1,5,3,4,5,3,3,1,2,1,2,2,3,2,2,3,1,3,1,3,1,8,3,1,5,1,1,6,3,2,1,2,1,1,2,1,3,3,3,3,4,1,1,1,2,1,3,2,2,3,7,3,3,7,4,3,3,3,4,2,2,3,3,2,3,2,4,1,1,1,3,7,3,2,2,2,5,1,2,2,3,2,4,1,3,2,6,2,8,2,2,3,5,3,7,1,1,5,2,2,4,2,1,2,3,2,1,2,5,2,6,5,1,2,3,2,1,3,1,1,2,3,3,6,3,2,3,1,5,4,3,4,3,2,5,7,2,4,1,3,3,2,3,6],\"type\":\"histogram\"}],                        {\"template\":{\"data\":{\"histogram2dcontour\":[{\"type\":\"histogram2dcontour\",\"colorbar\":{\"outlinewidth\":0,\"ticks\":\"\"},\"colorscale\":[[0.0,\"#0d0887\"],[0.1111111111111111,\"#46039f\"],[0.2222222222222222,\"#7201a8\"],[0.3333333333333333,\"#9c179e\"],[0.4444444444444444,\"#bd3786\"],[0.5555555555555556,\"#d8576b\"],[0.6666666666666666,\"#ed7953\"],[0.7777777777777778,\"#fb9f3a\"],[0.8888888888888888,\"#fdca26\"],[1.0,\"#f0f921\"]]}],\"choropleth\":[{\"type\":\"choropleth\",\"colorbar\":{\"outlinewidth\":0,\"ticks\":\"\"}}],\"histogram2d\":[{\"type\":\"histogram2d\",\"colorbar\":{\"outlinewidth\":0,\"ticks\":\"\"},\"colorscale\":[[0.0,\"#0d0887\"],[0.1111111111111111,\"#46039f\"],[0.2222222222222222,\"#7201a8\"],[0.3333333333333333,\"#9c179e\"],[0.4444444444444444,\"#bd3786\"],[0.5555555555555556,\"#d8576b\"],[0.6666666666666666,\"#ed7953\"],[0.7777777777777778,\"#fb9f3a\"],[0.8888888888888888,\"#fdca26\"],[1.0,\"#f0f921\"]]}],\"heatmap\":[{\"type\":\"heatmap\",\"colorbar\":{\"outlinewidth\":0,\"ticks\":\"\"},\"colorscale\":[[0.0,\"#0d0887\"],[0.1111111111111111,\"#46039f\"],[0.2222222222222222,\"#7201a8\"],[0.3333333333333333,\"#9c179e\"],[0.4444444444444444,\"#bd3786\"],[0.5555555555555556,\"#d8576b\"],[0.6666666666666666,\"#ed7953\"],[0.7777777777777778,\"#fb9f3a\"],[0.8888888888888888,\"#fdca26\"],[1.0,\"#f0f921\"]]}],\"heatmapgl\":[{\"type\":\"heatmapgl\",\"colorbar\":{\"outlinewidth\":0,\"ticks\":\"\"},\"colorscale\":[[0.0,\"#0d0887\"],[0.1111111111111111,\"#46039f\"],[0.2222222222222222,\"#7201a8\"],[0.3333333333333333,\"#9c179e\"],[0.4444444444444444,\"#bd3786\"],[0.5555555555555556,\"#d8576b\"],[0.6666666666666666,\"#ed7953\"],[0.7777777777777778,\"#fb9f3a\"],[0.8888888888888888,\"#fdca26\"],[1.0,\"#f0f921\"]]}],\"contourcarpet\":[{\"type\":\"contourcarpet\",\"colorbar\":{\"outlinewidth\":0,\"ticks\":\"\"}}],\"contour\":[{\"type\":\"contour\",\"colorbar\":{\"outlinewidth\":0,\"ticks\":\"\"},\"colorscale\":[[0.0,\"#0d0887\"],[0.1111111111111111,\"#46039f\"],[0.2222222222222222,\"#7201a8\"],[0.3333333333333333,\"#9c179e\"],[0.4444444444444444,\"#bd3786\"],[0.5555555555555556,\"#d8576b\"],[0.6666666666666666,\"#ed7953\"],[0.7777777777777778,\"#fb9f3a\"],[0.8888888888888888,\"#fdca26\"],[1.0,\"#f0f921\"]]}],\"surface\":[{\"type\":\"surface\",\"colorbar\":{\"outlinewidth\":0,\"ticks\":\"\"},\"colorscale\":[[0.0,\"#0d0887\"],[0.1111111111111111,\"#46039f\"],[0.2222222222222222,\"#7201a8\"],[0.3333333333333333,\"#9c179e\"],[0.4444444444444444,\"#bd3786\"],[0.5555555555555556,\"#d8576b\"],[0.6666666666666666,\"#ed7953\"],[0.7777777777777778,\"#fb9f3a\"],[0.8888888888888888,\"#fdca26\"],[1.0,\"#f0f921\"]]}],\"mesh3d\":[{\"type\":\"mesh3d\",\"colorbar\":{\"outlinewidth\":0,\"ticks\":\"\"}}],\"scatter\":[{\"fillpattern\":{\"fillmode\":\"overlay\",\"size\":10,\"solidity\":0.2},\"type\":\"scatter\"}],\"parcoords\":[{\"type\":\"parcoords\",\"line\":{\"colorbar\":{\"outlinewidth\":0,\"ticks\":\"\"}}}],\"scatterpolargl\":[{\"type\":\"scatterpolargl\",\"marker\":{\"colorbar\":{\"outlinewidth\":0,\"ticks\":\"\"}}}],\"bar\":[{\"error_x\":{\"color\":\"#2a3f5f\"},\"error_y\":{\"color\":\"#2a3f5f\"},\"marker\":{\"line\":{\"color\":\"#E5ECF6\",\"width\":0.5},\"pattern\":{\"fillmode\":\"overlay\",\"size\":10,\"solidity\":0.2}},\"type\":\"bar\"}],\"scattergeo\":[{\"type\":\"scattergeo\",\"marker\":{\"colorbar\":{\"outlinewidth\":0,\"ticks\":\"\"}}}],\"scatterpolar\":[{\"type\":\"scatterpolar\",\"marker\":{\"colorbar\":{\"outlinewidth\":0,\"ticks\":\"\"}}}],\"histogram\":[{\"marker\":{\"pattern\":{\"fillmode\":\"overlay\",\"size\":10,\"solidity\":0.2}},\"type\":\"histogram\"}],\"scattergl\":[{\"type\":\"scattergl\",\"marker\":{\"colorbar\":{\"outlinewidth\":0,\"ticks\":\"\"}}}],\"scatter3d\":[{\"type\":\"scatter3d\",\"line\":{\"colorbar\":{\"outlinewidth\":0,\"ticks\":\"\"}},\"marker\":{\"colorbar\":{\"outlinewidth\":0,\"ticks\":\"\"}}}],\"scattermapbox\":[{\"type\":\"scattermapbox\",\"marker\":{\"colorbar\":{\"outlinewidth\":0,\"ticks\":\"\"}}}],\"scatterternary\":[{\"type\":\"scatterternary\",\"marker\":{\"colorbar\":{\"outlinewidth\":0,\"ticks\":\"\"}}}],\"scattercarpet\":[{\"type\":\"scattercarpet\",\"marker\":{\"colorbar\":{\"outlinewidth\":0,\"ticks\":\"\"}}}],\"carpet\":[{\"aaxis\":{\"endlinecolor\":\"#2a3f5f\",\"gridcolor\":\"white\",\"linecolor\":\"white\",\"minorgridcolor\":\"white\",\"startlinecolor\":\"#2a3f5f\"},\"baxis\":{\"endlinecolor\":\"#2a3f5f\",\"gridcolor\":\"white\",\"linecolor\":\"white\",\"minorgridcolor\":\"white\",\"startlinecolor\":\"#2a3f5f\"},\"type\":\"carpet\"}],\"table\":[{\"cells\":{\"fill\":{\"color\":\"#EBF0F8\"},\"line\":{\"color\":\"white\"}},\"header\":{\"fill\":{\"color\":\"#C8D4E3\"},\"line\":{\"color\":\"white\"}},\"type\":\"table\"}],\"barpolar\":[{\"marker\":{\"line\":{\"color\":\"#E5ECF6\",\"width\":0.5},\"pattern\":{\"fillmode\":\"overlay\",\"size\":10,\"solidity\":0.2}},\"type\":\"barpolar\"}],\"pie\":[{\"automargin\":true,\"type\":\"pie\"}]},\"layout\":{\"autotypenumbers\":\"strict\",\"colorway\":[\"#636efa\",\"#EF553B\",\"#00cc96\",\"#ab63fa\",\"#FFA15A\",\"#19d3f3\",\"#FF6692\",\"#B6E880\",\"#FF97FF\",\"#FECB52\"],\"font\":{\"color\":\"#2a3f5f\"},\"hovermode\":\"closest\",\"hoverlabel\":{\"align\":\"left\"},\"paper_bgcolor\":\"white\",\"plot_bgcolor\":\"#E5ECF6\",\"polar\":{\"bgcolor\":\"#E5ECF6\",\"angularaxis\":{\"gridcolor\":\"white\",\"linecolor\":\"white\",\"ticks\":\"\"},\"radialaxis\":{\"gridcolor\":\"white\",\"linecolor\":\"white\",\"ticks\":\"\"}},\"ternary\":{\"bgcolor\":\"#E5ECF6\",\"aaxis\":{\"gridcolor\":\"white\",\"linecolor\":\"white\",\"ticks\":\"\"},\"baxis\":{\"gridcolor\":\"white\",\"linecolor\":\"white\",\"ticks\":\"\"},\"caxis\":{\"gridcolor\":\"white\",\"linecolor\":\"white\",\"ticks\":\"\"}},\"coloraxis\":{\"colorbar\":{\"outlinewidth\":0,\"ticks\":\"\"}},\"colorscale\":{\"sequential\":[[0.0,\"#0d0887\"],[0.1111111111111111,\"#46039f\"],[0.2222222222222222,\"#7201a8\"],[0.3333333333333333,\"#9c179e\"],[0.4444444444444444,\"#bd3786\"],[0.5555555555555556,\"#d8576b\"],[0.6666666666666666,\"#ed7953\"],[0.7777777777777778,\"#fb9f3a\"],[0.8888888888888888,\"#fdca26\"],[1.0,\"#f0f921\"]],\"sequentialminus\":[[0.0,\"#0d0887\"],[0.1111111111111111,\"#46039f\"],[0.2222222222222222,\"#7201a8\"],[0.3333333333333333,\"#9c179e\"],[0.4444444444444444,\"#bd3786\"],[0.5555555555555556,\"#d8576b\"],[0.6666666666666666,\"#ed7953\"],[0.7777777777777778,\"#fb9f3a\"],[0.8888888888888888,\"#fdca26\"],[1.0,\"#f0f921\"]],\"diverging\":[[0,\"#8e0152\"],[0.1,\"#c51b7d\"],[0.2,\"#de77ae\"],[0.3,\"#f1b6da\"],[0.4,\"#fde0ef\"],[0.5,\"#f7f7f7\"],[0.6,\"#e6f5d0\"],[0.7,\"#b8e186\"],[0.8,\"#7fbc41\"],[0.9,\"#4d9221\"],[1,\"#276419\"]]},\"xaxis\":{\"gridcolor\":\"white\",\"linecolor\":\"white\",\"ticks\":\"\",\"title\":{\"standoff\":15},\"zerolinecolor\":\"white\",\"automargin\":true,\"zerolinewidth\":2},\"yaxis\":{\"gridcolor\":\"white\",\"linecolor\":\"white\",\"ticks\":\"\",\"title\":{\"standoff\":15},\"zerolinecolor\":\"white\",\"automargin\":true,\"zerolinewidth\":2},\"scene\":{\"xaxis\":{\"backgroundcolor\":\"#E5ECF6\",\"gridcolor\":\"white\",\"linecolor\":\"white\",\"showbackground\":true,\"ticks\":\"\",\"zerolinecolor\":\"white\",\"gridwidth\":2},\"yaxis\":{\"backgroundcolor\":\"#E5ECF6\",\"gridcolor\":\"white\",\"linecolor\":\"white\",\"showbackground\":true,\"ticks\":\"\",\"zerolinecolor\":\"white\",\"gridwidth\":2},\"zaxis\":{\"backgroundcolor\":\"#E5ECF6\",\"gridcolor\":\"white\",\"linecolor\":\"white\",\"showbackground\":true,\"ticks\":\"\",\"zerolinecolor\":\"white\",\"gridwidth\":2}},\"shapedefaults\":{\"line\":{\"color\":\"#2a3f5f\"}},\"annotationdefaults\":{\"arrowcolor\":\"#2a3f5f\",\"arrowhead\":0,\"arrowwidth\":1},\"geo\":{\"bgcolor\":\"white\",\"landcolor\":\"#E5ECF6\",\"subunitcolor\":\"white\",\"showland\":true,\"showlakes\":true,\"lakecolor\":\"white\"},\"title\":{\"x\":0.05},\"mapbox\":{\"style\":\"light\"}}},\"title\":{\"text\":\"Distribution of Total Goals per Match\"},\"xaxis\":{\"title\":{\"text\":\"Total Goals\"}},\"yaxis\":{\"title\":{\"text\":\"Count\"}}},                        {\"responsive\": true}                    ).then(function(){\n",
              "                            \n",
              "var gd = document.getElementById('ea879eb4-7965-4505-b8bf-573c376f7815');\n",
              "var x = new MutationObserver(function (mutations, observer) {{\n",
              "        var display = window.getComputedStyle(gd).display;\n",
              "        if (!display || display === 'none') {{\n",
              "            console.log([gd, 'removed!']);\n",
              "            Plotly.purge(gd);\n",
              "            observer.disconnect();\n",
              "        }}\n",
              "}});\n",
              "\n",
              "// Listen for the removal of the full notebook cells\n",
              "var notebookContainer = gd.closest('#notebook-container');\n",
              "if (notebookContainer) {{\n",
              "    x.observe(notebookContainer, {childList: true});\n",
              "}}\n",
              "\n",
              "// Listen for the clearing of the current output cell\n",
              "var outputEl = gd.closest('.output');\n",
              "if (outputEl) {{\n",
              "    x.observe(outputEl, {childList: true});\n",
              "}}\n",
              "\n",
              "                        })                };                            </script>        </div>\n",
              "</body>\n",
              "</html>"
            ]
          },
          "metadata": {}
        }
      ]
    },
    {
      "cell_type": "markdown",
      "source": [
        "###Most Frequant min for each tournaments"
      ],
      "metadata": {
        "id": "fEZRA02BNyEb"
      }
    },
    {
      "cell_type": "code",
      "source": [
        "most_frequent_minute = goals_data.groupby('tournament_name')['minute_regulation'].apply(lambda x: x.mode().values[0]).reset_index()\n",
        "\n",
        "fig = px.bar(most_frequent_minute, x='tournament_name', y='minute_regulation',\n",
        "             title='Most Frequent Minute Regulation for Each Tournament')\n",
        "fig.update_layout(xaxis_title='Tournament Name', yaxis_title='Most Frequent Minute Regulation')\n",
        "\n",
        "\n",
        "fig.show()"
      ],
      "metadata": {
        "colab": {
          "base_uri": "https://localhost:8080/",
          "height": 542
        },
        "id": "uTwjemaTPPT_",
        "outputId": "2186a2aa-2eb9-4e48-8359-127cf5f60d7e"
      },
      "execution_count": null,
      "outputs": [
        {
          "output_type": "display_data",
          "data": {
            "text/html": [
              "<html>\n",
              "<head><meta charset=\"utf-8\" /></head>\n",
              "<body>\n",
              "    <div>            <script src=\"https://cdnjs.cloudflare.com/ajax/libs/mathjax/2.7.5/MathJax.js?config=TeX-AMS-MML_SVG\"></script><script type=\"text/javascript\">if (window.MathJax && window.MathJax.Hub && window.MathJax.Hub.Config) {window.MathJax.Hub.Config({SVG: {font: \"STIX-Web\"}});}</script>                <script type=\"text/javascript\">window.PlotlyConfig = {MathJaxConfig: 'local'};</script>\n",
              "        <script src=\"https://cdn.plot.ly/plotly-2.18.2.min.js\"></script>                <div id=\"6bcbed3a-1c6d-4bbd-9b79-70b1f14596da\" class=\"plotly-graph-div\" style=\"height:525px; width:100%;\"></div>            <script type=\"text/javascript\">                                    window.PLOTLYENV=window.PLOTLYENV || {};                                    if (document.getElementById(\"6bcbed3a-1c6d-4bbd-9b79-70b1f14596da\")) {                    Plotly.newPlot(                        \"6bcbed3a-1c6d-4bbd-9b79-70b1f14596da\",                        [{\"alignmentgroup\":\"True\",\"hovertemplate\":\"tournament_name=%{x}<br>minute_regulation=%{y}<extra></extra>\",\"legendgroup\":\"\",\"marker\":{\"color\":\"#636efa\",\"pattern\":{\"shape\":\"\"}},\"name\":\"\",\"offsetgroup\":\"\",\"orientation\":\"v\",\"showlegend\":false,\"textposition\":\"auto\",\"x\":[\"1930 FIFA World Cup\",\"1934 FIFA World Cup\",\"1938 FIFA World Cup\",\"1950 FIFA World Cup\",\"1954 FIFA World Cup\",\"1958 FIFA World Cup\",\"1962 FIFA World Cup\",\"1966 FIFA World Cup\",\"1970 FIFA World Cup\",\"1974 FIFA World Cup\",\"1978 FIFA World Cup\",\"1982 FIFA World Cup\",\"1986 FIFA World Cup\",\"1990 FIFA World Cup\",\"1994 FIFA World Cup\",\"1998 FIFA World Cup\",\"2002 FIFA World Cup\",\"2006 FIFA World Cup\",\"2010 FIFA World Cup\",\"2014 FIFA World Cup\",\"2018 FIFA World Cup\",\"2022 FIFA World Cup\"],\"xaxis\":\"x\",\"y\":[65,18,35,17,18,4,17,15,76,18,43,68,62,81,90,90,45,90,90,90,90,90],\"yaxis\":\"y\",\"type\":\"bar\"}],                        {\"template\":{\"data\":{\"histogram2dcontour\":[{\"type\":\"histogram2dcontour\",\"colorbar\":{\"outlinewidth\":0,\"ticks\":\"\"},\"colorscale\":[[0.0,\"#0d0887\"],[0.1111111111111111,\"#46039f\"],[0.2222222222222222,\"#7201a8\"],[0.3333333333333333,\"#9c179e\"],[0.4444444444444444,\"#bd3786\"],[0.5555555555555556,\"#d8576b\"],[0.6666666666666666,\"#ed7953\"],[0.7777777777777778,\"#fb9f3a\"],[0.8888888888888888,\"#fdca26\"],[1.0,\"#f0f921\"]]}],\"choropleth\":[{\"type\":\"choropleth\",\"colorbar\":{\"outlinewidth\":0,\"ticks\":\"\"}}],\"histogram2d\":[{\"type\":\"histogram2d\",\"colorbar\":{\"outlinewidth\":0,\"ticks\":\"\"},\"colorscale\":[[0.0,\"#0d0887\"],[0.1111111111111111,\"#46039f\"],[0.2222222222222222,\"#7201a8\"],[0.3333333333333333,\"#9c179e\"],[0.4444444444444444,\"#bd3786\"],[0.5555555555555556,\"#d8576b\"],[0.6666666666666666,\"#ed7953\"],[0.7777777777777778,\"#fb9f3a\"],[0.8888888888888888,\"#fdca26\"],[1.0,\"#f0f921\"]]}],\"heatmap\":[{\"type\":\"heatmap\",\"colorbar\":{\"outlinewidth\":0,\"ticks\":\"\"},\"colorscale\":[[0.0,\"#0d0887\"],[0.1111111111111111,\"#46039f\"],[0.2222222222222222,\"#7201a8\"],[0.3333333333333333,\"#9c179e\"],[0.4444444444444444,\"#bd3786\"],[0.5555555555555556,\"#d8576b\"],[0.6666666666666666,\"#ed7953\"],[0.7777777777777778,\"#fb9f3a\"],[0.8888888888888888,\"#fdca26\"],[1.0,\"#f0f921\"]]}],\"heatmapgl\":[{\"type\":\"heatmapgl\",\"colorbar\":{\"outlinewidth\":0,\"ticks\":\"\"},\"colorscale\":[[0.0,\"#0d0887\"],[0.1111111111111111,\"#46039f\"],[0.2222222222222222,\"#7201a8\"],[0.3333333333333333,\"#9c179e\"],[0.4444444444444444,\"#bd3786\"],[0.5555555555555556,\"#d8576b\"],[0.6666666666666666,\"#ed7953\"],[0.7777777777777778,\"#fb9f3a\"],[0.8888888888888888,\"#fdca26\"],[1.0,\"#f0f921\"]]}],\"contourcarpet\":[{\"type\":\"contourcarpet\",\"colorbar\":{\"outlinewidth\":0,\"ticks\":\"\"}}],\"contour\":[{\"type\":\"contour\",\"colorbar\":{\"outlinewidth\":0,\"ticks\":\"\"},\"colorscale\":[[0.0,\"#0d0887\"],[0.1111111111111111,\"#46039f\"],[0.2222222222222222,\"#7201a8\"],[0.3333333333333333,\"#9c179e\"],[0.4444444444444444,\"#bd3786\"],[0.5555555555555556,\"#d8576b\"],[0.6666666666666666,\"#ed7953\"],[0.7777777777777778,\"#fb9f3a\"],[0.8888888888888888,\"#fdca26\"],[1.0,\"#f0f921\"]]}],\"surface\":[{\"type\":\"surface\",\"colorbar\":{\"outlinewidth\":0,\"ticks\":\"\"},\"colorscale\":[[0.0,\"#0d0887\"],[0.1111111111111111,\"#46039f\"],[0.2222222222222222,\"#7201a8\"],[0.3333333333333333,\"#9c179e\"],[0.4444444444444444,\"#bd3786\"],[0.5555555555555556,\"#d8576b\"],[0.6666666666666666,\"#ed7953\"],[0.7777777777777778,\"#fb9f3a\"],[0.8888888888888888,\"#fdca26\"],[1.0,\"#f0f921\"]]}],\"mesh3d\":[{\"type\":\"mesh3d\",\"colorbar\":{\"outlinewidth\":0,\"ticks\":\"\"}}],\"scatter\":[{\"fillpattern\":{\"fillmode\":\"overlay\",\"size\":10,\"solidity\":0.2},\"type\":\"scatter\"}],\"parcoords\":[{\"type\":\"parcoords\",\"line\":{\"colorbar\":{\"outlinewidth\":0,\"ticks\":\"\"}}}],\"scatterpolargl\":[{\"type\":\"scatterpolargl\",\"marker\":{\"colorbar\":{\"outlinewidth\":0,\"ticks\":\"\"}}}],\"bar\":[{\"error_x\":{\"color\":\"#2a3f5f\"},\"error_y\":{\"color\":\"#2a3f5f\"},\"marker\":{\"line\":{\"color\":\"#E5ECF6\",\"width\":0.5},\"pattern\":{\"fillmode\":\"overlay\",\"size\":10,\"solidity\":0.2}},\"type\":\"bar\"}],\"scattergeo\":[{\"type\":\"scattergeo\",\"marker\":{\"colorbar\":{\"outlinewidth\":0,\"ticks\":\"\"}}}],\"scatterpolar\":[{\"type\":\"scatterpolar\",\"marker\":{\"colorbar\":{\"outlinewidth\":0,\"ticks\":\"\"}}}],\"histogram\":[{\"marker\":{\"pattern\":{\"fillmode\":\"overlay\",\"size\":10,\"solidity\":0.2}},\"type\":\"histogram\"}],\"scattergl\":[{\"type\":\"scattergl\",\"marker\":{\"colorbar\":{\"outlinewidth\":0,\"ticks\":\"\"}}}],\"scatter3d\":[{\"type\":\"scatter3d\",\"line\":{\"colorbar\":{\"outlinewidth\":0,\"ticks\":\"\"}},\"marker\":{\"colorbar\":{\"outlinewidth\":0,\"ticks\":\"\"}}}],\"scattermapbox\":[{\"type\":\"scattermapbox\",\"marker\":{\"colorbar\":{\"outlinewidth\":0,\"ticks\":\"\"}}}],\"scatterternary\":[{\"type\":\"scatterternary\",\"marker\":{\"colorbar\":{\"outlinewidth\":0,\"ticks\":\"\"}}}],\"scattercarpet\":[{\"type\":\"scattercarpet\",\"marker\":{\"colorbar\":{\"outlinewidth\":0,\"ticks\":\"\"}}}],\"carpet\":[{\"aaxis\":{\"endlinecolor\":\"#2a3f5f\",\"gridcolor\":\"white\",\"linecolor\":\"white\",\"minorgridcolor\":\"white\",\"startlinecolor\":\"#2a3f5f\"},\"baxis\":{\"endlinecolor\":\"#2a3f5f\",\"gridcolor\":\"white\",\"linecolor\":\"white\",\"minorgridcolor\":\"white\",\"startlinecolor\":\"#2a3f5f\"},\"type\":\"carpet\"}],\"table\":[{\"cells\":{\"fill\":{\"color\":\"#EBF0F8\"},\"line\":{\"color\":\"white\"}},\"header\":{\"fill\":{\"color\":\"#C8D4E3\"},\"line\":{\"color\":\"white\"}},\"type\":\"table\"}],\"barpolar\":[{\"marker\":{\"line\":{\"color\":\"#E5ECF6\",\"width\":0.5},\"pattern\":{\"fillmode\":\"overlay\",\"size\":10,\"solidity\":0.2}},\"type\":\"barpolar\"}],\"pie\":[{\"automargin\":true,\"type\":\"pie\"}]},\"layout\":{\"autotypenumbers\":\"strict\",\"colorway\":[\"#636efa\",\"#EF553B\",\"#00cc96\",\"#ab63fa\",\"#FFA15A\",\"#19d3f3\",\"#FF6692\",\"#B6E880\",\"#FF97FF\",\"#FECB52\"],\"font\":{\"color\":\"#2a3f5f\"},\"hovermode\":\"closest\",\"hoverlabel\":{\"align\":\"left\"},\"paper_bgcolor\":\"white\",\"plot_bgcolor\":\"#E5ECF6\",\"polar\":{\"bgcolor\":\"#E5ECF6\",\"angularaxis\":{\"gridcolor\":\"white\",\"linecolor\":\"white\",\"ticks\":\"\"},\"radialaxis\":{\"gridcolor\":\"white\",\"linecolor\":\"white\",\"ticks\":\"\"}},\"ternary\":{\"bgcolor\":\"#E5ECF6\",\"aaxis\":{\"gridcolor\":\"white\",\"linecolor\":\"white\",\"ticks\":\"\"},\"baxis\":{\"gridcolor\":\"white\",\"linecolor\":\"white\",\"ticks\":\"\"},\"caxis\":{\"gridcolor\":\"white\",\"linecolor\":\"white\",\"ticks\":\"\"}},\"coloraxis\":{\"colorbar\":{\"outlinewidth\":0,\"ticks\":\"\"}},\"colorscale\":{\"sequential\":[[0.0,\"#0d0887\"],[0.1111111111111111,\"#46039f\"],[0.2222222222222222,\"#7201a8\"],[0.3333333333333333,\"#9c179e\"],[0.4444444444444444,\"#bd3786\"],[0.5555555555555556,\"#d8576b\"],[0.6666666666666666,\"#ed7953\"],[0.7777777777777778,\"#fb9f3a\"],[0.8888888888888888,\"#fdca26\"],[1.0,\"#f0f921\"]],\"sequentialminus\":[[0.0,\"#0d0887\"],[0.1111111111111111,\"#46039f\"],[0.2222222222222222,\"#7201a8\"],[0.3333333333333333,\"#9c179e\"],[0.4444444444444444,\"#bd3786\"],[0.5555555555555556,\"#d8576b\"],[0.6666666666666666,\"#ed7953\"],[0.7777777777777778,\"#fb9f3a\"],[0.8888888888888888,\"#fdca26\"],[1.0,\"#f0f921\"]],\"diverging\":[[0,\"#8e0152\"],[0.1,\"#c51b7d\"],[0.2,\"#de77ae\"],[0.3,\"#f1b6da\"],[0.4,\"#fde0ef\"],[0.5,\"#f7f7f7\"],[0.6,\"#e6f5d0\"],[0.7,\"#b8e186\"],[0.8,\"#7fbc41\"],[0.9,\"#4d9221\"],[1,\"#276419\"]]},\"xaxis\":{\"gridcolor\":\"white\",\"linecolor\":\"white\",\"ticks\":\"\",\"title\":{\"standoff\":15},\"zerolinecolor\":\"white\",\"automargin\":true,\"zerolinewidth\":2},\"yaxis\":{\"gridcolor\":\"white\",\"linecolor\":\"white\",\"ticks\":\"\",\"title\":{\"standoff\":15},\"zerolinecolor\":\"white\",\"automargin\":true,\"zerolinewidth\":2},\"scene\":{\"xaxis\":{\"backgroundcolor\":\"#E5ECF6\",\"gridcolor\":\"white\",\"linecolor\":\"white\",\"showbackground\":true,\"ticks\":\"\",\"zerolinecolor\":\"white\",\"gridwidth\":2},\"yaxis\":{\"backgroundcolor\":\"#E5ECF6\",\"gridcolor\":\"white\",\"linecolor\":\"white\",\"showbackground\":true,\"ticks\":\"\",\"zerolinecolor\":\"white\",\"gridwidth\":2},\"zaxis\":{\"backgroundcolor\":\"#E5ECF6\",\"gridcolor\":\"white\",\"linecolor\":\"white\",\"showbackground\":true,\"ticks\":\"\",\"zerolinecolor\":\"white\",\"gridwidth\":2}},\"shapedefaults\":{\"line\":{\"color\":\"#2a3f5f\"}},\"annotationdefaults\":{\"arrowcolor\":\"#2a3f5f\",\"arrowhead\":0,\"arrowwidth\":1},\"geo\":{\"bgcolor\":\"white\",\"landcolor\":\"#E5ECF6\",\"subunitcolor\":\"white\",\"showland\":true,\"showlakes\":true,\"lakecolor\":\"white\"},\"title\":{\"x\":0.05},\"mapbox\":{\"style\":\"light\"}}},\"xaxis\":{\"anchor\":\"y\",\"domain\":[0.0,1.0],\"title\":{\"text\":\"Tournament Name\"}},\"yaxis\":{\"anchor\":\"x\",\"domain\":[0.0,1.0],\"title\":{\"text\":\"Most Frequent Minute Regulation\"}},\"legend\":{\"tracegroupgap\":0},\"title\":{\"text\":\"Most Frequent Minute Regulation for Each Tournament\"},\"barmode\":\"relative\"},                        {\"responsive\": true}                    ).then(function(){\n",
              "                            \n",
              "var gd = document.getElementById('6bcbed3a-1c6d-4bbd-9b79-70b1f14596da');\n",
              "var x = new MutationObserver(function (mutations, observer) {{\n",
              "        var display = window.getComputedStyle(gd).display;\n",
              "        if (!display || display === 'none') {{\n",
              "            console.log([gd, 'removed!']);\n",
              "            Plotly.purge(gd);\n",
              "            observer.disconnect();\n",
              "        }}\n",
              "}});\n",
              "\n",
              "// Listen for the removal of the full notebook cells\n",
              "var notebookContainer = gd.closest('#notebook-container');\n",
              "if (notebookContainer) {{\n",
              "    x.observe(notebookContainer, {childList: true});\n",
              "}}\n",
              "\n",
              "// Listen for the clearing of the current output cell\n",
              "var outputEl = gd.closest('.output');\n",
              "if (outputEl) {{\n",
              "    x.observe(outputEl, {childList: true});\n",
              "}}\n",
              "\n",
              "                        })                };                            </script>        </div>\n",
              "</body>\n",
              "</html>"
            ]
          },
          "metadata": {}
        }
      ]
    },
    {
      "cell_type": "markdown",
      "source": [
        "###Histogram for late goals for all tournamnets"
      ],
      "metadata": {
        "id": "51LhSYUKMtmS"
      }
    },
    {
      "cell_type": "code",
      "source": [
        "late_goals = goals_data[goals_data['late_goal'] == True]\n",
        "late_goals_by_tournament = late_goals.groupby('tournament_name')['goal_id'].count()\n",
        "\n",
        "fig = px.histogram(late_goals_by_tournament, x=late_goals_by_tournament.values, nbins=20, title='Distribution of Late Goals by Tournament')\n",
        "\n",
        "fig.update_layout(xaxis_title='Number of Late Goals',\n",
        "                  yaxis_title='Count')\n",
        "\n",
        "fig.show()"
      ],
      "metadata": {
        "colab": {
          "base_uri": "https://localhost:8080/",
          "height": 542
        },
        "id": "hLnsWYzDR_Ag",
        "outputId": "67f65a3c-d9d7-490b-e652-0dfe59593a24"
      },
      "execution_count": null,
      "outputs": [
        {
          "output_type": "display_data",
          "data": {
            "text/html": [
              "<html>\n",
              "<head><meta charset=\"utf-8\" /></head>\n",
              "<body>\n",
              "    <div>            <script src=\"https://cdnjs.cloudflare.com/ajax/libs/mathjax/2.7.5/MathJax.js?config=TeX-AMS-MML_SVG\"></script><script type=\"text/javascript\">if (window.MathJax && window.MathJax.Hub && window.MathJax.Hub.Config) {window.MathJax.Hub.Config({SVG: {font: \"STIX-Web\"}});}</script>                <script type=\"text/javascript\">window.PlotlyConfig = {MathJaxConfig: 'local'};</script>\n",
              "        <script src=\"https://cdn.plot.ly/plotly-2.18.2.min.js\"></script>                <div id=\"9dfa625f-47a6-4f15-9d58-71a57e7c673d\" class=\"plotly-graph-div\" style=\"height:525px; width:100%;\"></div>            <script type=\"text/javascript\">                                    window.PLOTLYENV=window.PLOTLYENV || {};                                    if (document.getElementById(\"9dfa625f-47a6-4f15-9d58-71a57e7c673d\")) {                    Plotly.newPlot(                        \"9dfa625f-47a6-4f15-9d58-71a57e7c673d\",                        [{\"alignmentgroup\":\"True\",\"bingroup\":\"x\",\"hovertemplate\":\"x=%{x}<br>count=%{y}<extra></extra>\",\"legendgroup\":\"\",\"marker\":{\"color\":\"#636efa\",\"pattern\":{\"shape\":\"\"}},\"name\":\"\",\"nbinsx\":20,\"offsetgroup\":\"\",\"orientation\":\"v\",\"showlegend\":false,\"x\":[7,3,9,8,12,10,9,10,8,9,4,7,8,12,16,14,15,13,11,11,11,9],\"xaxis\":\"x\",\"yaxis\":\"y\",\"type\":\"histogram\"}],                        {\"template\":{\"data\":{\"histogram2dcontour\":[{\"type\":\"histogram2dcontour\",\"colorbar\":{\"outlinewidth\":0,\"ticks\":\"\"},\"colorscale\":[[0.0,\"#0d0887\"],[0.1111111111111111,\"#46039f\"],[0.2222222222222222,\"#7201a8\"],[0.3333333333333333,\"#9c179e\"],[0.4444444444444444,\"#bd3786\"],[0.5555555555555556,\"#d8576b\"],[0.6666666666666666,\"#ed7953\"],[0.7777777777777778,\"#fb9f3a\"],[0.8888888888888888,\"#fdca26\"],[1.0,\"#f0f921\"]]}],\"choropleth\":[{\"type\":\"choropleth\",\"colorbar\":{\"outlinewidth\":0,\"ticks\":\"\"}}],\"histogram2d\":[{\"type\":\"histogram2d\",\"colorbar\":{\"outlinewidth\":0,\"ticks\":\"\"},\"colorscale\":[[0.0,\"#0d0887\"],[0.1111111111111111,\"#46039f\"],[0.2222222222222222,\"#7201a8\"],[0.3333333333333333,\"#9c179e\"],[0.4444444444444444,\"#bd3786\"],[0.5555555555555556,\"#d8576b\"],[0.6666666666666666,\"#ed7953\"],[0.7777777777777778,\"#fb9f3a\"],[0.8888888888888888,\"#fdca26\"],[1.0,\"#f0f921\"]]}],\"heatmap\":[{\"type\":\"heatmap\",\"colorbar\":{\"outlinewidth\":0,\"ticks\":\"\"},\"colorscale\":[[0.0,\"#0d0887\"],[0.1111111111111111,\"#46039f\"],[0.2222222222222222,\"#7201a8\"],[0.3333333333333333,\"#9c179e\"],[0.4444444444444444,\"#bd3786\"],[0.5555555555555556,\"#d8576b\"],[0.6666666666666666,\"#ed7953\"],[0.7777777777777778,\"#fb9f3a\"],[0.8888888888888888,\"#fdca26\"],[1.0,\"#f0f921\"]]}],\"heatmapgl\":[{\"type\":\"heatmapgl\",\"colorbar\":{\"outlinewidth\":0,\"ticks\":\"\"},\"colorscale\":[[0.0,\"#0d0887\"],[0.1111111111111111,\"#46039f\"],[0.2222222222222222,\"#7201a8\"],[0.3333333333333333,\"#9c179e\"],[0.4444444444444444,\"#bd3786\"],[0.5555555555555556,\"#d8576b\"],[0.6666666666666666,\"#ed7953\"],[0.7777777777777778,\"#fb9f3a\"],[0.8888888888888888,\"#fdca26\"],[1.0,\"#f0f921\"]]}],\"contourcarpet\":[{\"type\":\"contourcarpet\",\"colorbar\":{\"outlinewidth\":0,\"ticks\":\"\"}}],\"contour\":[{\"type\":\"contour\",\"colorbar\":{\"outlinewidth\":0,\"ticks\":\"\"},\"colorscale\":[[0.0,\"#0d0887\"],[0.1111111111111111,\"#46039f\"],[0.2222222222222222,\"#7201a8\"],[0.3333333333333333,\"#9c179e\"],[0.4444444444444444,\"#bd3786\"],[0.5555555555555556,\"#d8576b\"],[0.6666666666666666,\"#ed7953\"],[0.7777777777777778,\"#fb9f3a\"],[0.8888888888888888,\"#fdca26\"],[1.0,\"#f0f921\"]]}],\"surface\":[{\"type\":\"surface\",\"colorbar\":{\"outlinewidth\":0,\"ticks\":\"\"},\"colorscale\":[[0.0,\"#0d0887\"],[0.1111111111111111,\"#46039f\"],[0.2222222222222222,\"#7201a8\"],[0.3333333333333333,\"#9c179e\"],[0.4444444444444444,\"#bd3786\"],[0.5555555555555556,\"#d8576b\"],[0.6666666666666666,\"#ed7953\"],[0.7777777777777778,\"#fb9f3a\"],[0.8888888888888888,\"#fdca26\"],[1.0,\"#f0f921\"]]}],\"mesh3d\":[{\"type\":\"mesh3d\",\"colorbar\":{\"outlinewidth\":0,\"ticks\":\"\"}}],\"scatter\":[{\"fillpattern\":{\"fillmode\":\"overlay\",\"size\":10,\"solidity\":0.2},\"type\":\"scatter\"}],\"parcoords\":[{\"type\":\"parcoords\",\"line\":{\"colorbar\":{\"outlinewidth\":0,\"ticks\":\"\"}}}],\"scatterpolargl\":[{\"type\":\"scatterpolargl\",\"marker\":{\"colorbar\":{\"outlinewidth\":0,\"ticks\":\"\"}}}],\"bar\":[{\"error_x\":{\"color\":\"#2a3f5f\"},\"error_y\":{\"color\":\"#2a3f5f\"},\"marker\":{\"line\":{\"color\":\"#E5ECF6\",\"width\":0.5},\"pattern\":{\"fillmode\":\"overlay\",\"size\":10,\"solidity\":0.2}},\"type\":\"bar\"}],\"scattergeo\":[{\"type\":\"scattergeo\",\"marker\":{\"colorbar\":{\"outlinewidth\":0,\"ticks\":\"\"}}}],\"scatterpolar\":[{\"type\":\"scatterpolar\",\"marker\":{\"colorbar\":{\"outlinewidth\":0,\"ticks\":\"\"}}}],\"histogram\":[{\"marker\":{\"pattern\":{\"fillmode\":\"overlay\",\"size\":10,\"solidity\":0.2}},\"type\":\"histogram\"}],\"scattergl\":[{\"type\":\"scattergl\",\"marker\":{\"colorbar\":{\"outlinewidth\":0,\"ticks\":\"\"}}}],\"scatter3d\":[{\"type\":\"scatter3d\",\"line\":{\"colorbar\":{\"outlinewidth\":0,\"ticks\":\"\"}},\"marker\":{\"colorbar\":{\"outlinewidth\":0,\"ticks\":\"\"}}}],\"scattermapbox\":[{\"type\":\"scattermapbox\",\"marker\":{\"colorbar\":{\"outlinewidth\":0,\"ticks\":\"\"}}}],\"scatterternary\":[{\"type\":\"scatterternary\",\"marker\":{\"colorbar\":{\"outlinewidth\":0,\"ticks\":\"\"}}}],\"scattercarpet\":[{\"type\":\"scattercarpet\",\"marker\":{\"colorbar\":{\"outlinewidth\":0,\"ticks\":\"\"}}}],\"carpet\":[{\"aaxis\":{\"endlinecolor\":\"#2a3f5f\",\"gridcolor\":\"white\",\"linecolor\":\"white\",\"minorgridcolor\":\"white\",\"startlinecolor\":\"#2a3f5f\"},\"baxis\":{\"endlinecolor\":\"#2a3f5f\",\"gridcolor\":\"white\",\"linecolor\":\"white\",\"minorgridcolor\":\"white\",\"startlinecolor\":\"#2a3f5f\"},\"type\":\"carpet\"}],\"table\":[{\"cells\":{\"fill\":{\"color\":\"#EBF0F8\"},\"line\":{\"color\":\"white\"}},\"header\":{\"fill\":{\"color\":\"#C8D4E3\"},\"line\":{\"color\":\"white\"}},\"type\":\"table\"}],\"barpolar\":[{\"marker\":{\"line\":{\"color\":\"#E5ECF6\",\"width\":0.5},\"pattern\":{\"fillmode\":\"overlay\",\"size\":10,\"solidity\":0.2}},\"type\":\"barpolar\"}],\"pie\":[{\"automargin\":true,\"type\":\"pie\"}]},\"layout\":{\"autotypenumbers\":\"strict\",\"colorway\":[\"#636efa\",\"#EF553B\",\"#00cc96\",\"#ab63fa\",\"#FFA15A\",\"#19d3f3\",\"#FF6692\",\"#B6E880\",\"#FF97FF\",\"#FECB52\"],\"font\":{\"color\":\"#2a3f5f\"},\"hovermode\":\"closest\",\"hoverlabel\":{\"align\":\"left\"},\"paper_bgcolor\":\"white\",\"plot_bgcolor\":\"#E5ECF6\",\"polar\":{\"bgcolor\":\"#E5ECF6\",\"angularaxis\":{\"gridcolor\":\"white\",\"linecolor\":\"white\",\"ticks\":\"\"},\"radialaxis\":{\"gridcolor\":\"white\",\"linecolor\":\"white\",\"ticks\":\"\"}},\"ternary\":{\"bgcolor\":\"#E5ECF6\",\"aaxis\":{\"gridcolor\":\"white\",\"linecolor\":\"white\",\"ticks\":\"\"},\"baxis\":{\"gridcolor\":\"white\",\"linecolor\":\"white\",\"ticks\":\"\"},\"caxis\":{\"gridcolor\":\"white\",\"linecolor\":\"white\",\"ticks\":\"\"}},\"coloraxis\":{\"colorbar\":{\"outlinewidth\":0,\"ticks\":\"\"}},\"colorscale\":{\"sequential\":[[0.0,\"#0d0887\"],[0.1111111111111111,\"#46039f\"],[0.2222222222222222,\"#7201a8\"],[0.3333333333333333,\"#9c179e\"],[0.4444444444444444,\"#bd3786\"],[0.5555555555555556,\"#d8576b\"],[0.6666666666666666,\"#ed7953\"],[0.7777777777777778,\"#fb9f3a\"],[0.8888888888888888,\"#fdca26\"],[1.0,\"#f0f921\"]],\"sequentialminus\":[[0.0,\"#0d0887\"],[0.1111111111111111,\"#46039f\"],[0.2222222222222222,\"#7201a8\"],[0.3333333333333333,\"#9c179e\"],[0.4444444444444444,\"#bd3786\"],[0.5555555555555556,\"#d8576b\"],[0.6666666666666666,\"#ed7953\"],[0.7777777777777778,\"#fb9f3a\"],[0.8888888888888888,\"#fdca26\"],[1.0,\"#f0f921\"]],\"diverging\":[[0,\"#8e0152\"],[0.1,\"#c51b7d\"],[0.2,\"#de77ae\"],[0.3,\"#f1b6da\"],[0.4,\"#fde0ef\"],[0.5,\"#f7f7f7\"],[0.6,\"#e6f5d0\"],[0.7,\"#b8e186\"],[0.8,\"#7fbc41\"],[0.9,\"#4d9221\"],[1,\"#276419\"]]},\"xaxis\":{\"gridcolor\":\"white\",\"linecolor\":\"white\",\"ticks\":\"\",\"title\":{\"standoff\":15},\"zerolinecolor\":\"white\",\"automargin\":true,\"zerolinewidth\":2},\"yaxis\":{\"gridcolor\":\"white\",\"linecolor\":\"white\",\"ticks\":\"\",\"title\":{\"standoff\":15},\"zerolinecolor\":\"white\",\"automargin\":true,\"zerolinewidth\":2},\"scene\":{\"xaxis\":{\"backgroundcolor\":\"#E5ECF6\",\"gridcolor\":\"white\",\"linecolor\":\"white\",\"showbackground\":true,\"ticks\":\"\",\"zerolinecolor\":\"white\",\"gridwidth\":2},\"yaxis\":{\"backgroundcolor\":\"#E5ECF6\",\"gridcolor\":\"white\",\"linecolor\":\"white\",\"showbackground\":true,\"ticks\":\"\",\"zerolinecolor\":\"white\",\"gridwidth\":2},\"zaxis\":{\"backgroundcolor\":\"#E5ECF6\",\"gridcolor\":\"white\",\"linecolor\":\"white\",\"showbackground\":true,\"ticks\":\"\",\"zerolinecolor\":\"white\",\"gridwidth\":2}},\"shapedefaults\":{\"line\":{\"color\":\"#2a3f5f\"}},\"annotationdefaults\":{\"arrowcolor\":\"#2a3f5f\",\"arrowhead\":0,\"arrowwidth\":1},\"geo\":{\"bgcolor\":\"white\",\"landcolor\":\"#E5ECF6\",\"subunitcolor\":\"white\",\"showland\":true,\"showlakes\":true,\"lakecolor\":\"white\"},\"title\":{\"x\":0.05},\"mapbox\":{\"style\":\"light\"}}},\"xaxis\":{\"anchor\":\"y\",\"domain\":[0.0,1.0],\"title\":{\"text\":\"Number of Late Goals\"}},\"yaxis\":{\"anchor\":\"x\",\"domain\":[0.0,1.0],\"title\":{\"text\":\"Count\"}},\"legend\":{\"tracegroupgap\":0},\"title\":{\"text\":\"Distribution of Late Goals by Tournament\"},\"barmode\":\"relative\"},                        {\"responsive\": true}                    ).then(function(){\n",
              "                            \n",
              "var gd = document.getElementById('9dfa625f-47a6-4f15-9d58-71a57e7c673d');\n",
              "var x = new MutationObserver(function (mutations, observer) {{\n",
              "        var display = window.getComputedStyle(gd).display;\n",
              "        if (!display || display === 'none') {{\n",
              "            console.log([gd, 'removed!']);\n",
              "            Plotly.purge(gd);\n",
              "            observer.disconnect();\n",
              "        }}\n",
              "}});\n",
              "\n",
              "// Listen for the removal of the full notebook cells\n",
              "var notebookContainer = gd.closest('#notebook-container');\n",
              "if (notebookContainer) {{\n",
              "    x.observe(notebookContainer, {childList: true});\n",
              "}}\n",
              "\n",
              "// Listen for the clearing of the current output cell\n",
              "var outputEl = gd.closest('.output');\n",
              "if (outputEl) {{\n",
              "    x.observe(outputEl, {childList: true});\n",
              "}}\n",
              "\n",
              "                        })                };                            </script>        </div>\n",
              "</body>\n",
              "</html>"
            ]
          },
          "metadata": {}
        }
      ]
    },
    {
      "cell_type": "markdown",
      "source": [
        "###Top Scorers of all Time"
      ],
      "metadata": {
        "id": "6zVmsZ449bAd"
      }
    },
    {
      "cell_type": "code",
      "source": [
        "goals_data['given_name'].replace('not applicable', '', inplace=True)\n",
        "goals_data['family_name'].replace('not applicable', '', inplace=True)\n",
        "\n",
        "goals_data['full_name'] = goals_data['given_name']+' '+goals_data['family_name']"
      ],
      "metadata": {
        "id": "npuoICosv85G"
      },
      "execution_count": null,
      "outputs": []
    },
    {
      "cell_type": "code",
      "source": [
        "non_own_goals = goals_data[goals_data['own_goal'] == False]\n",
        "\n",
        "player_goals = non_own_goals.groupby('full_name')['goal_id'].count().reset_index()\n",
        "player_goals = player_goals.sort_values(by='goal_id', ascending=False)\n",
        "\n",
        "top_scorers = player_goals[:12]\n",
        "\n",
        "fig = px.bar(top_scorers, x='full_name', y='goal_id', title='Top Scorers in The World Cup History ')\n",
        "\n",
        "\n",
        "fig.update_layout(xaxis_title='Player',\n",
        "                  yaxis_title='Number of Goals')"
      ],
      "metadata": {
        "colab": {
          "base_uri": "https://localhost:8080/",
          "height": 542
        },
        "id": "bx7giWQ5lsgg",
        "outputId": "42ba89c0-4c3f-45e1-f723-4493ee92c14b"
      },
      "execution_count": null,
      "outputs": [
        {
          "output_type": "display_data",
          "data": {
            "text/html": [
              "<html>\n",
              "<head><meta charset=\"utf-8\" /></head>\n",
              "<body>\n",
              "    <div>            <script src=\"https://cdnjs.cloudflare.com/ajax/libs/mathjax/2.7.5/MathJax.js?config=TeX-AMS-MML_SVG\"></script><script type=\"text/javascript\">if (window.MathJax && window.MathJax.Hub && window.MathJax.Hub.Config) {window.MathJax.Hub.Config({SVG: {font: \"STIX-Web\"}});}</script>                <script type=\"text/javascript\">window.PlotlyConfig = {MathJaxConfig: 'local'};</script>\n",
              "        <script src=\"https://cdn.plot.ly/plotly-2.18.2.min.js\"></script>                <div id=\"c254f6d4-b461-4cb0-b7f3-6891e76cb0c7\" class=\"plotly-graph-div\" style=\"height:525px; width:100%;\"></div>            <script type=\"text/javascript\">                                    window.PLOTLYENV=window.PLOTLYENV || {};                                    if (document.getElementById(\"c254f6d4-b461-4cb0-b7f3-6891e76cb0c7\")) {                    Plotly.newPlot(                        \"c254f6d4-b461-4cb0-b7f3-6891e76cb0c7\",                        [{\"alignmentgroup\":\"True\",\"hovertemplate\":\"full_name=%{x}<br>goal_id=%{y}<extra></extra>\",\"legendgroup\":\"\",\"marker\":{\"color\":\"#636efa\",\"pattern\":{\"shape\":\"\"}},\"name\":\"\",\"offsetgroup\":\"\",\"orientation\":\"v\",\"showlegend\":false,\"textposition\":\"auto\",\"x\":[\"Miroslav Klose\",\" Ronaldo\",\"Gerd M\\u00fcller\",\"Just Fontaine\",\"Lionel Messi\",\" Pel\\u00e9\",\"Kylian Mbapp\\u00e9\",\"J\\u00fcrgen Klinsmann\",\"S\\u00e1ndor Kocsis\",\"Gary Lineker\",\"Thomas M\\u00fcller\",\"Helmut Rahn\"],\"xaxis\":\"x\",\"y\":[16,15,14,13,13,12,12,11,11,10,10,10],\"yaxis\":\"y\",\"type\":\"bar\"}],                        {\"template\":{\"data\":{\"histogram2dcontour\":[{\"type\":\"histogram2dcontour\",\"colorbar\":{\"outlinewidth\":0,\"ticks\":\"\"},\"colorscale\":[[0.0,\"#0d0887\"],[0.1111111111111111,\"#46039f\"],[0.2222222222222222,\"#7201a8\"],[0.3333333333333333,\"#9c179e\"],[0.4444444444444444,\"#bd3786\"],[0.5555555555555556,\"#d8576b\"],[0.6666666666666666,\"#ed7953\"],[0.7777777777777778,\"#fb9f3a\"],[0.8888888888888888,\"#fdca26\"],[1.0,\"#f0f921\"]]}],\"choropleth\":[{\"type\":\"choropleth\",\"colorbar\":{\"outlinewidth\":0,\"ticks\":\"\"}}],\"histogram2d\":[{\"type\":\"histogram2d\",\"colorbar\":{\"outlinewidth\":0,\"ticks\":\"\"},\"colorscale\":[[0.0,\"#0d0887\"],[0.1111111111111111,\"#46039f\"],[0.2222222222222222,\"#7201a8\"],[0.3333333333333333,\"#9c179e\"],[0.4444444444444444,\"#bd3786\"],[0.5555555555555556,\"#d8576b\"],[0.6666666666666666,\"#ed7953\"],[0.7777777777777778,\"#fb9f3a\"],[0.8888888888888888,\"#fdca26\"],[1.0,\"#f0f921\"]]}],\"heatmap\":[{\"type\":\"heatmap\",\"colorbar\":{\"outlinewidth\":0,\"ticks\":\"\"},\"colorscale\":[[0.0,\"#0d0887\"],[0.1111111111111111,\"#46039f\"],[0.2222222222222222,\"#7201a8\"],[0.3333333333333333,\"#9c179e\"],[0.4444444444444444,\"#bd3786\"],[0.5555555555555556,\"#d8576b\"],[0.6666666666666666,\"#ed7953\"],[0.7777777777777778,\"#fb9f3a\"],[0.8888888888888888,\"#fdca26\"],[1.0,\"#f0f921\"]]}],\"heatmapgl\":[{\"type\":\"heatmapgl\",\"colorbar\":{\"outlinewidth\":0,\"ticks\":\"\"},\"colorscale\":[[0.0,\"#0d0887\"],[0.1111111111111111,\"#46039f\"],[0.2222222222222222,\"#7201a8\"],[0.3333333333333333,\"#9c179e\"],[0.4444444444444444,\"#bd3786\"],[0.5555555555555556,\"#d8576b\"],[0.6666666666666666,\"#ed7953\"],[0.7777777777777778,\"#fb9f3a\"],[0.8888888888888888,\"#fdca26\"],[1.0,\"#f0f921\"]]}],\"contourcarpet\":[{\"type\":\"contourcarpet\",\"colorbar\":{\"outlinewidth\":0,\"ticks\":\"\"}}],\"contour\":[{\"type\":\"contour\",\"colorbar\":{\"outlinewidth\":0,\"ticks\":\"\"},\"colorscale\":[[0.0,\"#0d0887\"],[0.1111111111111111,\"#46039f\"],[0.2222222222222222,\"#7201a8\"],[0.3333333333333333,\"#9c179e\"],[0.4444444444444444,\"#bd3786\"],[0.5555555555555556,\"#d8576b\"],[0.6666666666666666,\"#ed7953\"],[0.7777777777777778,\"#fb9f3a\"],[0.8888888888888888,\"#fdca26\"],[1.0,\"#f0f921\"]]}],\"surface\":[{\"type\":\"surface\",\"colorbar\":{\"outlinewidth\":0,\"ticks\":\"\"},\"colorscale\":[[0.0,\"#0d0887\"],[0.1111111111111111,\"#46039f\"],[0.2222222222222222,\"#7201a8\"],[0.3333333333333333,\"#9c179e\"],[0.4444444444444444,\"#bd3786\"],[0.5555555555555556,\"#d8576b\"],[0.6666666666666666,\"#ed7953\"],[0.7777777777777778,\"#fb9f3a\"],[0.8888888888888888,\"#fdca26\"],[1.0,\"#f0f921\"]]}],\"mesh3d\":[{\"type\":\"mesh3d\",\"colorbar\":{\"outlinewidth\":0,\"ticks\":\"\"}}],\"scatter\":[{\"fillpattern\":{\"fillmode\":\"overlay\",\"size\":10,\"solidity\":0.2},\"type\":\"scatter\"}],\"parcoords\":[{\"type\":\"parcoords\",\"line\":{\"colorbar\":{\"outlinewidth\":0,\"ticks\":\"\"}}}],\"scatterpolargl\":[{\"type\":\"scatterpolargl\",\"marker\":{\"colorbar\":{\"outlinewidth\":0,\"ticks\":\"\"}}}],\"bar\":[{\"error_x\":{\"color\":\"#2a3f5f\"},\"error_y\":{\"color\":\"#2a3f5f\"},\"marker\":{\"line\":{\"color\":\"#E5ECF6\",\"width\":0.5},\"pattern\":{\"fillmode\":\"overlay\",\"size\":10,\"solidity\":0.2}},\"type\":\"bar\"}],\"scattergeo\":[{\"type\":\"scattergeo\",\"marker\":{\"colorbar\":{\"outlinewidth\":0,\"ticks\":\"\"}}}],\"scatterpolar\":[{\"type\":\"scatterpolar\",\"marker\":{\"colorbar\":{\"outlinewidth\":0,\"ticks\":\"\"}}}],\"histogram\":[{\"marker\":{\"pattern\":{\"fillmode\":\"overlay\",\"size\":10,\"solidity\":0.2}},\"type\":\"histogram\"}],\"scattergl\":[{\"type\":\"scattergl\",\"marker\":{\"colorbar\":{\"outlinewidth\":0,\"ticks\":\"\"}}}],\"scatter3d\":[{\"type\":\"scatter3d\",\"line\":{\"colorbar\":{\"outlinewidth\":0,\"ticks\":\"\"}},\"marker\":{\"colorbar\":{\"outlinewidth\":0,\"ticks\":\"\"}}}],\"scattermapbox\":[{\"type\":\"scattermapbox\",\"marker\":{\"colorbar\":{\"outlinewidth\":0,\"ticks\":\"\"}}}],\"scatterternary\":[{\"type\":\"scatterternary\",\"marker\":{\"colorbar\":{\"outlinewidth\":0,\"ticks\":\"\"}}}],\"scattercarpet\":[{\"type\":\"scattercarpet\",\"marker\":{\"colorbar\":{\"outlinewidth\":0,\"ticks\":\"\"}}}],\"carpet\":[{\"aaxis\":{\"endlinecolor\":\"#2a3f5f\",\"gridcolor\":\"white\",\"linecolor\":\"white\",\"minorgridcolor\":\"white\",\"startlinecolor\":\"#2a3f5f\"},\"baxis\":{\"endlinecolor\":\"#2a3f5f\",\"gridcolor\":\"white\",\"linecolor\":\"white\",\"minorgridcolor\":\"white\",\"startlinecolor\":\"#2a3f5f\"},\"type\":\"carpet\"}],\"table\":[{\"cells\":{\"fill\":{\"color\":\"#EBF0F8\"},\"line\":{\"color\":\"white\"}},\"header\":{\"fill\":{\"color\":\"#C8D4E3\"},\"line\":{\"color\":\"white\"}},\"type\":\"table\"}],\"barpolar\":[{\"marker\":{\"line\":{\"color\":\"#E5ECF6\",\"width\":0.5},\"pattern\":{\"fillmode\":\"overlay\",\"size\":10,\"solidity\":0.2}},\"type\":\"barpolar\"}],\"pie\":[{\"automargin\":true,\"type\":\"pie\"}]},\"layout\":{\"autotypenumbers\":\"strict\",\"colorway\":[\"#636efa\",\"#EF553B\",\"#00cc96\",\"#ab63fa\",\"#FFA15A\",\"#19d3f3\",\"#FF6692\",\"#B6E880\",\"#FF97FF\",\"#FECB52\"],\"font\":{\"color\":\"#2a3f5f\"},\"hovermode\":\"closest\",\"hoverlabel\":{\"align\":\"left\"},\"paper_bgcolor\":\"white\",\"plot_bgcolor\":\"#E5ECF6\",\"polar\":{\"bgcolor\":\"#E5ECF6\",\"angularaxis\":{\"gridcolor\":\"white\",\"linecolor\":\"white\",\"ticks\":\"\"},\"radialaxis\":{\"gridcolor\":\"white\",\"linecolor\":\"white\",\"ticks\":\"\"}},\"ternary\":{\"bgcolor\":\"#E5ECF6\",\"aaxis\":{\"gridcolor\":\"white\",\"linecolor\":\"white\",\"ticks\":\"\"},\"baxis\":{\"gridcolor\":\"white\",\"linecolor\":\"white\",\"ticks\":\"\"},\"caxis\":{\"gridcolor\":\"white\",\"linecolor\":\"white\",\"ticks\":\"\"}},\"coloraxis\":{\"colorbar\":{\"outlinewidth\":0,\"ticks\":\"\"}},\"colorscale\":{\"sequential\":[[0.0,\"#0d0887\"],[0.1111111111111111,\"#46039f\"],[0.2222222222222222,\"#7201a8\"],[0.3333333333333333,\"#9c179e\"],[0.4444444444444444,\"#bd3786\"],[0.5555555555555556,\"#d8576b\"],[0.6666666666666666,\"#ed7953\"],[0.7777777777777778,\"#fb9f3a\"],[0.8888888888888888,\"#fdca26\"],[1.0,\"#f0f921\"]],\"sequentialminus\":[[0.0,\"#0d0887\"],[0.1111111111111111,\"#46039f\"],[0.2222222222222222,\"#7201a8\"],[0.3333333333333333,\"#9c179e\"],[0.4444444444444444,\"#bd3786\"],[0.5555555555555556,\"#d8576b\"],[0.6666666666666666,\"#ed7953\"],[0.7777777777777778,\"#fb9f3a\"],[0.8888888888888888,\"#fdca26\"],[1.0,\"#f0f921\"]],\"diverging\":[[0,\"#8e0152\"],[0.1,\"#c51b7d\"],[0.2,\"#de77ae\"],[0.3,\"#f1b6da\"],[0.4,\"#fde0ef\"],[0.5,\"#f7f7f7\"],[0.6,\"#e6f5d0\"],[0.7,\"#b8e186\"],[0.8,\"#7fbc41\"],[0.9,\"#4d9221\"],[1,\"#276419\"]]},\"xaxis\":{\"gridcolor\":\"white\",\"linecolor\":\"white\",\"ticks\":\"\",\"title\":{\"standoff\":15},\"zerolinecolor\":\"white\",\"automargin\":true,\"zerolinewidth\":2},\"yaxis\":{\"gridcolor\":\"white\",\"linecolor\":\"white\",\"ticks\":\"\",\"title\":{\"standoff\":15},\"zerolinecolor\":\"white\",\"automargin\":true,\"zerolinewidth\":2},\"scene\":{\"xaxis\":{\"backgroundcolor\":\"#E5ECF6\",\"gridcolor\":\"white\",\"linecolor\":\"white\",\"showbackground\":true,\"ticks\":\"\",\"zerolinecolor\":\"white\",\"gridwidth\":2},\"yaxis\":{\"backgroundcolor\":\"#E5ECF6\",\"gridcolor\":\"white\",\"linecolor\":\"white\",\"showbackground\":true,\"ticks\":\"\",\"zerolinecolor\":\"white\",\"gridwidth\":2},\"zaxis\":{\"backgroundcolor\":\"#E5ECF6\",\"gridcolor\":\"white\",\"linecolor\":\"white\",\"showbackground\":true,\"ticks\":\"\",\"zerolinecolor\":\"white\",\"gridwidth\":2}},\"shapedefaults\":{\"line\":{\"color\":\"#2a3f5f\"}},\"annotationdefaults\":{\"arrowcolor\":\"#2a3f5f\",\"arrowhead\":0,\"arrowwidth\":1},\"geo\":{\"bgcolor\":\"white\",\"landcolor\":\"#E5ECF6\",\"subunitcolor\":\"white\",\"showland\":true,\"showlakes\":true,\"lakecolor\":\"white\"},\"title\":{\"x\":0.05},\"mapbox\":{\"style\":\"light\"}}},\"xaxis\":{\"anchor\":\"y\",\"domain\":[0.0,1.0],\"title\":{\"text\":\"Player\"}},\"yaxis\":{\"anchor\":\"x\",\"domain\":[0.0,1.0],\"title\":{\"text\":\"Number of Goals\"}},\"legend\":{\"tracegroupgap\":0},\"title\":{\"text\":\"Top Scorers in The World Cup History \"},\"barmode\":\"relative\"},                        {\"responsive\": true}                    ).then(function(){\n",
              "                            \n",
              "var gd = document.getElementById('c254f6d4-b461-4cb0-b7f3-6891e76cb0c7');\n",
              "var x = new MutationObserver(function (mutations, observer) {{\n",
              "        var display = window.getComputedStyle(gd).display;\n",
              "        if (!display || display === 'none') {{\n",
              "            console.log([gd, 'removed!']);\n",
              "            Plotly.purge(gd);\n",
              "            observer.disconnect();\n",
              "        }}\n",
              "}});\n",
              "\n",
              "// Listen for the removal of the full notebook cells\n",
              "var notebookContainer = gd.closest('#notebook-container');\n",
              "if (notebookContainer) {{\n",
              "    x.observe(notebookContainer, {childList: true});\n",
              "}}\n",
              "\n",
              "// Listen for the clearing of the current output cell\n",
              "var outputEl = gd.closest('.output');\n",
              "if (outputEl) {{\n",
              "    x.observe(outputEl, {childList: true});\n",
              "}}\n",
              "\n",
              "                        })                };                            </script>        </div>\n",
              "</body>\n",
              "</html>"
            ]
          },
          "metadata": {}
        }
      ]
    },
    {
      "cell_type": "markdown",
      "source": [
        "###Top Scorers for each Tournaments"
      ],
      "metadata": {
        "id": "jTw4JBwd9Szr"
      }
    },
    {
      "cell_type": "code",
      "source": [
        "no_own_goals = goals_data[goals_data['own_goal']==0]\n",
        "\n",
        "scorers = no_own_goals.groupby(['tournament_id', 'player_id', 'full_name'])['goal_id'].count().reset_index()\n",
        "scorers = scorers.rename(columns={'goal_id': 'total_goals'})\n",
        "\n",
        "max_goals = scorers.groupby('tournament_id')['total_goals'].max().reset_index()\n",
        "\n",
        "top_scorers = scorers.merge(max_goals, on=['tournament_id', 'total_goals'])\n",
        "\n",
        "top_scorers = top_scorers.sort_values(['tournament_id', 'total_goals'], ascending=[True, False])\n",
        "\n",
        "fig = px.bar(top_scorers, x='tournament_id', y='total_goals', color='full_name',\n",
        "             labels={'tournament_id': 'Tournament ID', 'total_goals': 'Total Goals', 'full_name': 'Top Scorer'},\n",
        "             title='Top Scorers for Each Tournament')\n",
        "fig.layout.update(showlegend=False)\n",
        "fig.show()"
      ],
      "metadata": {
        "colab": {
          "base_uri": "https://localhost:8080/",
          "height": 542
        },
        "id": "5drLrwHc7syT",
        "outputId": "33ccf6e0-0b71-4d98-a107-152570f02275"
      },
      "execution_count": null,
      "outputs": [
        {
          "output_type": "display_data",
          "data": {
            "text/html": [
              "<html>\n",
              "<head><meta charset=\"utf-8\" /></head>\n",
              "<body>\n",
              "    <div>            <script src=\"https://cdnjs.cloudflare.com/ajax/libs/mathjax/2.7.5/MathJax.js?config=TeX-AMS-MML_SVG\"></script><script type=\"text/javascript\">if (window.MathJax && window.MathJax.Hub && window.MathJax.Hub.Config) {window.MathJax.Hub.Config({SVG: {font: \"STIX-Web\"}});}</script>                <script type=\"text/javascript\">window.PlotlyConfig = {MathJaxConfig: 'local'};</script>\n",
              "        <script src=\"https://cdn.plot.ly/plotly-2.18.2.min.js\"></script>                <div id=\"5144be62-6f36-4228-84f6-c1049868c452\" class=\"plotly-graph-div\" style=\"height:525px; width:100%;\"></div>            <script type=\"text/javascript\">                                    window.PLOTLYENV=window.PLOTLYENV || {};                                    if (document.getElementById(\"5144be62-6f36-4228-84f6-c1049868c452\")) {                    Plotly.newPlot(                        \"5144be62-6f36-4228-84f6-c1049868c452\",                        [{\"alignmentgroup\":\"True\",\"hovertemplate\":\"Top Scorer=Guillermo St\\u00e1bile<br>Tournament ID=%{x}<br>Total Goals=%{y}<extra></extra>\",\"legendgroup\":\"Guillermo St\\u00e1bile\",\"marker\":{\"color\":\"#636efa\",\"pattern\":{\"shape\":\"\"}},\"name\":\"Guillermo St\\u00e1bile\",\"offsetgroup\":\"Guillermo St\\u00e1bile\",\"orientation\":\"v\",\"showlegend\":true,\"textposition\":\"auto\",\"x\":[\"WC-1930\"],\"xaxis\":\"x\",\"y\":[8],\"yaxis\":\"y\",\"type\":\"bar\"},{\"alignmentgroup\":\"True\",\"hovertemplate\":\"Top Scorer=Old\\u0159ich Nejedl\\u00fd<br>Tournament ID=%{x}<br>Total Goals=%{y}<extra></extra>\",\"legendgroup\":\"Old\\u0159ich Nejedl\\u00fd\",\"marker\":{\"color\":\"#EF553B\",\"pattern\":{\"shape\":\"\"}},\"name\":\"Old\\u0159ich Nejedl\\u00fd\",\"offsetgroup\":\"Old\\u0159ich Nejedl\\u00fd\",\"orientation\":\"v\",\"showlegend\":true,\"textposition\":\"auto\",\"x\":[\"WC-1934\"],\"xaxis\":\"x\",\"y\":[5],\"yaxis\":\"y\",\"type\":\"bar\"},{\"alignmentgroup\":\"True\",\"hovertemplate\":\"Top Scorer= Le\\u00f4nidas<br>Tournament ID=%{x}<br>Total Goals=%{y}<extra></extra>\",\"legendgroup\":\" Le\\u00f4nidas\",\"marker\":{\"color\":\"#00cc96\",\"pattern\":{\"shape\":\"\"}},\"name\":\" Le\\u00f4nidas\",\"offsetgroup\":\" Le\\u00f4nidas\",\"orientation\":\"v\",\"showlegend\":true,\"textposition\":\"auto\",\"x\":[\"WC-1938\"],\"xaxis\":\"x\",\"y\":[7],\"yaxis\":\"y\",\"type\":\"bar\"},{\"alignmentgroup\":\"True\",\"hovertemplate\":\"Top Scorer= Ademir<br>Tournament ID=%{x}<br>Total Goals=%{y}<extra></extra>\",\"legendgroup\":\" Ademir\",\"marker\":{\"color\":\"#ab63fa\",\"pattern\":{\"shape\":\"\"}},\"name\":\" Ademir\",\"offsetgroup\":\" Ademir\",\"orientation\":\"v\",\"showlegend\":true,\"textposition\":\"auto\",\"x\":[\"WC-1950\"],\"xaxis\":\"x\",\"y\":[9],\"yaxis\":\"y\",\"type\":\"bar\"},{\"alignmentgroup\":\"True\",\"hovertemplate\":\"Top Scorer=S\\u00e1ndor Kocsis<br>Tournament ID=%{x}<br>Total Goals=%{y}<extra></extra>\",\"legendgroup\":\"S\\u00e1ndor Kocsis\",\"marker\":{\"color\":\"#FFA15A\",\"pattern\":{\"shape\":\"\"}},\"name\":\"S\\u00e1ndor Kocsis\",\"offsetgroup\":\"S\\u00e1ndor Kocsis\",\"orientation\":\"v\",\"showlegend\":true,\"textposition\":\"auto\",\"x\":[\"WC-1954\"],\"xaxis\":\"x\",\"y\":[11],\"yaxis\":\"y\",\"type\":\"bar\"},{\"alignmentgroup\":\"True\",\"hovertemplate\":\"Top Scorer=Just Fontaine<br>Tournament ID=%{x}<br>Total Goals=%{y}<extra></extra>\",\"legendgroup\":\"Just Fontaine\",\"marker\":{\"color\":\"#19d3f3\",\"pattern\":{\"shape\":\"\"}},\"name\":\"Just Fontaine\",\"offsetgroup\":\"Just Fontaine\",\"orientation\":\"v\",\"showlegend\":true,\"textposition\":\"auto\",\"x\":[\"WC-1958\"],\"xaxis\":\"x\",\"y\":[13],\"yaxis\":\"y\",\"type\":\"bar\"},{\"alignmentgroup\":\"True\",\"hovertemplate\":\"Top Scorer= Vav\\u00e1<br>Tournament ID=%{x}<br>Total Goals=%{y}<extra></extra>\",\"legendgroup\":\" Vav\\u00e1\",\"marker\":{\"color\":\"#FF6692\",\"pattern\":{\"shape\":\"\"}},\"name\":\" Vav\\u00e1\",\"offsetgroup\":\" Vav\\u00e1\",\"orientation\":\"v\",\"showlegend\":true,\"textposition\":\"auto\",\"x\":[\"WC-1962\"],\"xaxis\":\"x\",\"y\":[4],\"yaxis\":\"y\",\"type\":\"bar\"},{\"alignmentgroup\":\"True\",\"hovertemplate\":\"Top Scorer=Leonel S\\u00e1nchez<br>Tournament ID=%{x}<br>Total Goals=%{y}<extra></extra>\",\"legendgroup\":\"Leonel S\\u00e1nchez\",\"marker\":{\"color\":\"#B6E880\",\"pattern\":{\"shape\":\"\"}},\"name\":\"Leonel S\\u00e1nchez\",\"offsetgroup\":\"Leonel S\\u00e1nchez\",\"orientation\":\"v\",\"showlegend\":true,\"textposition\":\"auto\",\"x\":[\"WC-1962\"],\"xaxis\":\"x\",\"y\":[4],\"yaxis\":\"y\",\"type\":\"bar\"},{\"alignmentgroup\":\"True\",\"hovertemplate\":\"Top Scorer=Valentin Ivanov<br>Tournament ID=%{x}<br>Total Goals=%{y}<extra></extra>\",\"legendgroup\":\"Valentin Ivanov\",\"marker\":{\"color\":\"#FF97FF\",\"pattern\":{\"shape\":\"\"}},\"name\":\"Valentin Ivanov\",\"offsetgroup\":\"Valentin Ivanov\",\"orientation\":\"v\",\"showlegend\":true,\"textposition\":\"auto\",\"x\":[\"WC-1962\"],\"xaxis\":\"x\",\"y\":[4],\"yaxis\":\"y\",\"type\":\"bar\"},{\"alignmentgroup\":\"True\",\"hovertemplate\":\"Top Scorer= Garrincha<br>Tournament ID=%{x}<br>Total Goals=%{y}<extra></extra>\",\"legendgroup\":\" Garrincha\",\"marker\":{\"color\":\"#FECB52\",\"pattern\":{\"shape\":\"\"}},\"name\":\" Garrincha\",\"offsetgroup\":\" Garrincha\",\"orientation\":\"v\",\"showlegend\":true,\"textposition\":\"auto\",\"x\":[\"WC-1962\"],\"xaxis\":\"x\",\"y\":[4],\"yaxis\":\"y\",\"type\":\"bar\"},{\"alignmentgroup\":\"True\",\"hovertemplate\":\"Top Scorer=Dra\\u017ean Jerkovi\\u0107<br>Tournament ID=%{x}<br>Total Goals=%{y}<extra></extra>\",\"legendgroup\":\"Dra\\u017ean Jerkovi\\u0107\",\"marker\":{\"color\":\"#636efa\",\"pattern\":{\"shape\":\"\"}},\"name\":\"Dra\\u017ean Jerkovi\\u0107\",\"offsetgroup\":\"Dra\\u017ean Jerkovi\\u0107\",\"orientation\":\"v\",\"showlegend\":true,\"textposition\":\"auto\",\"x\":[\"WC-1962\"],\"xaxis\":\"x\",\"y\":[4],\"yaxis\":\"y\",\"type\":\"bar\"},{\"alignmentgroup\":\"True\",\"hovertemplate\":\"Top Scorer=Fl\\u00f3ri\\u00e1n Albert<br>Tournament ID=%{x}<br>Total Goals=%{y}<extra></extra>\",\"legendgroup\":\"Fl\\u00f3ri\\u00e1n Albert\",\"marker\":{\"color\":\"#EF553B\",\"pattern\":{\"shape\":\"\"}},\"name\":\"Fl\\u00f3ri\\u00e1n Albert\",\"offsetgroup\":\"Fl\\u00f3ri\\u00e1n Albert\",\"orientation\":\"v\",\"showlegend\":true,\"textposition\":\"auto\",\"x\":[\"WC-1962\"],\"xaxis\":\"x\",\"y\":[4],\"yaxis\":\"y\",\"type\":\"bar\"},{\"alignmentgroup\":\"True\",\"hovertemplate\":\"Top Scorer= Eus\\u00e9bio<br>Tournament ID=%{x}<br>Total Goals=%{y}<extra></extra>\",\"legendgroup\":\" Eus\\u00e9bio\",\"marker\":{\"color\":\"#00cc96\",\"pattern\":{\"shape\":\"\"}},\"name\":\" Eus\\u00e9bio\",\"offsetgroup\":\" Eus\\u00e9bio\",\"orientation\":\"v\",\"showlegend\":true,\"textposition\":\"auto\",\"x\":[\"WC-1966\"],\"xaxis\":\"x\",\"y\":[9],\"yaxis\":\"y\",\"type\":\"bar\"},{\"alignmentgroup\":\"True\",\"hovertemplate\":\"Top Scorer=Gerd M\\u00fcller<br>Tournament ID=%{x}<br>Total Goals=%{y}<extra></extra>\",\"legendgroup\":\"Gerd M\\u00fcller\",\"marker\":{\"color\":\"#ab63fa\",\"pattern\":{\"shape\":\"\"}},\"name\":\"Gerd M\\u00fcller\",\"offsetgroup\":\"Gerd M\\u00fcller\",\"orientation\":\"v\",\"showlegend\":true,\"textposition\":\"auto\",\"x\":[\"WC-1970\"],\"xaxis\":\"x\",\"y\":[10],\"yaxis\":\"y\",\"type\":\"bar\"},{\"alignmentgroup\":\"True\",\"hovertemplate\":\"Top Scorer=Grzegorz Lato<br>Tournament ID=%{x}<br>Total Goals=%{y}<extra></extra>\",\"legendgroup\":\"Grzegorz Lato\",\"marker\":{\"color\":\"#FFA15A\",\"pattern\":{\"shape\":\"\"}},\"name\":\"Grzegorz Lato\",\"offsetgroup\":\"Grzegorz Lato\",\"orientation\":\"v\",\"showlegend\":true,\"textposition\":\"auto\",\"x\":[\"WC-1974\"],\"xaxis\":\"x\",\"y\":[7],\"yaxis\":\"y\",\"type\":\"bar\"},{\"alignmentgroup\":\"True\",\"hovertemplate\":\"Top Scorer=Mario Kempes<br>Tournament ID=%{x}<br>Total Goals=%{y}<extra></extra>\",\"legendgroup\":\"Mario Kempes\",\"marker\":{\"color\":\"#19d3f3\",\"pattern\":{\"shape\":\"\"}},\"name\":\"Mario Kempes\",\"offsetgroup\":\"Mario Kempes\",\"orientation\":\"v\",\"showlegend\":true,\"textposition\":\"auto\",\"x\":[\"WC-1978\"],\"xaxis\":\"x\",\"y\":[6],\"yaxis\":\"y\",\"type\":\"bar\"},{\"alignmentgroup\":\"True\",\"hovertemplate\":\"Top Scorer=Paolo Rossi<br>Tournament ID=%{x}<br>Total Goals=%{y}<extra></extra>\",\"legendgroup\":\"Paolo Rossi\",\"marker\":{\"color\":\"#FF6692\",\"pattern\":{\"shape\":\"\"}},\"name\":\"Paolo Rossi\",\"offsetgroup\":\"Paolo Rossi\",\"orientation\":\"v\",\"showlegend\":true,\"textposition\":\"auto\",\"x\":[\"WC-1982\"],\"xaxis\":\"x\",\"y\":[6],\"yaxis\":\"y\",\"type\":\"bar\"},{\"alignmentgroup\":\"True\",\"hovertemplate\":\"Top Scorer=Gary Lineker<br>Tournament ID=%{x}<br>Total Goals=%{y}<extra></extra>\",\"legendgroup\":\"Gary Lineker\",\"marker\":{\"color\":\"#B6E880\",\"pattern\":{\"shape\":\"\"}},\"name\":\"Gary Lineker\",\"offsetgroup\":\"Gary Lineker\",\"orientation\":\"v\",\"showlegend\":true,\"textposition\":\"auto\",\"x\":[\"WC-1986\"],\"xaxis\":\"x\",\"y\":[6],\"yaxis\":\"y\",\"type\":\"bar\"},{\"alignmentgroup\":\"True\",\"hovertemplate\":\"Top Scorer=Salvatore Schillaci<br>Tournament ID=%{x}<br>Total Goals=%{y}<extra></extra>\",\"legendgroup\":\"Salvatore Schillaci\",\"marker\":{\"color\":\"#FF97FF\",\"pattern\":{\"shape\":\"\"}},\"name\":\"Salvatore Schillaci\",\"offsetgroup\":\"Salvatore Schillaci\",\"orientation\":\"v\",\"showlegend\":true,\"textposition\":\"auto\",\"x\":[\"WC-1990\"],\"xaxis\":\"x\",\"y\":[6],\"yaxis\":\"y\",\"type\":\"bar\"},{\"alignmentgroup\":\"True\",\"hovertemplate\":\"Top Scorer=Oleg Salenko<br>Tournament ID=%{x}<br>Total Goals=%{y}<extra></extra>\",\"legendgroup\":\"Oleg Salenko\",\"marker\":{\"color\":\"#FECB52\",\"pattern\":{\"shape\":\"\"}},\"name\":\"Oleg Salenko\",\"offsetgroup\":\"Oleg Salenko\",\"orientation\":\"v\",\"showlegend\":true,\"textposition\":\"auto\",\"x\":[\"WC-1994\"],\"xaxis\":\"x\",\"y\":[6],\"yaxis\":\"y\",\"type\":\"bar\"},{\"alignmentgroup\":\"True\",\"hovertemplate\":\"Top Scorer=Hristo Stoichkov<br>Tournament ID=%{x}<br>Total Goals=%{y}<extra></extra>\",\"legendgroup\":\"Hristo Stoichkov\",\"marker\":{\"color\":\"#636efa\",\"pattern\":{\"shape\":\"\"}},\"name\":\"Hristo Stoichkov\",\"offsetgroup\":\"Hristo Stoichkov\",\"orientation\":\"v\",\"showlegend\":true,\"textposition\":\"auto\",\"x\":[\"WC-1994\"],\"xaxis\":\"x\",\"y\":[6],\"yaxis\":\"y\",\"type\":\"bar\"},{\"alignmentgroup\":\"True\",\"hovertemplate\":\"Top Scorer=Davor \\u0160uker<br>Tournament ID=%{x}<br>Total Goals=%{y}<extra></extra>\",\"legendgroup\":\"Davor \\u0160uker\",\"marker\":{\"color\":\"#EF553B\",\"pattern\":{\"shape\":\"\"}},\"name\":\"Davor \\u0160uker\",\"offsetgroup\":\"Davor \\u0160uker\",\"orientation\":\"v\",\"showlegend\":true,\"textposition\":\"auto\",\"x\":[\"WC-1998\"],\"xaxis\":\"x\",\"y\":[6],\"yaxis\":\"y\",\"type\":\"bar\"},{\"alignmentgroup\":\"True\",\"hovertemplate\":\"Top Scorer= Ronaldo<br>Tournament ID=%{x}<br>Total Goals=%{y}<extra></extra>\",\"legendgroup\":\" Ronaldo\",\"marker\":{\"color\":\"#00cc96\",\"pattern\":{\"shape\":\"\"}},\"name\":\" Ronaldo\",\"offsetgroup\":\" Ronaldo\",\"orientation\":\"v\",\"showlegend\":true,\"textposition\":\"auto\",\"x\":[\"WC-2002\"],\"xaxis\":\"x\",\"y\":[8],\"yaxis\":\"y\",\"type\":\"bar\"},{\"alignmentgroup\":\"True\",\"hovertemplate\":\"Top Scorer=Miroslav Klose<br>Tournament ID=%{x}<br>Total Goals=%{y}<extra></extra>\",\"legendgroup\":\"Miroslav Klose\",\"marker\":{\"color\":\"#ab63fa\",\"pattern\":{\"shape\":\"\"}},\"name\":\"Miroslav Klose\",\"offsetgroup\":\"Miroslav Klose\",\"orientation\":\"v\",\"showlegend\":true,\"textposition\":\"auto\",\"x\":[\"WC-2006\"],\"xaxis\":\"x\",\"y\":[5],\"yaxis\":\"y\",\"type\":\"bar\"},{\"alignmentgroup\":\"True\",\"hovertemplate\":\"Top Scorer=Wesley Sneijder<br>Tournament ID=%{x}<br>Total Goals=%{y}<extra></extra>\",\"legendgroup\":\"Wesley Sneijder\",\"marker\":{\"color\":\"#FFA15A\",\"pattern\":{\"shape\":\"\"}},\"name\":\"Wesley Sneijder\",\"offsetgroup\":\"Wesley Sneijder\",\"orientation\":\"v\",\"showlegend\":true,\"textposition\":\"auto\",\"x\":[\"WC-2010\"],\"xaxis\":\"x\",\"y\":[5],\"yaxis\":\"y\",\"type\":\"bar\"},{\"alignmentgroup\":\"True\",\"hovertemplate\":\"Top Scorer=David Villa<br>Tournament ID=%{x}<br>Total Goals=%{y}<extra></extra>\",\"legendgroup\":\"David Villa\",\"marker\":{\"color\":\"#19d3f3\",\"pattern\":{\"shape\":\"\"}},\"name\":\"David Villa\",\"offsetgroup\":\"David Villa\",\"orientation\":\"v\",\"showlegend\":true,\"textposition\":\"auto\",\"x\":[\"WC-2010\"],\"xaxis\":\"x\",\"y\":[5],\"yaxis\":\"y\",\"type\":\"bar\"},{\"alignmentgroup\":\"True\",\"hovertemplate\":\"Top Scorer=Thomas M\\u00fcller<br>Tournament ID=%{x}<br>Total Goals=%{y}<extra></extra>\",\"legendgroup\":\"Thomas M\\u00fcller\",\"marker\":{\"color\":\"#FF6692\",\"pattern\":{\"shape\":\"\"}},\"name\":\"Thomas M\\u00fcller\",\"offsetgroup\":\"Thomas M\\u00fcller\",\"orientation\":\"v\",\"showlegend\":true,\"textposition\":\"auto\",\"x\":[\"WC-2010\"],\"xaxis\":\"x\",\"y\":[5],\"yaxis\":\"y\",\"type\":\"bar\"},{\"alignmentgroup\":\"True\",\"hovertemplate\":\"Top Scorer=Diego Forl\\u00e1n<br>Tournament ID=%{x}<br>Total Goals=%{y}<extra></extra>\",\"legendgroup\":\"Diego Forl\\u00e1n\",\"marker\":{\"color\":\"#B6E880\",\"pattern\":{\"shape\":\"\"}},\"name\":\"Diego Forl\\u00e1n\",\"offsetgroup\":\"Diego Forl\\u00e1n\",\"orientation\":\"v\",\"showlegend\":true,\"textposition\":\"auto\",\"x\":[\"WC-2010\"],\"xaxis\":\"x\",\"y\":[5],\"yaxis\":\"y\",\"type\":\"bar\"},{\"alignmentgroup\":\"True\",\"hovertemplate\":\"Top Scorer=James Rodr\\u00edguez<br>Tournament ID=%{x}<br>Total Goals=%{y}<extra></extra>\",\"legendgroup\":\"James Rodr\\u00edguez\",\"marker\":{\"color\":\"#FF97FF\",\"pattern\":{\"shape\":\"\"}},\"name\":\"James Rodr\\u00edguez\",\"offsetgroup\":\"James Rodr\\u00edguez\",\"orientation\":\"v\",\"showlegend\":true,\"textposition\":\"auto\",\"x\":[\"WC-2014\"],\"xaxis\":\"x\",\"y\":[6],\"yaxis\":\"y\",\"type\":\"bar\"},{\"alignmentgroup\":\"True\",\"hovertemplate\":\"Top Scorer=Harry Kane<br>Tournament ID=%{x}<br>Total Goals=%{y}<extra></extra>\",\"legendgroup\":\"Harry Kane\",\"marker\":{\"color\":\"#FECB52\",\"pattern\":{\"shape\":\"\"}},\"name\":\"Harry Kane\",\"offsetgroup\":\"Harry Kane\",\"orientation\":\"v\",\"showlegend\":true,\"textposition\":\"auto\",\"x\":[\"WC-2018\"],\"xaxis\":\"x\",\"y\":[6],\"yaxis\":\"y\",\"type\":\"bar\"},{\"alignmentgroup\":\"True\",\"hovertemplate\":\"Top Scorer=Kylian Mbapp\\u00e9<br>Tournament ID=%{x}<br>Total Goals=%{y}<extra></extra>\",\"legendgroup\":\"Kylian Mbapp\\u00e9\",\"marker\":{\"color\":\"#636efa\",\"pattern\":{\"shape\":\"\"}},\"name\":\"Kylian Mbapp\\u00e9\",\"offsetgroup\":\"Kylian Mbapp\\u00e9\",\"orientation\":\"v\",\"showlegend\":true,\"textposition\":\"auto\",\"x\":[\"WC-2022\"],\"xaxis\":\"x\",\"y\":[8],\"yaxis\":\"y\",\"type\":\"bar\"}],                        {\"template\":{\"data\":{\"histogram2dcontour\":[{\"type\":\"histogram2dcontour\",\"colorbar\":{\"outlinewidth\":0,\"ticks\":\"\"},\"colorscale\":[[0.0,\"#0d0887\"],[0.1111111111111111,\"#46039f\"],[0.2222222222222222,\"#7201a8\"],[0.3333333333333333,\"#9c179e\"],[0.4444444444444444,\"#bd3786\"],[0.5555555555555556,\"#d8576b\"],[0.6666666666666666,\"#ed7953\"],[0.7777777777777778,\"#fb9f3a\"],[0.8888888888888888,\"#fdca26\"],[1.0,\"#f0f921\"]]}],\"choropleth\":[{\"type\":\"choropleth\",\"colorbar\":{\"outlinewidth\":0,\"ticks\":\"\"}}],\"histogram2d\":[{\"type\":\"histogram2d\",\"colorbar\":{\"outlinewidth\":0,\"ticks\":\"\"},\"colorscale\":[[0.0,\"#0d0887\"],[0.1111111111111111,\"#46039f\"],[0.2222222222222222,\"#7201a8\"],[0.3333333333333333,\"#9c179e\"],[0.4444444444444444,\"#bd3786\"],[0.5555555555555556,\"#d8576b\"],[0.6666666666666666,\"#ed7953\"],[0.7777777777777778,\"#fb9f3a\"],[0.8888888888888888,\"#fdca26\"],[1.0,\"#f0f921\"]]}],\"heatmap\":[{\"type\":\"heatmap\",\"colorbar\":{\"outlinewidth\":0,\"ticks\":\"\"},\"colorscale\":[[0.0,\"#0d0887\"],[0.1111111111111111,\"#46039f\"],[0.2222222222222222,\"#7201a8\"],[0.3333333333333333,\"#9c179e\"],[0.4444444444444444,\"#bd3786\"],[0.5555555555555556,\"#d8576b\"],[0.6666666666666666,\"#ed7953\"],[0.7777777777777778,\"#fb9f3a\"],[0.8888888888888888,\"#fdca26\"],[1.0,\"#f0f921\"]]}],\"heatmapgl\":[{\"type\":\"heatmapgl\",\"colorbar\":{\"outlinewidth\":0,\"ticks\":\"\"},\"colorscale\":[[0.0,\"#0d0887\"],[0.1111111111111111,\"#46039f\"],[0.2222222222222222,\"#7201a8\"],[0.3333333333333333,\"#9c179e\"],[0.4444444444444444,\"#bd3786\"],[0.5555555555555556,\"#d8576b\"],[0.6666666666666666,\"#ed7953\"],[0.7777777777777778,\"#fb9f3a\"],[0.8888888888888888,\"#fdca26\"],[1.0,\"#f0f921\"]]}],\"contourcarpet\":[{\"type\":\"contourcarpet\",\"colorbar\":{\"outlinewidth\":0,\"ticks\":\"\"}}],\"contour\":[{\"type\":\"contour\",\"colorbar\":{\"outlinewidth\":0,\"ticks\":\"\"},\"colorscale\":[[0.0,\"#0d0887\"],[0.1111111111111111,\"#46039f\"],[0.2222222222222222,\"#7201a8\"],[0.3333333333333333,\"#9c179e\"],[0.4444444444444444,\"#bd3786\"],[0.5555555555555556,\"#d8576b\"],[0.6666666666666666,\"#ed7953\"],[0.7777777777777778,\"#fb9f3a\"],[0.8888888888888888,\"#fdca26\"],[1.0,\"#f0f921\"]]}],\"surface\":[{\"type\":\"surface\",\"colorbar\":{\"outlinewidth\":0,\"ticks\":\"\"},\"colorscale\":[[0.0,\"#0d0887\"],[0.1111111111111111,\"#46039f\"],[0.2222222222222222,\"#7201a8\"],[0.3333333333333333,\"#9c179e\"],[0.4444444444444444,\"#bd3786\"],[0.5555555555555556,\"#d8576b\"],[0.6666666666666666,\"#ed7953\"],[0.7777777777777778,\"#fb9f3a\"],[0.8888888888888888,\"#fdca26\"],[1.0,\"#f0f921\"]]}],\"mesh3d\":[{\"type\":\"mesh3d\",\"colorbar\":{\"outlinewidth\":0,\"ticks\":\"\"}}],\"scatter\":[{\"fillpattern\":{\"fillmode\":\"overlay\",\"size\":10,\"solidity\":0.2},\"type\":\"scatter\"}],\"parcoords\":[{\"type\":\"parcoords\",\"line\":{\"colorbar\":{\"outlinewidth\":0,\"ticks\":\"\"}}}],\"scatterpolargl\":[{\"type\":\"scatterpolargl\",\"marker\":{\"colorbar\":{\"outlinewidth\":0,\"ticks\":\"\"}}}],\"bar\":[{\"error_x\":{\"color\":\"#2a3f5f\"},\"error_y\":{\"color\":\"#2a3f5f\"},\"marker\":{\"line\":{\"color\":\"#E5ECF6\",\"width\":0.5},\"pattern\":{\"fillmode\":\"overlay\",\"size\":10,\"solidity\":0.2}},\"type\":\"bar\"}],\"scattergeo\":[{\"type\":\"scattergeo\",\"marker\":{\"colorbar\":{\"outlinewidth\":0,\"ticks\":\"\"}}}],\"scatterpolar\":[{\"type\":\"scatterpolar\",\"marker\":{\"colorbar\":{\"outlinewidth\":0,\"ticks\":\"\"}}}],\"histogram\":[{\"marker\":{\"pattern\":{\"fillmode\":\"overlay\",\"size\":10,\"solidity\":0.2}},\"type\":\"histogram\"}],\"scattergl\":[{\"type\":\"scattergl\",\"marker\":{\"colorbar\":{\"outlinewidth\":0,\"ticks\":\"\"}}}],\"scatter3d\":[{\"type\":\"scatter3d\",\"line\":{\"colorbar\":{\"outlinewidth\":0,\"ticks\":\"\"}},\"marker\":{\"colorbar\":{\"outlinewidth\":0,\"ticks\":\"\"}}}],\"scattermapbox\":[{\"type\":\"scattermapbox\",\"marker\":{\"colorbar\":{\"outlinewidth\":0,\"ticks\":\"\"}}}],\"scatterternary\":[{\"type\":\"scatterternary\",\"marker\":{\"colorbar\":{\"outlinewidth\":0,\"ticks\":\"\"}}}],\"scattercarpet\":[{\"type\":\"scattercarpet\",\"marker\":{\"colorbar\":{\"outlinewidth\":0,\"ticks\":\"\"}}}],\"carpet\":[{\"aaxis\":{\"endlinecolor\":\"#2a3f5f\",\"gridcolor\":\"white\",\"linecolor\":\"white\",\"minorgridcolor\":\"white\",\"startlinecolor\":\"#2a3f5f\"},\"baxis\":{\"endlinecolor\":\"#2a3f5f\",\"gridcolor\":\"white\",\"linecolor\":\"white\",\"minorgridcolor\":\"white\",\"startlinecolor\":\"#2a3f5f\"},\"type\":\"carpet\"}],\"table\":[{\"cells\":{\"fill\":{\"color\":\"#EBF0F8\"},\"line\":{\"color\":\"white\"}},\"header\":{\"fill\":{\"color\":\"#C8D4E3\"},\"line\":{\"color\":\"white\"}},\"type\":\"table\"}],\"barpolar\":[{\"marker\":{\"line\":{\"color\":\"#E5ECF6\",\"width\":0.5},\"pattern\":{\"fillmode\":\"overlay\",\"size\":10,\"solidity\":0.2}},\"type\":\"barpolar\"}],\"pie\":[{\"automargin\":true,\"type\":\"pie\"}]},\"layout\":{\"autotypenumbers\":\"strict\",\"colorway\":[\"#636efa\",\"#EF553B\",\"#00cc96\",\"#ab63fa\",\"#FFA15A\",\"#19d3f3\",\"#FF6692\",\"#B6E880\",\"#FF97FF\",\"#FECB52\"],\"font\":{\"color\":\"#2a3f5f\"},\"hovermode\":\"closest\",\"hoverlabel\":{\"align\":\"left\"},\"paper_bgcolor\":\"white\",\"plot_bgcolor\":\"#E5ECF6\",\"polar\":{\"bgcolor\":\"#E5ECF6\",\"angularaxis\":{\"gridcolor\":\"white\",\"linecolor\":\"white\",\"ticks\":\"\"},\"radialaxis\":{\"gridcolor\":\"white\",\"linecolor\":\"white\",\"ticks\":\"\"}},\"ternary\":{\"bgcolor\":\"#E5ECF6\",\"aaxis\":{\"gridcolor\":\"white\",\"linecolor\":\"white\",\"ticks\":\"\"},\"baxis\":{\"gridcolor\":\"white\",\"linecolor\":\"white\",\"ticks\":\"\"},\"caxis\":{\"gridcolor\":\"white\",\"linecolor\":\"white\",\"ticks\":\"\"}},\"coloraxis\":{\"colorbar\":{\"outlinewidth\":0,\"ticks\":\"\"}},\"colorscale\":{\"sequential\":[[0.0,\"#0d0887\"],[0.1111111111111111,\"#46039f\"],[0.2222222222222222,\"#7201a8\"],[0.3333333333333333,\"#9c179e\"],[0.4444444444444444,\"#bd3786\"],[0.5555555555555556,\"#d8576b\"],[0.6666666666666666,\"#ed7953\"],[0.7777777777777778,\"#fb9f3a\"],[0.8888888888888888,\"#fdca26\"],[1.0,\"#f0f921\"]],\"sequentialminus\":[[0.0,\"#0d0887\"],[0.1111111111111111,\"#46039f\"],[0.2222222222222222,\"#7201a8\"],[0.3333333333333333,\"#9c179e\"],[0.4444444444444444,\"#bd3786\"],[0.5555555555555556,\"#d8576b\"],[0.6666666666666666,\"#ed7953\"],[0.7777777777777778,\"#fb9f3a\"],[0.8888888888888888,\"#fdca26\"],[1.0,\"#f0f921\"]],\"diverging\":[[0,\"#8e0152\"],[0.1,\"#c51b7d\"],[0.2,\"#de77ae\"],[0.3,\"#f1b6da\"],[0.4,\"#fde0ef\"],[0.5,\"#f7f7f7\"],[0.6,\"#e6f5d0\"],[0.7,\"#b8e186\"],[0.8,\"#7fbc41\"],[0.9,\"#4d9221\"],[1,\"#276419\"]]},\"xaxis\":{\"gridcolor\":\"white\",\"linecolor\":\"white\",\"ticks\":\"\",\"title\":{\"standoff\":15},\"zerolinecolor\":\"white\",\"automargin\":true,\"zerolinewidth\":2},\"yaxis\":{\"gridcolor\":\"white\",\"linecolor\":\"white\",\"ticks\":\"\",\"title\":{\"standoff\":15},\"zerolinecolor\":\"white\",\"automargin\":true,\"zerolinewidth\":2},\"scene\":{\"xaxis\":{\"backgroundcolor\":\"#E5ECF6\",\"gridcolor\":\"white\",\"linecolor\":\"white\",\"showbackground\":true,\"ticks\":\"\",\"zerolinecolor\":\"white\",\"gridwidth\":2},\"yaxis\":{\"backgroundcolor\":\"#E5ECF6\",\"gridcolor\":\"white\",\"linecolor\":\"white\",\"showbackground\":true,\"ticks\":\"\",\"zerolinecolor\":\"white\",\"gridwidth\":2},\"zaxis\":{\"backgroundcolor\":\"#E5ECF6\",\"gridcolor\":\"white\",\"linecolor\":\"white\",\"showbackground\":true,\"ticks\":\"\",\"zerolinecolor\":\"white\",\"gridwidth\":2}},\"shapedefaults\":{\"line\":{\"color\":\"#2a3f5f\"}},\"annotationdefaults\":{\"arrowcolor\":\"#2a3f5f\",\"arrowhead\":0,\"arrowwidth\":1},\"geo\":{\"bgcolor\":\"white\",\"landcolor\":\"#E5ECF6\",\"subunitcolor\":\"white\",\"showland\":true,\"showlakes\":true,\"lakecolor\":\"white\"},\"title\":{\"x\":0.05},\"mapbox\":{\"style\":\"light\"}}},\"xaxis\":{\"anchor\":\"y\",\"domain\":[0.0,1.0],\"title\":{\"text\":\"Tournament ID\"}},\"yaxis\":{\"anchor\":\"x\",\"domain\":[0.0,1.0],\"title\":{\"text\":\"Total Goals\"}},\"legend\":{\"title\":{\"text\":\"Top Scorer\"},\"tracegroupgap\":0},\"title\":{\"text\":\"Top Scorers for Each Tournament\"},\"barmode\":\"relative\",\"showlegend\":false},                        {\"responsive\": true}                    ).then(function(){\n",
              "                            \n",
              "var gd = document.getElementById('5144be62-6f36-4228-84f6-c1049868c452');\n",
              "var x = new MutationObserver(function (mutations, observer) {{\n",
              "        var display = window.getComputedStyle(gd).display;\n",
              "        if (!display || display === 'none') {{\n",
              "            console.log([gd, 'removed!']);\n",
              "            Plotly.purge(gd);\n",
              "            observer.disconnect();\n",
              "        }}\n",
              "}});\n",
              "\n",
              "// Listen for the removal of the full notebook cells\n",
              "var notebookContainer = gd.closest('#notebook-container');\n",
              "if (notebookContainer) {{\n",
              "    x.observe(notebookContainer, {childList: true});\n",
              "}}\n",
              "\n",
              "// Listen for the clearing of the current output cell\n",
              "var outputEl = gd.closest('.output');\n",
              "if (outputEl) {{\n",
              "    x.observe(outputEl, {childList: true});\n",
              "}}\n",
              "\n",
              "                        })                };                            </script>        </div>\n",
              "</body>\n",
              "</html>"
            ]
          },
          "metadata": {}
        }
      ]
    },
    {
      "cell_type": "markdown",
      "source": [
        "###Total Goals Scored in each Tournament"
      ],
      "metadata": {
        "id": "XDNUtnvf9joU"
      }
    },
    {
      "cell_type": "code",
      "source": [
        "goals_count = goals_data.groupby('tournament_name')['goal_id'].count().reset_index()\n",
        "goals_count = goals_count.rename(columns={'goal_id': 'goals_count'})\n",
        "\n",
        "#goals_count = goals_count.sort_values('goals_count', ascending=False)\n",
        "\n",
        "fig = px.bar(goals_count, x='goals_count', y='tournament_name',\n",
        "             labels={'goals_count': 'Goals Count', 'tournament_name': 'Tournament Name'},\n",
        "             title='Number of Goals Scored in Each Tournament')\n",
        "fig.show()"
      ],
      "metadata": {
        "colab": {
          "base_uri": "https://localhost:8080/",
          "height": 542
        },
        "id": "m-IU1rkAEKWi",
        "outputId": "ac91bf44-027e-4161-c851-7e6d54b42bc9"
      },
      "execution_count": null,
      "outputs": [
        {
          "output_type": "display_data",
          "data": {
            "text/html": [
              "<html>\n",
              "<head><meta charset=\"utf-8\" /></head>\n",
              "<body>\n",
              "    <div>            <script src=\"https://cdnjs.cloudflare.com/ajax/libs/mathjax/2.7.5/MathJax.js?config=TeX-AMS-MML_SVG\"></script><script type=\"text/javascript\">if (window.MathJax && window.MathJax.Hub && window.MathJax.Hub.Config) {window.MathJax.Hub.Config({SVG: {font: \"STIX-Web\"}});}</script>                <script type=\"text/javascript\">window.PlotlyConfig = {MathJaxConfig: 'local'};</script>\n",
              "        <script src=\"https://cdn.plot.ly/plotly-2.18.2.min.js\"></script>                <div id=\"fc627909-6ec1-444a-a781-8908b5c13385\" class=\"plotly-graph-div\" style=\"height:525px; width:100%;\"></div>            <script type=\"text/javascript\">                                    window.PLOTLYENV=window.PLOTLYENV || {};                                    if (document.getElementById(\"fc627909-6ec1-444a-a781-8908b5c13385\")) {                    Plotly.newPlot(                        \"fc627909-6ec1-444a-a781-8908b5c13385\",                        [{\"alignmentgroup\":\"True\",\"hovertemplate\":\"Goals Count=%{x}<br>Tournament Name=%{y}<extra></extra>\",\"legendgroup\":\"\",\"marker\":{\"color\":\"#636efa\",\"pattern\":{\"shape\":\"\"}},\"name\":\"\",\"offsetgroup\":\"\",\"orientation\":\"h\",\"showlegend\":false,\"textposition\":\"auto\",\"x\":[70,70,84,88,140,126,89,89,95,97,102,146,132,115,141,171,161,147,145,171,169,172],\"xaxis\":\"x\",\"y\":[\"1930 FIFA World Cup\",\"1934 FIFA World Cup\",\"1938 FIFA World Cup\",\"1950 FIFA World Cup\",\"1954 FIFA World Cup\",\"1958 FIFA World Cup\",\"1962 FIFA World Cup\",\"1966 FIFA World Cup\",\"1970 FIFA World Cup\",\"1974 FIFA World Cup\",\"1978 FIFA World Cup\",\"1982 FIFA World Cup\",\"1986 FIFA World Cup\",\"1990 FIFA World Cup\",\"1994 FIFA World Cup\",\"1998 FIFA World Cup\",\"2002 FIFA World Cup\",\"2006 FIFA World Cup\",\"2010 FIFA World Cup\",\"2014 FIFA World Cup\",\"2018 FIFA World Cup\",\"2022 FIFA World Cup\"],\"yaxis\":\"y\",\"type\":\"bar\"}],                        {\"template\":{\"data\":{\"histogram2dcontour\":[{\"type\":\"histogram2dcontour\",\"colorbar\":{\"outlinewidth\":0,\"ticks\":\"\"},\"colorscale\":[[0.0,\"#0d0887\"],[0.1111111111111111,\"#46039f\"],[0.2222222222222222,\"#7201a8\"],[0.3333333333333333,\"#9c179e\"],[0.4444444444444444,\"#bd3786\"],[0.5555555555555556,\"#d8576b\"],[0.6666666666666666,\"#ed7953\"],[0.7777777777777778,\"#fb9f3a\"],[0.8888888888888888,\"#fdca26\"],[1.0,\"#f0f921\"]]}],\"choropleth\":[{\"type\":\"choropleth\",\"colorbar\":{\"outlinewidth\":0,\"ticks\":\"\"}}],\"histogram2d\":[{\"type\":\"histogram2d\",\"colorbar\":{\"outlinewidth\":0,\"ticks\":\"\"},\"colorscale\":[[0.0,\"#0d0887\"],[0.1111111111111111,\"#46039f\"],[0.2222222222222222,\"#7201a8\"],[0.3333333333333333,\"#9c179e\"],[0.4444444444444444,\"#bd3786\"],[0.5555555555555556,\"#d8576b\"],[0.6666666666666666,\"#ed7953\"],[0.7777777777777778,\"#fb9f3a\"],[0.8888888888888888,\"#fdca26\"],[1.0,\"#f0f921\"]]}],\"heatmap\":[{\"type\":\"heatmap\",\"colorbar\":{\"outlinewidth\":0,\"ticks\":\"\"},\"colorscale\":[[0.0,\"#0d0887\"],[0.1111111111111111,\"#46039f\"],[0.2222222222222222,\"#7201a8\"],[0.3333333333333333,\"#9c179e\"],[0.4444444444444444,\"#bd3786\"],[0.5555555555555556,\"#d8576b\"],[0.6666666666666666,\"#ed7953\"],[0.7777777777777778,\"#fb9f3a\"],[0.8888888888888888,\"#fdca26\"],[1.0,\"#f0f921\"]]}],\"heatmapgl\":[{\"type\":\"heatmapgl\",\"colorbar\":{\"outlinewidth\":0,\"ticks\":\"\"},\"colorscale\":[[0.0,\"#0d0887\"],[0.1111111111111111,\"#46039f\"],[0.2222222222222222,\"#7201a8\"],[0.3333333333333333,\"#9c179e\"],[0.4444444444444444,\"#bd3786\"],[0.5555555555555556,\"#d8576b\"],[0.6666666666666666,\"#ed7953\"],[0.7777777777777778,\"#fb9f3a\"],[0.8888888888888888,\"#fdca26\"],[1.0,\"#f0f921\"]]}],\"contourcarpet\":[{\"type\":\"contourcarpet\",\"colorbar\":{\"outlinewidth\":0,\"ticks\":\"\"}}],\"contour\":[{\"type\":\"contour\",\"colorbar\":{\"outlinewidth\":0,\"ticks\":\"\"},\"colorscale\":[[0.0,\"#0d0887\"],[0.1111111111111111,\"#46039f\"],[0.2222222222222222,\"#7201a8\"],[0.3333333333333333,\"#9c179e\"],[0.4444444444444444,\"#bd3786\"],[0.5555555555555556,\"#d8576b\"],[0.6666666666666666,\"#ed7953\"],[0.7777777777777778,\"#fb9f3a\"],[0.8888888888888888,\"#fdca26\"],[1.0,\"#f0f921\"]]}],\"surface\":[{\"type\":\"surface\",\"colorbar\":{\"outlinewidth\":0,\"ticks\":\"\"},\"colorscale\":[[0.0,\"#0d0887\"],[0.1111111111111111,\"#46039f\"],[0.2222222222222222,\"#7201a8\"],[0.3333333333333333,\"#9c179e\"],[0.4444444444444444,\"#bd3786\"],[0.5555555555555556,\"#d8576b\"],[0.6666666666666666,\"#ed7953\"],[0.7777777777777778,\"#fb9f3a\"],[0.8888888888888888,\"#fdca26\"],[1.0,\"#f0f921\"]]}],\"mesh3d\":[{\"type\":\"mesh3d\",\"colorbar\":{\"outlinewidth\":0,\"ticks\":\"\"}}],\"scatter\":[{\"fillpattern\":{\"fillmode\":\"overlay\",\"size\":10,\"solidity\":0.2},\"type\":\"scatter\"}],\"parcoords\":[{\"type\":\"parcoords\",\"line\":{\"colorbar\":{\"outlinewidth\":0,\"ticks\":\"\"}}}],\"scatterpolargl\":[{\"type\":\"scatterpolargl\",\"marker\":{\"colorbar\":{\"outlinewidth\":0,\"ticks\":\"\"}}}],\"bar\":[{\"error_x\":{\"color\":\"#2a3f5f\"},\"error_y\":{\"color\":\"#2a3f5f\"},\"marker\":{\"line\":{\"color\":\"#E5ECF6\",\"width\":0.5},\"pattern\":{\"fillmode\":\"overlay\",\"size\":10,\"solidity\":0.2}},\"type\":\"bar\"}],\"scattergeo\":[{\"type\":\"scattergeo\",\"marker\":{\"colorbar\":{\"outlinewidth\":0,\"ticks\":\"\"}}}],\"scatterpolar\":[{\"type\":\"scatterpolar\",\"marker\":{\"colorbar\":{\"outlinewidth\":0,\"ticks\":\"\"}}}],\"histogram\":[{\"marker\":{\"pattern\":{\"fillmode\":\"overlay\",\"size\":10,\"solidity\":0.2}},\"type\":\"histogram\"}],\"scattergl\":[{\"type\":\"scattergl\",\"marker\":{\"colorbar\":{\"outlinewidth\":0,\"ticks\":\"\"}}}],\"scatter3d\":[{\"type\":\"scatter3d\",\"line\":{\"colorbar\":{\"outlinewidth\":0,\"ticks\":\"\"}},\"marker\":{\"colorbar\":{\"outlinewidth\":0,\"ticks\":\"\"}}}],\"scattermapbox\":[{\"type\":\"scattermapbox\",\"marker\":{\"colorbar\":{\"outlinewidth\":0,\"ticks\":\"\"}}}],\"scatterternary\":[{\"type\":\"scatterternary\",\"marker\":{\"colorbar\":{\"outlinewidth\":0,\"ticks\":\"\"}}}],\"scattercarpet\":[{\"type\":\"scattercarpet\",\"marker\":{\"colorbar\":{\"outlinewidth\":0,\"ticks\":\"\"}}}],\"carpet\":[{\"aaxis\":{\"endlinecolor\":\"#2a3f5f\",\"gridcolor\":\"white\",\"linecolor\":\"white\",\"minorgridcolor\":\"white\",\"startlinecolor\":\"#2a3f5f\"},\"baxis\":{\"endlinecolor\":\"#2a3f5f\",\"gridcolor\":\"white\",\"linecolor\":\"white\",\"minorgridcolor\":\"white\",\"startlinecolor\":\"#2a3f5f\"},\"type\":\"carpet\"}],\"table\":[{\"cells\":{\"fill\":{\"color\":\"#EBF0F8\"},\"line\":{\"color\":\"white\"}},\"header\":{\"fill\":{\"color\":\"#C8D4E3\"},\"line\":{\"color\":\"white\"}},\"type\":\"table\"}],\"barpolar\":[{\"marker\":{\"line\":{\"color\":\"#E5ECF6\",\"width\":0.5},\"pattern\":{\"fillmode\":\"overlay\",\"size\":10,\"solidity\":0.2}},\"type\":\"barpolar\"}],\"pie\":[{\"automargin\":true,\"type\":\"pie\"}]},\"layout\":{\"autotypenumbers\":\"strict\",\"colorway\":[\"#636efa\",\"#EF553B\",\"#00cc96\",\"#ab63fa\",\"#FFA15A\",\"#19d3f3\",\"#FF6692\",\"#B6E880\",\"#FF97FF\",\"#FECB52\"],\"font\":{\"color\":\"#2a3f5f\"},\"hovermode\":\"closest\",\"hoverlabel\":{\"align\":\"left\"},\"paper_bgcolor\":\"white\",\"plot_bgcolor\":\"#E5ECF6\",\"polar\":{\"bgcolor\":\"#E5ECF6\",\"angularaxis\":{\"gridcolor\":\"white\",\"linecolor\":\"white\",\"ticks\":\"\"},\"radialaxis\":{\"gridcolor\":\"white\",\"linecolor\":\"white\",\"ticks\":\"\"}},\"ternary\":{\"bgcolor\":\"#E5ECF6\",\"aaxis\":{\"gridcolor\":\"white\",\"linecolor\":\"white\",\"ticks\":\"\"},\"baxis\":{\"gridcolor\":\"white\",\"linecolor\":\"white\",\"ticks\":\"\"},\"caxis\":{\"gridcolor\":\"white\",\"linecolor\":\"white\",\"ticks\":\"\"}},\"coloraxis\":{\"colorbar\":{\"outlinewidth\":0,\"ticks\":\"\"}},\"colorscale\":{\"sequential\":[[0.0,\"#0d0887\"],[0.1111111111111111,\"#46039f\"],[0.2222222222222222,\"#7201a8\"],[0.3333333333333333,\"#9c179e\"],[0.4444444444444444,\"#bd3786\"],[0.5555555555555556,\"#d8576b\"],[0.6666666666666666,\"#ed7953\"],[0.7777777777777778,\"#fb9f3a\"],[0.8888888888888888,\"#fdca26\"],[1.0,\"#f0f921\"]],\"sequentialminus\":[[0.0,\"#0d0887\"],[0.1111111111111111,\"#46039f\"],[0.2222222222222222,\"#7201a8\"],[0.3333333333333333,\"#9c179e\"],[0.4444444444444444,\"#bd3786\"],[0.5555555555555556,\"#d8576b\"],[0.6666666666666666,\"#ed7953\"],[0.7777777777777778,\"#fb9f3a\"],[0.8888888888888888,\"#fdca26\"],[1.0,\"#f0f921\"]],\"diverging\":[[0,\"#8e0152\"],[0.1,\"#c51b7d\"],[0.2,\"#de77ae\"],[0.3,\"#f1b6da\"],[0.4,\"#fde0ef\"],[0.5,\"#f7f7f7\"],[0.6,\"#e6f5d0\"],[0.7,\"#b8e186\"],[0.8,\"#7fbc41\"],[0.9,\"#4d9221\"],[1,\"#276419\"]]},\"xaxis\":{\"gridcolor\":\"white\",\"linecolor\":\"white\",\"ticks\":\"\",\"title\":{\"standoff\":15},\"zerolinecolor\":\"white\",\"automargin\":true,\"zerolinewidth\":2},\"yaxis\":{\"gridcolor\":\"white\",\"linecolor\":\"white\",\"ticks\":\"\",\"title\":{\"standoff\":15},\"zerolinecolor\":\"white\",\"automargin\":true,\"zerolinewidth\":2},\"scene\":{\"xaxis\":{\"backgroundcolor\":\"#E5ECF6\",\"gridcolor\":\"white\",\"linecolor\":\"white\",\"showbackground\":true,\"ticks\":\"\",\"zerolinecolor\":\"white\",\"gridwidth\":2},\"yaxis\":{\"backgroundcolor\":\"#E5ECF6\",\"gridcolor\":\"white\",\"linecolor\":\"white\",\"showbackground\":true,\"ticks\":\"\",\"zerolinecolor\":\"white\",\"gridwidth\":2},\"zaxis\":{\"backgroundcolor\":\"#E5ECF6\",\"gridcolor\":\"white\",\"linecolor\":\"white\",\"showbackground\":true,\"ticks\":\"\",\"zerolinecolor\":\"white\",\"gridwidth\":2}},\"shapedefaults\":{\"line\":{\"color\":\"#2a3f5f\"}},\"annotationdefaults\":{\"arrowcolor\":\"#2a3f5f\",\"arrowhead\":0,\"arrowwidth\":1},\"geo\":{\"bgcolor\":\"white\",\"landcolor\":\"#E5ECF6\",\"subunitcolor\":\"white\",\"showland\":true,\"showlakes\":true,\"lakecolor\":\"white\"},\"title\":{\"x\":0.05},\"mapbox\":{\"style\":\"light\"}}},\"xaxis\":{\"anchor\":\"y\",\"domain\":[0.0,1.0],\"title\":{\"text\":\"Goals Count\"}},\"yaxis\":{\"anchor\":\"x\",\"domain\":[0.0,1.0],\"title\":{\"text\":\"Tournament Name\"}},\"legend\":{\"tracegroupgap\":0},\"title\":{\"text\":\"Number of Goals Scored in Each Tournament\"},\"barmode\":\"relative\"},                        {\"responsive\": true}                    ).then(function(){\n",
              "                            \n",
              "var gd = document.getElementById('fc627909-6ec1-444a-a781-8908b5c13385');\n",
              "var x = new MutationObserver(function (mutations, observer) {{\n",
              "        var display = window.getComputedStyle(gd).display;\n",
              "        if (!display || display === 'none') {{\n",
              "            console.log([gd, 'removed!']);\n",
              "            Plotly.purge(gd);\n",
              "            observer.disconnect();\n",
              "        }}\n",
              "}});\n",
              "\n",
              "// Listen for the removal of the full notebook cells\n",
              "var notebookContainer = gd.closest('#notebook-container');\n",
              "if (notebookContainer) {{\n",
              "    x.observe(notebookContainer, {childList: true});\n",
              "}}\n",
              "\n",
              "// Listen for the clearing of the current output cell\n",
              "var outputEl = gd.closest('.output');\n",
              "if (outputEl) {{\n",
              "    x.observe(outputEl, {childList: true});\n",
              "}}\n",
              "\n",
              "                        })                };                            </script>        </div>\n",
              "</body>\n",
              "</html>"
            ]
          },
          "metadata": {}
        }
      ]
    },
    {
      "cell_type": "markdown",
      "source": [
        "Most of the top tournaments by goals are recent tournaments , and it makes sense because in the past the number of the participated teams was less so the number of matches for a tournament was less"
      ],
      "metadata": {
        "id": "v88xQwsuJzxH"
      }
    },
    {
      "cell_type": "markdown",
      "source": [
        "###Strip plot for goal_min & stage_name"
      ],
      "metadata": {
        "id": "PnywPokXEzWU"
      }
    },
    {
      "cell_type": "code",
      "source": [
        "goals_data['short_stage_name'] = goals_data['stage_name'].apply(lambda x: 'group_stage' if x.lower() in ['group stage', 'second group stage'] else 'knockout_stage')"
      ],
      "metadata": {
        "id": "YnzRA57xUvi6"
      },
      "execution_count": null,
      "outputs": []
    },
    {
      "cell_type": "code",
      "source": [
        "filtered_goals = goals_data[(goals_data['own_goal'] == False) & (goals_data['team_name'].isin(['Brazil', 'Germany', 'Italy']))]\n",
        "\n",
        "# Create a strip plot\n",
        "fig = px.strip(filtered_goals, x='short_stage_name', y='minute_label', color='team_name')\n",
        "\n",
        "# Customize the plot\n",
        "fig.update_layout(\n",
        "    title='Distribution of Goal Minutes by Stage Name',\n",
        "    xaxis_title='Stage Name',\n",
        "    yaxis_title='Goal Minute'\n",
        ")\n",
        "\n",
        "# Display the plot\n",
        "fig.show()"
      ],
      "metadata": {
        "colab": {
          "base_uri": "https://localhost:8080/",
          "height": 542
        },
        "id": "BCAeBpNgFJ2D",
        "outputId": "2d275896-0861-437e-d833-017d66d8d2ff"
      },
      "execution_count": null,
      "outputs": [
        {
          "output_type": "display_data",
          "data": {
            "text/html": [
              "<html>\n",
              "<head><meta charset=\"utf-8\" /></head>\n",
              "<body>\n",
              "    <div>            <script src=\"https://cdnjs.cloudflare.com/ajax/libs/mathjax/2.7.5/MathJax.js?config=TeX-AMS-MML_SVG\"></script><script type=\"text/javascript\">if (window.MathJax && window.MathJax.Hub && window.MathJax.Hub.Config) {window.MathJax.Hub.Config({SVG: {font: \"STIX-Web\"}});}</script>                <script type=\"text/javascript\">window.PlotlyConfig = {MathJaxConfig: 'local'};</script>\n",
              "        <script src=\"https://cdn.plot.ly/plotly-2.18.2.min.js\"></script>                <div id=\"c603610d-89f2-48bd-830d-e14ffa1e7751\" class=\"plotly-graph-div\" style=\"height:525px; width:100%;\"></div>            <script type=\"text/javascript\">                                    window.PLOTLYENV=window.PLOTLYENV || {};                                    if (document.getElementById(\"c603610d-89f2-48bd-830d-e14ffa1e7751\")) {                    Plotly.newPlot(                        \"c603610d-89f2-48bd-830d-e14ffa1e7751\",                        [{\"alignmentgroup\":\"True\",\"boxpoints\":\"all\",\"fillcolor\":\"rgba(255,255,255,0)\",\"hoveron\":\"points\",\"hovertemplate\":\"team_name=Brazil<br>short_stage_name=%{x}<br>minute_label=%{y}<extra></extra>\",\"legendgroup\":\"Brazil\",\"line\":{\"color\":\"rgba(255,255,255,0)\"},\"marker\":{\"color\":\"#636efa\"},\"name\":\"Brazil\",\"offsetgroup\":\"Brazil\",\"orientation\":\"v\",\"pointpos\":0,\"showlegend\":true,\"x\":[\"group_stage\",\"group_stage\",\"group_stage\",\"group_stage\",\"group_stage\",\"knockout_stage\",\"knockout_stage\",\"knockout_stage\",\"knockout_stage\",\"knockout_stage\",\"knockout_stage\",\"knockout_stage\",\"knockout_stage\",\"knockout_stage\",\"knockout_stage\",\"knockout_stage\",\"knockout_stage\",\"knockout_stage\",\"knockout_stage\",\"knockout_stage\",\"group_stage\",\"group_stage\",\"group_stage\",\"group_stage\",\"group_stage\",\"group_stage\",\"group_stage\",\"group_stage\",\"knockout_stage\",\"knockout_stage\",\"knockout_stage\",\"knockout_stage\",\"knockout_stage\",\"knockout_stage\",\"knockout_stage\",\"knockout_stage\",\"knockout_stage\",\"knockout_stage\",\"knockout_stage\",\"knockout_stage\",\"knockout_stage\",\"knockout_stage\",\"group_stage\",\"group_stage\",\"group_stage\",\"group_stage\",\"group_stage\",\"group_stage\",\"knockout_stage\",\"knockout_stage\",\"group_stage\",\"group_stage\",\"group_stage\",\"group_stage\",\"group_stage\",\"knockout_stage\",\"knockout_stage\",\"knockout_stage\",\"knockout_stage\",\"knockout_stage\",\"knockout_stage\",\"knockout_stage\",\"knockout_stage\",\"knockout_stage\",\"knockout_stage\",\"knockout_stage\",\"group_stage\",\"group_stage\",\"group_stage\",\"group_stage\",\"knockout_stage\",\"knockout_stage\",\"knockout_stage\",\"knockout_stage\",\"knockout_stage\",\"knockout_stage\",\"knockout_stage\",\"knockout_stage\",\"knockout_stage\",\"knockout_stage\",\"group_stage\",\"group_stage\",\"group_stage\",\"group_stage\",\"group_stage\",\"group_stage\",\"group_stage\",\"group_stage\",\"group_stage\",\"group_stage\",\"group_stage\",\"group_stage\",\"knockout_stage\",\"knockout_stage\",\"knockout_stage\",\"knockout_stage\",\"knockout_stage\",\"knockout_stage\",\"knockout_stage\",\"knockout_stage\",\"knockout_stage\",\"knockout_stage\",\"knockout_stage\",\"group_stage\",\"group_stage\",\"group_stage\",\"group_stage\",\"group_stage\",\"group_stage\",\"group_stage\",\"group_stage\",\"group_stage\",\"group_stage\",\"group_stage\",\"group_stage\",\"group_stage\",\"group_stage\",\"knockout_stage\",\"knockout_stage\",\"group_stage\",\"group_stage\",\"group_stage\",\"group_stage\",\"group_stage\",\"group_stage\",\"group_stage\",\"group_stage\",\"group_stage\",\"group_stage\",\"group_stage\",\"group_stage\",\"group_stage\",\"group_stage\",\"group_stage\",\"group_stage\",\"group_stage\",\"group_stage\",\"group_stage\",\"group_stage\",\"knockout_stage\",\"knockout_stage\",\"knockout_stage\",\"knockout_stage\",\"knockout_stage\",\"group_stage\",\"group_stage\",\"group_stage\",\"group_stage\",\"group_stage\",\"group_stage\",\"group_stage\",\"group_stage\",\"group_stage\",\"group_stage\",\"knockout_stage\",\"knockout_stage\",\"knockout_stage\",\"knockout_stage\",\"knockout_stage\",\"group_stage\",\"group_stage\",\"group_stage\",\"group_stage\",\"group_stage\",\"knockout_stage\",\"knockout_stage\",\"knockout_stage\",\"knockout_stage\",\"knockout_stage\",\"knockout_stage\",\"knockout_stage\",\"knockout_stage\",\"group_stage\",\"group_stage\",\"group_stage\",\"group_stage\",\"group_stage\",\"group_stage\",\"group_stage\",\"group_stage\",\"group_stage\",\"group_stage\",\"group_stage\",\"knockout_stage\",\"knockout_stage\",\"knockout_stage\",\"knockout_stage\",\"knockout_stage\",\"knockout_stage\",\"knockout_stage\",\"group_stage\",\"group_stage\",\"group_stage\",\"group_stage\",\"group_stage\",\"group_stage\",\"group_stage\",\"knockout_stage\",\"knockout_stage\",\"knockout_stage\",\"group_stage\",\"group_stage\",\"group_stage\",\"group_stage\",\"group_stage\",\"knockout_stage\",\"knockout_stage\",\"knockout_stage\",\"knockout_stage\",\"group_stage\",\"group_stage\",\"group_stage\",\"group_stage\",\"group_stage\",\"group_stage\",\"group_stage\",\"knockout_stage\",\"knockout_stage\",\"knockout_stage\",\"knockout_stage\",\"group_stage\",\"group_stage\",\"group_stage\",\"group_stage\",\"group_stage\",\"knockout_stage\",\"knockout_stage\",\"knockout_stage\",\"group_stage\",\"group_stage\",\"group_stage\",\"knockout_stage\",\"knockout_stage\",\"knockout_stage\",\"knockout_stage\",\"knockout_stage\"],\"x0\":\" \",\"xaxis\":\"x\",\"y\":[\"62'\",\"37'\",\"57'\",\"73'\",\"83'\",\"55'\",\"18'\",\"25'\",\"44'\",\"71'\",\"93'\",\"104'\",\"30'\",\"57'\",\"62'\",\"87'\",\"44'\",\"63'\",\"74'\",\"80'\",\"30'\",\"65'\",\"71'\",\"79'\",\"3'\",\"32'\",\"4'\",\"69'\",\"17'\",\"36'\",\"39'\",\"52'\",\"58'\",\"85'\",\"88'\",\"15'\",\"21'\",\"31'\",\"55'\",\"57'\",\"67'\",\"47'\",\"23'\",\"30'\",\"34'\",\"43'\",\"69'\",\"69'\",\"18'\",\"65'\",\"37'\",\"50'\",\"85'\",\"3'\",\"77'\",\"66'\",\"2'\",\"39'\",\"52'\",\"64'\",\"75'\",\"9'\",\"32'\",\"55'\",\"68'\",\"90'\",\"56'\",\"73'\",\"72'\",\"86'\",\"31'\",\"53'\",\"59'\",\"9'\",\"32'\",\"47'\",\"78'\",\"17'\",\"69'\",\"78'\",\"15'\",\"63'\",\"14'\",\"73'\",\"24'\",\"59'\",\"61'\",\"83'\",\"59'\",\"19'\",\"22'\",\"67'\",\"11'\",\"15'\",\"52'\",\"75'\",\"44'\",\"76'\",\"89'\",\"18'\",\"66'\",\"71'\",\"86'\",\"12'\",\"66'\",\"79'\",\"60'\",\"32'\",\"49'\",\"45'\",\"40'\",\"15'\",\"27'\",\"72'\",\"13'\",\"58'\",\"63'\",\"64'\",\"71'\",\"75'\",\"88'\",\"33'\",\"48'\",\"63'\",\"87'\",\"28'\",\"31'\",\"64'\",\"70'\",\"11'\",\"66'\",\"75'\",\"12'\",\"68'\",\"62'\",\"66'\",\"15'\",\"42'\",\"87'\",\"30'\",\"55'\",\"79'\",\"83'\",\"17'\",\"40'\",\"63'\",\"33'\",\"81'\",\"26'\",\"52'\",\"39'\",\"66'\",\"73'\",\"47'\",\"72'\",\"53'\",\"63'\",\"81'\",\"80'\",\"5'\",\"9'\",\"45'+2'\",\"50'\",\"78'\",\"11'\",\"26'\",\"45'+3'\",\"72'\",\"10'\",\"25'\",\"59'\",\"46'\",\"50'\",\"87'\",\"15'\",\"32'\",\"45'\",\"55'\",\"10'\",\"13'\",\"38'\",\"62'\",\"64'\",\"67'\",\"87'\",\"45'+2'\",\"50'\",\"49'\",\"67'\",\"79'\",\"44'\",\"49'\",\"90'\",\"45'+1'\",\"53'\",\"59'\",\"81'\",\"5'\",\"45'+1'\",\"84'\",\"55'\",\"72'\",\"25'\",\"50'\",\"62'\",\"35'\",\"38'\",\"59'\",\"10'\",\"29'\",\"71'\",\"90'+1'\",\"17'\",\"35'\",\"49'\",\"84'\",\"18'\",\"7'\",\"69'\",\"90'\",\"20'\",\"90'+1'\",\"90'+7'\",\"36'\",\"68'\",\"51'\",\"88'\",\"76'\",\"62'\",\"73'\",\"83'\",\"7'\",\"13'\",\"29'\",\"36'\",\"105'+1'\"],\"y0\":\" \",\"yaxis\":\"y\",\"type\":\"box\"},{\"alignmentgroup\":\"True\",\"boxpoints\":\"all\",\"fillcolor\":\"rgba(255,255,255,0)\",\"hoveron\":\"points\",\"hovertemplate\":\"team_name=Germany<br>short_stage_name=%{x}<br>minute_label=%{y}<extra></extra>\",\"legendgroup\":\"Germany\",\"line\":{\"color\":\"rgba(255,255,255,0)\"},\"marker\":{\"color\":\"#EF553B\"},\"name\":\"Germany\",\"offsetgroup\":\"Germany\",\"orientation\":\"v\",\"pointpos\":0,\"showlegend\":true,\"x\":[\"knockout_stage\",\"knockout_stage\",\"knockout_stage\",\"knockout_stage\",\"knockout_stage\",\"knockout_stage\",\"knockout_stage\",\"knockout_stage\",\"knockout_stage\",\"knockout_stage\",\"knockout_stage\",\"knockout_stage\",\"knockout_stage\",\"group_stage\",\"group_stage\",\"group_stage\",\"group_stage\",\"group_stage\",\"knockout_stage\",\"knockout_stage\",\"knockout_stage\",\"knockout_stage\",\"group_stage\",\"group_stage\",\"group_stage\",\"group_stage\",\"group_stage\",\"knockout_stage\",\"knockout_stage\",\"group_stage\",\"group_stage\",\"group_stage\",\"group_stage\",\"group_stage\",\"group_stage\",\"group_stage\",\"group_stage\",\"group_stage\",\"group_stage\",\"group_stage\",\"knockout_stage\",\"knockout_stage\",\"knockout_stage\",\"group_stage\",\"group_stage\",\"group_stage\",\"group_stage\",\"group_stage\",\"group_stage\",\"group_stage\",\"group_stage\",\"knockout_stage\",\"knockout_stage\",\"knockout_stage\",\"knockout_stage\",\"knockout_stage\",\"group_stage\",\"group_stage\",\"group_stage\",\"group_stage\",\"group_stage\",\"knockout_stage\",\"knockout_stage\",\"knockout_stage\",\"knockout_stage\",\"knockout_stage\",\"knockout_stage\",\"knockout_stage\",\"knockout_stage\",\"knockout_stage\",\"knockout_stage\",\"knockout_stage\",\"group_stage\",\"group_stage\",\"group_stage\",\"group_stage\",\"group_stage\",\"group_stage\",\"group_stage\",\"knockout_stage\",\"knockout_stage\",\"knockout_stage\",\"knockout_stage\",\"knockout_stage\",\"knockout_stage\",\"knockout_stage\",\"knockout_stage\",\"knockout_stage\",\"knockout_stage\",\"knockout_stage\",\"group_stage\",\"group_stage\",\"group_stage\",\"group_stage\",\"group_stage\",\"group_stage\",\"group_stage\",\"group_stage\"],\"x0\":\" \",\"xaxis\":\"x\",\"y\":[\"25'\",\"49'\",\"66'\",\"70'\",\"87'\",\"60'\",\"63'\",\"62'\",\"1'\",\"27'\",\"42'\",\"29'\",\"8'\",\"61'\",\"48'\",\"12'\",\"20'\",\"37'\",\"6'\",\"11'\",\"38'\",\"47'\",\"9'\",\"65'\",\"78'\",\"50'\",\"57'\",\"74'\",\"86'\",\"20'\",\"25'\",\"40'\",\"45'+1'\",\"70'\",\"73'\",\"84'\",\"90'+1'\",\"19'\",\"50'\",\"79'\",\"88'\",\"39'\",\"75'\",\"6'\",\"17'\",\"61'\",\"87'\",\"90'+1'\",\"4'\",\"44'\",\"57'\",\"4'\",\"12'\",\"80'\",\"56'\",\"78'\",\"8'\",\"26'\",\"68'\",\"70'\",\"60'\",\"20'\",\"32'\",\"67'\",\"70'\",\"3'\",\"68'\",\"74'\",\"89'\",\"19'\",\"56'\",\"82'\",\"12'\",\"32'\",\"45'+1'\",\"78'\",\"51'\",\"71'\",\"55'\",\"92'\",\"120'\",\"13'\",\"11'\",\"23'\",\"24'\",\"26'\",\"29'\",\"69'\",\"79'\",\"113'\",\"48'\",\"90'+5'\",\"33'\",\"83'\",\"10'\",\"73'\",\"85'\",\"89'\"],\"y0\":\" \",\"yaxis\":\"y\",\"type\":\"box\"},{\"alignmentgroup\":\"True\",\"boxpoints\":\"all\",\"fillcolor\":\"rgba(255,255,255,0)\",\"hoveron\":\"points\",\"hovertemplate\":\"team_name=Italy<br>short_stage_name=%{x}<br>minute_label=%{y}<extra></extra>\",\"legendgroup\":\"Italy\",\"line\":{\"color\":\"rgba(255,255,255,0)\"},\"marker\":{\"color\":\"#00cc96\"},\"name\":\"Italy\",\"offsetgroup\":\"Italy\",\"orientation\":\"v\",\"pointpos\":0,\"showlegend\":true,\"x\":[\"knockout_stage\",\"knockout_stage\",\"knockout_stage\",\"knockout_stage\",\"knockout_stage\",\"knockout_stage\",\"knockout_stage\",\"knockout_stage\",\"knockout_stage\",\"knockout_stage\",\"knockout_stage\",\"knockout_stage\",\"knockout_stage\",\"knockout_stage\",\"knockout_stage\",\"knockout_stage\",\"knockout_stage\",\"knockout_stage\",\"knockout_stage\",\"knockout_stage\",\"knockout_stage\",\"knockout_stage\",\"knockout_stage\",\"group_stage\",\"group_stage\",\"group_stage\",\"group_stage\",\"group_stage\",\"group_stage\",\"group_stage\",\"group_stage\",\"group_stage\",\"group_stage\",\"group_stage\",\"group_stage\",\"group_stage\",\"group_stage\",\"group_stage\",\"group_stage\",\"knockout_stage\",\"knockout_stage\",\"knockout_stage\",\"knockout_stage\",\"knockout_stage\",\"knockout_stage\",\"knockout_stage\",\"knockout_stage\",\"group_stage\",\"group_stage\",\"group_stage\",\"group_stage\",\"group_stage\",\"group_stage\",\"group_stage\",\"group_stage\",\"group_stage\",\"group_stage\",\"group_stage\",\"knockout_stage\",\"group_stage\",\"group_stage\",\"group_stage\",\"group_stage\",\"group_stage\",\"group_stage\",\"group_stage\",\"knockout_stage\",\"knockout_stage\",\"knockout_stage\",\"knockout_stage\",\"knockout_stage\",\"group_stage\",\"group_stage\",\"group_stage\",\"group_stage\",\"group_stage\",\"group_stage\",\"group_stage\",\"group_stage\",\"knockout_stage\",\"knockout_stage\",\"knockout_stage\",\"knockout_stage\",\"knockout_stage\",\"knockout_stage\",\"group_stage\",\"group_stage\",\"knockout_stage\",\"knockout_stage\",\"knockout_stage\",\"knockout_stage\",\"knockout_stage\",\"knockout_stage\",\"group_stage\",\"group_stage\",\"group_stage\",\"group_stage\",\"group_stage\",\"group_stage\",\"group_stage\",\"knockout_stage\",\"group_stage\",\"group_stage\",\"group_stage\",\"group_stage\",\"knockout_stage\",\"group_stage\",\"group_stage\",\"group_stage\",\"group_stage\",\"group_stage\",\"knockout_stage\",\"knockout_stage\",\"knockout_stage\",\"knockout_stage\",\"knockout_stage\",\"knockout_stage\",\"knockout_stage\",\"group_stage\",\"group_stage\",\"group_stage\",\"group_stage\",\"group_stage\",\"group_stage\"],\"x0\":\" \",\"xaxis\":\"x\",\"y\":[\"18'\",\"20'\",\"29'\",\"63'\",\"64'\",\"69'\",\"90'\",\"44'\",\"11'\",\"19'\",\"81'\",\"95'\",\"2'\",\"94'\",\"9'\",\"51'\",\"72'\",\"51'\",\"60'\",\"6'\",\"16'\",\"35'\",\"82'\",\"7'\",\"75'\",\"12'\",\"62'\",\"44'\",\"41'\",\"48'\",\"58'\",\"78'\",\"67'\",\"2'\",\"65'\",\"67'\",\"8'\",\"88'\",\"10'\",\"63'\",\"70'\",\"76'\",\"8'\",\"98'\",\"104'\",\"111'\",\"37'\",\"52'\",\"66'\",\"79'\",\"85'\",\"29'\",\"54'\",\"34'\",\"35'\",\"61'\",\"67'\",\"13'\",\"38'\",\"18'\",\"60'\",\"57'\",\"67'\",\"5'\",\"25'\",\"74'\",\"22'\",\"73'\",\"57'\",\"69'\",\"81'\",\"44'\",\"6'\",\"17'\",\"73'\",\"78'\",\"11'\",\"9'\",\"78'\",\"65'\",\"83'\",\"38'\",\"17'\",\"71'\",\"86'\",\"69'\",\"48'\",\"88'\",\"102'\",\"25'\",\"88'\",\"21'\",\"25'\",\"10'\",\"84'\",\"7'\",\"75'\",\"89'\",\"48'\",\"90'\",\"18'\",\"7'\",\"27'\",\"55'\",\"85'\",\"18'\",\"40'\",\"83'\",\"22'\",\"26'\",\"87'\",\"90'+5'\",\"6'\",\"59'\",\"69'\",\"119'\",\"120'+1'\",\"19'\",\"63'\",\"29'\",\"81'\",\"90'+2'\",\"35'\",\"50'\"],\"y0\":\" \",\"yaxis\":\"y\",\"type\":\"box\"}],                        {\"template\":{\"data\":{\"histogram2dcontour\":[{\"type\":\"histogram2dcontour\",\"colorbar\":{\"outlinewidth\":0,\"ticks\":\"\"},\"colorscale\":[[0.0,\"#0d0887\"],[0.1111111111111111,\"#46039f\"],[0.2222222222222222,\"#7201a8\"],[0.3333333333333333,\"#9c179e\"],[0.4444444444444444,\"#bd3786\"],[0.5555555555555556,\"#d8576b\"],[0.6666666666666666,\"#ed7953\"],[0.7777777777777778,\"#fb9f3a\"],[0.8888888888888888,\"#fdca26\"],[1.0,\"#f0f921\"]]}],\"choropleth\":[{\"type\":\"choropleth\",\"colorbar\":{\"outlinewidth\":0,\"ticks\":\"\"}}],\"histogram2d\":[{\"type\":\"histogram2d\",\"colorbar\":{\"outlinewidth\":0,\"ticks\":\"\"},\"colorscale\":[[0.0,\"#0d0887\"],[0.1111111111111111,\"#46039f\"],[0.2222222222222222,\"#7201a8\"],[0.3333333333333333,\"#9c179e\"],[0.4444444444444444,\"#bd3786\"],[0.5555555555555556,\"#d8576b\"],[0.6666666666666666,\"#ed7953\"],[0.7777777777777778,\"#fb9f3a\"],[0.8888888888888888,\"#fdca26\"],[1.0,\"#f0f921\"]]}],\"heatmap\":[{\"type\":\"heatmap\",\"colorbar\":{\"outlinewidth\":0,\"ticks\":\"\"},\"colorscale\":[[0.0,\"#0d0887\"],[0.1111111111111111,\"#46039f\"],[0.2222222222222222,\"#7201a8\"],[0.3333333333333333,\"#9c179e\"],[0.4444444444444444,\"#bd3786\"],[0.5555555555555556,\"#d8576b\"],[0.6666666666666666,\"#ed7953\"],[0.7777777777777778,\"#fb9f3a\"],[0.8888888888888888,\"#fdca26\"],[1.0,\"#f0f921\"]]}],\"heatmapgl\":[{\"type\":\"heatmapgl\",\"colorbar\":{\"outlinewidth\":0,\"ticks\":\"\"},\"colorscale\":[[0.0,\"#0d0887\"],[0.1111111111111111,\"#46039f\"],[0.2222222222222222,\"#7201a8\"],[0.3333333333333333,\"#9c179e\"],[0.4444444444444444,\"#bd3786\"],[0.5555555555555556,\"#d8576b\"],[0.6666666666666666,\"#ed7953\"],[0.7777777777777778,\"#fb9f3a\"],[0.8888888888888888,\"#fdca26\"],[1.0,\"#f0f921\"]]}],\"contourcarpet\":[{\"type\":\"contourcarpet\",\"colorbar\":{\"outlinewidth\":0,\"ticks\":\"\"}}],\"contour\":[{\"type\":\"contour\",\"colorbar\":{\"outlinewidth\":0,\"ticks\":\"\"},\"colorscale\":[[0.0,\"#0d0887\"],[0.1111111111111111,\"#46039f\"],[0.2222222222222222,\"#7201a8\"],[0.3333333333333333,\"#9c179e\"],[0.4444444444444444,\"#bd3786\"],[0.5555555555555556,\"#d8576b\"],[0.6666666666666666,\"#ed7953\"],[0.7777777777777778,\"#fb9f3a\"],[0.8888888888888888,\"#fdca26\"],[1.0,\"#f0f921\"]]}],\"surface\":[{\"type\":\"surface\",\"colorbar\":{\"outlinewidth\":0,\"ticks\":\"\"},\"colorscale\":[[0.0,\"#0d0887\"],[0.1111111111111111,\"#46039f\"],[0.2222222222222222,\"#7201a8\"],[0.3333333333333333,\"#9c179e\"],[0.4444444444444444,\"#bd3786\"],[0.5555555555555556,\"#d8576b\"],[0.6666666666666666,\"#ed7953\"],[0.7777777777777778,\"#fb9f3a\"],[0.8888888888888888,\"#fdca26\"],[1.0,\"#f0f921\"]]}],\"mesh3d\":[{\"type\":\"mesh3d\",\"colorbar\":{\"outlinewidth\":0,\"ticks\":\"\"}}],\"scatter\":[{\"fillpattern\":{\"fillmode\":\"overlay\",\"size\":10,\"solidity\":0.2},\"type\":\"scatter\"}],\"parcoords\":[{\"type\":\"parcoords\",\"line\":{\"colorbar\":{\"outlinewidth\":0,\"ticks\":\"\"}}}],\"scatterpolargl\":[{\"type\":\"scatterpolargl\",\"marker\":{\"colorbar\":{\"outlinewidth\":0,\"ticks\":\"\"}}}],\"bar\":[{\"error_x\":{\"color\":\"#2a3f5f\"},\"error_y\":{\"color\":\"#2a3f5f\"},\"marker\":{\"line\":{\"color\":\"#E5ECF6\",\"width\":0.5},\"pattern\":{\"fillmode\":\"overlay\",\"size\":10,\"solidity\":0.2}},\"type\":\"bar\"}],\"scattergeo\":[{\"type\":\"scattergeo\",\"marker\":{\"colorbar\":{\"outlinewidth\":0,\"ticks\":\"\"}}}],\"scatterpolar\":[{\"type\":\"scatterpolar\",\"marker\":{\"colorbar\":{\"outlinewidth\":0,\"ticks\":\"\"}}}],\"histogram\":[{\"marker\":{\"pattern\":{\"fillmode\":\"overlay\",\"size\":10,\"solidity\":0.2}},\"type\":\"histogram\"}],\"scattergl\":[{\"type\":\"scattergl\",\"marker\":{\"colorbar\":{\"outlinewidth\":0,\"ticks\":\"\"}}}],\"scatter3d\":[{\"type\":\"scatter3d\",\"line\":{\"colorbar\":{\"outlinewidth\":0,\"ticks\":\"\"}},\"marker\":{\"colorbar\":{\"outlinewidth\":0,\"ticks\":\"\"}}}],\"scattermapbox\":[{\"type\":\"scattermapbox\",\"marker\":{\"colorbar\":{\"outlinewidth\":0,\"ticks\":\"\"}}}],\"scatterternary\":[{\"type\":\"scatterternary\",\"marker\":{\"colorbar\":{\"outlinewidth\":0,\"ticks\":\"\"}}}],\"scattercarpet\":[{\"type\":\"scattercarpet\",\"marker\":{\"colorbar\":{\"outlinewidth\":0,\"ticks\":\"\"}}}],\"carpet\":[{\"aaxis\":{\"endlinecolor\":\"#2a3f5f\",\"gridcolor\":\"white\",\"linecolor\":\"white\",\"minorgridcolor\":\"white\",\"startlinecolor\":\"#2a3f5f\"},\"baxis\":{\"endlinecolor\":\"#2a3f5f\",\"gridcolor\":\"white\",\"linecolor\":\"white\",\"minorgridcolor\":\"white\",\"startlinecolor\":\"#2a3f5f\"},\"type\":\"carpet\"}],\"table\":[{\"cells\":{\"fill\":{\"color\":\"#EBF0F8\"},\"line\":{\"color\":\"white\"}},\"header\":{\"fill\":{\"color\":\"#C8D4E3\"},\"line\":{\"color\":\"white\"}},\"type\":\"table\"}],\"barpolar\":[{\"marker\":{\"line\":{\"color\":\"#E5ECF6\",\"width\":0.5},\"pattern\":{\"fillmode\":\"overlay\",\"size\":10,\"solidity\":0.2}},\"type\":\"barpolar\"}],\"pie\":[{\"automargin\":true,\"type\":\"pie\"}]},\"layout\":{\"autotypenumbers\":\"strict\",\"colorway\":[\"#636efa\",\"#EF553B\",\"#00cc96\",\"#ab63fa\",\"#FFA15A\",\"#19d3f3\",\"#FF6692\",\"#B6E880\",\"#FF97FF\",\"#FECB52\"],\"font\":{\"color\":\"#2a3f5f\"},\"hovermode\":\"closest\",\"hoverlabel\":{\"align\":\"left\"},\"paper_bgcolor\":\"white\",\"plot_bgcolor\":\"#E5ECF6\",\"polar\":{\"bgcolor\":\"#E5ECF6\",\"angularaxis\":{\"gridcolor\":\"white\",\"linecolor\":\"white\",\"ticks\":\"\"},\"radialaxis\":{\"gridcolor\":\"white\",\"linecolor\":\"white\",\"ticks\":\"\"}},\"ternary\":{\"bgcolor\":\"#E5ECF6\",\"aaxis\":{\"gridcolor\":\"white\",\"linecolor\":\"white\",\"ticks\":\"\"},\"baxis\":{\"gridcolor\":\"white\",\"linecolor\":\"white\",\"ticks\":\"\"},\"caxis\":{\"gridcolor\":\"white\",\"linecolor\":\"white\",\"ticks\":\"\"}},\"coloraxis\":{\"colorbar\":{\"outlinewidth\":0,\"ticks\":\"\"}},\"colorscale\":{\"sequential\":[[0.0,\"#0d0887\"],[0.1111111111111111,\"#46039f\"],[0.2222222222222222,\"#7201a8\"],[0.3333333333333333,\"#9c179e\"],[0.4444444444444444,\"#bd3786\"],[0.5555555555555556,\"#d8576b\"],[0.6666666666666666,\"#ed7953\"],[0.7777777777777778,\"#fb9f3a\"],[0.8888888888888888,\"#fdca26\"],[1.0,\"#f0f921\"]],\"sequentialminus\":[[0.0,\"#0d0887\"],[0.1111111111111111,\"#46039f\"],[0.2222222222222222,\"#7201a8\"],[0.3333333333333333,\"#9c179e\"],[0.4444444444444444,\"#bd3786\"],[0.5555555555555556,\"#d8576b\"],[0.6666666666666666,\"#ed7953\"],[0.7777777777777778,\"#fb9f3a\"],[0.8888888888888888,\"#fdca26\"],[1.0,\"#f0f921\"]],\"diverging\":[[0,\"#8e0152\"],[0.1,\"#c51b7d\"],[0.2,\"#de77ae\"],[0.3,\"#f1b6da\"],[0.4,\"#fde0ef\"],[0.5,\"#f7f7f7\"],[0.6,\"#e6f5d0\"],[0.7,\"#b8e186\"],[0.8,\"#7fbc41\"],[0.9,\"#4d9221\"],[1,\"#276419\"]]},\"xaxis\":{\"gridcolor\":\"white\",\"linecolor\":\"white\",\"ticks\":\"\",\"title\":{\"standoff\":15},\"zerolinecolor\":\"white\",\"automargin\":true,\"zerolinewidth\":2},\"yaxis\":{\"gridcolor\":\"white\",\"linecolor\":\"white\",\"ticks\":\"\",\"title\":{\"standoff\":15},\"zerolinecolor\":\"white\",\"automargin\":true,\"zerolinewidth\":2},\"scene\":{\"xaxis\":{\"backgroundcolor\":\"#E5ECF6\",\"gridcolor\":\"white\",\"linecolor\":\"white\",\"showbackground\":true,\"ticks\":\"\",\"zerolinecolor\":\"white\",\"gridwidth\":2},\"yaxis\":{\"backgroundcolor\":\"#E5ECF6\",\"gridcolor\":\"white\",\"linecolor\":\"white\",\"showbackground\":true,\"ticks\":\"\",\"zerolinecolor\":\"white\",\"gridwidth\":2},\"zaxis\":{\"backgroundcolor\":\"#E5ECF6\",\"gridcolor\":\"white\",\"linecolor\":\"white\",\"showbackground\":true,\"ticks\":\"\",\"zerolinecolor\":\"white\",\"gridwidth\":2}},\"shapedefaults\":{\"line\":{\"color\":\"#2a3f5f\"}},\"annotationdefaults\":{\"arrowcolor\":\"#2a3f5f\",\"arrowhead\":0,\"arrowwidth\":1},\"geo\":{\"bgcolor\":\"white\",\"landcolor\":\"#E5ECF6\",\"subunitcolor\":\"white\",\"showland\":true,\"showlakes\":true,\"lakecolor\":\"white\"},\"title\":{\"x\":0.05},\"mapbox\":{\"style\":\"light\"}}},\"xaxis\":{\"anchor\":\"y\",\"domain\":[0.0,1.0],\"title\":{\"text\":\"Stage Name\"}},\"yaxis\":{\"anchor\":\"x\",\"domain\":[0.0,1.0],\"title\":{\"text\":\"Goal Minute\"}},\"legend\":{\"title\":{\"text\":\"team_name\"},\"tracegroupgap\":0},\"margin\":{\"t\":60},\"boxmode\":\"group\",\"title\":{\"text\":\"Distribution of Goal Minutes by Stage Name\"}},                        {\"responsive\": true}                    ).then(function(){\n",
              "                            \n",
              "var gd = document.getElementById('c603610d-89f2-48bd-830d-e14ffa1e7751');\n",
              "var x = new MutationObserver(function (mutations, observer) {{\n",
              "        var display = window.getComputedStyle(gd).display;\n",
              "        if (!display || display === 'none') {{\n",
              "            console.log([gd, 'removed!']);\n",
              "            Plotly.purge(gd);\n",
              "            observer.disconnect();\n",
              "        }}\n",
              "}});\n",
              "\n",
              "// Listen for the removal of the full notebook cells\n",
              "var notebookContainer = gd.closest('#notebook-container');\n",
              "if (notebookContainer) {{\n",
              "    x.observe(notebookContainer, {childList: true});\n",
              "}}\n",
              "\n",
              "// Listen for the clearing of the current output cell\n",
              "var outputEl = gd.closest('.output');\n",
              "if (outputEl) {{\n",
              "    x.observe(outputEl, {childList: true});\n",
              "}}\n",
              "\n",
              "                        })                };                            </script>        </div>\n",
              "</body>\n",
              "</html>"
            ]
          },
          "metadata": {}
        }
      ]
    },
    {
      "cell_type": "markdown",
      "source": [
        "##C-Matches"
      ],
      "metadata": {
        "id": "3jBfEMZagAPt"
      }
    },
    {
      "cell_type": "code",
      "source": [
        "matches_data['home_team_name_no_spaces'] = matches_data['home_team_name'].str.replace(' ', '')\n",
        "matches_data['away_team_name_no_spaces'] = matches_data['away_team_name'].str.replace(' ', '')\n",
        "matches_data['team_pair'] = matches_data['home_team_name_no_spaces']+' '+matches_data['away_team_name_no_spaces']"
      ],
      "metadata": {
        "id": "_PkLKe8Vh-cB"
      },
      "execution_count": null,
      "outputs": []
    },
    {
      "cell_type": "code",
      "source": [
        "def sort_string(x):\n",
        "  l = x.split()\n",
        "  l.sort()\n",
        "  st = ' '.join(l)\n",
        "  return st"
      ],
      "metadata": {
        "id": "Uv16IDPbflpj"
      },
      "execution_count": null,
      "outputs": []
    },
    {
      "cell_type": "code",
      "source": [
        "matches_data['sorted_team_pair'] = matches_data['team_pair'].apply(lambda x: sort_string(x))\n"
      ],
      "metadata": {
        "id": "9VdIFCBJia28"
      },
      "execution_count": null,
      "outputs": []
    },
    {
      "cell_type": "code",
      "source": [
        "value_counts = matches_data['sorted_team_pair'].value_counts()\n",
        "\n",
        "N = 10\n",
        "fig = px.bar(value_counts[:N], x=value_counts[:N].index, y=value_counts[:N], labels={'x': 'Values', 'y': 'Frequency'}, title=f'Top {N} Most Frequent Matches in The World Cup History')\n",
        "fig.update_xaxes(tickangle=45)\n",
        "fig.show()"
      ],
      "metadata": {
        "colab": {
          "base_uri": "https://localhost:8080/",
          "height": 542
        },
        "id": "ulbArWGfejR3",
        "outputId": "09e28b1a-45db-422d-c334-0eb32a1df86b"
      },
      "execution_count": null,
      "outputs": [
        {
          "output_type": "display_data",
          "data": {
            "text/html": [
              "<html>\n",
              "<head><meta charset=\"utf-8\" /></head>\n",
              "<body>\n",
              "    <div>            <script src=\"https://cdnjs.cloudflare.com/ajax/libs/mathjax/2.7.5/MathJax.js?config=TeX-AMS-MML_SVG\"></script><script type=\"text/javascript\">if (window.MathJax && window.MathJax.Hub && window.MathJax.Hub.Config) {window.MathJax.Hub.Config({SVG: {font: \"STIX-Web\"}});}</script>                <script type=\"text/javascript\">window.PlotlyConfig = {MathJaxConfig: 'local'};</script>\n",
              "        <script src=\"https://cdn.plot.ly/plotly-2.18.2.min.js\"></script>                <div id=\"9cad09ae-67a0-4dc1-ad8f-401fff5f7b47\" class=\"plotly-graph-div\" style=\"height:525px; width:100%;\"></div>            <script type=\"text/javascript\">                                    window.PLOTLYENV=window.PLOTLYENV || {};                                    if (document.getElementById(\"9cad09ae-67a0-4dc1-ad8f-401fff5f7b47\")) {                    Plotly.newPlot(                        \"9cad09ae-67a0-4dc1-ad8f-401fff5f7b47\",                        [{\"alignmentgroup\":\"True\",\"hovertemplate\":\"Values=%{x}<br>Frequency=%{y}<extra></extra>\",\"legendgroup\":\"\",\"marker\":{\"color\":\"#636efa\",\"pattern\":{\"shape\":\"\"}},\"name\":\"\",\"offsetgroup\":\"\",\"orientation\":\"v\",\"showlegend\":false,\"textposition\":\"auto\",\"x\":[\"Brazil Sweden\",\"Argentina Netherlands\",\"Argentina Italy\",\"WestGermany Yugoslavia\",\"Brazil Czechoslovakia\",\"Brazil Netherlands\",\"Argentina England\",\"Argentina Nigeria\",\"France Italy\",\"Brazil Spain\"],\"xaxis\":\"x\",\"y\":[7,6,5,5,5,5,5,5,5,5],\"yaxis\":\"y\",\"type\":\"bar\"}],                        {\"template\":{\"data\":{\"histogram2dcontour\":[{\"type\":\"histogram2dcontour\",\"colorbar\":{\"outlinewidth\":0,\"ticks\":\"\"},\"colorscale\":[[0.0,\"#0d0887\"],[0.1111111111111111,\"#46039f\"],[0.2222222222222222,\"#7201a8\"],[0.3333333333333333,\"#9c179e\"],[0.4444444444444444,\"#bd3786\"],[0.5555555555555556,\"#d8576b\"],[0.6666666666666666,\"#ed7953\"],[0.7777777777777778,\"#fb9f3a\"],[0.8888888888888888,\"#fdca26\"],[1.0,\"#f0f921\"]]}],\"choropleth\":[{\"type\":\"choropleth\",\"colorbar\":{\"outlinewidth\":0,\"ticks\":\"\"}}],\"histogram2d\":[{\"type\":\"histogram2d\",\"colorbar\":{\"outlinewidth\":0,\"ticks\":\"\"},\"colorscale\":[[0.0,\"#0d0887\"],[0.1111111111111111,\"#46039f\"],[0.2222222222222222,\"#7201a8\"],[0.3333333333333333,\"#9c179e\"],[0.4444444444444444,\"#bd3786\"],[0.5555555555555556,\"#d8576b\"],[0.6666666666666666,\"#ed7953\"],[0.7777777777777778,\"#fb9f3a\"],[0.8888888888888888,\"#fdca26\"],[1.0,\"#f0f921\"]]}],\"heatmap\":[{\"type\":\"heatmap\",\"colorbar\":{\"outlinewidth\":0,\"ticks\":\"\"},\"colorscale\":[[0.0,\"#0d0887\"],[0.1111111111111111,\"#46039f\"],[0.2222222222222222,\"#7201a8\"],[0.3333333333333333,\"#9c179e\"],[0.4444444444444444,\"#bd3786\"],[0.5555555555555556,\"#d8576b\"],[0.6666666666666666,\"#ed7953\"],[0.7777777777777778,\"#fb9f3a\"],[0.8888888888888888,\"#fdca26\"],[1.0,\"#f0f921\"]]}],\"heatmapgl\":[{\"type\":\"heatmapgl\",\"colorbar\":{\"outlinewidth\":0,\"ticks\":\"\"},\"colorscale\":[[0.0,\"#0d0887\"],[0.1111111111111111,\"#46039f\"],[0.2222222222222222,\"#7201a8\"],[0.3333333333333333,\"#9c179e\"],[0.4444444444444444,\"#bd3786\"],[0.5555555555555556,\"#d8576b\"],[0.6666666666666666,\"#ed7953\"],[0.7777777777777778,\"#fb9f3a\"],[0.8888888888888888,\"#fdca26\"],[1.0,\"#f0f921\"]]}],\"contourcarpet\":[{\"type\":\"contourcarpet\",\"colorbar\":{\"outlinewidth\":0,\"ticks\":\"\"}}],\"contour\":[{\"type\":\"contour\",\"colorbar\":{\"outlinewidth\":0,\"ticks\":\"\"},\"colorscale\":[[0.0,\"#0d0887\"],[0.1111111111111111,\"#46039f\"],[0.2222222222222222,\"#7201a8\"],[0.3333333333333333,\"#9c179e\"],[0.4444444444444444,\"#bd3786\"],[0.5555555555555556,\"#d8576b\"],[0.6666666666666666,\"#ed7953\"],[0.7777777777777778,\"#fb9f3a\"],[0.8888888888888888,\"#fdca26\"],[1.0,\"#f0f921\"]]}],\"surface\":[{\"type\":\"surface\",\"colorbar\":{\"outlinewidth\":0,\"ticks\":\"\"},\"colorscale\":[[0.0,\"#0d0887\"],[0.1111111111111111,\"#46039f\"],[0.2222222222222222,\"#7201a8\"],[0.3333333333333333,\"#9c179e\"],[0.4444444444444444,\"#bd3786\"],[0.5555555555555556,\"#d8576b\"],[0.6666666666666666,\"#ed7953\"],[0.7777777777777778,\"#fb9f3a\"],[0.8888888888888888,\"#fdca26\"],[1.0,\"#f0f921\"]]}],\"mesh3d\":[{\"type\":\"mesh3d\",\"colorbar\":{\"outlinewidth\":0,\"ticks\":\"\"}}],\"scatter\":[{\"fillpattern\":{\"fillmode\":\"overlay\",\"size\":10,\"solidity\":0.2},\"type\":\"scatter\"}],\"parcoords\":[{\"type\":\"parcoords\",\"line\":{\"colorbar\":{\"outlinewidth\":0,\"ticks\":\"\"}}}],\"scatterpolargl\":[{\"type\":\"scatterpolargl\",\"marker\":{\"colorbar\":{\"outlinewidth\":0,\"ticks\":\"\"}}}],\"bar\":[{\"error_x\":{\"color\":\"#2a3f5f\"},\"error_y\":{\"color\":\"#2a3f5f\"},\"marker\":{\"line\":{\"color\":\"#E5ECF6\",\"width\":0.5},\"pattern\":{\"fillmode\":\"overlay\",\"size\":10,\"solidity\":0.2}},\"type\":\"bar\"}],\"scattergeo\":[{\"type\":\"scattergeo\",\"marker\":{\"colorbar\":{\"outlinewidth\":0,\"ticks\":\"\"}}}],\"scatterpolar\":[{\"type\":\"scatterpolar\",\"marker\":{\"colorbar\":{\"outlinewidth\":0,\"ticks\":\"\"}}}],\"histogram\":[{\"marker\":{\"pattern\":{\"fillmode\":\"overlay\",\"size\":10,\"solidity\":0.2}},\"type\":\"histogram\"}],\"scattergl\":[{\"type\":\"scattergl\",\"marker\":{\"colorbar\":{\"outlinewidth\":0,\"ticks\":\"\"}}}],\"scatter3d\":[{\"type\":\"scatter3d\",\"line\":{\"colorbar\":{\"outlinewidth\":0,\"ticks\":\"\"}},\"marker\":{\"colorbar\":{\"outlinewidth\":0,\"ticks\":\"\"}}}],\"scattermapbox\":[{\"type\":\"scattermapbox\",\"marker\":{\"colorbar\":{\"outlinewidth\":0,\"ticks\":\"\"}}}],\"scatterternary\":[{\"type\":\"scatterternary\",\"marker\":{\"colorbar\":{\"outlinewidth\":0,\"ticks\":\"\"}}}],\"scattercarpet\":[{\"type\":\"scattercarpet\",\"marker\":{\"colorbar\":{\"outlinewidth\":0,\"ticks\":\"\"}}}],\"carpet\":[{\"aaxis\":{\"endlinecolor\":\"#2a3f5f\",\"gridcolor\":\"white\",\"linecolor\":\"white\",\"minorgridcolor\":\"white\",\"startlinecolor\":\"#2a3f5f\"},\"baxis\":{\"endlinecolor\":\"#2a3f5f\",\"gridcolor\":\"white\",\"linecolor\":\"white\",\"minorgridcolor\":\"white\",\"startlinecolor\":\"#2a3f5f\"},\"type\":\"carpet\"}],\"table\":[{\"cells\":{\"fill\":{\"color\":\"#EBF0F8\"},\"line\":{\"color\":\"white\"}},\"header\":{\"fill\":{\"color\":\"#C8D4E3\"},\"line\":{\"color\":\"white\"}},\"type\":\"table\"}],\"barpolar\":[{\"marker\":{\"line\":{\"color\":\"#E5ECF6\",\"width\":0.5},\"pattern\":{\"fillmode\":\"overlay\",\"size\":10,\"solidity\":0.2}},\"type\":\"barpolar\"}],\"pie\":[{\"automargin\":true,\"type\":\"pie\"}]},\"layout\":{\"autotypenumbers\":\"strict\",\"colorway\":[\"#636efa\",\"#EF553B\",\"#00cc96\",\"#ab63fa\",\"#FFA15A\",\"#19d3f3\",\"#FF6692\",\"#B6E880\",\"#FF97FF\",\"#FECB52\"],\"font\":{\"color\":\"#2a3f5f\"},\"hovermode\":\"closest\",\"hoverlabel\":{\"align\":\"left\"},\"paper_bgcolor\":\"white\",\"plot_bgcolor\":\"#E5ECF6\",\"polar\":{\"bgcolor\":\"#E5ECF6\",\"angularaxis\":{\"gridcolor\":\"white\",\"linecolor\":\"white\",\"ticks\":\"\"},\"radialaxis\":{\"gridcolor\":\"white\",\"linecolor\":\"white\",\"ticks\":\"\"}},\"ternary\":{\"bgcolor\":\"#E5ECF6\",\"aaxis\":{\"gridcolor\":\"white\",\"linecolor\":\"white\",\"ticks\":\"\"},\"baxis\":{\"gridcolor\":\"white\",\"linecolor\":\"white\",\"ticks\":\"\"},\"caxis\":{\"gridcolor\":\"white\",\"linecolor\":\"white\",\"ticks\":\"\"}},\"coloraxis\":{\"colorbar\":{\"outlinewidth\":0,\"ticks\":\"\"}},\"colorscale\":{\"sequential\":[[0.0,\"#0d0887\"],[0.1111111111111111,\"#46039f\"],[0.2222222222222222,\"#7201a8\"],[0.3333333333333333,\"#9c179e\"],[0.4444444444444444,\"#bd3786\"],[0.5555555555555556,\"#d8576b\"],[0.6666666666666666,\"#ed7953\"],[0.7777777777777778,\"#fb9f3a\"],[0.8888888888888888,\"#fdca26\"],[1.0,\"#f0f921\"]],\"sequentialminus\":[[0.0,\"#0d0887\"],[0.1111111111111111,\"#46039f\"],[0.2222222222222222,\"#7201a8\"],[0.3333333333333333,\"#9c179e\"],[0.4444444444444444,\"#bd3786\"],[0.5555555555555556,\"#d8576b\"],[0.6666666666666666,\"#ed7953\"],[0.7777777777777778,\"#fb9f3a\"],[0.8888888888888888,\"#fdca26\"],[1.0,\"#f0f921\"]],\"diverging\":[[0,\"#8e0152\"],[0.1,\"#c51b7d\"],[0.2,\"#de77ae\"],[0.3,\"#f1b6da\"],[0.4,\"#fde0ef\"],[0.5,\"#f7f7f7\"],[0.6,\"#e6f5d0\"],[0.7,\"#b8e186\"],[0.8,\"#7fbc41\"],[0.9,\"#4d9221\"],[1,\"#276419\"]]},\"xaxis\":{\"gridcolor\":\"white\",\"linecolor\":\"white\",\"ticks\":\"\",\"title\":{\"standoff\":15},\"zerolinecolor\":\"white\",\"automargin\":true,\"zerolinewidth\":2},\"yaxis\":{\"gridcolor\":\"white\",\"linecolor\":\"white\",\"ticks\":\"\",\"title\":{\"standoff\":15},\"zerolinecolor\":\"white\",\"automargin\":true,\"zerolinewidth\":2},\"scene\":{\"xaxis\":{\"backgroundcolor\":\"#E5ECF6\",\"gridcolor\":\"white\",\"linecolor\":\"white\",\"showbackground\":true,\"ticks\":\"\",\"zerolinecolor\":\"white\",\"gridwidth\":2},\"yaxis\":{\"backgroundcolor\":\"#E5ECF6\",\"gridcolor\":\"white\",\"linecolor\":\"white\",\"showbackground\":true,\"ticks\":\"\",\"zerolinecolor\":\"white\",\"gridwidth\":2},\"zaxis\":{\"backgroundcolor\":\"#E5ECF6\",\"gridcolor\":\"white\",\"linecolor\":\"white\",\"showbackground\":true,\"ticks\":\"\",\"zerolinecolor\":\"white\",\"gridwidth\":2}},\"shapedefaults\":{\"line\":{\"color\":\"#2a3f5f\"}},\"annotationdefaults\":{\"arrowcolor\":\"#2a3f5f\",\"arrowhead\":0,\"arrowwidth\":1},\"geo\":{\"bgcolor\":\"white\",\"landcolor\":\"#E5ECF6\",\"subunitcolor\":\"white\",\"showland\":true,\"showlakes\":true,\"lakecolor\":\"white\"},\"title\":{\"x\":0.05},\"mapbox\":{\"style\":\"light\"}}},\"xaxis\":{\"anchor\":\"y\",\"domain\":[0.0,1.0],\"title\":{\"text\":\"Values\"},\"tickangle\":45},\"yaxis\":{\"anchor\":\"x\",\"domain\":[0.0,1.0],\"title\":{\"text\":\"Frequency\"}},\"legend\":{\"tracegroupgap\":0},\"title\":{\"text\":\"Top 10 Most Frequent Matches in The World Cup History\"},\"barmode\":\"relative\"},                        {\"responsive\": true}                    ).then(function(){\n",
              "                            \n",
              "var gd = document.getElementById('9cad09ae-67a0-4dc1-ad8f-401fff5f7b47');\n",
              "var x = new MutationObserver(function (mutations, observer) {{\n",
              "        var display = window.getComputedStyle(gd).display;\n",
              "        if (!display || display === 'none') {{\n",
              "            console.log([gd, 'removed!']);\n",
              "            Plotly.purge(gd);\n",
              "            observer.disconnect();\n",
              "        }}\n",
              "}});\n",
              "\n",
              "// Listen for the removal of the full notebook cells\n",
              "var notebookContainer = gd.closest('#notebook-container');\n",
              "if (notebookContainer) {{\n",
              "    x.observe(notebookContainer, {childList: true});\n",
              "}}\n",
              "\n",
              "// Listen for the clearing of the current output cell\n",
              "var outputEl = gd.closest('.output');\n",
              "if (outputEl) {{\n",
              "    x.observe(outputEl, {childList: true});\n",
              "}}\n",
              "\n",
              "                        })                };                            </script>        </div>\n",
              "</body>\n",
              "</html>"
            ]
          },
          "metadata": {}
        }
      ]
    },
    {
      "cell_type": "markdown",
      "source": [
        "##D-Touraments"
      ],
      "metadata": {
        "id": "aHe1Wy1vkehZ"
      }
    },
    {
      "cell_type": "code",
      "source": [
        "tournamnets_data = pd.read_csv('/content/drive/MyDrive/Datasets/World_Cup Data/tournaments.csv')\n"
      ],
      "metadata": {
        "id": "QNny4JOEtaoY"
      },
      "execution_count": null,
      "outputs": []
    },
    {
      "cell_type": "markdown",
      "source": [
        "###Players Played for multiple teams"
      ],
      "metadata": {
        "id": "iEkELjsFtTVS"
      }
    },
    {
      "cell_type": "code",
      "source": [
        "players_played_for_different_teams = players_data[players_data['num_of_teams_played_for']>1]\n",
        "players_played_for_different_teams"
      ],
      "metadata": {
        "colab": {
          "base_uri": "https://localhost:8080/",
          "height": 1000
        },
        "id": "VW8FzTzWlI2Q",
        "outputId": "63edad26-50ec-4891-cb9b-f7b099fa4530"
      },
      "execution_count": null,
      "outputs": [
        {
          "output_type": "execute_result",
          "data": {
            "text/plain": [
              "      key_id player_id  family_name  given_name  birth_date  goal_keeper  \\\n",
              "331      332   P-01512     Altafini        José  1938-07-24            0   \n",
              "937      938   P-01675     Berthold      Thomas  1964-11-12            0   \n",
              "1039    1040   P-03207       Bokšić        Alen  1970-01-21            0   \n",
              "1087    1088   P-05308     Borodyuk   Aleksandr  1962-11-30            0   \n",
              "1166    1167   P-00830       Brehme     Andreas  1960-11-09            0   \n",
              "1227    1228   P-05379     Buchwald       Guido  1961-01-24            0   \n",
              "2037    2038   P-02845      Demaría     Attilio  1909-03-19            0   \n",
              "3036    3037   P-06666  Gorlukovich      Sergei  1961-11-18            0   \n",
              "3294    3295   P-02040       Häßler      Thomas  1966-05-30            0   \n",
              "3572    3573   P-04641      Illgner        Bodo  1967-04-07            1   \n",
              "3719    3720   P-04605        Jarni      Robert  1968-10-26            0   \n",
              "4131    4132   P-06604    Klinsmann      Jürgen  1964-07-30            0   \n",
              "4155    4156   P-08277       Kohler      Jürgen  1965-10-06            0   \n",
              "4200    4201   P-03556        Köpke     Andreas  1962-03-12            1   \n",
              "4968    4969   P-09502     Matthäus      Lothar  1961-03-21            0   \n",
              "5200    5201   P-09293    Milošević        Savo  1973-09-02            0   \n",
              "5280    5281   P-01103       Möller     Andreas  1967-09-02            0   \n",
              "5304    5305   P-02543        Monti        Luis  1901-05-15            0   \n",
              "6319    6320   P-02576   Prosinečki      Robert  1969-01-12            0   \n",
              "6340    6341   P-01259       Puskás      Ferenc  1927-04-02            0   \n",
              "6396    6397   P-01757        Raftl      Rudolf  1911-02-07            1   \n",
              "6506    6507   P-06121       Reuter      Stefan  1966-10-16            0   \n",
              "6545    6546   P-07779       Riedle  Karl-Heinz  1965-09-16            0   \n",
              "6903    6904   P-05394   Santamaría        José  1929-07-31            0   \n",
              "6974    6975   P-09633      Schmaus   Willibald  1911-06-16            0   \n",
              "7353    7354   P-02369    Stanković       Dejan  1978-09-11            0   \n",
              "7403    7404   P-08793    Stojković    Vladimir  1983-07-28            1   \n",
              "7424    7425   P-08975        Stroh       Josef  1913-03-05            0   \n",
              "7451    7452   P-01739        Šuker       Davor  1968-01-01            0   \n",
              "7620    7621   P-07346         Thon        Olaf  1966-05-01            0   \n",
              "8030    8031   P-06299        Vidić     Nemanja  1981-10-21            0   \n",
              "8093    8094   P-02452       Völler        Rudi  1960-04-13            0   \n",
              "8131    8132   P-00537       Wagner       Franz  1911-09-23            0   \n",
              "8443    8444   P-02502        Žigić      Nikola  1980-09-25            0   \n",
              "\n",
              "      defender  midfielder  forward  count_tournaments  \\\n",
              "331          0           0        1                  2   \n",
              "937          1           0        0                  3   \n",
              "1039         0           0        1                  2   \n",
              "1087         0           1        0                  2   \n",
              "1166         1           0        0                  3   \n",
              "1227         1           0        0                  2   \n",
              "2037         0           0        1                  2   \n",
              "3036         1           0        0                  2   \n",
              "3294         0           1        0                  3   \n",
              "3572         0           0        0                  2   \n",
              "3719         1           1        0                  3   \n",
              "4131         0           0        1                  3   \n",
              "4155         1           0        0                  3   \n",
              "4200         0           0        0                  3   \n",
              "4968         1           1        0                  5   \n",
              "5200         0           0        1                  2   \n",
              "5280         0           1        0                  3   \n",
              "5304         0           1        0                  2   \n",
              "6319         0           1        0                  3   \n",
              "6340         0           0        1                  2   \n",
              "6396         0           0        0                  2   \n",
              "6506         1           0        0                  2   \n",
              "6545         0           0        1                  2   \n",
              "6903         1           0        0                  2   \n",
              "6974         1           0        0                  2   \n",
              "7353         0           1        0                  3   \n",
              "7403         0           0        0                  3   \n",
              "7424         0           0        1                  2   \n",
              "7451         0           0        1                  3   \n",
              "7620         1           1        0                  3   \n",
              "8030         1           0        0                  2   \n",
              "8093         0           0        1                  3   \n",
              "8131         0           1        0                  2   \n",
              "8443         0           0        1                  2   \n",
              "\n",
              "                  list_tournaments  \\\n",
              "331                     1958, 1962   \n",
              "937               1986, 1990, 1994   \n",
              "1039                    1990, 2002   \n",
              "1087                    1990, 1994   \n",
              "1166              1986, 1990, 1994   \n",
              "1227                    1990, 1994   \n",
              "2037                    1930, 1934   \n",
              "3036                    1990, 1994   \n",
              "3294              1990, 1994, 1998   \n",
              "3572                    1990, 1994   \n",
              "3719              1990, 1998, 2002   \n",
              "4131              1990, 1994, 1998   \n",
              "4155              1990, 1994, 1998   \n",
              "4200              1990, 1994, 1998   \n",
              "4968  1982, 1986, 1990, 1994, 1998   \n",
              "5200                    1998, 2006   \n",
              "5280              1990, 1994, 1998   \n",
              "5304                    1930, 1934   \n",
              "6319              1990, 1998, 2002   \n",
              "6340                    1954, 1962   \n",
              "6396                    1934, 1938   \n",
              "6506                    1990, 1998   \n",
              "6545                    1990, 1994   \n",
              "6903                    1954, 1962   \n",
              "6974                    1934, 1938   \n",
              "7353              1998, 2006, 2010   \n",
              "7403              2006, 2010, 2018   \n",
              "7424                    1934, 1938   \n",
              "7451              1990, 1998, 2002   \n",
              "7620              1986, 1990, 1998   \n",
              "8030                    2006, 2010   \n",
              "8093              1986, 1990, 1994   \n",
              "8131                    1934, 1938   \n",
              "8443                    2006, 2010   \n",
              "\n",
              "                                  player_wikipedia_link  \\\n",
              "331    https://en.wikipedia.org/wiki/Jos%C3%A9_Altafini   \n",
              "937       https://en.wikipedia.org/wiki/Thomas_Berthold   \n",
              "1039  https://en.wikipedia.org/wiki/Alen_Bok%C5%A1i%...   \n",
              "1087   https://en.wikipedia.org/wiki/Aleksandr_Borodyuk   \n",
              "1166       https://en.wikipedia.org/wiki/Andreas_Brehme   \n",
              "1227       https://en.wikipedia.org/wiki/Guido_Buchwald   \n",
              "2037  https://en.wikipedia.org/wiki/Attilio_Demar%C3...   \n",
              "3036   https://en.wikipedia.org/wiki/Sergei_Gorlukovich   \n",
              "3294  https://en.wikipedia.org/wiki/Thomas_H%C3%A4%C...   \n",
              "3572         https://en.wikipedia.org/wiki/Bodo_Illgner   \n",
              "3719         https://en.wikipedia.org/wiki/Robert_Jarni   \n",
              "4131  https://en.wikipedia.org/wiki/J%C3%BCrgen_Klin...   \n",
              "4155   https://en.wikipedia.org/wiki/J%C3%BCrgen_Kohler   \n",
              "4200   https://en.wikipedia.org/wiki/Andreas_K%C3%B6pke   \n",
              "4968  https://en.wikipedia.org/wiki/Lothar_Matth%C3%...   \n",
              "5200  https://en.wikipedia.org/wiki/Savo_Milo%C5%A1e...   \n",
              "5280  https://en.wikipedia.org/wiki/Andreas_M%C3%B6ller   \n",
              "5304           https://en.wikipedia.org/wiki/Luis_Monti   \n",
              "6319  https://en.wikipedia.org/wiki/Robert_Prosine%C...   \n",
              "6340   https://en.wikipedia.org/wiki/Ferenc_Pusk%C3%A1s   \n",
              "6396         https://en.wikipedia.org/wiki/Rudolf_Raftl   \n",
              "6506        https://en.wikipedia.org/wiki/Stefan_Reuter   \n",
              "6545    https://en.wikipedia.org/wiki/Karl-Heinz_Riedle   \n",
              "6903  https://en.wikipedia.org/wiki/Jos%C3%A9_Santam...   \n",
              "6974    https://en.wikipedia.org/wiki/Willibald_Schmaus   \n",
              "7353  https://en.wikipedia.org/wiki/Dejan_Stankovi%C...   \n",
              "7403  https://en.wikipedia.org/wiki/Vladimir_Stojkov...   \n",
              "7424          https://en.wikipedia.org/wiki/Josef_Stroh   \n",
              "7451     https://en.wikipedia.org/wiki/Davor_%C5%A0uker   \n",
              "7620            https://en.wikipedia.org/wiki/Olaf_Thon   \n",
              "8030   https://en.wikipedia.org/wiki/Nemanja_Vidi%C4%87   \n",
              "8093     https://en.wikipedia.org/wiki/Rudi_V%C3%B6ller   \n",
              "8131  https://en.wikipedia.org/wiki/Franz_Wagner_(fo...   \n",
              "8443  https://en.wikipedia.org/wiki/Nikola_%C5%BDigi...   \n",
              "\n",
              "                        names_of_teams_played_for codes_of_teams_played_for  \\\n",
              "331                               {Brazil, Italy}                {ITA, BRA}   \n",
              "937                       {Germany, West Germany}                     {DEU}   \n",
              "1039                        {Croatia, Yugoslavia}                {HRV, YUG}   \n",
              "1087                       {Russia, Soviet Union}                {RUS, SUN}   \n",
              "1166                      {Germany, West Germany}                     {DEU}   \n",
              "1227                      {Germany, West Germany}                     {DEU}   \n",
              "2037                           {Argentina, Italy}                {ITA, ARG}   \n",
              "3036                       {Russia, Soviet Union}                {RUS, SUN}   \n",
              "3294                      {Germany, West Germany}                     {DEU}   \n",
              "3572                      {Germany, West Germany}                     {DEU}   \n",
              "3719                        {Croatia, Yugoslavia}                {HRV, YUG}   \n",
              "4131                      {Germany, West Germany}                     {DEU}   \n",
              "4155                      {Germany, West Germany}                     {DEU}   \n",
              "4200                      {Germany, West Germany}                     {DEU}   \n",
              "4968                      {Germany, West Germany}                     {DEU}   \n",
              "5200          {Serbia and Montenegro, Yugoslavia}                {SCG, YUG}   \n",
              "5280                      {Germany, West Germany}                     {DEU}   \n",
              "5304                           {Argentina, Italy}                {ITA, ARG}   \n",
              "6319                        {Croatia, Yugoslavia}                {HRV, YUG}   \n",
              "6340                             {Hungary, Spain}                {HUN, ESP}   \n",
              "6396                           {Germany, Austria}                {DEU, AUT}   \n",
              "6506                      {Germany, West Germany}                     {DEU}   \n",
              "6545                      {Germany, West Germany}                     {DEU}   \n",
              "6903                             {Uruguay, Spain}                {URY, ESP}   \n",
              "6974                           {Germany, Austria}                {DEU, AUT}   \n",
              "7353  {Serbia, Serbia and Montenegro, Yugoslavia}           {SCG, YUG, SRB}   \n",
              "7403              {Serbia, Serbia and Montenegro}                {SCG, SRB}   \n",
              "7424                           {Germany, Austria}                {DEU, AUT}   \n",
              "7451                        {Croatia, Yugoslavia}                {HRV, YUG}   \n",
              "7620                      {Germany, West Germany}                     {DEU}   \n",
              "8030              {Serbia, Serbia and Montenegro}                {SCG, SRB}   \n",
              "8093                      {Germany, West Germany}                     {DEU}   \n",
              "8131                           {Germany, Austria}                {DEU, AUT}   \n",
              "8443              {Serbia, Serbia and Montenegro}                {SCG, SRB}   \n",
              "\n",
              "      num_of_teams_played_for           full_name  goals_scored  \n",
              "331                         2       José Altafini             2  \n",
              "937                         2     Thomas Berthold             0  \n",
              "1039                        2         Alen Bokšić             0  \n",
              "1087                        2  Aleksandr Borodyuk             0  \n",
              "1166                        2      Andreas Brehme             4  \n",
              "1227                        2      Guido Buchwald             0  \n",
              "2037                        2     Attilio Demaría             0  \n",
              "3036                        2  Sergei Gorlukovich             0  \n",
              "3294                        2       Thomas Häßler             0  \n",
              "3572                        2        Bodo Illgner             0  \n",
              "3719                        2        Robert Jarni             1  \n",
              "4131                        2    Jürgen Klinsmann            11  \n",
              "4155                        2       Jürgen Kohler             0  \n",
              "4200                        2       Andreas Köpke             0  \n",
              "4968                        2     Lothar Matthäus             6  \n",
              "5200                        2      Savo Milošević             0  \n",
              "5280                        2      Andreas Möller             1  \n",
              "5304                        2          Luis Monti             2  \n",
              "6319                        2   Robert Prosinečki             3  \n",
              "6340                        2       Ferenc Puskás             4  \n",
              "6396                        2        Rudolf Raftl             0  \n",
              "6506                        2       Stefan Reuter             0  \n",
              "6545                        2   Karl-Heinz Riedle             1  \n",
              "6903                        2     José Santamaría             0  \n",
              "6974                        2   Willibald Schmaus             0  \n",
              "7353                        3     Dejan Stanković             0  \n",
              "7403                        2  Vladimir Stojković             0  \n",
              "7424                        2         Josef Stroh             0  \n",
              "7451                        2         Davor Šuker             6  \n",
              "7620                        2           Olaf Thon             0  \n",
              "8030                        2       Nemanja Vidić             0  \n",
              "8093                        2         Rudi Völler             8  \n",
              "8131                        2        Franz Wagner             0  \n",
              "8443                        2        Nikola Žigić             1  "
            ],
            "text/html": [
              "\n",
              "  <div id=\"df-45644783-23b7-4f02-bb4f-83974d2f3804\">\n",
              "    <div class=\"colab-df-container\">\n",
              "      <div>\n",
              "<style scoped>\n",
              "    .dataframe tbody tr th:only-of-type {\n",
              "        vertical-align: middle;\n",
              "    }\n",
              "\n",
              "    .dataframe tbody tr th {\n",
              "        vertical-align: top;\n",
              "    }\n",
              "\n",
              "    .dataframe thead th {\n",
              "        text-align: right;\n",
              "    }\n",
              "</style>\n",
              "<table border=\"1\" class=\"dataframe\">\n",
              "  <thead>\n",
              "    <tr style=\"text-align: right;\">\n",
              "      <th></th>\n",
              "      <th>key_id</th>\n",
              "      <th>player_id</th>\n",
              "      <th>family_name</th>\n",
              "      <th>given_name</th>\n",
              "      <th>birth_date</th>\n",
              "      <th>goal_keeper</th>\n",
              "      <th>defender</th>\n",
              "      <th>midfielder</th>\n",
              "      <th>forward</th>\n",
              "      <th>count_tournaments</th>\n",
              "      <th>list_tournaments</th>\n",
              "      <th>player_wikipedia_link</th>\n",
              "      <th>names_of_teams_played_for</th>\n",
              "      <th>codes_of_teams_played_for</th>\n",
              "      <th>num_of_teams_played_for</th>\n",
              "      <th>full_name</th>\n",
              "      <th>goals_scored</th>\n",
              "    </tr>\n",
              "  </thead>\n",
              "  <tbody>\n",
              "    <tr>\n",
              "      <th>331</th>\n",
              "      <td>332</td>\n",
              "      <td>P-01512</td>\n",
              "      <td>Altafini</td>\n",
              "      <td>José</td>\n",
              "      <td>1938-07-24</td>\n",
              "      <td>0</td>\n",
              "      <td>0</td>\n",
              "      <td>0</td>\n",
              "      <td>1</td>\n",
              "      <td>2</td>\n",
              "      <td>1958, 1962</td>\n",
              "      <td>https://en.wikipedia.org/wiki/Jos%C3%A9_Altafini</td>\n",
              "      <td>{Brazil, Italy}</td>\n",
              "      <td>{ITA, BRA}</td>\n",
              "      <td>2</td>\n",
              "      <td>José Altafini</td>\n",
              "      <td>2</td>\n",
              "    </tr>\n",
              "    <tr>\n",
              "      <th>937</th>\n",
              "      <td>938</td>\n",
              "      <td>P-01675</td>\n",
              "      <td>Berthold</td>\n",
              "      <td>Thomas</td>\n",
              "      <td>1964-11-12</td>\n",
              "      <td>0</td>\n",
              "      <td>1</td>\n",
              "      <td>0</td>\n",
              "      <td>0</td>\n",
              "      <td>3</td>\n",
              "      <td>1986, 1990, 1994</td>\n",
              "      <td>https://en.wikipedia.org/wiki/Thomas_Berthold</td>\n",
              "      <td>{Germany, West Germany}</td>\n",
              "      <td>{DEU}</td>\n",
              "      <td>2</td>\n",
              "      <td>Thomas Berthold</td>\n",
              "      <td>0</td>\n",
              "    </tr>\n",
              "    <tr>\n",
              "      <th>1039</th>\n",
              "      <td>1040</td>\n",
              "      <td>P-03207</td>\n",
              "      <td>Bokšić</td>\n",
              "      <td>Alen</td>\n",
              "      <td>1970-01-21</td>\n",
              "      <td>0</td>\n",
              "      <td>0</td>\n",
              "      <td>0</td>\n",
              "      <td>1</td>\n",
              "      <td>2</td>\n",
              "      <td>1990, 2002</td>\n",
              "      <td>https://en.wikipedia.org/wiki/Alen_Bok%C5%A1i%...</td>\n",
              "      <td>{Croatia, Yugoslavia}</td>\n",
              "      <td>{HRV, YUG}</td>\n",
              "      <td>2</td>\n",
              "      <td>Alen Bokšić</td>\n",
              "      <td>0</td>\n",
              "    </tr>\n",
              "    <tr>\n",
              "      <th>1087</th>\n",
              "      <td>1088</td>\n",
              "      <td>P-05308</td>\n",
              "      <td>Borodyuk</td>\n",
              "      <td>Aleksandr</td>\n",
              "      <td>1962-11-30</td>\n",
              "      <td>0</td>\n",
              "      <td>0</td>\n",
              "      <td>1</td>\n",
              "      <td>0</td>\n",
              "      <td>2</td>\n",
              "      <td>1990, 1994</td>\n",
              "      <td>https://en.wikipedia.org/wiki/Aleksandr_Borodyuk</td>\n",
              "      <td>{Russia, Soviet Union}</td>\n",
              "      <td>{RUS, SUN}</td>\n",
              "      <td>2</td>\n",
              "      <td>Aleksandr Borodyuk</td>\n",
              "      <td>0</td>\n",
              "    </tr>\n",
              "    <tr>\n",
              "      <th>1166</th>\n",
              "      <td>1167</td>\n",
              "      <td>P-00830</td>\n",
              "      <td>Brehme</td>\n",
              "      <td>Andreas</td>\n",
              "      <td>1960-11-09</td>\n",
              "      <td>0</td>\n",
              "      <td>1</td>\n",
              "      <td>0</td>\n",
              "      <td>0</td>\n",
              "      <td>3</td>\n",
              "      <td>1986, 1990, 1994</td>\n",
              "      <td>https://en.wikipedia.org/wiki/Andreas_Brehme</td>\n",
              "      <td>{Germany, West Germany}</td>\n",
              "      <td>{DEU}</td>\n",
              "      <td>2</td>\n",
              "      <td>Andreas Brehme</td>\n",
              "      <td>4</td>\n",
              "    </tr>\n",
              "    <tr>\n",
              "      <th>1227</th>\n",
              "      <td>1228</td>\n",
              "      <td>P-05379</td>\n",
              "      <td>Buchwald</td>\n",
              "      <td>Guido</td>\n",
              "      <td>1961-01-24</td>\n",
              "      <td>0</td>\n",
              "      <td>1</td>\n",
              "      <td>0</td>\n",
              "      <td>0</td>\n",
              "      <td>2</td>\n",
              "      <td>1990, 1994</td>\n",
              "      <td>https://en.wikipedia.org/wiki/Guido_Buchwald</td>\n",
              "      <td>{Germany, West Germany}</td>\n",
              "      <td>{DEU}</td>\n",
              "      <td>2</td>\n",
              "      <td>Guido Buchwald</td>\n",
              "      <td>0</td>\n",
              "    </tr>\n",
              "    <tr>\n",
              "      <th>2037</th>\n",
              "      <td>2038</td>\n",
              "      <td>P-02845</td>\n",
              "      <td>Demaría</td>\n",
              "      <td>Attilio</td>\n",
              "      <td>1909-03-19</td>\n",
              "      <td>0</td>\n",
              "      <td>0</td>\n",
              "      <td>0</td>\n",
              "      <td>1</td>\n",
              "      <td>2</td>\n",
              "      <td>1930, 1934</td>\n",
              "      <td>https://en.wikipedia.org/wiki/Attilio_Demar%C3...</td>\n",
              "      <td>{Argentina, Italy}</td>\n",
              "      <td>{ITA, ARG}</td>\n",
              "      <td>2</td>\n",
              "      <td>Attilio Demaría</td>\n",
              "      <td>0</td>\n",
              "    </tr>\n",
              "    <tr>\n",
              "      <th>3036</th>\n",
              "      <td>3037</td>\n",
              "      <td>P-06666</td>\n",
              "      <td>Gorlukovich</td>\n",
              "      <td>Sergei</td>\n",
              "      <td>1961-11-18</td>\n",
              "      <td>0</td>\n",
              "      <td>1</td>\n",
              "      <td>0</td>\n",
              "      <td>0</td>\n",
              "      <td>2</td>\n",
              "      <td>1990, 1994</td>\n",
              "      <td>https://en.wikipedia.org/wiki/Sergei_Gorlukovich</td>\n",
              "      <td>{Russia, Soviet Union}</td>\n",
              "      <td>{RUS, SUN}</td>\n",
              "      <td>2</td>\n",
              "      <td>Sergei Gorlukovich</td>\n",
              "      <td>0</td>\n",
              "    </tr>\n",
              "    <tr>\n",
              "      <th>3294</th>\n",
              "      <td>3295</td>\n",
              "      <td>P-02040</td>\n",
              "      <td>Häßler</td>\n",
              "      <td>Thomas</td>\n",
              "      <td>1966-05-30</td>\n",
              "      <td>0</td>\n",
              "      <td>0</td>\n",
              "      <td>1</td>\n",
              "      <td>0</td>\n",
              "      <td>3</td>\n",
              "      <td>1990, 1994, 1998</td>\n",
              "      <td>https://en.wikipedia.org/wiki/Thomas_H%C3%A4%C...</td>\n",
              "      <td>{Germany, West Germany}</td>\n",
              "      <td>{DEU}</td>\n",
              "      <td>2</td>\n",
              "      <td>Thomas Häßler</td>\n",
              "      <td>0</td>\n",
              "    </tr>\n",
              "    <tr>\n",
              "      <th>3572</th>\n",
              "      <td>3573</td>\n",
              "      <td>P-04641</td>\n",
              "      <td>Illgner</td>\n",
              "      <td>Bodo</td>\n",
              "      <td>1967-04-07</td>\n",
              "      <td>1</td>\n",
              "      <td>0</td>\n",
              "      <td>0</td>\n",
              "      <td>0</td>\n",
              "      <td>2</td>\n",
              "      <td>1990, 1994</td>\n",
              "      <td>https://en.wikipedia.org/wiki/Bodo_Illgner</td>\n",
              "      <td>{Germany, West Germany}</td>\n",
              "      <td>{DEU}</td>\n",
              "      <td>2</td>\n",
              "      <td>Bodo Illgner</td>\n",
              "      <td>0</td>\n",
              "    </tr>\n",
              "    <tr>\n",
              "      <th>3719</th>\n",
              "      <td>3720</td>\n",
              "      <td>P-04605</td>\n",
              "      <td>Jarni</td>\n",
              "      <td>Robert</td>\n",
              "      <td>1968-10-26</td>\n",
              "      <td>0</td>\n",
              "      <td>1</td>\n",
              "      <td>1</td>\n",
              "      <td>0</td>\n",
              "      <td>3</td>\n",
              "      <td>1990, 1998, 2002</td>\n",
              "      <td>https://en.wikipedia.org/wiki/Robert_Jarni</td>\n",
              "      <td>{Croatia, Yugoslavia}</td>\n",
              "      <td>{HRV, YUG}</td>\n",
              "      <td>2</td>\n",
              "      <td>Robert Jarni</td>\n",
              "      <td>1</td>\n",
              "    </tr>\n",
              "    <tr>\n",
              "      <th>4131</th>\n",
              "      <td>4132</td>\n",
              "      <td>P-06604</td>\n",
              "      <td>Klinsmann</td>\n",
              "      <td>Jürgen</td>\n",
              "      <td>1964-07-30</td>\n",
              "      <td>0</td>\n",
              "      <td>0</td>\n",
              "      <td>0</td>\n",
              "      <td>1</td>\n",
              "      <td>3</td>\n",
              "      <td>1990, 1994, 1998</td>\n",
              "      <td>https://en.wikipedia.org/wiki/J%C3%BCrgen_Klin...</td>\n",
              "      <td>{Germany, West Germany}</td>\n",
              "      <td>{DEU}</td>\n",
              "      <td>2</td>\n",
              "      <td>Jürgen Klinsmann</td>\n",
              "      <td>11</td>\n",
              "    </tr>\n",
              "    <tr>\n",
              "      <th>4155</th>\n",
              "      <td>4156</td>\n",
              "      <td>P-08277</td>\n",
              "      <td>Kohler</td>\n",
              "      <td>Jürgen</td>\n",
              "      <td>1965-10-06</td>\n",
              "      <td>0</td>\n",
              "      <td>1</td>\n",
              "      <td>0</td>\n",
              "      <td>0</td>\n",
              "      <td>3</td>\n",
              "      <td>1990, 1994, 1998</td>\n",
              "      <td>https://en.wikipedia.org/wiki/J%C3%BCrgen_Kohler</td>\n",
              "      <td>{Germany, West Germany}</td>\n",
              "      <td>{DEU}</td>\n",
              "      <td>2</td>\n",
              "      <td>Jürgen Kohler</td>\n",
              "      <td>0</td>\n",
              "    </tr>\n",
              "    <tr>\n",
              "      <th>4200</th>\n",
              "      <td>4201</td>\n",
              "      <td>P-03556</td>\n",
              "      <td>Köpke</td>\n",
              "      <td>Andreas</td>\n",
              "      <td>1962-03-12</td>\n",
              "      <td>1</td>\n",
              "      <td>0</td>\n",
              "      <td>0</td>\n",
              "      <td>0</td>\n",
              "      <td>3</td>\n",
              "      <td>1990, 1994, 1998</td>\n",
              "      <td>https://en.wikipedia.org/wiki/Andreas_K%C3%B6pke</td>\n",
              "      <td>{Germany, West Germany}</td>\n",
              "      <td>{DEU}</td>\n",
              "      <td>2</td>\n",
              "      <td>Andreas Köpke</td>\n",
              "      <td>0</td>\n",
              "    </tr>\n",
              "    <tr>\n",
              "      <th>4968</th>\n",
              "      <td>4969</td>\n",
              "      <td>P-09502</td>\n",
              "      <td>Matthäus</td>\n",
              "      <td>Lothar</td>\n",
              "      <td>1961-03-21</td>\n",
              "      <td>0</td>\n",
              "      <td>1</td>\n",
              "      <td>1</td>\n",
              "      <td>0</td>\n",
              "      <td>5</td>\n",
              "      <td>1982, 1986, 1990, 1994, 1998</td>\n",
              "      <td>https://en.wikipedia.org/wiki/Lothar_Matth%C3%...</td>\n",
              "      <td>{Germany, West Germany}</td>\n",
              "      <td>{DEU}</td>\n",
              "      <td>2</td>\n",
              "      <td>Lothar Matthäus</td>\n",
              "      <td>6</td>\n",
              "    </tr>\n",
              "    <tr>\n",
              "      <th>5200</th>\n",
              "      <td>5201</td>\n",
              "      <td>P-09293</td>\n",
              "      <td>Milošević</td>\n",
              "      <td>Savo</td>\n",
              "      <td>1973-09-02</td>\n",
              "      <td>0</td>\n",
              "      <td>0</td>\n",
              "      <td>0</td>\n",
              "      <td>1</td>\n",
              "      <td>2</td>\n",
              "      <td>1998, 2006</td>\n",
              "      <td>https://en.wikipedia.org/wiki/Savo_Milo%C5%A1e...</td>\n",
              "      <td>{Serbia and Montenegro, Yugoslavia}</td>\n",
              "      <td>{SCG, YUG}</td>\n",
              "      <td>2</td>\n",
              "      <td>Savo Milošević</td>\n",
              "      <td>0</td>\n",
              "    </tr>\n",
              "    <tr>\n",
              "      <th>5280</th>\n",
              "      <td>5281</td>\n",
              "      <td>P-01103</td>\n",
              "      <td>Möller</td>\n",
              "      <td>Andreas</td>\n",
              "      <td>1967-09-02</td>\n",
              "      <td>0</td>\n",
              "      <td>0</td>\n",
              "      <td>1</td>\n",
              "      <td>0</td>\n",
              "      <td>3</td>\n",
              "      <td>1990, 1994, 1998</td>\n",
              "      <td>https://en.wikipedia.org/wiki/Andreas_M%C3%B6ller</td>\n",
              "      <td>{Germany, West Germany}</td>\n",
              "      <td>{DEU}</td>\n",
              "      <td>2</td>\n",
              "      <td>Andreas Möller</td>\n",
              "      <td>1</td>\n",
              "    </tr>\n",
              "    <tr>\n",
              "      <th>5304</th>\n",
              "      <td>5305</td>\n",
              "      <td>P-02543</td>\n",
              "      <td>Monti</td>\n",
              "      <td>Luis</td>\n",
              "      <td>1901-05-15</td>\n",
              "      <td>0</td>\n",
              "      <td>0</td>\n",
              "      <td>1</td>\n",
              "      <td>0</td>\n",
              "      <td>2</td>\n",
              "      <td>1930, 1934</td>\n",
              "      <td>https://en.wikipedia.org/wiki/Luis_Monti</td>\n",
              "      <td>{Argentina, Italy}</td>\n",
              "      <td>{ITA, ARG}</td>\n",
              "      <td>2</td>\n",
              "      <td>Luis Monti</td>\n",
              "      <td>2</td>\n",
              "    </tr>\n",
              "    <tr>\n",
              "      <th>6319</th>\n",
              "      <td>6320</td>\n",
              "      <td>P-02576</td>\n",
              "      <td>Prosinečki</td>\n",
              "      <td>Robert</td>\n",
              "      <td>1969-01-12</td>\n",
              "      <td>0</td>\n",
              "      <td>0</td>\n",
              "      <td>1</td>\n",
              "      <td>0</td>\n",
              "      <td>3</td>\n",
              "      <td>1990, 1998, 2002</td>\n",
              "      <td>https://en.wikipedia.org/wiki/Robert_Prosine%C...</td>\n",
              "      <td>{Croatia, Yugoslavia}</td>\n",
              "      <td>{HRV, YUG}</td>\n",
              "      <td>2</td>\n",
              "      <td>Robert Prosinečki</td>\n",
              "      <td>3</td>\n",
              "    </tr>\n",
              "    <tr>\n",
              "      <th>6340</th>\n",
              "      <td>6341</td>\n",
              "      <td>P-01259</td>\n",
              "      <td>Puskás</td>\n",
              "      <td>Ferenc</td>\n",
              "      <td>1927-04-02</td>\n",
              "      <td>0</td>\n",
              "      <td>0</td>\n",
              "      <td>0</td>\n",
              "      <td>1</td>\n",
              "      <td>2</td>\n",
              "      <td>1954, 1962</td>\n",
              "      <td>https://en.wikipedia.org/wiki/Ferenc_Pusk%C3%A1s</td>\n",
              "      <td>{Hungary, Spain}</td>\n",
              "      <td>{HUN, ESP}</td>\n",
              "      <td>2</td>\n",
              "      <td>Ferenc Puskás</td>\n",
              "      <td>4</td>\n",
              "    </tr>\n",
              "    <tr>\n",
              "      <th>6396</th>\n",
              "      <td>6397</td>\n",
              "      <td>P-01757</td>\n",
              "      <td>Raftl</td>\n",
              "      <td>Rudolf</td>\n",
              "      <td>1911-02-07</td>\n",
              "      <td>1</td>\n",
              "      <td>0</td>\n",
              "      <td>0</td>\n",
              "      <td>0</td>\n",
              "      <td>2</td>\n",
              "      <td>1934, 1938</td>\n",
              "      <td>https://en.wikipedia.org/wiki/Rudolf_Raftl</td>\n",
              "      <td>{Germany, Austria}</td>\n",
              "      <td>{DEU, AUT}</td>\n",
              "      <td>2</td>\n",
              "      <td>Rudolf Raftl</td>\n",
              "      <td>0</td>\n",
              "    </tr>\n",
              "    <tr>\n",
              "      <th>6506</th>\n",
              "      <td>6507</td>\n",
              "      <td>P-06121</td>\n",
              "      <td>Reuter</td>\n",
              "      <td>Stefan</td>\n",
              "      <td>1966-10-16</td>\n",
              "      <td>0</td>\n",
              "      <td>1</td>\n",
              "      <td>0</td>\n",
              "      <td>0</td>\n",
              "      <td>2</td>\n",
              "      <td>1990, 1998</td>\n",
              "      <td>https://en.wikipedia.org/wiki/Stefan_Reuter</td>\n",
              "      <td>{Germany, West Germany}</td>\n",
              "      <td>{DEU}</td>\n",
              "      <td>2</td>\n",
              "      <td>Stefan Reuter</td>\n",
              "      <td>0</td>\n",
              "    </tr>\n",
              "    <tr>\n",
              "      <th>6545</th>\n",
              "      <td>6546</td>\n",
              "      <td>P-07779</td>\n",
              "      <td>Riedle</td>\n",
              "      <td>Karl-Heinz</td>\n",
              "      <td>1965-09-16</td>\n",
              "      <td>0</td>\n",
              "      <td>0</td>\n",
              "      <td>0</td>\n",
              "      <td>1</td>\n",
              "      <td>2</td>\n",
              "      <td>1990, 1994</td>\n",
              "      <td>https://en.wikipedia.org/wiki/Karl-Heinz_Riedle</td>\n",
              "      <td>{Germany, West Germany}</td>\n",
              "      <td>{DEU}</td>\n",
              "      <td>2</td>\n",
              "      <td>Karl-Heinz Riedle</td>\n",
              "      <td>1</td>\n",
              "    </tr>\n",
              "    <tr>\n",
              "      <th>6903</th>\n",
              "      <td>6904</td>\n",
              "      <td>P-05394</td>\n",
              "      <td>Santamaría</td>\n",
              "      <td>José</td>\n",
              "      <td>1929-07-31</td>\n",
              "      <td>0</td>\n",
              "      <td>1</td>\n",
              "      <td>0</td>\n",
              "      <td>0</td>\n",
              "      <td>2</td>\n",
              "      <td>1954, 1962</td>\n",
              "      <td>https://en.wikipedia.org/wiki/Jos%C3%A9_Santam...</td>\n",
              "      <td>{Uruguay, Spain}</td>\n",
              "      <td>{URY, ESP}</td>\n",
              "      <td>2</td>\n",
              "      <td>José Santamaría</td>\n",
              "      <td>0</td>\n",
              "    </tr>\n",
              "    <tr>\n",
              "      <th>6974</th>\n",
              "      <td>6975</td>\n",
              "      <td>P-09633</td>\n",
              "      <td>Schmaus</td>\n",
              "      <td>Willibald</td>\n",
              "      <td>1911-06-16</td>\n",
              "      <td>0</td>\n",
              "      <td>1</td>\n",
              "      <td>0</td>\n",
              "      <td>0</td>\n",
              "      <td>2</td>\n",
              "      <td>1934, 1938</td>\n",
              "      <td>https://en.wikipedia.org/wiki/Willibald_Schmaus</td>\n",
              "      <td>{Germany, Austria}</td>\n",
              "      <td>{DEU, AUT}</td>\n",
              "      <td>2</td>\n",
              "      <td>Willibald Schmaus</td>\n",
              "      <td>0</td>\n",
              "    </tr>\n",
              "    <tr>\n",
              "      <th>7353</th>\n",
              "      <td>7354</td>\n",
              "      <td>P-02369</td>\n",
              "      <td>Stanković</td>\n",
              "      <td>Dejan</td>\n",
              "      <td>1978-09-11</td>\n",
              "      <td>0</td>\n",
              "      <td>0</td>\n",
              "      <td>1</td>\n",
              "      <td>0</td>\n",
              "      <td>3</td>\n",
              "      <td>1998, 2006, 2010</td>\n",
              "      <td>https://en.wikipedia.org/wiki/Dejan_Stankovi%C...</td>\n",
              "      <td>{Serbia, Serbia and Montenegro, Yugoslavia}</td>\n",
              "      <td>{SCG, YUG, SRB}</td>\n",
              "      <td>3</td>\n",
              "      <td>Dejan Stanković</td>\n",
              "      <td>0</td>\n",
              "    </tr>\n",
              "    <tr>\n",
              "      <th>7403</th>\n",
              "      <td>7404</td>\n",
              "      <td>P-08793</td>\n",
              "      <td>Stojković</td>\n",
              "      <td>Vladimir</td>\n",
              "      <td>1983-07-28</td>\n",
              "      <td>1</td>\n",
              "      <td>0</td>\n",
              "      <td>0</td>\n",
              "      <td>0</td>\n",
              "      <td>3</td>\n",
              "      <td>2006, 2010, 2018</td>\n",
              "      <td>https://en.wikipedia.org/wiki/Vladimir_Stojkov...</td>\n",
              "      <td>{Serbia, Serbia and Montenegro}</td>\n",
              "      <td>{SCG, SRB}</td>\n",
              "      <td>2</td>\n",
              "      <td>Vladimir Stojković</td>\n",
              "      <td>0</td>\n",
              "    </tr>\n",
              "    <tr>\n",
              "      <th>7424</th>\n",
              "      <td>7425</td>\n",
              "      <td>P-08975</td>\n",
              "      <td>Stroh</td>\n",
              "      <td>Josef</td>\n",
              "      <td>1913-03-05</td>\n",
              "      <td>0</td>\n",
              "      <td>0</td>\n",
              "      <td>0</td>\n",
              "      <td>1</td>\n",
              "      <td>2</td>\n",
              "      <td>1934, 1938</td>\n",
              "      <td>https://en.wikipedia.org/wiki/Josef_Stroh</td>\n",
              "      <td>{Germany, Austria}</td>\n",
              "      <td>{DEU, AUT}</td>\n",
              "      <td>2</td>\n",
              "      <td>Josef Stroh</td>\n",
              "      <td>0</td>\n",
              "    </tr>\n",
              "    <tr>\n",
              "      <th>7451</th>\n",
              "      <td>7452</td>\n",
              "      <td>P-01739</td>\n",
              "      <td>Šuker</td>\n",
              "      <td>Davor</td>\n",
              "      <td>1968-01-01</td>\n",
              "      <td>0</td>\n",
              "      <td>0</td>\n",
              "      <td>0</td>\n",
              "      <td>1</td>\n",
              "      <td>3</td>\n",
              "      <td>1990, 1998, 2002</td>\n",
              "      <td>https://en.wikipedia.org/wiki/Davor_%C5%A0uker</td>\n",
              "      <td>{Croatia, Yugoslavia}</td>\n",
              "      <td>{HRV, YUG}</td>\n",
              "      <td>2</td>\n",
              "      <td>Davor Šuker</td>\n",
              "      <td>6</td>\n",
              "    </tr>\n",
              "    <tr>\n",
              "      <th>7620</th>\n",
              "      <td>7621</td>\n",
              "      <td>P-07346</td>\n",
              "      <td>Thon</td>\n",
              "      <td>Olaf</td>\n",
              "      <td>1966-05-01</td>\n",
              "      <td>0</td>\n",
              "      <td>1</td>\n",
              "      <td>1</td>\n",
              "      <td>0</td>\n",
              "      <td>3</td>\n",
              "      <td>1986, 1990, 1998</td>\n",
              "      <td>https://en.wikipedia.org/wiki/Olaf_Thon</td>\n",
              "      <td>{Germany, West Germany}</td>\n",
              "      <td>{DEU}</td>\n",
              "      <td>2</td>\n",
              "      <td>Olaf Thon</td>\n",
              "      <td>0</td>\n",
              "    </tr>\n",
              "    <tr>\n",
              "      <th>8030</th>\n",
              "      <td>8031</td>\n",
              "      <td>P-06299</td>\n",
              "      <td>Vidić</td>\n",
              "      <td>Nemanja</td>\n",
              "      <td>1981-10-21</td>\n",
              "      <td>0</td>\n",
              "      <td>1</td>\n",
              "      <td>0</td>\n",
              "      <td>0</td>\n",
              "      <td>2</td>\n",
              "      <td>2006, 2010</td>\n",
              "      <td>https://en.wikipedia.org/wiki/Nemanja_Vidi%C4%87</td>\n",
              "      <td>{Serbia, Serbia and Montenegro}</td>\n",
              "      <td>{SCG, SRB}</td>\n",
              "      <td>2</td>\n",
              "      <td>Nemanja Vidić</td>\n",
              "      <td>0</td>\n",
              "    </tr>\n",
              "    <tr>\n",
              "      <th>8093</th>\n",
              "      <td>8094</td>\n",
              "      <td>P-02452</td>\n",
              "      <td>Völler</td>\n",
              "      <td>Rudi</td>\n",
              "      <td>1960-04-13</td>\n",
              "      <td>0</td>\n",
              "      <td>0</td>\n",
              "      <td>0</td>\n",
              "      <td>1</td>\n",
              "      <td>3</td>\n",
              "      <td>1986, 1990, 1994</td>\n",
              "      <td>https://en.wikipedia.org/wiki/Rudi_V%C3%B6ller</td>\n",
              "      <td>{Germany, West Germany}</td>\n",
              "      <td>{DEU}</td>\n",
              "      <td>2</td>\n",
              "      <td>Rudi Völler</td>\n",
              "      <td>8</td>\n",
              "    </tr>\n",
              "    <tr>\n",
              "      <th>8131</th>\n",
              "      <td>8132</td>\n",
              "      <td>P-00537</td>\n",
              "      <td>Wagner</td>\n",
              "      <td>Franz</td>\n",
              "      <td>1911-09-23</td>\n",
              "      <td>0</td>\n",
              "      <td>0</td>\n",
              "      <td>1</td>\n",
              "      <td>0</td>\n",
              "      <td>2</td>\n",
              "      <td>1934, 1938</td>\n",
              "      <td>https://en.wikipedia.org/wiki/Franz_Wagner_(fo...</td>\n",
              "      <td>{Germany, Austria}</td>\n",
              "      <td>{DEU, AUT}</td>\n",
              "      <td>2</td>\n",
              "      <td>Franz Wagner</td>\n",
              "      <td>0</td>\n",
              "    </tr>\n",
              "    <tr>\n",
              "      <th>8443</th>\n",
              "      <td>8444</td>\n",
              "      <td>P-02502</td>\n",
              "      <td>Žigić</td>\n",
              "      <td>Nikola</td>\n",
              "      <td>1980-09-25</td>\n",
              "      <td>0</td>\n",
              "      <td>0</td>\n",
              "      <td>0</td>\n",
              "      <td>1</td>\n",
              "      <td>2</td>\n",
              "      <td>2006, 2010</td>\n",
              "      <td>https://en.wikipedia.org/wiki/Nikola_%C5%BDigi...</td>\n",
              "      <td>{Serbia, Serbia and Montenegro}</td>\n",
              "      <td>{SCG, SRB}</td>\n",
              "      <td>2</td>\n",
              "      <td>Nikola Žigić</td>\n",
              "      <td>1</td>\n",
              "    </tr>\n",
              "  </tbody>\n",
              "</table>\n",
              "</div>\n",
              "      <button class=\"colab-df-convert\" onclick=\"convertToInteractive('df-45644783-23b7-4f02-bb4f-83974d2f3804')\"\n",
              "              title=\"Convert this dataframe to an interactive table.\"\n",
              "              style=\"display:none;\">\n",
              "        \n",
              "  <svg xmlns=\"http://www.w3.org/2000/svg\" height=\"24px\"viewBox=\"0 0 24 24\"\n",
              "       width=\"24px\">\n",
              "    <path d=\"M0 0h24v24H0V0z\" fill=\"none\"/>\n",
              "    <path d=\"M18.56 5.44l.94 2.06.94-2.06 2.06-.94-2.06-.94-.94-2.06-.94 2.06-2.06.94zm-11 1L8.5 8.5l.94-2.06 2.06-.94-2.06-.94L8.5 2.5l-.94 2.06-2.06.94zm10 10l.94 2.06.94-2.06 2.06-.94-2.06-.94-.94-2.06-.94 2.06-2.06.94z\"/><path d=\"M17.41 7.96l-1.37-1.37c-.4-.4-.92-.59-1.43-.59-.52 0-1.04.2-1.43.59L10.3 9.45l-7.72 7.72c-.78.78-.78 2.05 0 2.83L4 21.41c.39.39.9.59 1.41.59.51 0 1.02-.2 1.41-.59l7.78-7.78 2.81-2.81c.8-.78.8-2.07 0-2.86zM5.41 20L4 18.59l7.72-7.72 1.47 1.35L5.41 20z\"/>\n",
              "  </svg>\n",
              "      </button>\n",
              "      \n",
              "  <style>\n",
              "    .colab-df-container {\n",
              "      display:flex;\n",
              "      flex-wrap:wrap;\n",
              "      gap: 12px;\n",
              "    }\n",
              "\n",
              "    .colab-df-convert {\n",
              "      background-color: #E8F0FE;\n",
              "      border: none;\n",
              "      border-radius: 50%;\n",
              "      cursor: pointer;\n",
              "      display: none;\n",
              "      fill: #1967D2;\n",
              "      height: 32px;\n",
              "      padding: 0 0 0 0;\n",
              "      width: 32px;\n",
              "    }\n",
              "\n",
              "    .colab-df-convert:hover {\n",
              "      background-color: #E2EBFA;\n",
              "      box-shadow: 0px 1px 2px rgba(60, 64, 67, 0.3), 0px 1px 3px 1px rgba(60, 64, 67, 0.15);\n",
              "      fill: #174EA6;\n",
              "    }\n",
              "\n",
              "    [theme=dark] .colab-df-convert {\n",
              "      background-color: #3B4455;\n",
              "      fill: #D2E3FC;\n",
              "    }\n",
              "\n",
              "    [theme=dark] .colab-df-convert:hover {\n",
              "      background-color: #434B5C;\n",
              "      box-shadow: 0px 1px 3px 1px rgba(0, 0, 0, 0.15);\n",
              "      filter: drop-shadow(0px 1px 2px rgba(0, 0, 0, 0.3));\n",
              "      fill: #FFFFFF;\n",
              "    }\n",
              "  </style>\n",
              "\n",
              "      <script>\n",
              "        const buttonEl =\n",
              "          document.querySelector('#df-45644783-23b7-4f02-bb4f-83974d2f3804 button.colab-df-convert');\n",
              "        buttonEl.style.display =\n",
              "          google.colab.kernel.accessAllowed ? 'block' : 'none';\n",
              "\n",
              "        async function convertToInteractive(key) {\n",
              "          const element = document.querySelector('#df-45644783-23b7-4f02-bb4f-83974d2f3804');\n",
              "          const dataTable =\n",
              "            await google.colab.kernel.invokeFunction('convertToInteractive',\n",
              "                                                     [key], {});\n",
              "          if (!dataTable) return;\n",
              "\n",
              "          const docLinkHtml = 'Like what you see? Visit the ' +\n",
              "            '<a target=\"_blank\" href=https://colab.research.google.com/notebooks/data_table.ipynb>data table notebook</a>'\n",
              "            + ' to learn more about interactive tables.';\n",
              "          element.innerHTML = '';\n",
              "          dataTable['output_type'] = 'display_data';\n",
              "          await google.colab.output.renderOutput(dataTable, element);\n",
              "          const docLink = document.createElement('div');\n",
              "          docLink.innerHTML = docLinkHtml;\n",
              "          element.appendChild(docLink);\n",
              "        }\n",
              "      </script>\n",
              "    </div>\n",
              "  </div>\n",
              "  "
            ]
          },
          "metadata": {},
          "execution_count": 78
        }
      ]
    },
    {
      "cell_type": "markdown",
      "source": [
        "Most of the players played for multiple teams for politics reasons , and Wars"
      ],
      "metadata": {
        "id": "3-KESf8YJkSe"
      }
    },
    {
      "cell_type": "markdown",
      "source": [
        "###Corrleation/Association Between Host & Winner"
      ],
      "metadata": {
        "id": "tK3DukKOrrZA"
      }
    },
    {
      "cell_type": "code",
      "source": [
        "from scipy.stats import chi2_contingency"
      ],
      "metadata": {
        "id": "M57fae7ur5hc"
      },
      "execution_count": null,
      "outputs": []
    },
    {
      "cell_type": "code",
      "source": [
        "contingency_table = pd.crosstab(tournamnets_data['host_country'], tournamnets_data['winner'])\n",
        "\n",
        "_, p_value, _, _ = chi2_contingency(contingency_table)\n",
        "\n",
        "chi2_stat = chi2_contingency(contingency_table)[0]\n",
        "n = contingency_table.sum().sum()\n",
        "min_dim = min(contingency_table.shape)\n",
        "\n",
        "cramers_v = np.sqrt(chi2_stat / (n * (min_dim - 1)))\n",
        "\n",
        "\n",
        "print(\"Cramer's V:\", cramers_v)\n",
        "print(\"p-value:\", p_value)"
      ],
      "metadata": {
        "colab": {
          "base_uri": "https://localhost:8080/"
        },
        "id": "Wt4PL_W3rxVy",
        "outputId": "236823f5-1af4-48c9-95d0-4fbd4d047bbf"
      },
      "execution_count": null,
      "outputs": [
        {
          "output_type": "stream",
          "name": "stdout",
          "text": [
            "Cramer's V: 0.8885850175044215\n",
            "p-value: 0.4133433398768274\n"
          ]
        }
      ]
    },
    {
      "cell_type": "markdown",
      "source": [
        "Their is a String Association between the host and the winner , and it makes sense because the host was the winner 5 times out of 23 World cup so it is about 20% of times"
      ],
      "metadata": {
        "id": "rKy0TyFEJLCn"
      }
    },
    {
      "cell_type": "markdown",
      "source": [
        "###Association between Host Match & Relative Attendance Category"
      ],
      "metadata": {
        "id": "8lkuAEyqs5rs"
      }
    },
    {
      "cell_type": "code",
      "source": [
        "contingency_table = pd.crosstab(matches_data['match_for_host'],matches_data['relative_attendance_category'])\n",
        "\n",
        "chi2_stat = chi2_contingency(contingency_table)[0]\n",
        "\n",
        "n = contingency_table.sum().sum()\n",
        "min_dim = min(contingency_table.shape)\n",
        "\n",
        "cramers_v = np.sqrt(chi2_stat / (n * (min_dim - 1)))\n",
        "\n",
        "print(\"Cramer's V:\", cramers_v)"
      ],
      "metadata": {
        "colab": {
          "base_uri": "https://localhost:8080/"
        },
        "id": "7_8vOwiBtNfE",
        "outputId": "9c7ad245-777b-46a7-f74a-04dc9bce3866"
      },
      "execution_count": null,
      "outputs": [
        {
          "output_type": "stream",
          "name": "stdout",
          "text": [
            "Cramer's V: 0.31216107362445555\n"
          ]
        }
      ]
    },
    {
      "cell_type": "markdown",
      "source": [
        "###Association between Host Match & Attendance Category"
      ],
      "metadata": {
        "id": "arWtbmQYvXbh"
      }
    },
    {
      "cell_type": "code",
      "source": [
        "contingency_table = pd.crosstab(matches_data['match_for_host'],matches_data['attendance_category'])\n",
        "\n",
        "chi2_stat = chi2_contingency(contingency_table)[0]\n",
        "\n",
        "n = contingency_table.sum().sum()\n",
        "min_dim = min(contingency_table.shape)\n",
        "\n",
        "cramers_v = np.sqrt(chi2_stat / (n * (min_dim - 1)))\n",
        "\n",
        "print(\"Cramer's V:\", cramers_v)"
      ],
      "metadata": {
        "id": "FtVmmns7JR1r",
        "colab": {
          "base_uri": "https://localhost:8080/"
        },
        "outputId": "55b03020-81a7-40f1-9629-48d90e65260d"
      },
      "execution_count": null,
      "outputs": [
        {
          "output_type": "stream",
          "name": "stdout",
          "text": [
            "Cramer's V: 0.31216107362445555\n"
          ]
        }
      ]
    },
    {
      "cell_type": "markdown",
      "source": [
        "We Notcie that their is a moderate association between host Match and both{Attendance Category,Relative Attendance Category}"
      ],
      "metadata": {
        "id": "iSIepITPI2YB"
      }
    },
    {
      "cell_type": "markdown",
      "source": [
        "#Secret Mission"
      ],
      "metadata": {
        "id": "8BbhiBjE5eAT"
      }
    },
    {
      "cell_type": "markdown",
      "source": [
        "##Refrees"
      ],
      "metadata": {
        "id": "nHj-2Br256T-"
      }
    },
    {
      "cell_type": "code",
      "source": [
        "\n",
        "refrees_data.head()"
      ],
      "metadata": {
        "colab": {
          "base_uri": "https://localhost:8080/"
        },
        "id": "K8m783H45hTs",
        "outputId": "5b494ee5-42ec-476e-964e-963bc3a18695"
      },
      "execution_count": null,
      "outputs": [
        {
          "output_type": "execute_result",
          "data": {
            "text/plain": [
              "   key_id referee_id       family_name given_name      country_name  \\\n",
              "0       1      R-001       Abdel-Fatah      Essam             Egypt   \n",
              "1       2      R-002             Adair       John  Northern Ireland   \n",
              "2       3      R-003           Agnolin      Luigi             Italy   \n",
              "3       4      R-004           Aguilar       Joel       El Salvador   \n",
              "4       5      R-005  Aguilar Elizalde       Abel            Mexico   \n",
              "\n",
              "  confederation_id                                 confederation_name  \\\n",
              "0             CF-2                  Confederation of African Football   \n",
              "1             CF-6            Union of European Football Associations   \n",
              "2             CF-6            Union of European Football Associations   \n",
              "3             CF-3  Confederation of North, Central American and C...   \n",
              "4             CF-3  Confederation of North, Central American and C...   \n",
              "\n",
              "  confederation_code                            referee_wikipedia_link  \n",
              "0                CAF  https://en.wikipedia.org/wiki/Essam_Abd_El_Fatah  \n",
              "1               UEFA                                     not available  \n",
              "2               UEFA       https://en.wikipedia.org/wiki/Luigi_Agnolin  \n",
              "3           CONCACAF        https://en.wikipedia.org/wiki/Joel_Aguilar  \n",
              "4           CONCACAF                                     not available  "
            ],
            "text/html": [
              "\n",
              "  <div id=\"df-a4d1452b-a203-4727-9dbe-e85e9a97a663\">\n",
              "    <div class=\"colab-df-container\">\n",
              "      <div>\n",
              "<style scoped>\n",
              "    .dataframe tbody tr th:only-of-type {\n",
              "        vertical-align: middle;\n",
              "    }\n",
              "\n",
              "    .dataframe tbody tr th {\n",
              "        vertical-align: top;\n",
              "    }\n",
              "\n",
              "    .dataframe thead th {\n",
              "        text-align: right;\n",
              "    }\n",
              "</style>\n",
              "<table border=\"1\" class=\"dataframe\">\n",
              "  <thead>\n",
              "    <tr style=\"text-align: right;\">\n",
              "      <th></th>\n",
              "      <th>key_id</th>\n",
              "      <th>referee_id</th>\n",
              "      <th>family_name</th>\n",
              "      <th>given_name</th>\n",
              "      <th>country_name</th>\n",
              "      <th>confederation_id</th>\n",
              "      <th>confederation_name</th>\n",
              "      <th>confederation_code</th>\n",
              "      <th>referee_wikipedia_link</th>\n",
              "    </tr>\n",
              "  </thead>\n",
              "  <tbody>\n",
              "    <tr>\n",
              "      <th>0</th>\n",
              "      <td>1</td>\n",
              "      <td>R-001</td>\n",
              "      <td>Abdel-Fatah</td>\n",
              "      <td>Essam</td>\n",
              "      <td>Egypt</td>\n",
              "      <td>CF-2</td>\n",
              "      <td>Confederation of African Football</td>\n",
              "      <td>CAF</td>\n",
              "      <td>https://en.wikipedia.org/wiki/Essam_Abd_El_Fatah</td>\n",
              "    </tr>\n",
              "    <tr>\n",
              "      <th>1</th>\n",
              "      <td>2</td>\n",
              "      <td>R-002</td>\n",
              "      <td>Adair</td>\n",
              "      <td>John</td>\n",
              "      <td>Northern Ireland</td>\n",
              "      <td>CF-6</td>\n",
              "      <td>Union of European Football Associations</td>\n",
              "      <td>UEFA</td>\n",
              "      <td>not available</td>\n",
              "    </tr>\n",
              "    <tr>\n",
              "      <th>2</th>\n",
              "      <td>3</td>\n",
              "      <td>R-003</td>\n",
              "      <td>Agnolin</td>\n",
              "      <td>Luigi</td>\n",
              "      <td>Italy</td>\n",
              "      <td>CF-6</td>\n",
              "      <td>Union of European Football Associations</td>\n",
              "      <td>UEFA</td>\n",
              "      <td>https://en.wikipedia.org/wiki/Luigi_Agnolin</td>\n",
              "    </tr>\n",
              "    <tr>\n",
              "      <th>3</th>\n",
              "      <td>4</td>\n",
              "      <td>R-004</td>\n",
              "      <td>Aguilar</td>\n",
              "      <td>Joel</td>\n",
              "      <td>El Salvador</td>\n",
              "      <td>CF-3</td>\n",
              "      <td>Confederation of North, Central American and C...</td>\n",
              "      <td>CONCACAF</td>\n",
              "      <td>https://en.wikipedia.org/wiki/Joel_Aguilar</td>\n",
              "    </tr>\n",
              "    <tr>\n",
              "      <th>4</th>\n",
              "      <td>5</td>\n",
              "      <td>R-005</td>\n",
              "      <td>Aguilar Elizalde</td>\n",
              "      <td>Abel</td>\n",
              "      <td>Mexico</td>\n",
              "      <td>CF-3</td>\n",
              "      <td>Confederation of North, Central American and C...</td>\n",
              "      <td>CONCACAF</td>\n",
              "      <td>not available</td>\n",
              "    </tr>\n",
              "  </tbody>\n",
              "</table>\n",
              "</div>\n",
              "      <button class=\"colab-df-convert\" onclick=\"convertToInteractive('df-a4d1452b-a203-4727-9dbe-e85e9a97a663')\"\n",
              "              title=\"Convert this dataframe to an interactive table.\"\n",
              "              style=\"display:none;\">\n",
              "        \n",
              "  <svg xmlns=\"http://www.w3.org/2000/svg\" height=\"24px\"viewBox=\"0 0 24 24\"\n",
              "       width=\"24px\">\n",
              "    <path d=\"M0 0h24v24H0V0z\" fill=\"none\"/>\n",
              "    <path d=\"M18.56 5.44l.94 2.06.94-2.06 2.06-.94-2.06-.94-.94-2.06-.94 2.06-2.06.94zm-11 1L8.5 8.5l.94-2.06 2.06-.94-2.06-.94L8.5 2.5l-.94 2.06-2.06.94zm10 10l.94 2.06.94-2.06 2.06-.94-2.06-.94-.94-2.06-.94 2.06-2.06.94z\"/><path d=\"M17.41 7.96l-1.37-1.37c-.4-.4-.92-.59-1.43-.59-.52 0-1.04.2-1.43.59L10.3 9.45l-7.72 7.72c-.78.78-.78 2.05 0 2.83L4 21.41c.39.39.9.59 1.41.59.51 0 1.02-.2 1.41-.59l7.78-7.78 2.81-2.81c.8-.78.8-2.07 0-2.86zM5.41 20L4 18.59l7.72-7.72 1.47 1.35L5.41 20z\"/>\n",
              "  </svg>\n",
              "      </button>\n",
              "      \n",
              "  <style>\n",
              "    .colab-df-container {\n",
              "      display:flex;\n",
              "      flex-wrap:wrap;\n",
              "      gap: 12px;\n",
              "    }\n",
              "\n",
              "    .colab-df-convert {\n",
              "      background-color: #E8F0FE;\n",
              "      border: none;\n",
              "      border-radius: 50%;\n",
              "      cursor: pointer;\n",
              "      display: none;\n",
              "      fill: #1967D2;\n",
              "      height: 32px;\n",
              "      padding: 0 0 0 0;\n",
              "      width: 32px;\n",
              "    }\n",
              "\n",
              "    .colab-df-convert:hover {\n",
              "      background-color: #E2EBFA;\n",
              "      box-shadow: 0px 1px 2px rgba(60, 64, 67, 0.3), 0px 1px 3px 1px rgba(60, 64, 67, 0.15);\n",
              "      fill: #174EA6;\n",
              "    }\n",
              "\n",
              "    [theme=dark] .colab-df-convert {\n",
              "      background-color: #3B4455;\n",
              "      fill: #D2E3FC;\n",
              "    }\n",
              "\n",
              "    [theme=dark] .colab-df-convert:hover {\n",
              "      background-color: #434B5C;\n",
              "      box-shadow: 0px 1px 3px 1px rgba(0, 0, 0, 0.15);\n",
              "      filter: drop-shadow(0px 1px 2px rgba(0, 0, 0, 0.3));\n",
              "      fill: #FFFFFF;\n",
              "    }\n",
              "  </style>\n",
              "\n",
              "      <script>\n",
              "        const buttonEl =\n",
              "          document.querySelector('#df-a4d1452b-a203-4727-9dbe-e85e9a97a663 button.colab-df-convert');\n",
              "        buttonEl.style.display =\n",
              "          google.colab.kernel.accessAllowed ? 'block' : 'none';\n",
              "\n",
              "        async function convertToInteractive(key) {\n",
              "          const element = document.querySelector('#df-a4d1452b-a203-4727-9dbe-e85e9a97a663');\n",
              "          const dataTable =\n",
              "            await google.colab.kernel.invokeFunction('convertToInteractive',\n",
              "                                                     [key], {});\n",
              "          if (!dataTable) return;\n",
              "\n",
              "          const docLinkHtml = 'Like what you see? Visit the ' +\n",
              "            '<a target=\"_blank\" href=https://colab.research.google.com/notebooks/data_table.ipynb>data table notebook</a>'\n",
              "            + ' to learn more about interactive tables.';\n",
              "          element.innerHTML = '';\n",
              "          dataTable['output_type'] = 'display_data';\n",
              "          await google.colab.output.renderOutput(dataTable, element);\n",
              "          const docLink = document.createElement('div');\n",
              "          docLink.innerHTML = docLinkHtml;\n",
              "          element.appendChild(docLink);\n",
              "        }\n",
              "      </script>\n",
              "    </div>\n",
              "  </div>\n",
              "  "
            ]
          },
          "metadata": {},
          "execution_count": 83
        }
      ]
    },
    {
      "cell_type": "markdown",
      "source": [
        "###Referees Nationality"
      ],
      "metadata": {
        "id": "cSg105S6FkO3"
      }
    },
    {
      "cell_type": "code",
      "source": [
        "referee_counts = refrees_data['country_name'].value_counts().reset_index()\n",
        "referee_counts.columns = ['country_name', 'Count']\n",
        "\n",
        "fig = px.bar(referee_counts, x='country_name', y='Count', labels={'country_name': 'Country', 'Count': 'Number of Referees'}, title='Number of Referees from Each Country')\n",
        "\n",
        "fig.show()"
      ],
      "metadata": {
        "colab": {
          "base_uri": "https://localhost:8080/"
        },
        "id": "Z_1GMltDFrPA",
        "outputId": "2aeb8091-411d-499f-be7a-e70bffd4d160"
      },
      "execution_count": null,
      "outputs": [
        {
          "output_type": "display_data",
          "data": {
            "text/html": [
              "<html>\n",
              "<head><meta charset=\"utf-8\" /></head>\n",
              "<body>\n",
              "    <div>            <script src=\"https://cdnjs.cloudflare.com/ajax/libs/mathjax/2.7.5/MathJax.js?config=TeX-AMS-MML_SVG\"></script><script type=\"text/javascript\">if (window.MathJax && window.MathJax.Hub && window.MathJax.Hub.Config) {window.MathJax.Hub.Config({SVG: {font: \"STIX-Web\"}});}</script>                <script type=\"text/javascript\">window.PlotlyConfig = {MathJaxConfig: 'local'};</script>\n",
              "        <script src=\"https://cdn.plot.ly/plotly-2.18.2.min.js\"></script>                <div id=\"22de4095-e4dd-448f-8c3c-d0c56df18eeb\" class=\"plotly-graph-div\" style=\"height:525px; width:100%;\"></div>            <script type=\"text/javascript\">                                    window.PLOTLYENV=window.PLOTLYENV || {};                                    if (document.getElementById(\"22de4095-e4dd-448f-8c3c-d0c56df18eeb\")) {                    Plotly.newPlot(                        \"22de4095-e4dd-448f-8c3c-d0c56df18eeb\",                        [{\"alignmentgroup\":\"True\",\"hovertemplate\":\"Country=%{x}<br>Number of Referees=%{y}<extra></extra>\",\"legendgroup\":\"\",\"marker\":{\"color\":\"#636efa\",\"pattern\":{\"shape\":\"\"}},\"name\":\"\",\"offsetgroup\":\"\",\"orientation\":\"v\",\"showlegend\":false,\"textposition\":\"auto\",\"x\":[\"Italy\",\"England\",\"France\",\"Brazil\",\"Spain\",\"Argentina\",\"Uruguay\",\"Switzerland\",\"Netherlands\",\"Mexico\",\"Belgium\",\"Chile\",\"West Germany\",\"Austria\",\"Scotland\",\"United States\",\"Hungary\",\"Sweden\",\"Portugal\",\"Colombia\",\"Paraguay\",\"Yugoslavia\",\"Germany\",\"Soviet Union\",\"Australia\",\"Peru\",\"Denmark\",\"Czechoslovakia\",\"Japan\",\"Egypt\",\"Costa Rica\",\"Ecuador\",\"Poland\",\"Tunisia\",\"East Germany\",\"Senegal\",\"South Africa\",\"Romania\",\"New Zealand\",\"Northern Ireland\",\"Algeria\",\"Wales\",\"Saudi Arabia\",\"Bolivia\",\"Guatemala\",\"Iran\",\"Russia\",\"Bahrain\",\"El Salvador\",\"Mauritius\",\"Norway\",\"Morocco\",\"Venezuela\",\"Israel\",\"Turkey\",\"Bulgaria\",\"Singapore\",\"Syria\",\"Mali\",\"United Arab Emirates\",\"Slovenia\",\"Ethiopia\",\"Seychelles\",\"Kuwait\",\"Jamaica\",\"Slovakia\",\"Serbia\",\"Thailand\",\"Greece\",\"Trinidad and Tobago\",\"Zambia\",\"Benin\",\"China\",\"South Korea\",\"United Arab Republic\",\"Uzbekistan\",\"Gambia\",\"Finland\",\"Ghana\",\"Ivory Coast\",\"Hong Kong\",\"Niger\",\"Libya\",\"Qatar\",\"Canada\"],\"xaxis\":\"x\",\"y\":[22,18,17,16,16,16,13,12,12,11,11,10,10,10,10,9,8,8,8,7,7,7,7,6,6,5,4,4,4,4,4,3,3,3,3,3,3,3,3,3,3,3,3,3,3,2,2,2,2,2,2,2,2,2,2,2,2,2,2,2,2,1,1,1,1,1,1,1,1,1,1,1,1,1,1,1,1,1,1,1,1,1,1,1,1],\"yaxis\":\"y\",\"type\":\"bar\"}],                        {\"template\":{\"data\":{\"histogram2dcontour\":[{\"type\":\"histogram2dcontour\",\"colorbar\":{\"outlinewidth\":0,\"ticks\":\"\"},\"colorscale\":[[0.0,\"#0d0887\"],[0.1111111111111111,\"#46039f\"],[0.2222222222222222,\"#7201a8\"],[0.3333333333333333,\"#9c179e\"],[0.4444444444444444,\"#bd3786\"],[0.5555555555555556,\"#d8576b\"],[0.6666666666666666,\"#ed7953\"],[0.7777777777777778,\"#fb9f3a\"],[0.8888888888888888,\"#fdca26\"],[1.0,\"#f0f921\"]]}],\"choropleth\":[{\"type\":\"choropleth\",\"colorbar\":{\"outlinewidth\":0,\"ticks\":\"\"}}],\"histogram2d\":[{\"type\":\"histogram2d\",\"colorbar\":{\"outlinewidth\":0,\"ticks\":\"\"},\"colorscale\":[[0.0,\"#0d0887\"],[0.1111111111111111,\"#46039f\"],[0.2222222222222222,\"#7201a8\"],[0.3333333333333333,\"#9c179e\"],[0.4444444444444444,\"#bd3786\"],[0.5555555555555556,\"#d8576b\"],[0.6666666666666666,\"#ed7953\"],[0.7777777777777778,\"#fb9f3a\"],[0.8888888888888888,\"#fdca26\"],[1.0,\"#f0f921\"]]}],\"heatmap\":[{\"type\":\"heatmap\",\"colorbar\":{\"outlinewidth\":0,\"ticks\":\"\"},\"colorscale\":[[0.0,\"#0d0887\"],[0.1111111111111111,\"#46039f\"],[0.2222222222222222,\"#7201a8\"],[0.3333333333333333,\"#9c179e\"],[0.4444444444444444,\"#bd3786\"],[0.5555555555555556,\"#d8576b\"],[0.6666666666666666,\"#ed7953\"],[0.7777777777777778,\"#fb9f3a\"],[0.8888888888888888,\"#fdca26\"],[1.0,\"#f0f921\"]]}],\"heatmapgl\":[{\"type\":\"heatmapgl\",\"colorbar\":{\"outlinewidth\":0,\"ticks\":\"\"},\"colorscale\":[[0.0,\"#0d0887\"],[0.1111111111111111,\"#46039f\"],[0.2222222222222222,\"#7201a8\"],[0.3333333333333333,\"#9c179e\"],[0.4444444444444444,\"#bd3786\"],[0.5555555555555556,\"#d8576b\"],[0.6666666666666666,\"#ed7953\"],[0.7777777777777778,\"#fb9f3a\"],[0.8888888888888888,\"#fdca26\"],[1.0,\"#f0f921\"]]}],\"contourcarpet\":[{\"type\":\"contourcarpet\",\"colorbar\":{\"outlinewidth\":0,\"ticks\":\"\"}}],\"contour\":[{\"type\":\"contour\",\"colorbar\":{\"outlinewidth\":0,\"ticks\":\"\"},\"colorscale\":[[0.0,\"#0d0887\"],[0.1111111111111111,\"#46039f\"],[0.2222222222222222,\"#7201a8\"],[0.3333333333333333,\"#9c179e\"],[0.4444444444444444,\"#bd3786\"],[0.5555555555555556,\"#d8576b\"],[0.6666666666666666,\"#ed7953\"],[0.7777777777777778,\"#fb9f3a\"],[0.8888888888888888,\"#fdca26\"],[1.0,\"#f0f921\"]]}],\"surface\":[{\"type\":\"surface\",\"colorbar\":{\"outlinewidth\":0,\"ticks\":\"\"},\"colorscale\":[[0.0,\"#0d0887\"],[0.1111111111111111,\"#46039f\"],[0.2222222222222222,\"#7201a8\"],[0.3333333333333333,\"#9c179e\"],[0.4444444444444444,\"#bd3786\"],[0.5555555555555556,\"#d8576b\"],[0.6666666666666666,\"#ed7953\"],[0.7777777777777778,\"#fb9f3a\"],[0.8888888888888888,\"#fdca26\"],[1.0,\"#f0f921\"]]}],\"mesh3d\":[{\"type\":\"mesh3d\",\"colorbar\":{\"outlinewidth\":0,\"ticks\":\"\"}}],\"scatter\":[{\"fillpattern\":{\"fillmode\":\"overlay\",\"size\":10,\"solidity\":0.2},\"type\":\"scatter\"}],\"parcoords\":[{\"type\":\"parcoords\",\"line\":{\"colorbar\":{\"outlinewidth\":0,\"ticks\":\"\"}}}],\"scatterpolargl\":[{\"type\":\"scatterpolargl\",\"marker\":{\"colorbar\":{\"outlinewidth\":0,\"ticks\":\"\"}}}],\"bar\":[{\"error_x\":{\"color\":\"#2a3f5f\"},\"error_y\":{\"color\":\"#2a3f5f\"},\"marker\":{\"line\":{\"color\":\"#E5ECF6\",\"width\":0.5},\"pattern\":{\"fillmode\":\"overlay\",\"size\":10,\"solidity\":0.2}},\"type\":\"bar\"}],\"scattergeo\":[{\"type\":\"scattergeo\",\"marker\":{\"colorbar\":{\"outlinewidth\":0,\"ticks\":\"\"}}}],\"scatterpolar\":[{\"type\":\"scatterpolar\",\"marker\":{\"colorbar\":{\"outlinewidth\":0,\"ticks\":\"\"}}}],\"histogram\":[{\"marker\":{\"pattern\":{\"fillmode\":\"overlay\",\"size\":10,\"solidity\":0.2}},\"type\":\"histogram\"}],\"scattergl\":[{\"type\":\"scattergl\",\"marker\":{\"colorbar\":{\"outlinewidth\":0,\"ticks\":\"\"}}}],\"scatter3d\":[{\"type\":\"scatter3d\",\"line\":{\"colorbar\":{\"outlinewidth\":0,\"ticks\":\"\"}},\"marker\":{\"colorbar\":{\"outlinewidth\":0,\"ticks\":\"\"}}}],\"scattermapbox\":[{\"type\":\"scattermapbox\",\"marker\":{\"colorbar\":{\"outlinewidth\":0,\"ticks\":\"\"}}}],\"scatterternary\":[{\"type\":\"scatterternary\",\"marker\":{\"colorbar\":{\"outlinewidth\":0,\"ticks\":\"\"}}}],\"scattercarpet\":[{\"type\":\"scattercarpet\",\"marker\":{\"colorbar\":{\"outlinewidth\":0,\"ticks\":\"\"}}}],\"carpet\":[{\"aaxis\":{\"endlinecolor\":\"#2a3f5f\",\"gridcolor\":\"white\",\"linecolor\":\"white\",\"minorgridcolor\":\"white\",\"startlinecolor\":\"#2a3f5f\"},\"baxis\":{\"endlinecolor\":\"#2a3f5f\",\"gridcolor\":\"white\",\"linecolor\":\"white\",\"minorgridcolor\":\"white\",\"startlinecolor\":\"#2a3f5f\"},\"type\":\"carpet\"}],\"table\":[{\"cells\":{\"fill\":{\"color\":\"#EBF0F8\"},\"line\":{\"color\":\"white\"}},\"header\":{\"fill\":{\"color\":\"#C8D4E3\"},\"line\":{\"color\":\"white\"}},\"type\":\"table\"}],\"barpolar\":[{\"marker\":{\"line\":{\"color\":\"#E5ECF6\",\"width\":0.5},\"pattern\":{\"fillmode\":\"overlay\",\"size\":10,\"solidity\":0.2}},\"type\":\"barpolar\"}],\"pie\":[{\"automargin\":true,\"type\":\"pie\"}]},\"layout\":{\"autotypenumbers\":\"strict\",\"colorway\":[\"#636efa\",\"#EF553B\",\"#00cc96\",\"#ab63fa\",\"#FFA15A\",\"#19d3f3\",\"#FF6692\",\"#B6E880\",\"#FF97FF\",\"#FECB52\"],\"font\":{\"color\":\"#2a3f5f\"},\"hovermode\":\"closest\",\"hoverlabel\":{\"align\":\"left\"},\"paper_bgcolor\":\"white\",\"plot_bgcolor\":\"#E5ECF6\",\"polar\":{\"bgcolor\":\"#E5ECF6\",\"angularaxis\":{\"gridcolor\":\"white\",\"linecolor\":\"white\",\"ticks\":\"\"},\"radialaxis\":{\"gridcolor\":\"white\",\"linecolor\":\"white\",\"ticks\":\"\"}},\"ternary\":{\"bgcolor\":\"#E5ECF6\",\"aaxis\":{\"gridcolor\":\"white\",\"linecolor\":\"white\",\"ticks\":\"\"},\"baxis\":{\"gridcolor\":\"white\",\"linecolor\":\"white\",\"ticks\":\"\"},\"caxis\":{\"gridcolor\":\"white\",\"linecolor\":\"white\",\"ticks\":\"\"}},\"coloraxis\":{\"colorbar\":{\"outlinewidth\":0,\"ticks\":\"\"}},\"colorscale\":{\"sequential\":[[0.0,\"#0d0887\"],[0.1111111111111111,\"#46039f\"],[0.2222222222222222,\"#7201a8\"],[0.3333333333333333,\"#9c179e\"],[0.4444444444444444,\"#bd3786\"],[0.5555555555555556,\"#d8576b\"],[0.6666666666666666,\"#ed7953\"],[0.7777777777777778,\"#fb9f3a\"],[0.8888888888888888,\"#fdca26\"],[1.0,\"#f0f921\"]],\"sequentialminus\":[[0.0,\"#0d0887\"],[0.1111111111111111,\"#46039f\"],[0.2222222222222222,\"#7201a8\"],[0.3333333333333333,\"#9c179e\"],[0.4444444444444444,\"#bd3786\"],[0.5555555555555556,\"#d8576b\"],[0.6666666666666666,\"#ed7953\"],[0.7777777777777778,\"#fb9f3a\"],[0.8888888888888888,\"#fdca26\"],[1.0,\"#f0f921\"]],\"diverging\":[[0,\"#8e0152\"],[0.1,\"#c51b7d\"],[0.2,\"#de77ae\"],[0.3,\"#f1b6da\"],[0.4,\"#fde0ef\"],[0.5,\"#f7f7f7\"],[0.6,\"#e6f5d0\"],[0.7,\"#b8e186\"],[0.8,\"#7fbc41\"],[0.9,\"#4d9221\"],[1,\"#276419\"]]},\"xaxis\":{\"gridcolor\":\"white\",\"linecolor\":\"white\",\"ticks\":\"\",\"title\":{\"standoff\":15},\"zerolinecolor\":\"white\",\"automargin\":true,\"zerolinewidth\":2},\"yaxis\":{\"gridcolor\":\"white\",\"linecolor\":\"white\",\"ticks\":\"\",\"title\":{\"standoff\":15},\"zerolinecolor\":\"white\",\"automargin\":true,\"zerolinewidth\":2},\"scene\":{\"xaxis\":{\"backgroundcolor\":\"#E5ECF6\",\"gridcolor\":\"white\",\"linecolor\":\"white\",\"showbackground\":true,\"ticks\":\"\",\"zerolinecolor\":\"white\",\"gridwidth\":2},\"yaxis\":{\"backgroundcolor\":\"#E5ECF6\",\"gridcolor\":\"white\",\"linecolor\":\"white\",\"showbackground\":true,\"ticks\":\"\",\"zerolinecolor\":\"white\",\"gridwidth\":2},\"zaxis\":{\"backgroundcolor\":\"#E5ECF6\",\"gridcolor\":\"white\",\"linecolor\":\"white\",\"showbackground\":true,\"ticks\":\"\",\"zerolinecolor\":\"white\",\"gridwidth\":2}},\"shapedefaults\":{\"line\":{\"color\":\"#2a3f5f\"}},\"annotationdefaults\":{\"arrowcolor\":\"#2a3f5f\",\"arrowhead\":0,\"arrowwidth\":1},\"geo\":{\"bgcolor\":\"white\",\"landcolor\":\"#E5ECF6\",\"subunitcolor\":\"white\",\"showland\":true,\"showlakes\":true,\"lakecolor\":\"white\"},\"title\":{\"x\":0.05},\"mapbox\":{\"style\":\"light\"}}},\"xaxis\":{\"anchor\":\"y\",\"domain\":[0.0,1.0],\"title\":{\"text\":\"Country\"}},\"yaxis\":{\"anchor\":\"x\",\"domain\":[0.0,1.0],\"title\":{\"text\":\"Number of Referees\"}},\"legend\":{\"tracegroupgap\":0},\"title\":{\"text\":\"Number of Referees from Each Country\"},\"barmode\":\"relative\"},                        {\"responsive\": true}                    ).then(function(){\n",
              "                            \n",
              "var gd = document.getElementById('22de4095-e4dd-448f-8c3c-d0c56df18eeb');\n",
              "var x = new MutationObserver(function (mutations, observer) {{\n",
              "        var display = window.getComputedStyle(gd).display;\n",
              "        if (!display || display === 'none') {{\n",
              "            console.log([gd, 'removed!']);\n",
              "            Plotly.purge(gd);\n",
              "            observer.disconnect();\n",
              "        }}\n",
              "}});\n",
              "\n",
              "// Listen for the removal of the full notebook cells\n",
              "var notebookContainer = gd.closest('#notebook-container');\n",
              "if (notebookContainer) {{\n",
              "    x.observe(notebookContainer, {childList: true});\n",
              "}}\n",
              "\n",
              "// Listen for the clearing of the current output cell\n",
              "var outputEl = gd.closest('.output');\n",
              "if (outputEl) {{\n",
              "    x.observe(outputEl, {childList: true});\n",
              "}}\n",
              "\n",
              "                        })                };                            </script>        </div>\n",
              "</body>\n",
              "</html>"
            ]
          },
          "metadata": {}
        }
      ]
    },
    {
      "cell_type": "markdown",
      "source": [
        "###Most Apperances Referees (By the number of matches)"
      ],
      "metadata": {
        "id": "p-lPlSuEGVM_"
      }
    },
    {
      "cell_type": "code",
      "source": [
        "referees_appearances_data['full_name'] = referees_appearances_data['given_name']+' '+referees_appearances_data['family_name']\n"
      ],
      "metadata": {
        "id": "13eUlbz_G9g3"
      },
      "execution_count": null,
      "outputs": []
    },
    {
      "cell_type": "code",
      "source": [
        "referee_counts = referees_appearances_data['full_name'].value_counts().reset_index()\n",
        "referee_counts.columns = ['Referee', 'Count']\n",
        "referee_counts = referee_counts[0:10]\n",
        "# Create a bar plot\n",
        "fig = px.bar(referee_counts, x='Referee', y='Count', labels={'Referee': 'Referee', 'Count': 'Apperance'}, title='Top 10 Referees Appearnace in the World Cup History')\n",
        "\n",
        "# Show the plot\n",
        "fig.show()"
      ],
      "metadata": {
        "colab": {
          "base_uri": "https://localhost:8080/"
        },
        "id": "FtMdONTeIyNw",
        "outputId": "3d301c5c-ac34-47c7-8c5b-d943f68eca78"
      },
      "execution_count": null,
      "outputs": [
        {
          "output_type": "display_data",
          "data": {
            "text/html": [
              "<html>\n",
              "<head><meta charset=\"utf-8\" /></head>\n",
              "<body>\n",
              "    <div>            <script src=\"https://cdnjs.cloudflare.com/ajax/libs/mathjax/2.7.5/MathJax.js?config=TeX-AMS-MML_SVG\"></script><script type=\"text/javascript\">if (window.MathJax && window.MathJax.Hub && window.MathJax.Hub.Config) {window.MathJax.Hub.Config({SVG: {font: \"STIX-Web\"}});}</script>                <script type=\"text/javascript\">window.PlotlyConfig = {MathJaxConfig: 'local'};</script>\n",
              "        <script src=\"https://cdn.plot.ly/plotly-2.18.2.min.js\"></script>                <div id=\"0b5c594d-e9ba-4517-b6a4-945a35589485\" class=\"plotly-graph-div\" style=\"height:525px; width:100%;\"></div>            <script type=\"text/javascript\">                                    window.PLOTLYENV=window.PLOTLYENV || {};                                    if (document.getElementById(\"0b5c594d-e9ba-4517-b6a4-945a35589485\")) {                    Plotly.newPlot(                        \"0b5c594d-e9ba-4517-b6a4-945a35589485\",                        [{\"alignmentgroup\":\"True\",\"hovertemplate\":\"Referee=%{x}<br>Apperance=%{y}<extra></extra>\",\"legendgroup\":\"\",\"marker\":{\"color\":\"#636efa\",\"pattern\":{\"shape\":\"\"}},\"name\":\"\",\"offsetgroup\":\"\",\"orientation\":\"v\",\"showlegend\":false,\"textposition\":\"auto\",\"x\":[\"Ravshan Irmatov\",\"N\\u00e9stor Pitana\",\"Benito Archundia\",\"Jorge Larrionda\",\"Jo\\u00ebl Quiniou\",\"Sandy Griffiths\",\"Juan Garay Gardeaz\\u00e1bal\",\"Frank De Bleeckere\",\"Nikolai Levnikov\",\"Bj\\u00f6rn Kuipers\"],\"xaxis\":\"x\",\"y\":[11,9,8,8,8,7,7,7,7,7],\"yaxis\":\"y\",\"type\":\"bar\"}],                        {\"template\":{\"data\":{\"histogram2dcontour\":[{\"type\":\"histogram2dcontour\",\"colorbar\":{\"outlinewidth\":0,\"ticks\":\"\"},\"colorscale\":[[0.0,\"#0d0887\"],[0.1111111111111111,\"#46039f\"],[0.2222222222222222,\"#7201a8\"],[0.3333333333333333,\"#9c179e\"],[0.4444444444444444,\"#bd3786\"],[0.5555555555555556,\"#d8576b\"],[0.6666666666666666,\"#ed7953\"],[0.7777777777777778,\"#fb9f3a\"],[0.8888888888888888,\"#fdca26\"],[1.0,\"#f0f921\"]]}],\"choropleth\":[{\"type\":\"choropleth\",\"colorbar\":{\"outlinewidth\":0,\"ticks\":\"\"}}],\"histogram2d\":[{\"type\":\"histogram2d\",\"colorbar\":{\"outlinewidth\":0,\"ticks\":\"\"},\"colorscale\":[[0.0,\"#0d0887\"],[0.1111111111111111,\"#46039f\"],[0.2222222222222222,\"#7201a8\"],[0.3333333333333333,\"#9c179e\"],[0.4444444444444444,\"#bd3786\"],[0.5555555555555556,\"#d8576b\"],[0.6666666666666666,\"#ed7953\"],[0.7777777777777778,\"#fb9f3a\"],[0.8888888888888888,\"#fdca26\"],[1.0,\"#f0f921\"]]}],\"heatmap\":[{\"type\":\"heatmap\",\"colorbar\":{\"outlinewidth\":0,\"ticks\":\"\"},\"colorscale\":[[0.0,\"#0d0887\"],[0.1111111111111111,\"#46039f\"],[0.2222222222222222,\"#7201a8\"],[0.3333333333333333,\"#9c179e\"],[0.4444444444444444,\"#bd3786\"],[0.5555555555555556,\"#d8576b\"],[0.6666666666666666,\"#ed7953\"],[0.7777777777777778,\"#fb9f3a\"],[0.8888888888888888,\"#fdca26\"],[1.0,\"#f0f921\"]]}],\"heatmapgl\":[{\"type\":\"heatmapgl\",\"colorbar\":{\"outlinewidth\":0,\"ticks\":\"\"},\"colorscale\":[[0.0,\"#0d0887\"],[0.1111111111111111,\"#46039f\"],[0.2222222222222222,\"#7201a8\"],[0.3333333333333333,\"#9c179e\"],[0.4444444444444444,\"#bd3786\"],[0.5555555555555556,\"#d8576b\"],[0.6666666666666666,\"#ed7953\"],[0.7777777777777778,\"#fb9f3a\"],[0.8888888888888888,\"#fdca26\"],[1.0,\"#f0f921\"]]}],\"contourcarpet\":[{\"type\":\"contourcarpet\",\"colorbar\":{\"outlinewidth\":0,\"ticks\":\"\"}}],\"contour\":[{\"type\":\"contour\",\"colorbar\":{\"outlinewidth\":0,\"ticks\":\"\"},\"colorscale\":[[0.0,\"#0d0887\"],[0.1111111111111111,\"#46039f\"],[0.2222222222222222,\"#7201a8\"],[0.3333333333333333,\"#9c179e\"],[0.4444444444444444,\"#bd3786\"],[0.5555555555555556,\"#d8576b\"],[0.6666666666666666,\"#ed7953\"],[0.7777777777777778,\"#fb9f3a\"],[0.8888888888888888,\"#fdca26\"],[1.0,\"#f0f921\"]]}],\"surface\":[{\"type\":\"surface\",\"colorbar\":{\"outlinewidth\":0,\"ticks\":\"\"},\"colorscale\":[[0.0,\"#0d0887\"],[0.1111111111111111,\"#46039f\"],[0.2222222222222222,\"#7201a8\"],[0.3333333333333333,\"#9c179e\"],[0.4444444444444444,\"#bd3786\"],[0.5555555555555556,\"#d8576b\"],[0.6666666666666666,\"#ed7953\"],[0.7777777777777778,\"#fb9f3a\"],[0.8888888888888888,\"#fdca26\"],[1.0,\"#f0f921\"]]}],\"mesh3d\":[{\"type\":\"mesh3d\",\"colorbar\":{\"outlinewidth\":0,\"ticks\":\"\"}}],\"scatter\":[{\"fillpattern\":{\"fillmode\":\"overlay\",\"size\":10,\"solidity\":0.2},\"type\":\"scatter\"}],\"parcoords\":[{\"type\":\"parcoords\",\"line\":{\"colorbar\":{\"outlinewidth\":0,\"ticks\":\"\"}}}],\"scatterpolargl\":[{\"type\":\"scatterpolargl\",\"marker\":{\"colorbar\":{\"outlinewidth\":0,\"ticks\":\"\"}}}],\"bar\":[{\"error_x\":{\"color\":\"#2a3f5f\"},\"error_y\":{\"color\":\"#2a3f5f\"},\"marker\":{\"line\":{\"color\":\"#E5ECF6\",\"width\":0.5},\"pattern\":{\"fillmode\":\"overlay\",\"size\":10,\"solidity\":0.2}},\"type\":\"bar\"}],\"scattergeo\":[{\"type\":\"scattergeo\",\"marker\":{\"colorbar\":{\"outlinewidth\":0,\"ticks\":\"\"}}}],\"scatterpolar\":[{\"type\":\"scatterpolar\",\"marker\":{\"colorbar\":{\"outlinewidth\":0,\"ticks\":\"\"}}}],\"histogram\":[{\"marker\":{\"pattern\":{\"fillmode\":\"overlay\",\"size\":10,\"solidity\":0.2}},\"type\":\"histogram\"}],\"scattergl\":[{\"type\":\"scattergl\",\"marker\":{\"colorbar\":{\"outlinewidth\":0,\"ticks\":\"\"}}}],\"scatter3d\":[{\"type\":\"scatter3d\",\"line\":{\"colorbar\":{\"outlinewidth\":0,\"ticks\":\"\"}},\"marker\":{\"colorbar\":{\"outlinewidth\":0,\"ticks\":\"\"}}}],\"scattermapbox\":[{\"type\":\"scattermapbox\",\"marker\":{\"colorbar\":{\"outlinewidth\":0,\"ticks\":\"\"}}}],\"scatterternary\":[{\"type\":\"scatterternary\",\"marker\":{\"colorbar\":{\"outlinewidth\":0,\"ticks\":\"\"}}}],\"scattercarpet\":[{\"type\":\"scattercarpet\",\"marker\":{\"colorbar\":{\"outlinewidth\":0,\"ticks\":\"\"}}}],\"carpet\":[{\"aaxis\":{\"endlinecolor\":\"#2a3f5f\",\"gridcolor\":\"white\",\"linecolor\":\"white\",\"minorgridcolor\":\"white\",\"startlinecolor\":\"#2a3f5f\"},\"baxis\":{\"endlinecolor\":\"#2a3f5f\",\"gridcolor\":\"white\",\"linecolor\":\"white\",\"minorgridcolor\":\"white\",\"startlinecolor\":\"#2a3f5f\"},\"type\":\"carpet\"}],\"table\":[{\"cells\":{\"fill\":{\"color\":\"#EBF0F8\"},\"line\":{\"color\":\"white\"}},\"header\":{\"fill\":{\"color\":\"#C8D4E3\"},\"line\":{\"color\":\"white\"}},\"type\":\"table\"}],\"barpolar\":[{\"marker\":{\"line\":{\"color\":\"#E5ECF6\",\"width\":0.5},\"pattern\":{\"fillmode\":\"overlay\",\"size\":10,\"solidity\":0.2}},\"type\":\"barpolar\"}],\"pie\":[{\"automargin\":true,\"type\":\"pie\"}]},\"layout\":{\"autotypenumbers\":\"strict\",\"colorway\":[\"#636efa\",\"#EF553B\",\"#00cc96\",\"#ab63fa\",\"#FFA15A\",\"#19d3f3\",\"#FF6692\",\"#B6E880\",\"#FF97FF\",\"#FECB52\"],\"font\":{\"color\":\"#2a3f5f\"},\"hovermode\":\"closest\",\"hoverlabel\":{\"align\":\"left\"},\"paper_bgcolor\":\"white\",\"plot_bgcolor\":\"#E5ECF6\",\"polar\":{\"bgcolor\":\"#E5ECF6\",\"angularaxis\":{\"gridcolor\":\"white\",\"linecolor\":\"white\",\"ticks\":\"\"},\"radialaxis\":{\"gridcolor\":\"white\",\"linecolor\":\"white\",\"ticks\":\"\"}},\"ternary\":{\"bgcolor\":\"#E5ECF6\",\"aaxis\":{\"gridcolor\":\"white\",\"linecolor\":\"white\",\"ticks\":\"\"},\"baxis\":{\"gridcolor\":\"white\",\"linecolor\":\"white\",\"ticks\":\"\"},\"caxis\":{\"gridcolor\":\"white\",\"linecolor\":\"white\",\"ticks\":\"\"}},\"coloraxis\":{\"colorbar\":{\"outlinewidth\":0,\"ticks\":\"\"}},\"colorscale\":{\"sequential\":[[0.0,\"#0d0887\"],[0.1111111111111111,\"#46039f\"],[0.2222222222222222,\"#7201a8\"],[0.3333333333333333,\"#9c179e\"],[0.4444444444444444,\"#bd3786\"],[0.5555555555555556,\"#d8576b\"],[0.6666666666666666,\"#ed7953\"],[0.7777777777777778,\"#fb9f3a\"],[0.8888888888888888,\"#fdca26\"],[1.0,\"#f0f921\"]],\"sequentialminus\":[[0.0,\"#0d0887\"],[0.1111111111111111,\"#46039f\"],[0.2222222222222222,\"#7201a8\"],[0.3333333333333333,\"#9c179e\"],[0.4444444444444444,\"#bd3786\"],[0.5555555555555556,\"#d8576b\"],[0.6666666666666666,\"#ed7953\"],[0.7777777777777778,\"#fb9f3a\"],[0.8888888888888888,\"#fdca26\"],[1.0,\"#f0f921\"]],\"diverging\":[[0,\"#8e0152\"],[0.1,\"#c51b7d\"],[0.2,\"#de77ae\"],[0.3,\"#f1b6da\"],[0.4,\"#fde0ef\"],[0.5,\"#f7f7f7\"],[0.6,\"#e6f5d0\"],[0.7,\"#b8e186\"],[0.8,\"#7fbc41\"],[0.9,\"#4d9221\"],[1,\"#276419\"]]},\"xaxis\":{\"gridcolor\":\"white\",\"linecolor\":\"white\",\"ticks\":\"\",\"title\":{\"standoff\":15},\"zerolinecolor\":\"white\",\"automargin\":true,\"zerolinewidth\":2},\"yaxis\":{\"gridcolor\":\"white\",\"linecolor\":\"white\",\"ticks\":\"\",\"title\":{\"standoff\":15},\"zerolinecolor\":\"white\",\"automargin\":true,\"zerolinewidth\":2},\"scene\":{\"xaxis\":{\"backgroundcolor\":\"#E5ECF6\",\"gridcolor\":\"white\",\"linecolor\":\"white\",\"showbackground\":true,\"ticks\":\"\",\"zerolinecolor\":\"white\",\"gridwidth\":2},\"yaxis\":{\"backgroundcolor\":\"#E5ECF6\",\"gridcolor\":\"white\",\"linecolor\":\"white\",\"showbackground\":true,\"ticks\":\"\",\"zerolinecolor\":\"white\",\"gridwidth\":2},\"zaxis\":{\"backgroundcolor\":\"#E5ECF6\",\"gridcolor\":\"white\",\"linecolor\":\"white\",\"showbackground\":true,\"ticks\":\"\",\"zerolinecolor\":\"white\",\"gridwidth\":2}},\"shapedefaults\":{\"line\":{\"color\":\"#2a3f5f\"}},\"annotationdefaults\":{\"arrowcolor\":\"#2a3f5f\",\"arrowhead\":0,\"arrowwidth\":1},\"geo\":{\"bgcolor\":\"white\",\"landcolor\":\"#E5ECF6\",\"subunitcolor\":\"white\",\"showland\":true,\"showlakes\":true,\"lakecolor\":\"white\"},\"title\":{\"x\":0.05},\"mapbox\":{\"style\":\"light\"}}},\"xaxis\":{\"anchor\":\"y\",\"domain\":[0.0,1.0],\"title\":{\"text\":\"Referee\"}},\"yaxis\":{\"anchor\":\"x\",\"domain\":[0.0,1.0],\"title\":{\"text\":\"Apperance\"}},\"legend\":{\"tracegroupgap\":0},\"title\":{\"text\":\"Top 10 Referees Appearnace in the World Cup History\"},\"barmode\":\"relative\"},                        {\"responsive\": true}                    ).then(function(){\n",
              "                            \n",
              "var gd = document.getElementById('0b5c594d-e9ba-4517-b6a4-945a35589485');\n",
              "var x = new MutationObserver(function (mutations, observer) {{\n",
              "        var display = window.getComputedStyle(gd).display;\n",
              "        if (!display || display === 'none') {{\n",
              "            console.log([gd, 'removed!']);\n",
              "            Plotly.purge(gd);\n",
              "            observer.disconnect();\n",
              "        }}\n",
              "}});\n",
              "\n",
              "// Listen for the removal of the full notebook cells\n",
              "var notebookContainer = gd.closest('#notebook-container');\n",
              "if (notebookContainer) {{\n",
              "    x.observe(notebookContainer, {childList: true});\n",
              "}}\n",
              "\n",
              "// Listen for the clearing of the current output cell\n",
              "var outputEl = gd.closest('.output');\n",
              "if (outputEl) {{\n",
              "    x.observe(outputEl, {childList: true});\n",
              "}}\n",
              "\n",
              "                        })                };                            </script>        </div>\n",
              "</body>\n",
              "</html>"
            ]
          },
          "metadata": {}
        }
      ]
    },
    {
      "cell_type": "markdown",
      "source": [
        "###Most Apperances Referees (By the number of Tournaments)"
      ],
      "metadata": {
        "id": "qtTPvHnf4fSg"
      }
    },
    {
      "cell_type": "code",
      "source": [
        "referees_appointments_data['full_name'] = referees_appointments_data['given_name']+' '+referees_appointments_data['family_name']\n"
      ],
      "metadata": {
        "id": "fLRBuI6KJ7JP"
      },
      "execution_count": null,
      "outputs": []
    },
    {
      "cell_type": "code",
      "source": [
        "referee_unique_tournaments = referees_appointments_data.groupby('full_name')['tournament_name'].nunique().reset_index()\n",
        "referee_unique_tournaments.columns = ['Referee', 'Unique Tournaments']\n",
        "referee_unique_tournaments = referee_unique_tournaments.sort_values('Unique Tournaments', ascending=False)\n",
        "top_20_referees = referee_unique_tournaments.head(20)\n",
        "fig = px.bar(top_20_referees, x='Referee', y='Unique Tournaments', labels={'Referee': 'Referee', 'Unique Tournaments': 'Number of Unique Tournaments'}, title='Number of Unique Tournaments for Each Referee')\n",
        "\n",
        "\n",
        "fig.show()"
      ],
      "metadata": {
        "colab": {
          "base_uri": "https://localhost:8080/"
        },
        "id": "fmWYLwCxMLt6",
        "outputId": "433a3cef-d9f3-4284-a7ca-2518d0c37fc9"
      },
      "execution_count": null,
      "outputs": [
        {
          "output_type": "display_data",
          "data": {
            "text/html": [
              "<html>\n",
              "<head><meta charset=\"utf-8\" /></head>\n",
              "<body>\n",
              "    <div>            <script src=\"https://cdnjs.cloudflare.com/ajax/libs/mathjax/2.7.5/MathJax.js?config=TeX-AMS-MML_SVG\"></script><script type=\"text/javascript\">if (window.MathJax && window.MathJax.Hub && window.MathJax.Hub.Config) {window.MathJax.Hub.Config({SVG: {font: \"STIX-Web\"}});}</script>                <script type=\"text/javascript\">window.PlotlyConfig = {MathJaxConfig: 'local'};</script>\n",
              "        <script src=\"https://cdn.plot.ly/plotly-2.18.2.min.js\"></script>                <div id=\"183f2b78-4bc5-4424-a0b9-9e8391da82b6\" class=\"plotly-graph-div\" style=\"height:525px; width:100%;\"></div>            <script type=\"text/javascript\">                                    window.PLOTLYENV=window.PLOTLYENV || {};                                    if (document.getElementById(\"183f2b78-4bc5-4424-a0b9-9e8391da82b6\")) {                    Plotly.newPlot(                        \"183f2b78-4bc5-4424-a0b9-9e8391da82b6\",                        [{\"alignmentgroup\":\"True\",\"hovertemplate\":\"Referee=%{x}<br>Number of Unique Tournaments=%{y}<extra></extra>\",\"legendgroup\":\"\",\"marker\":{\"color\":\"#636efa\",\"pattern\":{\"shape\":\"\"}},\"name\":\"\",\"offsetgroup\":\"\",\"orientation\":\"v\",\"showlegend\":false,\"textposition\":\"auto\",\"x\":[\"Arturo Yamasaki Maldonado\",\"Sandy Griffiths\",\"Bobby Davidson\",\"Ram\\u00f3n Barreto Ru\\u00edz\",\"Istv\\u00e1n Zsolt\",\"Ivan Eklind\",\"Nikolai Levnikov\",\"Marco Antonio Rodr\\u00edguez\",\"Jamal Al-Sharif\",\"Ali Bujsaim\",\"Bakary Gassama\",\"Erik Fredriksson\",\"John Langenus\",\"Carlos Eug\\u00eanio Simon\",\"K\\u00e1roly Palotai\",\"\\u00d3scar Ruiz\",\"Abraham Klein\",\"Nicolae Rainea\",\"Kurt Tschenscher\",\"Juan Garay Gardeaz\\u00e1bal\"],\"xaxis\":\"x\",\"y\":[3,3,3,3,3,3,3,3,3,3,3,3,3,3,3,3,3,3,3,3],\"yaxis\":\"y\",\"type\":\"bar\"}],                        {\"template\":{\"data\":{\"histogram2dcontour\":[{\"type\":\"histogram2dcontour\",\"colorbar\":{\"outlinewidth\":0,\"ticks\":\"\"},\"colorscale\":[[0.0,\"#0d0887\"],[0.1111111111111111,\"#46039f\"],[0.2222222222222222,\"#7201a8\"],[0.3333333333333333,\"#9c179e\"],[0.4444444444444444,\"#bd3786\"],[0.5555555555555556,\"#d8576b\"],[0.6666666666666666,\"#ed7953\"],[0.7777777777777778,\"#fb9f3a\"],[0.8888888888888888,\"#fdca26\"],[1.0,\"#f0f921\"]]}],\"choropleth\":[{\"type\":\"choropleth\",\"colorbar\":{\"outlinewidth\":0,\"ticks\":\"\"}}],\"histogram2d\":[{\"type\":\"histogram2d\",\"colorbar\":{\"outlinewidth\":0,\"ticks\":\"\"},\"colorscale\":[[0.0,\"#0d0887\"],[0.1111111111111111,\"#46039f\"],[0.2222222222222222,\"#7201a8\"],[0.3333333333333333,\"#9c179e\"],[0.4444444444444444,\"#bd3786\"],[0.5555555555555556,\"#d8576b\"],[0.6666666666666666,\"#ed7953\"],[0.7777777777777778,\"#fb9f3a\"],[0.8888888888888888,\"#fdca26\"],[1.0,\"#f0f921\"]]}],\"heatmap\":[{\"type\":\"heatmap\",\"colorbar\":{\"outlinewidth\":0,\"ticks\":\"\"},\"colorscale\":[[0.0,\"#0d0887\"],[0.1111111111111111,\"#46039f\"],[0.2222222222222222,\"#7201a8\"],[0.3333333333333333,\"#9c179e\"],[0.4444444444444444,\"#bd3786\"],[0.5555555555555556,\"#d8576b\"],[0.6666666666666666,\"#ed7953\"],[0.7777777777777778,\"#fb9f3a\"],[0.8888888888888888,\"#fdca26\"],[1.0,\"#f0f921\"]]}],\"heatmapgl\":[{\"type\":\"heatmapgl\",\"colorbar\":{\"outlinewidth\":0,\"ticks\":\"\"},\"colorscale\":[[0.0,\"#0d0887\"],[0.1111111111111111,\"#46039f\"],[0.2222222222222222,\"#7201a8\"],[0.3333333333333333,\"#9c179e\"],[0.4444444444444444,\"#bd3786\"],[0.5555555555555556,\"#d8576b\"],[0.6666666666666666,\"#ed7953\"],[0.7777777777777778,\"#fb9f3a\"],[0.8888888888888888,\"#fdca26\"],[1.0,\"#f0f921\"]]}],\"contourcarpet\":[{\"type\":\"contourcarpet\",\"colorbar\":{\"outlinewidth\":0,\"ticks\":\"\"}}],\"contour\":[{\"type\":\"contour\",\"colorbar\":{\"outlinewidth\":0,\"ticks\":\"\"},\"colorscale\":[[0.0,\"#0d0887\"],[0.1111111111111111,\"#46039f\"],[0.2222222222222222,\"#7201a8\"],[0.3333333333333333,\"#9c179e\"],[0.4444444444444444,\"#bd3786\"],[0.5555555555555556,\"#d8576b\"],[0.6666666666666666,\"#ed7953\"],[0.7777777777777778,\"#fb9f3a\"],[0.8888888888888888,\"#fdca26\"],[1.0,\"#f0f921\"]]}],\"surface\":[{\"type\":\"surface\",\"colorbar\":{\"outlinewidth\":0,\"ticks\":\"\"},\"colorscale\":[[0.0,\"#0d0887\"],[0.1111111111111111,\"#46039f\"],[0.2222222222222222,\"#7201a8\"],[0.3333333333333333,\"#9c179e\"],[0.4444444444444444,\"#bd3786\"],[0.5555555555555556,\"#d8576b\"],[0.6666666666666666,\"#ed7953\"],[0.7777777777777778,\"#fb9f3a\"],[0.8888888888888888,\"#fdca26\"],[1.0,\"#f0f921\"]]}],\"mesh3d\":[{\"type\":\"mesh3d\",\"colorbar\":{\"outlinewidth\":0,\"ticks\":\"\"}}],\"scatter\":[{\"fillpattern\":{\"fillmode\":\"overlay\",\"size\":10,\"solidity\":0.2},\"type\":\"scatter\"}],\"parcoords\":[{\"type\":\"parcoords\",\"line\":{\"colorbar\":{\"outlinewidth\":0,\"ticks\":\"\"}}}],\"scatterpolargl\":[{\"type\":\"scatterpolargl\",\"marker\":{\"colorbar\":{\"outlinewidth\":0,\"ticks\":\"\"}}}],\"bar\":[{\"error_x\":{\"color\":\"#2a3f5f\"},\"error_y\":{\"color\":\"#2a3f5f\"},\"marker\":{\"line\":{\"color\":\"#E5ECF6\",\"width\":0.5},\"pattern\":{\"fillmode\":\"overlay\",\"size\":10,\"solidity\":0.2}},\"type\":\"bar\"}],\"scattergeo\":[{\"type\":\"scattergeo\",\"marker\":{\"colorbar\":{\"outlinewidth\":0,\"ticks\":\"\"}}}],\"scatterpolar\":[{\"type\":\"scatterpolar\",\"marker\":{\"colorbar\":{\"outlinewidth\":0,\"ticks\":\"\"}}}],\"histogram\":[{\"marker\":{\"pattern\":{\"fillmode\":\"overlay\",\"size\":10,\"solidity\":0.2}},\"type\":\"histogram\"}],\"scattergl\":[{\"type\":\"scattergl\",\"marker\":{\"colorbar\":{\"outlinewidth\":0,\"ticks\":\"\"}}}],\"scatter3d\":[{\"type\":\"scatter3d\",\"line\":{\"colorbar\":{\"outlinewidth\":0,\"ticks\":\"\"}},\"marker\":{\"colorbar\":{\"outlinewidth\":0,\"ticks\":\"\"}}}],\"scattermapbox\":[{\"type\":\"scattermapbox\",\"marker\":{\"colorbar\":{\"outlinewidth\":0,\"ticks\":\"\"}}}],\"scatterternary\":[{\"type\":\"scatterternary\",\"marker\":{\"colorbar\":{\"outlinewidth\":0,\"ticks\":\"\"}}}],\"scattercarpet\":[{\"type\":\"scattercarpet\",\"marker\":{\"colorbar\":{\"outlinewidth\":0,\"ticks\":\"\"}}}],\"carpet\":[{\"aaxis\":{\"endlinecolor\":\"#2a3f5f\",\"gridcolor\":\"white\",\"linecolor\":\"white\",\"minorgridcolor\":\"white\",\"startlinecolor\":\"#2a3f5f\"},\"baxis\":{\"endlinecolor\":\"#2a3f5f\",\"gridcolor\":\"white\",\"linecolor\":\"white\",\"minorgridcolor\":\"white\",\"startlinecolor\":\"#2a3f5f\"},\"type\":\"carpet\"}],\"table\":[{\"cells\":{\"fill\":{\"color\":\"#EBF0F8\"},\"line\":{\"color\":\"white\"}},\"header\":{\"fill\":{\"color\":\"#C8D4E3\"},\"line\":{\"color\":\"white\"}},\"type\":\"table\"}],\"barpolar\":[{\"marker\":{\"line\":{\"color\":\"#E5ECF6\",\"width\":0.5},\"pattern\":{\"fillmode\":\"overlay\",\"size\":10,\"solidity\":0.2}},\"type\":\"barpolar\"}],\"pie\":[{\"automargin\":true,\"type\":\"pie\"}]},\"layout\":{\"autotypenumbers\":\"strict\",\"colorway\":[\"#636efa\",\"#EF553B\",\"#00cc96\",\"#ab63fa\",\"#FFA15A\",\"#19d3f3\",\"#FF6692\",\"#B6E880\",\"#FF97FF\",\"#FECB52\"],\"font\":{\"color\":\"#2a3f5f\"},\"hovermode\":\"closest\",\"hoverlabel\":{\"align\":\"left\"},\"paper_bgcolor\":\"white\",\"plot_bgcolor\":\"#E5ECF6\",\"polar\":{\"bgcolor\":\"#E5ECF6\",\"angularaxis\":{\"gridcolor\":\"white\",\"linecolor\":\"white\",\"ticks\":\"\"},\"radialaxis\":{\"gridcolor\":\"white\",\"linecolor\":\"white\",\"ticks\":\"\"}},\"ternary\":{\"bgcolor\":\"#E5ECF6\",\"aaxis\":{\"gridcolor\":\"white\",\"linecolor\":\"white\",\"ticks\":\"\"},\"baxis\":{\"gridcolor\":\"white\",\"linecolor\":\"white\",\"ticks\":\"\"},\"caxis\":{\"gridcolor\":\"white\",\"linecolor\":\"white\",\"ticks\":\"\"}},\"coloraxis\":{\"colorbar\":{\"outlinewidth\":0,\"ticks\":\"\"}},\"colorscale\":{\"sequential\":[[0.0,\"#0d0887\"],[0.1111111111111111,\"#46039f\"],[0.2222222222222222,\"#7201a8\"],[0.3333333333333333,\"#9c179e\"],[0.4444444444444444,\"#bd3786\"],[0.5555555555555556,\"#d8576b\"],[0.6666666666666666,\"#ed7953\"],[0.7777777777777778,\"#fb9f3a\"],[0.8888888888888888,\"#fdca26\"],[1.0,\"#f0f921\"]],\"sequentialminus\":[[0.0,\"#0d0887\"],[0.1111111111111111,\"#46039f\"],[0.2222222222222222,\"#7201a8\"],[0.3333333333333333,\"#9c179e\"],[0.4444444444444444,\"#bd3786\"],[0.5555555555555556,\"#d8576b\"],[0.6666666666666666,\"#ed7953\"],[0.7777777777777778,\"#fb9f3a\"],[0.8888888888888888,\"#fdca26\"],[1.0,\"#f0f921\"]],\"diverging\":[[0,\"#8e0152\"],[0.1,\"#c51b7d\"],[0.2,\"#de77ae\"],[0.3,\"#f1b6da\"],[0.4,\"#fde0ef\"],[0.5,\"#f7f7f7\"],[0.6,\"#e6f5d0\"],[0.7,\"#b8e186\"],[0.8,\"#7fbc41\"],[0.9,\"#4d9221\"],[1,\"#276419\"]]},\"xaxis\":{\"gridcolor\":\"white\",\"linecolor\":\"white\",\"ticks\":\"\",\"title\":{\"standoff\":15},\"zerolinecolor\":\"white\",\"automargin\":true,\"zerolinewidth\":2},\"yaxis\":{\"gridcolor\":\"white\",\"linecolor\":\"white\",\"ticks\":\"\",\"title\":{\"standoff\":15},\"zerolinecolor\":\"white\",\"automargin\":true,\"zerolinewidth\":2},\"scene\":{\"xaxis\":{\"backgroundcolor\":\"#E5ECF6\",\"gridcolor\":\"white\",\"linecolor\":\"white\",\"showbackground\":true,\"ticks\":\"\",\"zerolinecolor\":\"white\",\"gridwidth\":2},\"yaxis\":{\"backgroundcolor\":\"#E5ECF6\",\"gridcolor\":\"white\",\"linecolor\":\"white\",\"showbackground\":true,\"ticks\":\"\",\"zerolinecolor\":\"white\",\"gridwidth\":2},\"zaxis\":{\"backgroundcolor\":\"#E5ECF6\",\"gridcolor\":\"white\",\"linecolor\":\"white\",\"showbackground\":true,\"ticks\":\"\",\"zerolinecolor\":\"white\",\"gridwidth\":2}},\"shapedefaults\":{\"line\":{\"color\":\"#2a3f5f\"}},\"annotationdefaults\":{\"arrowcolor\":\"#2a3f5f\",\"arrowhead\":0,\"arrowwidth\":1},\"geo\":{\"bgcolor\":\"white\",\"landcolor\":\"#E5ECF6\",\"subunitcolor\":\"white\",\"showland\":true,\"showlakes\":true,\"lakecolor\":\"white\"},\"title\":{\"x\":0.05},\"mapbox\":{\"style\":\"light\"}}},\"xaxis\":{\"anchor\":\"y\",\"domain\":[0.0,1.0],\"title\":{\"text\":\"Referee\"}},\"yaxis\":{\"anchor\":\"x\",\"domain\":[0.0,1.0],\"title\":{\"text\":\"Number of Unique Tournaments\"}},\"legend\":{\"tracegroupgap\":0},\"title\":{\"text\":\"Number of Unique Tournaments for Each Referee\"},\"barmode\":\"relative\"},                        {\"responsive\": true}                    ).then(function(){\n",
              "                            \n",
              "var gd = document.getElementById('183f2b78-4bc5-4424-a0b9-9e8391da82b6');\n",
              "var x = new MutationObserver(function (mutations, observer) {{\n",
              "        var display = window.getComputedStyle(gd).display;\n",
              "        if (!display || display === 'none') {{\n",
              "            console.log([gd, 'removed!']);\n",
              "            Plotly.purge(gd);\n",
              "            observer.disconnect();\n",
              "        }}\n",
              "}});\n",
              "\n",
              "// Listen for the removal of the full notebook cells\n",
              "var notebookContainer = gd.closest('#notebook-container');\n",
              "if (notebookContainer) {{\n",
              "    x.observe(notebookContainer, {childList: true});\n",
              "}}\n",
              "\n",
              "// Listen for the clearing of the current output cell\n",
              "var outputEl = gd.closest('.output');\n",
              "if (outputEl) {{\n",
              "    x.observe(outputEl, {childList: true});\n",
              "}}\n",
              "\n",
              "                        })                };                            </script>        </div>\n",
              "</body>\n",
              "</html>"
            ]
          },
          "metadata": {}
        }
      ]
    },
    {
      "cell_type": "markdown",
      "source": [
        "##Managers"
      ],
      "metadata": {
        "id": "l9nkzAo68StV"
      }
    },
    {
      "cell_type": "code",
      "source": [
        "manageres_data.head()"
      ],
      "metadata": {
        "colab": {
          "base_uri": "https://localhost:8080/"
        },
        "id": "Uanw8vG2hS5F",
        "outputId": "0ec8c82c-3cdc-4181-b7af-23e7e00d2096"
      },
      "execution_count": null,
      "outputs": [
        {
          "output_type": "execute_result",
          "data": {
            "text/plain": [
              "   key_id manager_id family_name given_name country_name  \\\n",
              "0       1      M-001      Acosta     Nelson      Uruguay   \n",
              "1       2      M-002        Addo       Otto        Ghana   \n",
              "2       3      M-003     Adshead       John      England   \n",
              "3       4      M-004    Advocaat       Dick  Netherlands   \n",
              "4       5      M-005     Aguirre     Javier       Mexico   \n",
              "\n",
              "                         manager_wikipedia_link  \n",
              "0   https://en.wikipedia.org/wiki/Nelson_Acosta  \n",
              "1       https://en.wikipedia.org/wiki/Otto_Addo  \n",
              "2    https://en.wikipedia.org/wiki/John_Adshead  \n",
              "3   https://en.wikipedia.org/wiki/Dick_Advocaat  \n",
              "4  https://en.wikipedia.org/wiki/Javier_Aguirre  "
            ],
            "text/html": [
              "\n",
              "  <div id=\"df-26ecaf1e-36ee-42c2-a386-127aecad37de\">\n",
              "    <div class=\"colab-df-container\">\n",
              "      <div>\n",
              "<style scoped>\n",
              "    .dataframe tbody tr th:only-of-type {\n",
              "        vertical-align: middle;\n",
              "    }\n",
              "\n",
              "    .dataframe tbody tr th {\n",
              "        vertical-align: top;\n",
              "    }\n",
              "\n",
              "    .dataframe thead th {\n",
              "        text-align: right;\n",
              "    }\n",
              "</style>\n",
              "<table border=\"1\" class=\"dataframe\">\n",
              "  <thead>\n",
              "    <tr style=\"text-align: right;\">\n",
              "      <th></th>\n",
              "      <th>key_id</th>\n",
              "      <th>manager_id</th>\n",
              "      <th>family_name</th>\n",
              "      <th>given_name</th>\n",
              "      <th>country_name</th>\n",
              "      <th>manager_wikipedia_link</th>\n",
              "    </tr>\n",
              "  </thead>\n",
              "  <tbody>\n",
              "    <tr>\n",
              "      <th>0</th>\n",
              "      <td>1</td>\n",
              "      <td>M-001</td>\n",
              "      <td>Acosta</td>\n",
              "      <td>Nelson</td>\n",
              "      <td>Uruguay</td>\n",
              "      <td>https://en.wikipedia.org/wiki/Nelson_Acosta</td>\n",
              "    </tr>\n",
              "    <tr>\n",
              "      <th>1</th>\n",
              "      <td>2</td>\n",
              "      <td>M-002</td>\n",
              "      <td>Addo</td>\n",
              "      <td>Otto</td>\n",
              "      <td>Ghana</td>\n",
              "      <td>https://en.wikipedia.org/wiki/Otto_Addo</td>\n",
              "    </tr>\n",
              "    <tr>\n",
              "      <th>2</th>\n",
              "      <td>3</td>\n",
              "      <td>M-003</td>\n",
              "      <td>Adshead</td>\n",
              "      <td>John</td>\n",
              "      <td>England</td>\n",
              "      <td>https://en.wikipedia.org/wiki/John_Adshead</td>\n",
              "    </tr>\n",
              "    <tr>\n",
              "      <th>3</th>\n",
              "      <td>4</td>\n",
              "      <td>M-004</td>\n",
              "      <td>Advocaat</td>\n",
              "      <td>Dick</td>\n",
              "      <td>Netherlands</td>\n",
              "      <td>https://en.wikipedia.org/wiki/Dick_Advocaat</td>\n",
              "    </tr>\n",
              "    <tr>\n",
              "      <th>4</th>\n",
              "      <td>5</td>\n",
              "      <td>M-005</td>\n",
              "      <td>Aguirre</td>\n",
              "      <td>Javier</td>\n",
              "      <td>Mexico</td>\n",
              "      <td>https://en.wikipedia.org/wiki/Javier_Aguirre</td>\n",
              "    </tr>\n",
              "  </tbody>\n",
              "</table>\n",
              "</div>\n",
              "      <button class=\"colab-df-convert\" onclick=\"convertToInteractive('df-26ecaf1e-36ee-42c2-a386-127aecad37de')\"\n",
              "              title=\"Convert this dataframe to an interactive table.\"\n",
              "              style=\"display:none;\">\n",
              "        \n",
              "  <svg xmlns=\"http://www.w3.org/2000/svg\" height=\"24px\"viewBox=\"0 0 24 24\"\n",
              "       width=\"24px\">\n",
              "    <path d=\"M0 0h24v24H0V0z\" fill=\"none\"/>\n",
              "    <path d=\"M18.56 5.44l.94 2.06.94-2.06 2.06-.94-2.06-.94-.94-2.06-.94 2.06-2.06.94zm-11 1L8.5 8.5l.94-2.06 2.06-.94-2.06-.94L8.5 2.5l-.94 2.06-2.06.94zm10 10l.94 2.06.94-2.06 2.06-.94-2.06-.94-.94-2.06-.94 2.06-2.06.94z\"/><path d=\"M17.41 7.96l-1.37-1.37c-.4-.4-.92-.59-1.43-.59-.52 0-1.04.2-1.43.59L10.3 9.45l-7.72 7.72c-.78.78-.78 2.05 0 2.83L4 21.41c.39.39.9.59 1.41.59.51 0 1.02-.2 1.41-.59l7.78-7.78 2.81-2.81c.8-.78.8-2.07 0-2.86zM5.41 20L4 18.59l7.72-7.72 1.47 1.35L5.41 20z\"/>\n",
              "  </svg>\n",
              "      </button>\n",
              "      \n",
              "  <style>\n",
              "    .colab-df-container {\n",
              "      display:flex;\n",
              "      flex-wrap:wrap;\n",
              "      gap: 12px;\n",
              "    }\n",
              "\n",
              "    .colab-df-convert {\n",
              "      background-color: #E8F0FE;\n",
              "      border: none;\n",
              "      border-radius: 50%;\n",
              "      cursor: pointer;\n",
              "      display: none;\n",
              "      fill: #1967D2;\n",
              "      height: 32px;\n",
              "      padding: 0 0 0 0;\n",
              "      width: 32px;\n",
              "    }\n",
              "\n",
              "    .colab-df-convert:hover {\n",
              "      background-color: #E2EBFA;\n",
              "      box-shadow: 0px 1px 2px rgba(60, 64, 67, 0.3), 0px 1px 3px 1px rgba(60, 64, 67, 0.15);\n",
              "      fill: #174EA6;\n",
              "    }\n",
              "\n",
              "    [theme=dark] .colab-df-convert {\n",
              "      background-color: #3B4455;\n",
              "      fill: #D2E3FC;\n",
              "    }\n",
              "\n",
              "    [theme=dark] .colab-df-convert:hover {\n",
              "      background-color: #434B5C;\n",
              "      box-shadow: 0px 1px 3px 1px rgba(0, 0, 0, 0.15);\n",
              "      filter: drop-shadow(0px 1px 2px rgba(0, 0, 0, 0.3));\n",
              "      fill: #FFFFFF;\n",
              "    }\n",
              "  </style>\n",
              "\n",
              "      <script>\n",
              "        const buttonEl =\n",
              "          document.querySelector('#df-26ecaf1e-36ee-42c2-a386-127aecad37de button.colab-df-convert');\n",
              "        buttonEl.style.display =\n",
              "          google.colab.kernel.accessAllowed ? 'block' : 'none';\n",
              "\n",
              "        async function convertToInteractive(key) {\n",
              "          const element = document.querySelector('#df-26ecaf1e-36ee-42c2-a386-127aecad37de');\n",
              "          const dataTable =\n",
              "            await google.colab.kernel.invokeFunction('convertToInteractive',\n",
              "                                                     [key], {});\n",
              "          if (!dataTable) return;\n",
              "\n",
              "          const docLinkHtml = 'Like what you see? Visit the ' +\n",
              "            '<a target=\"_blank\" href=https://colab.research.google.com/notebooks/data_table.ipynb>data table notebook</a>'\n",
              "            + ' to learn more about interactive tables.';\n",
              "          element.innerHTML = '';\n",
              "          dataTable['output_type'] = 'display_data';\n",
              "          await google.colab.output.renderOutput(dataTable, element);\n",
              "          const docLink = document.createElement('div');\n",
              "          docLink.innerHTML = docLinkHtml;\n",
              "          element.appendChild(docLink);\n",
              "        }\n",
              "      </script>\n",
              "    </div>\n",
              "  </div>\n",
              "  "
            ]
          },
          "metadata": {},
          "execution_count": 89
        }
      ]
    },
    {
      "cell_type": "markdown",
      "source": [
        "###Managers Nationality"
      ],
      "metadata": {
        "id": "8pSuo6eD4mwA"
      }
    },
    {
      "cell_type": "code",
      "source": [
        "manageres_data['full_name'] = manageres_data['given_name'] +' '+manageres_data['family_name']"
      ],
      "metadata": {
        "id": "Uu3Qjrklhv7y"
      },
      "execution_count": null,
      "outputs": []
    },
    {
      "cell_type": "code",
      "source": [
        "manager_counts = manageres_data['country_name'].value_counts().reset_index()\n",
        "manager_counts.columns = ['country_name', 'Count']\n",
        "manager_counts = manager_counts[:10]\n",
        "fig = px.bar(manager_counts, x='country_name', y='Count', labels={'country_name': 'Country', 'Count': 'Number of Referees'}, title='Number of Referees from Each Country')\n",
        "\n",
        "fig.show()"
      ],
      "metadata": {
        "colab": {
          "base_uri": "https://localhost:8080/"
        },
        "id": "5MtnvU2NjN3V",
        "outputId": "4c09d8e4-b4aa-4009-9c58-d13297de2b0f"
      },
      "execution_count": null,
      "outputs": [
        {
          "output_type": "display_data",
          "data": {
            "text/html": [
              "<html>\n",
              "<head><meta charset=\"utf-8\" /></head>\n",
              "<body>\n",
              "    <div>            <script src=\"https://cdnjs.cloudflare.com/ajax/libs/mathjax/2.7.5/MathJax.js?config=TeX-AMS-MML_SVG\"></script><script type=\"text/javascript\">if (window.MathJax && window.MathJax.Hub && window.MathJax.Hub.Config) {window.MathJax.Hub.Config({SVG: {font: \"STIX-Web\"}});}</script>                <script type=\"text/javascript\">window.PlotlyConfig = {MathJaxConfig: 'local'};</script>\n",
              "        <script src=\"https://cdn.plot.ly/plotly-2.18.2.min.js\"></script>                <div id=\"8d2dac32-acc8-42cf-ad83-ab4be1952bf3\" class=\"plotly-graph-div\" style=\"height:525px; width:100%;\"></div>            <script type=\"text/javascript\">                                    window.PLOTLYENV=window.PLOTLYENV || {};                                    if (document.getElementById(\"8d2dac32-acc8-42cf-ad83-ab4be1952bf3\")) {                    Plotly.newPlot(                        \"8d2dac32-acc8-42cf-ad83-ab4be1952bf3\",                        [{\"alignmentgroup\":\"True\",\"hovertemplate\":\"Country=%{x}<br>Number of Referees=%{y}<extra></extra>\",\"legendgroup\":\"\",\"marker\":{\"color\":\"#636efa\",\"pattern\":{\"shape\":\"\"}},\"name\":\"\",\"offsetgroup\":\"\",\"orientation\":\"v\",\"showlegend\":false,\"textposition\":\"auto\",\"x\":[\"Brazil\",\"Argentina\",\"Italy\",\"France\",\"Spain\",\"Germany\",\"England\",\"Uruguay\",\"Scotland\",\"Yugoslavia\"],\"xaxis\":\"x\",\"y\":[25,24,19,18,18,17,14,13,12,11],\"yaxis\":\"y\",\"type\":\"bar\"}],                        {\"template\":{\"data\":{\"histogram2dcontour\":[{\"type\":\"histogram2dcontour\",\"colorbar\":{\"outlinewidth\":0,\"ticks\":\"\"},\"colorscale\":[[0.0,\"#0d0887\"],[0.1111111111111111,\"#46039f\"],[0.2222222222222222,\"#7201a8\"],[0.3333333333333333,\"#9c179e\"],[0.4444444444444444,\"#bd3786\"],[0.5555555555555556,\"#d8576b\"],[0.6666666666666666,\"#ed7953\"],[0.7777777777777778,\"#fb9f3a\"],[0.8888888888888888,\"#fdca26\"],[1.0,\"#f0f921\"]]}],\"choropleth\":[{\"type\":\"choropleth\",\"colorbar\":{\"outlinewidth\":0,\"ticks\":\"\"}}],\"histogram2d\":[{\"type\":\"histogram2d\",\"colorbar\":{\"outlinewidth\":0,\"ticks\":\"\"},\"colorscale\":[[0.0,\"#0d0887\"],[0.1111111111111111,\"#46039f\"],[0.2222222222222222,\"#7201a8\"],[0.3333333333333333,\"#9c179e\"],[0.4444444444444444,\"#bd3786\"],[0.5555555555555556,\"#d8576b\"],[0.6666666666666666,\"#ed7953\"],[0.7777777777777778,\"#fb9f3a\"],[0.8888888888888888,\"#fdca26\"],[1.0,\"#f0f921\"]]}],\"heatmap\":[{\"type\":\"heatmap\",\"colorbar\":{\"outlinewidth\":0,\"ticks\":\"\"},\"colorscale\":[[0.0,\"#0d0887\"],[0.1111111111111111,\"#46039f\"],[0.2222222222222222,\"#7201a8\"],[0.3333333333333333,\"#9c179e\"],[0.4444444444444444,\"#bd3786\"],[0.5555555555555556,\"#d8576b\"],[0.6666666666666666,\"#ed7953\"],[0.7777777777777778,\"#fb9f3a\"],[0.8888888888888888,\"#fdca26\"],[1.0,\"#f0f921\"]]}],\"heatmapgl\":[{\"type\":\"heatmapgl\",\"colorbar\":{\"outlinewidth\":0,\"ticks\":\"\"},\"colorscale\":[[0.0,\"#0d0887\"],[0.1111111111111111,\"#46039f\"],[0.2222222222222222,\"#7201a8\"],[0.3333333333333333,\"#9c179e\"],[0.4444444444444444,\"#bd3786\"],[0.5555555555555556,\"#d8576b\"],[0.6666666666666666,\"#ed7953\"],[0.7777777777777778,\"#fb9f3a\"],[0.8888888888888888,\"#fdca26\"],[1.0,\"#f0f921\"]]}],\"contourcarpet\":[{\"type\":\"contourcarpet\",\"colorbar\":{\"outlinewidth\":0,\"ticks\":\"\"}}],\"contour\":[{\"type\":\"contour\",\"colorbar\":{\"outlinewidth\":0,\"ticks\":\"\"},\"colorscale\":[[0.0,\"#0d0887\"],[0.1111111111111111,\"#46039f\"],[0.2222222222222222,\"#7201a8\"],[0.3333333333333333,\"#9c179e\"],[0.4444444444444444,\"#bd3786\"],[0.5555555555555556,\"#d8576b\"],[0.6666666666666666,\"#ed7953\"],[0.7777777777777778,\"#fb9f3a\"],[0.8888888888888888,\"#fdca26\"],[1.0,\"#f0f921\"]]}],\"surface\":[{\"type\":\"surface\",\"colorbar\":{\"outlinewidth\":0,\"ticks\":\"\"},\"colorscale\":[[0.0,\"#0d0887\"],[0.1111111111111111,\"#46039f\"],[0.2222222222222222,\"#7201a8\"],[0.3333333333333333,\"#9c179e\"],[0.4444444444444444,\"#bd3786\"],[0.5555555555555556,\"#d8576b\"],[0.6666666666666666,\"#ed7953\"],[0.7777777777777778,\"#fb9f3a\"],[0.8888888888888888,\"#fdca26\"],[1.0,\"#f0f921\"]]}],\"mesh3d\":[{\"type\":\"mesh3d\",\"colorbar\":{\"outlinewidth\":0,\"ticks\":\"\"}}],\"scatter\":[{\"fillpattern\":{\"fillmode\":\"overlay\",\"size\":10,\"solidity\":0.2},\"type\":\"scatter\"}],\"parcoords\":[{\"type\":\"parcoords\",\"line\":{\"colorbar\":{\"outlinewidth\":0,\"ticks\":\"\"}}}],\"scatterpolargl\":[{\"type\":\"scatterpolargl\",\"marker\":{\"colorbar\":{\"outlinewidth\":0,\"ticks\":\"\"}}}],\"bar\":[{\"error_x\":{\"color\":\"#2a3f5f\"},\"error_y\":{\"color\":\"#2a3f5f\"},\"marker\":{\"line\":{\"color\":\"#E5ECF6\",\"width\":0.5},\"pattern\":{\"fillmode\":\"overlay\",\"size\":10,\"solidity\":0.2}},\"type\":\"bar\"}],\"scattergeo\":[{\"type\":\"scattergeo\",\"marker\":{\"colorbar\":{\"outlinewidth\":0,\"ticks\":\"\"}}}],\"scatterpolar\":[{\"type\":\"scatterpolar\",\"marker\":{\"colorbar\":{\"outlinewidth\":0,\"ticks\":\"\"}}}],\"histogram\":[{\"marker\":{\"pattern\":{\"fillmode\":\"overlay\",\"size\":10,\"solidity\":0.2}},\"type\":\"histogram\"}],\"scattergl\":[{\"type\":\"scattergl\",\"marker\":{\"colorbar\":{\"outlinewidth\":0,\"ticks\":\"\"}}}],\"scatter3d\":[{\"type\":\"scatter3d\",\"line\":{\"colorbar\":{\"outlinewidth\":0,\"ticks\":\"\"}},\"marker\":{\"colorbar\":{\"outlinewidth\":0,\"ticks\":\"\"}}}],\"scattermapbox\":[{\"type\":\"scattermapbox\",\"marker\":{\"colorbar\":{\"outlinewidth\":0,\"ticks\":\"\"}}}],\"scatterternary\":[{\"type\":\"scatterternary\",\"marker\":{\"colorbar\":{\"outlinewidth\":0,\"ticks\":\"\"}}}],\"scattercarpet\":[{\"type\":\"scattercarpet\",\"marker\":{\"colorbar\":{\"outlinewidth\":0,\"ticks\":\"\"}}}],\"carpet\":[{\"aaxis\":{\"endlinecolor\":\"#2a3f5f\",\"gridcolor\":\"white\",\"linecolor\":\"white\",\"minorgridcolor\":\"white\",\"startlinecolor\":\"#2a3f5f\"},\"baxis\":{\"endlinecolor\":\"#2a3f5f\",\"gridcolor\":\"white\",\"linecolor\":\"white\",\"minorgridcolor\":\"white\",\"startlinecolor\":\"#2a3f5f\"},\"type\":\"carpet\"}],\"table\":[{\"cells\":{\"fill\":{\"color\":\"#EBF0F8\"},\"line\":{\"color\":\"white\"}},\"header\":{\"fill\":{\"color\":\"#C8D4E3\"},\"line\":{\"color\":\"white\"}},\"type\":\"table\"}],\"barpolar\":[{\"marker\":{\"line\":{\"color\":\"#E5ECF6\",\"width\":0.5},\"pattern\":{\"fillmode\":\"overlay\",\"size\":10,\"solidity\":0.2}},\"type\":\"barpolar\"}],\"pie\":[{\"automargin\":true,\"type\":\"pie\"}]},\"layout\":{\"autotypenumbers\":\"strict\",\"colorway\":[\"#636efa\",\"#EF553B\",\"#00cc96\",\"#ab63fa\",\"#FFA15A\",\"#19d3f3\",\"#FF6692\",\"#B6E880\",\"#FF97FF\",\"#FECB52\"],\"font\":{\"color\":\"#2a3f5f\"},\"hovermode\":\"closest\",\"hoverlabel\":{\"align\":\"left\"},\"paper_bgcolor\":\"white\",\"plot_bgcolor\":\"#E5ECF6\",\"polar\":{\"bgcolor\":\"#E5ECF6\",\"angularaxis\":{\"gridcolor\":\"white\",\"linecolor\":\"white\",\"ticks\":\"\"},\"radialaxis\":{\"gridcolor\":\"white\",\"linecolor\":\"white\",\"ticks\":\"\"}},\"ternary\":{\"bgcolor\":\"#E5ECF6\",\"aaxis\":{\"gridcolor\":\"white\",\"linecolor\":\"white\",\"ticks\":\"\"},\"baxis\":{\"gridcolor\":\"white\",\"linecolor\":\"white\",\"ticks\":\"\"},\"caxis\":{\"gridcolor\":\"white\",\"linecolor\":\"white\",\"ticks\":\"\"}},\"coloraxis\":{\"colorbar\":{\"outlinewidth\":0,\"ticks\":\"\"}},\"colorscale\":{\"sequential\":[[0.0,\"#0d0887\"],[0.1111111111111111,\"#46039f\"],[0.2222222222222222,\"#7201a8\"],[0.3333333333333333,\"#9c179e\"],[0.4444444444444444,\"#bd3786\"],[0.5555555555555556,\"#d8576b\"],[0.6666666666666666,\"#ed7953\"],[0.7777777777777778,\"#fb9f3a\"],[0.8888888888888888,\"#fdca26\"],[1.0,\"#f0f921\"]],\"sequentialminus\":[[0.0,\"#0d0887\"],[0.1111111111111111,\"#46039f\"],[0.2222222222222222,\"#7201a8\"],[0.3333333333333333,\"#9c179e\"],[0.4444444444444444,\"#bd3786\"],[0.5555555555555556,\"#d8576b\"],[0.6666666666666666,\"#ed7953\"],[0.7777777777777778,\"#fb9f3a\"],[0.8888888888888888,\"#fdca26\"],[1.0,\"#f0f921\"]],\"diverging\":[[0,\"#8e0152\"],[0.1,\"#c51b7d\"],[0.2,\"#de77ae\"],[0.3,\"#f1b6da\"],[0.4,\"#fde0ef\"],[0.5,\"#f7f7f7\"],[0.6,\"#e6f5d0\"],[0.7,\"#b8e186\"],[0.8,\"#7fbc41\"],[0.9,\"#4d9221\"],[1,\"#276419\"]]},\"xaxis\":{\"gridcolor\":\"white\",\"linecolor\":\"white\",\"ticks\":\"\",\"title\":{\"standoff\":15},\"zerolinecolor\":\"white\",\"automargin\":true,\"zerolinewidth\":2},\"yaxis\":{\"gridcolor\":\"white\",\"linecolor\":\"white\",\"ticks\":\"\",\"title\":{\"standoff\":15},\"zerolinecolor\":\"white\",\"automargin\":true,\"zerolinewidth\":2},\"scene\":{\"xaxis\":{\"backgroundcolor\":\"#E5ECF6\",\"gridcolor\":\"white\",\"linecolor\":\"white\",\"showbackground\":true,\"ticks\":\"\",\"zerolinecolor\":\"white\",\"gridwidth\":2},\"yaxis\":{\"backgroundcolor\":\"#E5ECF6\",\"gridcolor\":\"white\",\"linecolor\":\"white\",\"showbackground\":true,\"ticks\":\"\",\"zerolinecolor\":\"white\",\"gridwidth\":2},\"zaxis\":{\"backgroundcolor\":\"#E5ECF6\",\"gridcolor\":\"white\",\"linecolor\":\"white\",\"showbackground\":true,\"ticks\":\"\",\"zerolinecolor\":\"white\",\"gridwidth\":2}},\"shapedefaults\":{\"line\":{\"color\":\"#2a3f5f\"}},\"annotationdefaults\":{\"arrowcolor\":\"#2a3f5f\",\"arrowhead\":0,\"arrowwidth\":1},\"geo\":{\"bgcolor\":\"white\",\"landcolor\":\"#E5ECF6\",\"subunitcolor\":\"white\",\"showland\":true,\"showlakes\":true,\"lakecolor\":\"white\"},\"title\":{\"x\":0.05},\"mapbox\":{\"style\":\"light\"}}},\"xaxis\":{\"anchor\":\"y\",\"domain\":[0.0,1.0],\"title\":{\"text\":\"Country\"}},\"yaxis\":{\"anchor\":\"x\",\"domain\":[0.0,1.0],\"title\":{\"text\":\"Number of Referees\"}},\"legend\":{\"tracegroupgap\":0},\"title\":{\"text\":\"Number of Referees from Each Country\"},\"barmode\":\"relative\"},                        {\"responsive\": true}                    ).then(function(){\n",
              "                            \n",
              "var gd = document.getElementById('8d2dac32-acc8-42cf-ad83-ab4be1952bf3');\n",
              "var x = new MutationObserver(function (mutations, observer) {{\n",
              "        var display = window.getComputedStyle(gd).display;\n",
              "        if (!display || display === 'none') {{\n",
              "            console.log([gd, 'removed!']);\n",
              "            Plotly.purge(gd);\n",
              "            observer.disconnect();\n",
              "        }}\n",
              "}});\n",
              "\n",
              "// Listen for the removal of the full notebook cells\n",
              "var notebookContainer = gd.closest('#notebook-container');\n",
              "if (notebookContainer) {{\n",
              "    x.observe(notebookContainer, {childList: true});\n",
              "}}\n",
              "\n",
              "// Listen for the clearing of the current output cell\n",
              "var outputEl = gd.closest('.output');\n",
              "if (outputEl) {{\n",
              "    x.observe(outputEl, {childList: true});\n",
              "}}\n",
              "\n",
              "                        })                };                            </script>        </div>\n",
              "</body>\n",
              "</html>"
            ]
          },
          "metadata": {}
        }
      ]
    },
    {
      "cell_type": "markdown",
      "source": [
        "###Is their any asscosiation between the manager managing his home team and winning the trophy"
      ],
      "metadata": {
        "id": "JU1ji4brkpMw"
      }
    },
    {
      "cell_type": "code",
      "source": [
        "winner_manager_nationality = pd.merge(tournamnets_data, manageres_appointments_data, left_on=['tournament_id', 'tournament_name','winner'],right_on=['tournament_id', 'tournament_name','team_name'], how='left')\n",
        "winner_manager_nationality['national_manager'] = winner_manager_nationality.apply(lambda row: 1 if row['country_name'] == row['winner'] else 0, axis=1)\n",
        "\n",
        "winner_manager_nationality.head()"
      ],
      "metadata": {
        "colab": {
          "base_uri": "https://localhost:8080/"
        },
        "id": "KaN41aIznREx",
        "outputId": "a3559897-9ab6-4b90-e333-4aaa68266fb6"
      },
      "execution_count": null,
      "outputs": [
        {
          "output_type": "execute_result",
          "data": {
            "text/plain": [
              "   key_id_x tournament_id      tournament_name  year  start_date    end_date  \\\n",
              "0         1       WC-1930  1930 FIFA World Cup  1930  1930-07-13  1930-07-30   \n",
              "1         2       WC-1934  1934 FIFA World Cup  1934  1934-05-27  1934-06-10   \n",
              "2         3       WC-1938  1938 FIFA World Cup  1938  1938-06-04  1938-06-19   \n",
              "3         4       WC-1950  1950 FIFA World Cup  1950  1950-06-24  1950-07-16   \n",
              "4         5       WC-1954  1954 FIFA World Cup  1954  1954-06-16  1954-07-04   \n",
              "\n",
              "  host_country        winner  host_won  count_teams  ...  final  key_id_y  \\\n",
              "0      Uruguay       Uruguay         1           13  ...      1        13   \n",
              "1        Italy         Italy         1           16  ...      1        28   \n",
              "2       France         Italy         0           15  ...      1        43   \n",
              "3       Brazil       Uruguay         0           13  ...      0        56   \n",
              "4  Switzerland  West Germany         0           16  ...      1        65   \n",
              "\n",
              "   team_id     team_name  team_code  manager_id  family_name  given_name  \\\n",
              "0     T-81       Uruguay        URY       M-331      Suppici     Alberto   \n",
              "1     T-39         Italy        ITA       M-266        Pozzo    Vittorio   \n",
              "2     T-39         Italy        ITA       M-266        Pozzo    Vittorio   \n",
              "3     T-81       Uruguay        URY       M-180        López        Juan   \n",
              "4     T-83  West Germany        DEU       M-121    Herberger        Sepp   \n",
              "\n",
              "   country_name national_manager  \n",
              "0       Uruguay                1  \n",
              "1         Italy                1  \n",
              "2         Italy                1  \n",
              "3       Uruguay                1  \n",
              "4       Germany                0  \n",
              "\n",
              "[5 rows x 27 columns]"
            ],
            "text/html": [
              "\n",
              "  <div id=\"df-6dc75ae4-c45b-4029-9e3e-ac208c7f205f\">\n",
              "    <div class=\"colab-df-container\">\n",
              "      <div>\n",
              "<style scoped>\n",
              "    .dataframe tbody tr th:only-of-type {\n",
              "        vertical-align: middle;\n",
              "    }\n",
              "\n",
              "    .dataframe tbody tr th {\n",
              "        vertical-align: top;\n",
              "    }\n",
              "\n",
              "    .dataframe thead th {\n",
              "        text-align: right;\n",
              "    }\n",
              "</style>\n",
              "<table border=\"1\" class=\"dataframe\">\n",
              "  <thead>\n",
              "    <tr style=\"text-align: right;\">\n",
              "      <th></th>\n",
              "      <th>key_id_x</th>\n",
              "      <th>tournament_id</th>\n",
              "      <th>tournament_name</th>\n",
              "      <th>year</th>\n",
              "      <th>start_date</th>\n",
              "      <th>end_date</th>\n",
              "      <th>host_country</th>\n",
              "      <th>winner</th>\n",
              "      <th>host_won</th>\n",
              "      <th>count_teams</th>\n",
              "      <th>...</th>\n",
              "      <th>final</th>\n",
              "      <th>key_id_y</th>\n",
              "      <th>team_id</th>\n",
              "      <th>team_name</th>\n",
              "      <th>team_code</th>\n",
              "      <th>manager_id</th>\n",
              "      <th>family_name</th>\n",
              "      <th>given_name</th>\n",
              "      <th>country_name</th>\n",
              "      <th>national_manager</th>\n",
              "    </tr>\n",
              "  </thead>\n",
              "  <tbody>\n",
              "    <tr>\n",
              "      <th>0</th>\n",
              "      <td>1</td>\n",
              "      <td>WC-1930</td>\n",
              "      <td>1930 FIFA World Cup</td>\n",
              "      <td>1930</td>\n",
              "      <td>1930-07-13</td>\n",
              "      <td>1930-07-30</td>\n",
              "      <td>Uruguay</td>\n",
              "      <td>Uruguay</td>\n",
              "      <td>1</td>\n",
              "      <td>13</td>\n",
              "      <td>...</td>\n",
              "      <td>1</td>\n",
              "      <td>13</td>\n",
              "      <td>T-81</td>\n",
              "      <td>Uruguay</td>\n",
              "      <td>URY</td>\n",
              "      <td>M-331</td>\n",
              "      <td>Suppici</td>\n",
              "      <td>Alberto</td>\n",
              "      <td>Uruguay</td>\n",
              "      <td>1</td>\n",
              "    </tr>\n",
              "    <tr>\n",
              "      <th>1</th>\n",
              "      <td>2</td>\n",
              "      <td>WC-1934</td>\n",
              "      <td>1934 FIFA World Cup</td>\n",
              "      <td>1934</td>\n",
              "      <td>1934-05-27</td>\n",
              "      <td>1934-06-10</td>\n",
              "      <td>Italy</td>\n",
              "      <td>Italy</td>\n",
              "      <td>1</td>\n",
              "      <td>16</td>\n",
              "      <td>...</td>\n",
              "      <td>1</td>\n",
              "      <td>28</td>\n",
              "      <td>T-39</td>\n",
              "      <td>Italy</td>\n",
              "      <td>ITA</td>\n",
              "      <td>M-266</td>\n",
              "      <td>Pozzo</td>\n",
              "      <td>Vittorio</td>\n",
              "      <td>Italy</td>\n",
              "      <td>1</td>\n",
              "    </tr>\n",
              "    <tr>\n",
              "      <th>2</th>\n",
              "      <td>3</td>\n",
              "      <td>WC-1938</td>\n",
              "      <td>1938 FIFA World Cup</td>\n",
              "      <td>1938</td>\n",
              "      <td>1938-06-04</td>\n",
              "      <td>1938-06-19</td>\n",
              "      <td>France</td>\n",
              "      <td>Italy</td>\n",
              "      <td>0</td>\n",
              "      <td>15</td>\n",
              "      <td>...</td>\n",
              "      <td>1</td>\n",
              "      <td>43</td>\n",
              "      <td>T-39</td>\n",
              "      <td>Italy</td>\n",
              "      <td>ITA</td>\n",
              "      <td>M-266</td>\n",
              "      <td>Pozzo</td>\n",
              "      <td>Vittorio</td>\n",
              "      <td>Italy</td>\n",
              "      <td>1</td>\n",
              "    </tr>\n",
              "    <tr>\n",
              "      <th>3</th>\n",
              "      <td>4</td>\n",
              "      <td>WC-1950</td>\n",
              "      <td>1950 FIFA World Cup</td>\n",
              "      <td>1950</td>\n",
              "      <td>1950-06-24</td>\n",
              "      <td>1950-07-16</td>\n",
              "      <td>Brazil</td>\n",
              "      <td>Uruguay</td>\n",
              "      <td>0</td>\n",
              "      <td>13</td>\n",
              "      <td>...</td>\n",
              "      <td>0</td>\n",
              "      <td>56</td>\n",
              "      <td>T-81</td>\n",
              "      <td>Uruguay</td>\n",
              "      <td>URY</td>\n",
              "      <td>M-180</td>\n",
              "      <td>López</td>\n",
              "      <td>Juan</td>\n",
              "      <td>Uruguay</td>\n",
              "      <td>1</td>\n",
              "    </tr>\n",
              "    <tr>\n",
              "      <th>4</th>\n",
              "      <td>5</td>\n",
              "      <td>WC-1954</td>\n",
              "      <td>1954 FIFA World Cup</td>\n",
              "      <td>1954</td>\n",
              "      <td>1954-06-16</td>\n",
              "      <td>1954-07-04</td>\n",
              "      <td>Switzerland</td>\n",
              "      <td>West Germany</td>\n",
              "      <td>0</td>\n",
              "      <td>16</td>\n",
              "      <td>...</td>\n",
              "      <td>1</td>\n",
              "      <td>65</td>\n",
              "      <td>T-83</td>\n",
              "      <td>West Germany</td>\n",
              "      <td>DEU</td>\n",
              "      <td>M-121</td>\n",
              "      <td>Herberger</td>\n",
              "      <td>Sepp</td>\n",
              "      <td>Germany</td>\n",
              "      <td>0</td>\n",
              "    </tr>\n",
              "  </tbody>\n",
              "</table>\n",
              "<p>5 rows × 27 columns</p>\n",
              "</div>\n",
              "      <button class=\"colab-df-convert\" onclick=\"convertToInteractive('df-6dc75ae4-c45b-4029-9e3e-ac208c7f205f')\"\n",
              "              title=\"Convert this dataframe to an interactive table.\"\n",
              "              style=\"display:none;\">\n",
              "        \n",
              "  <svg xmlns=\"http://www.w3.org/2000/svg\" height=\"24px\"viewBox=\"0 0 24 24\"\n",
              "       width=\"24px\">\n",
              "    <path d=\"M0 0h24v24H0V0z\" fill=\"none\"/>\n",
              "    <path d=\"M18.56 5.44l.94 2.06.94-2.06 2.06-.94-2.06-.94-.94-2.06-.94 2.06-2.06.94zm-11 1L8.5 8.5l.94-2.06 2.06-.94-2.06-.94L8.5 2.5l-.94 2.06-2.06.94zm10 10l.94 2.06.94-2.06 2.06-.94-2.06-.94-.94-2.06-.94 2.06-2.06.94z\"/><path d=\"M17.41 7.96l-1.37-1.37c-.4-.4-.92-.59-1.43-.59-.52 0-1.04.2-1.43.59L10.3 9.45l-7.72 7.72c-.78.78-.78 2.05 0 2.83L4 21.41c.39.39.9.59 1.41.59.51 0 1.02-.2 1.41-.59l7.78-7.78 2.81-2.81c.8-.78.8-2.07 0-2.86zM5.41 20L4 18.59l7.72-7.72 1.47 1.35L5.41 20z\"/>\n",
              "  </svg>\n",
              "      </button>\n",
              "      \n",
              "  <style>\n",
              "    .colab-df-container {\n",
              "      display:flex;\n",
              "      flex-wrap:wrap;\n",
              "      gap: 12px;\n",
              "    }\n",
              "\n",
              "    .colab-df-convert {\n",
              "      background-color: #E8F0FE;\n",
              "      border: none;\n",
              "      border-radius: 50%;\n",
              "      cursor: pointer;\n",
              "      display: none;\n",
              "      fill: #1967D2;\n",
              "      height: 32px;\n",
              "      padding: 0 0 0 0;\n",
              "      width: 32px;\n",
              "    }\n",
              "\n",
              "    .colab-df-convert:hover {\n",
              "      background-color: #E2EBFA;\n",
              "      box-shadow: 0px 1px 2px rgba(60, 64, 67, 0.3), 0px 1px 3px 1px rgba(60, 64, 67, 0.15);\n",
              "      fill: #174EA6;\n",
              "    }\n",
              "\n",
              "    [theme=dark] .colab-df-convert {\n",
              "      background-color: #3B4455;\n",
              "      fill: #D2E3FC;\n",
              "    }\n",
              "\n",
              "    [theme=dark] .colab-df-convert:hover {\n",
              "      background-color: #434B5C;\n",
              "      box-shadow: 0px 1px 3px 1px rgba(0, 0, 0, 0.15);\n",
              "      filter: drop-shadow(0px 1px 2px rgba(0, 0, 0, 0.3));\n",
              "      fill: #FFFFFF;\n",
              "    }\n",
              "  </style>\n",
              "\n",
              "      <script>\n",
              "        const buttonEl =\n",
              "          document.querySelector('#df-6dc75ae4-c45b-4029-9e3e-ac208c7f205f button.colab-df-convert');\n",
              "        buttonEl.style.display =\n",
              "          google.colab.kernel.accessAllowed ? 'block' : 'none';\n",
              "\n",
              "        async function convertToInteractive(key) {\n",
              "          const element = document.querySelector('#df-6dc75ae4-c45b-4029-9e3e-ac208c7f205f');\n",
              "          const dataTable =\n",
              "            await google.colab.kernel.invokeFunction('convertToInteractive',\n",
              "                                                     [key], {});\n",
              "          if (!dataTable) return;\n",
              "\n",
              "          const docLinkHtml = 'Like what you see? Visit the ' +\n",
              "            '<a target=\"_blank\" href=https://colab.research.google.com/notebooks/data_table.ipynb>data table notebook</a>'\n",
              "            + ' to learn more about interactive tables.';\n",
              "          element.innerHTML = '';\n",
              "          dataTable['output_type'] = 'display_data';\n",
              "          await google.colab.output.renderOutput(dataTable, element);\n",
              "          const docLink = document.createElement('div');\n",
              "          docLink.innerHTML = docLinkHtml;\n",
              "          element.appendChild(docLink);\n",
              "        }\n",
              "      </script>\n",
              "    </div>\n",
              "  </div>\n",
              "  "
            ]
          },
          "metadata": {},
          "execution_count": 92
        }
      ]
    },
    {
      "cell_type": "code",
      "source": [
        "contingency_table = pd.crosstab(winner_manager_nationality['winner'],winner_manager_nationality['national_manager'])\n",
        "\n",
        "chi2_stat = chi2_contingency(contingency_table)[0]\n",
        "\n",
        "n = contingency_table.sum().sum()\n",
        "min_dim = min(contingency_table.shape)\n",
        "\n",
        "cramers_v = np.sqrt(chi2_stat / (n * (min_dim - 1)))\n",
        "\n",
        "print(\"Cramer's V:\", cramers_v)"
      ],
      "metadata": {
        "id": "Hmoi2lqeqE1Z",
        "colab": {
          "base_uri": "https://localhost:8080/"
        },
        "outputId": "707ca9db-5a82-4d09-ae9c-09173e6f7092"
      },
      "execution_count": null,
      "outputs": [
        {
          "output_type": "stream",
          "name": "stdout",
          "text": [
            "Cramer's V: 0.9999999999999999\n"
          ]
        }
      ]
    },
    {
      "cell_type": "markdown",
      "source": [
        "And it makes sense because most of the winner teams have a local manager"
      ],
      "metadata": {
        "id": "r7j6DZbKXhie"
      }
    },
    {
      "cell_type": "markdown",
      "source": [
        "##Top Teams Evaluation"
      ],
      "metadata": {
        "id": "-gy3Lb3aM_sl"
      }
    },
    {
      "cell_type": "markdown",
      "source": [
        "###Rank by Title"
      ],
      "metadata": {
        "id": "TXvF18LmORwE"
      }
    },
    {
      "cell_type": "code",
      "source": [
        "tournaments_data['winner'] = tournaments_data['winner'].replace('West Germany', 'Germany')\n",
        "team_winner_count = tournaments_data['winner'].value_counts()\n",
        "fig = px.bar(x=team_winner_count.index, y=team_winner_count.values, title='Count of Teams that Won Tournaments')\n",
        "\n",
        "fig.update_layout(xaxis_title='Team', yaxis_title='Count')\n",
        "\n",
        "fig.show()"
      ],
      "metadata": {
        "colab": {
          "base_uri": "https://localhost:8080/"
        },
        "id": "A1U5QgdcNks2",
        "outputId": "a660effc-d851-4f73-9bfb-1af86a234d71"
      },
      "execution_count": null,
      "outputs": [
        {
          "output_type": "display_data",
          "data": {
            "text/html": [
              "<html>\n",
              "<head><meta charset=\"utf-8\" /></head>\n",
              "<body>\n",
              "    <div>            <script src=\"https://cdnjs.cloudflare.com/ajax/libs/mathjax/2.7.5/MathJax.js?config=TeX-AMS-MML_SVG\"></script><script type=\"text/javascript\">if (window.MathJax && window.MathJax.Hub && window.MathJax.Hub.Config) {window.MathJax.Hub.Config({SVG: {font: \"STIX-Web\"}});}</script>                <script type=\"text/javascript\">window.PlotlyConfig = {MathJaxConfig: 'local'};</script>\n",
              "        <script src=\"https://cdn.plot.ly/plotly-2.18.2.min.js\"></script>                <div id=\"6c48ef3f-4664-4c96-9f49-8b536d6720d8\" class=\"plotly-graph-div\" style=\"height:525px; width:100%;\"></div>            <script type=\"text/javascript\">                                    window.PLOTLYENV=window.PLOTLYENV || {};                                    if (document.getElementById(\"6c48ef3f-4664-4c96-9f49-8b536d6720d8\")) {                    Plotly.newPlot(                        \"6c48ef3f-4664-4c96-9f49-8b536d6720d8\",                        [{\"alignmentgroup\":\"True\",\"hovertemplate\":\"x=%{x}<br>y=%{y}<extra></extra>\",\"legendgroup\":\"\",\"marker\":{\"color\":\"#636efa\",\"pattern\":{\"shape\":\"\"}},\"name\":\"\",\"offsetgroup\":\"\",\"orientation\":\"v\",\"showlegend\":false,\"textposition\":\"auto\",\"x\":[\"Brazil\",\"Italy\",\"Germany\",\"Argentina\",\"Uruguay\",\"France\",\"England\",\"Spain\"],\"xaxis\":\"x\",\"y\":[5,4,4,3,2,2,1,1],\"yaxis\":\"y\",\"type\":\"bar\"}],                        {\"template\":{\"data\":{\"histogram2dcontour\":[{\"type\":\"histogram2dcontour\",\"colorbar\":{\"outlinewidth\":0,\"ticks\":\"\"},\"colorscale\":[[0.0,\"#0d0887\"],[0.1111111111111111,\"#46039f\"],[0.2222222222222222,\"#7201a8\"],[0.3333333333333333,\"#9c179e\"],[0.4444444444444444,\"#bd3786\"],[0.5555555555555556,\"#d8576b\"],[0.6666666666666666,\"#ed7953\"],[0.7777777777777778,\"#fb9f3a\"],[0.8888888888888888,\"#fdca26\"],[1.0,\"#f0f921\"]]}],\"choropleth\":[{\"type\":\"choropleth\",\"colorbar\":{\"outlinewidth\":0,\"ticks\":\"\"}}],\"histogram2d\":[{\"type\":\"histogram2d\",\"colorbar\":{\"outlinewidth\":0,\"ticks\":\"\"},\"colorscale\":[[0.0,\"#0d0887\"],[0.1111111111111111,\"#46039f\"],[0.2222222222222222,\"#7201a8\"],[0.3333333333333333,\"#9c179e\"],[0.4444444444444444,\"#bd3786\"],[0.5555555555555556,\"#d8576b\"],[0.6666666666666666,\"#ed7953\"],[0.7777777777777778,\"#fb9f3a\"],[0.8888888888888888,\"#fdca26\"],[1.0,\"#f0f921\"]]}],\"heatmap\":[{\"type\":\"heatmap\",\"colorbar\":{\"outlinewidth\":0,\"ticks\":\"\"},\"colorscale\":[[0.0,\"#0d0887\"],[0.1111111111111111,\"#46039f\"],[0.2222222222222222,\"#7201a8\"],[0.3333333333333333,\"#9c179e\"],[0.4444444444444444,\"#bd3786\"],[0.5555555555555556,\"#d8576b\"],[0.6666666666666666,\"#ed7953\"],[0.7777777777777778,\"#fb9f3a\"],[0.8888888888888888,\"#fdca26\"],[1.0,\"#f0f921\"]]}],\"heatmapgl\":[{\"type\":\"heatmapgl\",\"colorbar\":{\"outlinewidth\":0,\"ticks\":\"\"},\"colorscale\":[[0.0,\"#0d0887\"],[0.1111111111111111,\"#46039f\"],[0.2222222222222222,\"#7201a8\"],[0.3333333333333333,\"#9c179e\"],[0.4444444444444444,\"#bd3786\"],[0.5555555555555556,\"#d8576b\"],[0.6666666666666666,\"#ed7953\"],[0.7777777777777778,\"#fb9f3a\"],[0.8888888888888888,\"#fdca26\"],[1.0,\"#f0f921\"]]}],\"contourcarpet\":[{\"type\":\"contourcarpet\",\"colorbar\":{\"outlinewidth\":0,\"ticks\":\"\"}}],\"contour\":[{\"type\":\"contour\",\"colorbar\":{\"outlinewidth\":0,\"ticks\":\"\"},\"colorscale\":[[0.0,\"#0d0887\"],[0.1111111111111111,\"#46039f\"],[0.2222222222222222,\"#7201a8\"],[0.3333333333333333,\"#9c179e\"],[0.4444444444444444,\"#bd3786\"],[0.5555555555555556,\"#d8576b\"],[0.6666666666666666,\"#ed7953\"],[0.7777777777777778,\"#fb9f3a\"],[0.8888888888888888,\"#fdca26\"],[1.0,\"#f0f921\"]]}],\"surface\":[{\"type\":\"surface\",\"colorbar\":{\"outlinewidth\":0,\"ticks\":\"\"},\"colorscale\":[[0.0,\"#0d0887\"],[0.1111111111111111,\"#46039f\"],[0.2222222222222222,\"#7201a8\"],[0.3333333333333333,\"#9c179e\"],[0.4444444444444444,\"#bd3786\"],[0.5555555555555556,\"#d8576b\"],[0.6666666666666666,\"#ed7953\"],[0.7777777777777778,\"#fb9f3a\"],[0.8888888888888888,\"#fdca26\"],[1.0,\"#f0f921\"]]}],\"mesh3d\":[{\"type\":\"mesh3d\",\"colorbar\":{\"outlinewidth\":0,\"ticks\":\"\"}}],\"scatter\":[{\"fillpattern\":{\"fillmode\":\"overlay\",\"size\":10,\"solidity\":0.2},\"type\":\"scatter\"}],\"parcoords\":[{\"type\":\"parcoords\",\"line\":{\"colorbar\":{\"outlinewidth\":0,\"ticks\":\"\"}}}],\"scatterpolargl\":[{\"type\":\"scatterpolargl\",\"marker\":{\"colorbar\":{\"outlinewidth\":0,\"ticks\":\"\"}}}],\"bar\":[{\"error_x\":{\"color\":\"#2a3f5f\"},\"error_y\":{\"color\":\"#2a3f5f\"},\"marker\":{\"line\":{\"color\":\"#E5ECF6\",\"width\":0.5},\"pattern\":{\"fillmode\":\"overlay\",\"size\":10,\"solidity\":0.2}},\"type\":\"bar\"}],\"scattergeo\":[{\"type\":\"scattergeo\",\"marker\":{\"colorbar\":{\"outlinewidth\":0,\"ticks\":\"\"}}}],\"scatterpolar\":[{\"type\":\"scatterpolar\",\"marker\":{\"colorbar\":{\"outlinewidth\":0,\"ticks\":\"\"}}}],\"histogram\":[{\"marker\":{\"pattern\":{\"fillmode\":\"overlay\",\"size\":10,\"solidity\":0.2}},\"type\":\"histogram\"}],\"scattergl\":[{\"type\":\"scattergl\",\"marker\":{\"colorbar\":{\"outlinewidth\":0,\"ticks\":\"\"}}}],\"scatter3d\":[{\"type\":\"scatter3d\",\"line\":{\"colorbar\":{\"outlinewidth\":0,\"ticks\":\"\"}},\"marker\":{\"colorbar\":{\"outlinewidth\":0,\"ticks\":\"\"}}}],\"scattermapbox\":[{\"type\":\"scattermapbox\",\"marker\":{\"colorbar\":{\"outlinewidth\":0,\"ticks\":\"\"}}}],\"scatterternary\":[{\"type\":\"scatterternary\",\"marker\":{\"colorbar\":{\"outlinewidth\":0,\"ticks\":\"\"}}}],\"scattercarpet\":[{\"type\":\"scattercarpet\",\"marker\":{\"colorbar\":{\"outlinewidth\":0,\"ticks\":\"\"}}}],\"carpet\":[{\"aaxis\":{\"endlinecolor\":\"#2a3f5f\",\"gridcolor\":\"white\",\"linecolor\":\"white\",\"minorgridcolor\":\"white\",\"startlinecolor\":\"#2a3f5f\"},\"baxis\":{\"endlinecolor\":\"#2a3f5f\",\"gridcolor\":\"white\",\"linecolor\":\"white\",\"minorgridcolor\":\"white\",\"startlinecolor\":\"#2a3f5f\"},\"type\":\"carpet\"}],\"table\":[{\"cells\":{\"fill\":{\"color\":\"#EBF0F8\"},\"line\":{\"color\":\"white\"}},\"header\":{\"fill\":{\"color\":\"#C8D4E3\"},\"line\":{\"color\":\"white\"}},\"type\":\"table\"}],\"barpolar\":[{\"marker\":{\"line\":{\"color\":\"#E5ECF6\",\"width\":0.5},\"pattern\":{\"fillmode\":\"overlay\",\"size\":10,\"solidity\":0.2}},\"type\":\"barpolar\"}],\"pie\":[{\"automargin\":true,\"type\":\"pie\"}]},\"layout\":{\"autotypenumbers\":\"strict\",\"colorway\":[\"#636efa\",\"#EF553B\",\"#00cc96\",\"#ab63fa\",\"#FFA15A\",\"#19d3f3\",\"#FF6692\",\"#B6E880\",\"#FF97FF\",\"#FECB52\"],\"font\":{\"color\":\"#2a3f5f\"},\"hovermode\":\"closest\",\"hoverlabel\":{\"align\":\"left\"},\"paper_bgcolor\":\"white\",\"plot_bgcolor\":\"#E5ECF6\",\"polar\":{\"bgcolor\":\"#E5ECF6\",\"angularaxis\":{\"gridcolor\":\"white\",\"linecolor\":\"white\",\"ticks\":\"\"},\"radialaxis\":{\"gridcolor\":\"white\",\"linecolor\":\"white\",\"ticks\":\"\"}},\"ternary\":{\"bgcolor\":\"#E5ECF6\",\"aaxis\":{\"gridcolor\":\"white\",\"linecolor\":\"white\",\"ticks\":\"\"},\"baxis\":{\"gridcolor\":\"white\",\"linecolor\":\"white\",\"ticks\":\"\"},\"caxis\":{\"gridcolor\":\"white\",\"linecolor\":\"white\",\"ticks\":\"\"}},\"coloraxis\":{\"colorbar\":{\"outlinewidth\":0,\"ticks\":\"\"}},\"colorscale\":{\"sequential\":[[0.0,\"#0d0887\"],[0.1111111111111111,\"#46039f\"],[0.2222222222222222,\"#7201a8\"],[0.3333333333333333,\"#9c179e\"],[0.4444444444444444,\"#bd3786\"],[0.5555555555555556,\"#d8576b\"],[0.6666666666666666,\"#ed7953\"],[0.7777777777777778,\"#fb9f3a\"],[0.8888888888888888,\"#fdca26\"],[1.0,\"#f0f921\"]],\"sequentialminus\":[[0.0,\"#0d0887\"],[0.1111111111111111,\"#46039f\"],[0.2222222222222222,\"#7201a8\"],[0.3333333333333333,\"#9c179e\"],[0.4444444444444444,\"#bd3786\"],[0.5555555555555556,\"#d8576b\"],[0.6666666666666666,\"#ed7953\"],[0.7777777777777778,\"#fb9f3a\"],[0.8888888888888888,\"#fdca26\"],[1.0,\"#f0f921\"]],\"diverging\":[[0,\"#8e0152\"],[0.1,\"#c51b7d\"],[0.2,\"#de77ae\"],[0.3,\"#f1b6da\"],[0.4,\"#fde0ef\"],[0.5,\"#f7f7f7\"],[0.6,\"#e6f5d0\"],[0.7,\"#b8e186\"],[0.8,\"#7fbc41\"],[0.9,\"#4d9221\"],[1,\"#276419\"]]},\"xaxis\":{\"gridcolor\":\"white\",\"linecolor\":\"white\",\"ticks\":\"\",\"title\":{\"standoff\":15},\"zerolinecolor\":\"white\",\"automargin\":true,\"zerolinewidth\":2},\"yaxis\":{\"gridcolor\":\"white\",\"linecolor\":\"white\",\"ticks\":\"\",\"title\":{\"standoff\":15},\"zerolinecolor\":\"white\",\"automargin\":true,\"zerolinewidth\":2},\"scene\":{\"xaxis\":{\"backgroundcolor\":\"#E5ECF6\",\"gridcolor\":\"white\",\"linecolor\":\"white\",\"showbackground\":true,\"ticks\":\"\",\"zerolinecolor\":\"white\",\"gridwidth\":2},\"yaxis\":{\"backgroundcolor\":\"#E5ECF6\",\"gridcolor\":\"white\",\"linecolor\":\"white\",\"showbackground\":true,\"ticks\":\"\",\"zerolinecolor\":\"white\",\"gridwidth\":2},\"zaxis\":{\"backgroundcolor\":\"#E5ECF6\",\"gridcolor\":\"white\",\"linecolor\":\"white\",\"showbackground\":true,\"ticks\":\"\",\"zerolinecolor\":\"white\",\"gridwidth\":2}},\"shapedefaults\":{\"line\":{\"color\":\"#2a3f5f\"}},\"annotationdefaults\":{\"arrowcolor\":\"#2a3f5f\",\"arrowhead\":0,\"arrowwidth\":1},\"geo\":{\"bgcolor\":\"white\",\"landcolor\":\"#E5ECF6\",\"subunitcolor\":\"white\",\"showland\":true,\"showlakes\":true,\"lakecolor\":\"white\"},\"title\":{\"x\":0.05},\"mapbox\":{\"style\":\"light\"}}},\"xaxis\":{\"anchor\":\"y\",\"domain\":[0.0,1.0],\"title\":{\"text\":\"Team\"}},\"yaxis\":{\"anchor\":\"x\",\"domain\":[0.0,1.0],\"title\":{\"text\":\"Count\"}},\"legend\":{\"tracegroupgap\":0},\"title\":{\"text\":\"Count of Teams that Won Tournaments\"},\"barmode\":\"relative\"},                        {\"responsive\": true}                    ).then(function(){\n",
              "                            \n",
              "var gd = document.getElementById('6c48ef3f-4664-4c96-9f49-8b536d6720d8');\n",
              "var x = new MutationObserver(function (mutations, observer) {{\n",
              "        var display = window.getComputedStyle(gd).display;\n",
              "        if (!display || display === 'none') {{\n",
              "            console.log([gd, 'removed!']);\n",
              "            Plotly.purge(gd);\n",
              "            observer.disconnect();\n",
              "        }}\n",
              "}});\n",
              "\n",
              "// Listen for the removal of the full notebook cells\n",
              "var notebookContainer = gd.closest('#notebook-container');\n",
              "if (notebookContainer) {{\n",
              "    x.observe(notebookContainer, {childList: true});\n",
              "}}\n",
              "\n",
              "// Listen for the clearing of the current output cell\n",
              "var outputEl = gd.closest('.output');\n",
              "if (outputEl) {{\n",
              "    x.observe(outputEl, {childList: true});\n",
              "}}\n",
              "\n",
              "                        })                };                            </script>        </div>\n",
              "</body>\n",
              "</html>"
            ]
          },
          "metadata": {}
        }
      ]
    },
    {
      "cell_type": "markdown",
      "source": [
        "###Rank by the number of goals"
      ],
      "metadata": {
        "id": "B7bbSS7bOWXE"
      }
    },
    {
      "cell_type": "code",
      "source": [
        "goals_data['team_name'] = goals_data['team_name'].replace('West Germany', 'Germany')\n",
        "\n",
        "non_own_goals = goals_data[goals_data['own_goal'] == False]\n",
        "\n",
        "team_goal_count = non_own_goals.groupby('team_name')['goal_id'].count().reset_index()\n",
        "team_goal_count.loc[team_goal_count['team_name'].isin(['Germany', 'Germany/West Germany']), 'team_name'] = 'Germany/West Germany'\n",
        "team_goal_count = team_goal_count.sort_values('goal_id', ascending=False)\n",
        "\n",
        "fig = px.bar(team_goal_count, x='team_name', y='goal_id', title='Number of Goals (Excluding Own Goals) by Team')\n",
        "fig.update_layout(xaxis_title='Team', yaxis_title='Goal Count')\n",
        "\n",
        "fig.show()"
      ],
      "metadata": {
        "colab": {
          "base_uri": "https://localhost:8080/"
        },
        "id": "PmdKnXWcObOk",
        "outputId": "64734401-9de8-4021-8a39-2597a7a4be1c"
      },
      "execution_count": null,
      "outputs": [
        {
          "output_type": "display_data",
          "data": {
            "text/html": [
              "<html>\n",
              "<head><meta charset=\"utf-8\" /></head>\n",
              "<body>\n",
              "    <div>            <script src=\"https://cdnjs.cloudflare.com/ajax/libs/mathjax/2.7.5/MathJax.js?config=TeX-AMS-MML_SVG\"></script><script type=\"text/javascript\">if (window.MathJax && window.MathJax.Hub && window.MathJax.Hub.Config) {window.MathJax.Hub.Config({SVG: {font: \"STIX-Web\"}});}</script>                <script type=\"text/javascript\">window.PlotlyConfig = {MathJaxConfig: 'local'};</script>\n",
              "        <script src=\"https://cdn.plot.ly/plotly-2.18.2.min.js\"></script>                <div id=\"59c6208e-5b36-436c-be2f-f33f79c9ff3a\" class=\"plotly-graph-div\" style=\"height:525px; width:100%;\"></div>            <script type=\"text/javascript\">                                    window.PLOTLYENV=window.PLOTLYENV || {};                                    if (document.getElementById(\"59c6208e-5b36-436c-be2f-f33f79c9ff3a\")) {                    Plotly.newPlot(                        \"59c6208e-5b36-436c-be2f-f33f79c9ff3a\",                        [{\"alignmentgroup\":\"True\",\"hovertemplate\":\"team_name=%{x}<br>goal_id=%{y}<extra></extra>\",\"legendgroup\":\"\",\"marker\":{\"color\":\"#636efa\",\"pattern\":{\"shape\":\"\"}},\"name\":\"\",\"offsetgroup\":\"\",\"orientation\":\"v\",\"showlegend\":false,\"textposition\":\"auto\",\"x\":[\"Brazil\",\"Germany/West Germany\",\"Argentina\",\"France\",\"Italy\",\"Spain\",\"England\",\"Netherlands\",\"Uruguay\",\"Hungary\",\"Sweden\",\"Belgium\",\"Mexico\",\"Yugoslavia\",\"Portugal\",\"Switzerland\",\"Soviet Union\",\"Poland\",\"Czechoslovakia\",\"Austria\",\"Croatia\",\"Chile\",\"South Korea\",\"United States\",\"Colombia\",\"Denmark\",\"Romania\",\"Paraguay\",\"Japan\",\"Scotland\",\"Russia\",\"Cameroon\",\"Nigeria\",\"Peru\",\"Costa Rica\",\"Bulgaria\",\"Turkey\",\"Morocco\",\"Ghana\",\"Australia\",\"Senegal\",\"Saudi Arabia\",\"Ecuador\",\"Tunisia\",\"Northern Ireland\",\"Algeria\",\"Ivory Coast\",\"Iran\",\"South Africa\",\"Republic of Ireland\",\"Serbia\",\"North Korea\",\"Norway\",\"Wales\",\"Ukraine\",\"Cuba\",\"Egypt\",\"Greece\",\"Slovenia\",\"Slovakia\",\"East Germany\",\"Bosnia and Herzegovina\",\"New Zealand\",\"Czech Republic\",\"Jamaica\",\"Honduras\",\"United Arab Emirates\",\"Haiti\",\"Iceland\",\"Serbia and Montenegro\",\"Kuwait\",\"Israel\",\"El Salvador\",\"Qatar\",\"Togo\",\"Iraq\",\"Canada\",\"Angola\",\"Bolivia\",\"Panama\"],\"xaxis\":\"x\",\"y\":[236,228,150,130,124,106,102,95,88,85,79,67,62,60,58,55,52,49,44,41,41,39,39,37,32,31,30,28,25,24,23,22,22,21,21,21,20,20,18,16,15,14,14,14,13,13,13,12,11,10,9,6,6,5,5,5,5,5,5,5,4,4,4,3,3,3,2,2,2,2,2,1,1,1,1,1,1,1,1,1],\"yaxis\":\"y\",\"type\":\"bar\"}],                        {\"template\":{\"data\":{\"histogram2dcontour\":[{\"type\":\"histogram2dcontour\",\"colorbar\":{\"outlinewidth\":0,\"ticks\":\"\"},\"colorscale\":[[0.0,\"#0d0887\"],[0.1111111111111111,\"#46039f\"],[0.2222222222222222,\"#7201a8\"],[0.3333333333333333,\"#9c179e\"],[0.4444444444444444,\"#bd3786\"],[0.5555555555555556,\"#d8576b\"],[0.6666666666666666,\"#ed7953\"],[0.7777777777777778,\"#fb9f3a\"],[0.8888888888888888,\"#fdca26\"],[1.0,\"#f0f921\"]]}],\"choropleth\":[{\"type\":\"choropleth\",\"colorbar\":{\"outlinewidth\":0,\"ticks\":\"\"}}],\"histogram2d\":[{\"type\":\"histogram2d\",\"colorbar\":{\"outlinewidth\":0,\"ticks\":\"\"},\"colorscale\":[[0.0,\"#0d0887\"],[0.1111111111111111,\"#46039f\"],[0.2222222222222222,\"#7201a8\"],[0.3333333333333333,\"#9c179e\"],[0.4444444444444444,\"#bd3786\"],[0.5555555555555556,\"#d8576b\"],[0.6666666666666666,\"#ed7953\"],[0.7777777777777778,\"#fb9f3a\"],[0.8888888888888888,\"#fdca26\"],[1.0,\"#f0f921\"]]}],\"heatmap\":[{\"type\":\"heatmap\",\"colorbar\":{\"outlinewidth\":0,\"ticks\":\"\"},\"colorscale\":[[0.0,\"#0d0887\"],[0.1111111111111111,\"#46039f\"],[0.2222222222222222,\"#7201a8\"],[0.3333333333333333,\"#9c179e\"],[0.4444444444444444,\"#bd3786\"],[0.5555555555555556,\"#d8576b\"],[0.6666666666666666,\"#ed7953\"],[0.7777777777777778,\"#fb9f3a\"],[0.8888888888888888,\"#fdca26\"],[1.0,\"#f0f921\"]]}],\"heatmapgl\":[{\"type\":\"heatmapgl\",\"colorbar\":{\"outlinewidth\":0,\"ticks\":\"\"},\"colorscale\":[[0.0,\"#0d0887\"],[0.1111111111111111,\"#46039f\"],[0.2222222222222222,\"#7201a8\"],[0.3333333333333333,\"#9c179e\"],[0.4444444444444444,\"#bd3786\"],[0.5555555555555556,\"#d8576b\"],[0.6666666666666666,\"#ed7953\"],[0.7777777777777778,\"#fb9f3a\"],[0.8888888888888888,\"#fdca26\"],[1.0,\"#f0f921\"]]}],\"contourcarpet\":[{\"type\":\"contourcarpet\",\"colorbar\":{\"outlinewidth\":0,\"ticks\":\"\"}}],\"contour\":[{\"type\":\"contour\",\"colorbar\":{\"outlinewidth\":0,\"ticks\":\"\"},\"colorscale\":[[0.0,\"#0d0887\"],[0.1111111111111111,\"#46039f\"],[0.2222222222222222,\"#7201a8\"],[0.3333333333333333,\"#9c179e\"],[0.4444444444444444,\"#bd3786\"],[0.5555555555555556,\"#d8576b\"],[0.6666666666666666,\"#ed7953\"],[0.7777777777777778,\"#fb9f3a\"],[0.8888888888888888,\"#fdca26\"],[1.0,\"#f0f921\"]]}],\"surface\":[{\"type\":\"surface\",\"colorbar\":{\"outlinewidth\":0,\"ticks\":\"\"},\"colorscale\":[[0.0,\"#0d0887\"],[0.1111111111111111,\"#46039f\"],[0.2222222222222222,\"#7201a8\"],[0.3333333333333333,\"#9c179e\"],[0.4444444444444444,\"#bd3786\"],[0.5555555555555556,\"#d8576b\"],[0.6666666666666666,\"#ed7953\"],[0.7777777777777778,\"#fb9f3a\"],[0.8888888888888888,\"#fdca26\"],[1.0,\"#f0f921\"]]}],\"mesh3d\":[{\"type\":\"mesh3d\",\"colorbar\":{\"outlinewidth\":0,\"ticks\":\"\"}}],\"scatter\":[{\"fillpattern\":{\"fillmode\":\"overlay\",\"size\":10,\"solidity\":0.2},\"type\":\"scatter\"}],\"parcoords\":[{\"type\":\"parcoords\",\"line\":{\"colorbar\":{\"outlinewidth\":0,\"ticks\":\"\"}}}],\"scatterpolargl\":[{\"type\":\"scatterpolargl\",\"marker\":{\"colorbar\":{\"outlinewidth\":0,\"ticks\":\"\"}}}],\"bar\":[{\"error_x\":{\"color\":\"#2a3f5f\"},\"error_y\":{\"color\":\"#2a3f5f\"},\"marker\":{\"line\":{\"color\":\"#E5ECF6\",\"width\":0.5},\"pattern\":{\"fillmode\":\"overlay\",\"size\":10,\"solidity\":0.2}},\"type\":\"bar\"}],\"scattergeo\":[{\"type\":\"scattergeo\",\"marker\":{\"colorbar\":{\"outlinewidth\":0,\"ticks\":\"\"}}}],\"scatterpolar\":[{\"type\":\"scatterpolar\",\"marker\":{\"colorbar\":{\"outlinewidth\":0,\"ticks\":\"\"}}}],\"histogram\":[{\"marker\":{\"pattern\":{\"fillmode\":\"overlay\",\"size\":10,\"solidity\":0.2}},\"type\":\"histogram\"}],\"scattergl\":[{\"type\":\"scattergl\",\"marker\":{\"colorbar\":{\"outlinewidth\":0,\"ticks\":\"\"}}}],\"scatter3d\":[{\"type\":\"scatter3d\",\"line\":{\"colorbar\":{\"outlinewidth\":0,\"ticks\":\"\"}},\"marker\":{\"colorbar\":{\"outlinewidth\":0,\"ticks\":\"\"}}}],\"scattermapbox\":[{\"type\":\"scattermapbox\",\"marker\":{\"colorbar\":{\"outlinewidth\":0,\"ticks\":\"\"}}}],\"scatterternary\":[{\"type\":\"scatterternary\",\"marker\":{\"colorbar\":{\"outlinewidth\":0,\"ticks\":\"\"}}}],\"scattercarpet\":[{\"type\":\"scattercarpet\",\"marker\":{\"colorbar\":{\"outlinewidth\":0,\"ticks\":\"\"}}}],\"carpet\":[{\"aaxis\":{\"endlinecolor\":\"#2a3f5f\",\"gridcolor\":\"white\",\"linecolor\":\"white\",\"minorgridcolor\":\"white\",\"startlinecolor\":\"#2a3f5f\"},\"baxis\":{\"endlinecolor\":\"#2a3f5f\",\"gridcolor\":\"white\",\"linecolor\":\"white\",\"minorgridcolor\":\"white\",\"startlinecolor\":\"#2a3f5f\"},\"type\":\"carpet\"}],\"table\":[{\"cells\":{\"fill\":{\"color\":\"#EBF0F8\"},\"line\":{\"color\":\"white\"}},\"header\":{\"fill\":{\"color\":\"#C8D4E3\"},\"line\":{\"color\":\"white\"}},\"type\":\"table\"}],\"barpolar\":[{\"marker\":{\"line\":{\"color\":\"#E5ECF6\",\"width\":0.5},\"pattern\":{\"fillmode\":\"overlay\",\"size\":10,\"solidity\":0.2}},\"type\":\"barpolar\"}],\"pie\":[{\"automargin\":true,\"type\":\"pie\"}]},\"layout\":{\"autotypenumbers\":\"strict\",\"colorway\":[\"#636efa\",\"#EF553B\",\"#00cc96\",\"#ab63fa\",\"#FFA15A\",\"#19d3f3\",\"#FF6692\",\"#B6E880\",\"#FF97FF\",\"#FECB52\"],\"font\":{\"color\":\"#2a3f5f\"},\"hovermode\":\"closest\",\"hoverlabel\":{\"align\":\"left\"},\"paper_bgcolor\":\"white\",\"plot_bgcolor\":\"#E5ECF6\",\"polar\":{\"bgcolor\":\"#E5ECF6\",\"angularaxis\":{\"gridcolor\":\"white\",\"linecolor\":\"white\",\"ticks\":\"\"},\"radialaxis\":{\"gridcolor\":\"white\",\"linecolor\":\"white\",\"ticks\":\"\"}},\"ternary\":{\"bgcolor\":\"#E5ECF6\",\"aaxis\":{\"gridcolor\":\"white\",\"linecolor\":\"white\",\"ticks\":\"\"},\"baxis\":{\"gridcolor\":\"white\",\"linecolor\":\"white\",\"ticks\":\"\"},\"caxis\":{\"gridcolor\":\"white\",\"linecolor\":\"white\",\"ticks\":\"\"}},\"coloraxis\":{\"colorbar\":{\"outlinewidth\":0,\"ticks\":\"\"}},\"colorscale\":{\"sequential\":[[0.0,\"#0d0887\"],[0.1111111111111111,\"#46039f\"],[0.2222222222222222,\"#7201a8\"],[0.3333333333333333,\"#9c179e\"],[0.4444444444444444,\"#bd3786\"],[0.5555555555555556,\"#d8576b\"],[0.6666666666666666,\"#ed7953\"],[0.7777777777777778,\"#fb9f3a\"],[0.8888888888888888,\"#fdca26\"],[1.0,\"#f0f921\"]],\"sequentialminus\":[[0.0,\"#0d0887\"],[0.1111111111111111,\"#46039f\"],[0.2222222222222222,\"#7201a8\"],[0.3333333333333333,\"#9c179e\"],[0.4444444444444444,\"#bd3786\"],[0.5555555555555556,\"#d8576b\"],[0.6666666666666666,\"#ed7953\"],[0.7777777777777778,\"#fb9f3a\"],[0.8888888888888888,\"#fdca26\"],[1.0,\"#f0f921\"]],\"diverging\":[[0,\"#8e0152\"],[0.1,\"#c51b7d\"],[0.2,\"#de77ae\"],[0.3,\"#f1b6da\"],[0.4,\"#fde0ef\"],[0.5,\"#f7f7f7\"],[0.6,\"#e6f5d0\"],[0.7,\"#b8e186\"],[0.8,\"#7fbc41\"],[0.9,\"#4d9221\"],[1,\"#276419\"]]},\"xaxis\":{\"gridcolor\":\"white\",\"linecolor\":\"white\",\"ticks\":\"\",\"title\":{\"standoff\":15},\"zerolinecolor\":\"white\",\"automargin\":true,\"zerolinewidth\":2},\"yaxis\":{\"gridcolor\":\"white\",\"linecolor\":\"white\",\"ticks\":\"\",\"title\":{\"standoff\":15},\"zerolinecolor\":\"white\",\"automargin\":true,\"zerolinewidth\":2},\"scene\":{\"xaxis\":{\"backgroundcolor\":\"#E5ECF6\",\"gridcolor\":\"white\",\"linecolor\":\"white\",\"showbackground\":true,\"ticks\":\"\",\"zerolinecolor\":\"white\",\"gridwidth\":2},\"yaxis\":{\"backgroundcolor\":\"#E5ECF6\",\"gridcolor\":\"white\",\"linecolor\":\"white\",\"showbackground\":true,\"ticks\":\"\",\"zerolinecolor\":\"white\",\"gridwidth\":2},\"zaxis\":{\"backgroundcolor\":\"#E5ECF6\",\"gridcolor\":\"white\",\"linecolor\":\"white\",\"showbackground\":true,\"ticks\":\"\",\"zerolinecolor\":\"white\",\"gridwidth\":2}},\"shapedefaults\":{\"line\":{\"color\":\"#2a3f5f\"}},\"annotationdefaults\":{\"arrowcolor\":\"#2a3f5f\",\"arrowhead\":0,\"arrowwidth\":1},\"geo\":{\"bgcolor\":\"white\",\"landcolor\":\"#E5ECF6\",\"subunitcolor\":\"white\",\"showland\":true,\"showlakes\":true,\"lakecolor\":\"white\"},\"title\":{\"x\":0.05},\"mapbox\":{\"style\":\"light\"}}},\"xaxis\":{\"anchor\":\"y\",\"domain\":[0.0,1.0],\"title\":{\"text\":\"Team\"}},\"yaxis\":{\"anchor\":\"x\",\"domain\":[0.0,1.0],\"title\":{\"text\":\"Goal Count\"}},\"legend\":{\"tracegroupgap\":0},\"title\":{\"text\":\"Number of Goals (Excluding Own Goals) by Team\"},\"barmode\":\"relative\"},                        {\"responsive\": true}                    ).then(function(){\n",
              "                            \n",
              "var gd = document.getElementById('59c6208e-5b36-436c-be2f-f33f79c9ff3a');\n",
              "var x = new MutationObserver(function (mutations, observer) {{\n",
              "        var display = window.getComputedStyle(gd).display;\n",
              "        if (!display || display === 'none') {{\n",
              "            console.log([gd, 'removed!']);\n",
              "            Plotly.purge(gd);\n",
              "            observer.disconnect();\n",
              "        }}\n",
              "}});\n",
              "\n",
              "// Listen for the removal of the full notebook cells\n",
              "var notebookContainer = gd.closest('#notebook-container');\n",
              "if (notebookContainer) {{\n",
              "    x.observe(notebookContainer, {childList: true});\n",
              "}}\n",
              "\n",
              "// Listen for the clearing of the current output cell\n",
              "var outputEl = gd.closest('.output');\n",
              "if (outputEl) {{\n",
              "    x.observe(outputEl, {childList: true});\n",
              "}}\n",
              "\n",
              "                        })                };                            </script>        </div>\n",
              "</body>\n",
              "</html>"
            ]
          },
          "metadata": {}
        }
      ]
    },
    {
      "cell_type": "markdown",
      "source": [
        "###Rank by the number of Matches"
      ],
      "metadata": {
        "id": "3t17G-aXSopF"
      }
    },
    {
      "cell_type": "code",
      "source": [
        "qualifications_data = pd.read_csv('/content/drive/MyDrive/Datasets/World_Cup Data/qualified_teams.csv')\n",
        "qualifications_data.columns"
      ],
      "metadata": {
        "colab": {
          "base_uri": "https://localhost:8080/"
        },
        "id": "1yMje5k4Sn-F",
        "outputId": "bfe5cabe-96c4-4697-cecd-c96e8a2dccee"
      },
      "execution_count": null,
      "outputs": [
        {
          "output_type": "execute_result",
          "data": {
            "text/plain": [
              "Index(['key_id', 'tournament_id', 'tournament_name', 'team_id', 'team_name',\n",
              "       'team_code', 'count_matches', 'performance'],\n",
              "      dtype='object')"
            ]
          },
          "metadata": {},
          "execution_count": 96
        }
      ]
    },
    {
      "cell_type": "code",
      "source": [
        "team_appearances = qualifications_data.groupby('team_name')['count_matches'].sum().reset_index()\n",
        "\n",
        "team_appearances = team_appearances.sort_values('count_matches', ascending=False)\n",
        "\n",
        "fig = px.bar(team_appearances, x='team_name', y='count_matches', title='Number of Appearances by Team')\n",
        "fig.update_layout(xaxis_title='Team', yaxis_title='Number of Appearances')\n",
        "\n",
        "# Show the plot\n",
        "fig.show()"
      ],
      "metadata": {
        "colab": {
          "base_uri": "https://localhost:8080/"
        },
        "id": "HH-kGLATWGFm",
        "outputId": "f3f4af3e-cc09-4b48-e3bc-37cc5e931dac"
      },
      "execution_count": null,
      "outputs": [
        {
          "output_type": "display_data",
          "data": {
            "text/html": [
              "<html>\n",
              "<head><meta charset=\"utf-8\" /></head>\n",
              "<body>\n",
              "    <div>            <script src=\"https://cdnjs.cloudflare.com/ajax/libs/mathjax/2.7.5/MathJax.js?config=TeX-AMS-MML_SVG\"></script><script type=\"text/javascript\">if (window.MathJax && window.MathJax.Hub && window.MathJax.Hub.Config) {window.MathJax.Hub.Config({SVG: {font: \"STIX-Web\"}});}</script>                <script type=\"text/javascript\">window.PlotlyConfig = {MathJaxConfig: 'local'};</script>\n",
              "        <script src=\"https://cdn.plot.ly/plotly-2.18.2.min.js\"></script>                <div id=\"92913d59-bf9f-417a-95dd-03d7728161b0\" class=\"plotly-graph-div\" style=\"height:525px; width:100%;\"></div>            <script type=\"text/javascript\">                                    window.PLOTLYENV=window.PLOTLYENV || {};                                    if (document.getElementById(\"92913d59-bf9f-417a-95dd-03d7728161b0\")) {                    Plotly.newPlot(                        \"92913d59-bf9f-417a-95dd-03d7728161b0\",                        [{\"alignmentgroup\":\"True\",\"hovertemplate\":\"team_name=%{x}<br>count_matches=%{y}<extra></extra>\",\"legendgroup\":\"\",\"marker\":{\"color\":\"#636efa\",\"pattern\":{\"shape\":\"\"}},\"name\":\"\",\"offsetgroup\":\"\",\"orientation\":\"v\",\"showlegend\":false,\"textposition\":\"auto\",\"x\":[\"Brazil\",\"Argentina\",\"Italy\",\"England\",\"France\",\"Spain\",\"West Germany\",\"Mexico\",\"Uruguay\",\"Netherlands\",\"Belgium\",\"Sweden\",\"Germany\",\"Switzerland\",\"Poland\",\"South Korea\",\"United States\",\"Yugoslavia\",\"Portugal\",\"Chile\",\"Hungary\",\"Soviet Union\",\"Croatia\",\"Czechoslovakia\",\"Austria\",\"Paraguay\",\"Cameroon\",\"Bulgaria\",\"Japan\",\"Morocco\",\"Denmark\",\"Scotland\",\"Colombia\",\"Romania\",\"Costa Rica\",\"Nigeria\",\"Australia\",\"Saudi Arabia\",\"Peru\",\"Iran\",\"Tunisia\",\"Ghana\",\"Russia\",\"Republic of Ireland\",\"Northern Ireland\",\"Algeria\",\"Ecuador\",\"Senegal\",\"Turkey\",\"Greece\",\"South Africa\",\"Ivory Coast\",\"Honduras\",\"Serbia\",\"Norway\",\"Wales\",\"Egypt\",\"North Korea\",\"Canada\",\"Slovenia\",\"Bolivia\",\"New Zealand\",\"East Germany\",\"El Salvador\",\"Ukraine\",\"Slovakia\",\"Togo\",\"United Arab Emirates\",\"Trinidad and Tobago\",\"Kuwait\",\"Serbia and Montenegro\",\"Qatar\",\"Panama\",\"Angola\",\"Jamaica\",\"Israel\",\"Iraq\",\"Iceland\",\"Haiti\",\"Czech Republic\",\"Cuba\",\"China\",\"Bosnia and Herzegovina\",\"Zaire\",\"Dutch East Indies\"],\"xaxis\":\"x\",\"y\":[114,88,83,74,73,67,62,60,59,55,51,51,50,41,38,38,37,37,35,33,32,31,30,30,29,27,26,26,25,23,23,23,22,21,21,21,20,19,18,18,18,15,14,13,13,13,13,12,10,10,9,9,9,9,8,8,7,7,6,6,6,6,6,6,5,4,3,3,3,3,3,3,3,3,3,3,3,3,3,3,3,3,3,3,1],\"yaxis\":\"y\",\"type\":\"bar\"}],                        {\"template\":{\"data\":{\"histogram2dcontour\":[{\"type\":\"histogram2dcontour\",\"colorbar\":{\"outlinewidth\":0,\"ticks\":\"\"},\"colorscale\":[[0.0,\"#0d0887\"],[0.1111111111111111,\"#46039f\"],[0.2222222222222222,\"#7201a8\"],[0.3333333333333333,\"#9c179e\"],[0.4444444444444444,\"#bd3786\"],[0.5555555555555556,\"#d8576b\"],[0.6666666666666666,\"#ed7953\"],[0.7777777777777778,\"#fb9f3a\"],[0.8888888888888888,\"#fdca26\"],[1.0,\"#f0f921\"]]}],\"choropleth\":[{\"type\":\"choropleth\",\"colorbar\":{\"outlinewidth\":0,\"ticks\":\"\"}}],\"histogram2d\":[{\"type\":\"histogram2d\",\"colorbar\":{\"outlinewidth\":0,\"ticks\":\"\"},\"colorscale\":[[0.0,\"#0d0887\"],[0.1111111111111111,\"#46039f\"],[0.2222222222222222,\"#7201a8\"],[0.3333333333333333,\"#9c179e\"],[0.4444444444444444,\"#bd3786\"],[0.5555555555555556,\"#d8576b\"],[0.6666666666666666,\"#ed7953\"],[0.7777777777777778,\"#fb9f3a\"],[0.8888888888888888,\"#fdca26\"],[1.0,\"#f0f921\"]]}],\"heatmap\":[{\"type\":\"heatmap\",\"colorbar\":{\"outlinewidth\":0,\"ticks\":\"\"},\"colorscale\":[[0.0,\"#0d0887\"],[0.1111111111111111,\"#46039f\"],[0.2222222222222222,\"#7201a8\"],[0.3333333333333333,\"#9c179e\"],[0.4444444444444444,\"#bd3786\"],[0.5555555555555556,\"#d8576b\"],[0.6666666666666666,\"#ed7953\"],[0.7777777777777778,\"#fb9f3a\"],[0.8888888888888888,\"#fdca26\"],[1.0,\"#f0f921\"]]}],\"heatmapgl\":[{\"type\":\"heatmapgl\",\"colorbar\":{\"outlinewidth\":0,\"ticks\":\"\"},\"colorscale\":[[0.0,\"#0d0887\"],[0.1111111111111111,\"#46039f\"],[0.2222222222222222,\"#7201a8\"],[0.3333333333333333,\"#9c179e\"],[0.4444444444444444,\"#bd3786\"],[0.5555555555555556,\"#d8576b\"],[0.6666666666666666,\"#ed7953\"],[0.7777777777777778,\"#fb9f3a\"],[0.8888888888888888,\"#fdca26\"],[1.0,\"#f0f921\"]]}],\"contourcarpet\":[{\"type\":\"contourcarpet\",\"colorbar\":{\"outlinewidth\":0,\"ticks\":\"\"}}],\"contour\":[{\"type\":\"contour\",\"colorbar\":{\"outlinewidth\":0,\"ticks\":\"\"},\"colorscale\":[[0.0,\"#0d0887\"],[0.1111111111111111,\"#46039f\"],[0.2222222222222222,\"#7201a8\"],[0.3333333333333333,\"#9c179e\"],[0.4444444444444444,\"#bd3786\"],[0.5555555555555556,\"#d8576b\"],[0.6666666666666666,\"#ed7953\"],[0.7777777777777778,\"#fb9f3a\"],[0.8888888888888888,\"#fdca26\"],[1.0,\"#f0f921\"]]}],\"surface\":[{\"type\":\"surface\",\"colorbar\":{\"outlinewidth\":0,\"ticks\":\"\"},\"colorscale\":[[0.0,\"#0d0887\"],[0.1111111111111111,\"#46039f\"],[0.2222222222222222,\"#7201a8\"],[0.3333333333333333,\"#9c179e\"],[0.4444444444444444,\"#bd3786\"],[0.5555555555555556,\"#d8576b\"],[0.6666666666666666,\"#ed7953\"],[0.7777777777777778,\"#fb9f3a\"],[0.8888888888888888,\"#fdca26\"],[1.0,\"#f0f921\"]]}],\"mesh3d\":[{\"type\":\"mesh3d\",\"colorbar\":{\"outlinewidth\":0,\"ticks\":\"\"}}],\"scatter\":[{\"fillpattern\":{\"fillmode\":\"overlay\",\"size\":10,\"solidity\":0.2},\"type\":\"scatter\"}],\"parcoords\":[{\"type\":\"parcoords\",\"line\":{\"colorbar\":{\"outlinewidth\":0,\"ticks\":\"\"}}}],\"scatterpolargl\":[{\"type\":\"scatterpolargl\",\"marker\":{\"colorbar\":{\"outlinewidth\":0,\"ticks\":\"\"}}}],\"bar\":[{\"error_x\":{\"color\":\"#2a3f5f\"},\"error_y\":{\"color\":\"#2a3f5f\"},\"marker\":{\"line\":{\"color\":\"#E5ECF6\",\"width\":0.5},\"pattern\":{\"fillmode\":\"overlay\",\"size\":10,\"solidity\":0.2}},\"type\":\"bar\"}],\"scattergeo\":[{\"type\":\"scattergeo\",\"marker\":{\"colorbar\":{\"outlinewidth\":0,\"ticks\":\"\"}}}],\"scatterpolar\":[{\"type\":\"scatterpolar\",\"marker\":{\"colorbar\":{\"outlinewidth\":0,\"ticks\":\"\"}}}],\"histogram\":[{\"marker\":{\"pattern\":{\"fillmode\":\"overlay\",\"size\":10,\"solidity\":0.2}},\"type\":\"histogram\"}],\"scattergl\":[{\"type\":\"scattergl\",\"marker\":{\"colorbar\":{\"outlinewidth\":0,\"ticks\":\"\"}}}],\"scatter3d\":[{\"type\":\"scatter3d\",\"line\":{\"colorbar\":{\"outlinewidth\":0,\"ticks\":\"\"}},\"marker\":{\"colorbar\":{\"outlinewidth\":0,\"ticks\":\"\"}}}],\"scattermapbox\":[{\"type\":\"scattermapbox\",\"marker\":{\"colorbar\":{\"outlinewidth\":0,\"ticks\":\"\"}}}],\"scatterternary\":[{\"type\":\"scatterternary\",\"marker\":{\"colorbar\":{\"outlinewidth\":0,\"ticks\":\"\"}}}],\"scattercarpet\":[{\"type\":\"scattercarpet\",\"marker\":{\"colorbar\":{\"outlinewidth\":0,\"ticks\":\"\"}}}],\"carpet\":[{\"aaxis\":{\"endlinecolor\":\"#2a3f5f\",\"gridcolor\":\"white\",\"linecolor\":\"white\",\"minorgridcolor\":\"white\",\"startlinecolor\":\"#2a3f5f\"},\"baxis\":{\"endlinecolor\":\"#2a3f5f\",\"gridcolor\":\"white\",\"linecolor\":\"white\",\"minorgridcolor\":\"white\",\"startlinecolor\":\"#2a3f5f\"},\"type\":\"carpet\"}],\"table\":[{\"cells\":{\"fill\":{\"color\":\"#EBF0F8\"},\"line\":{\"color\":\"white\"}},\"header\":{\"fill\":{\"color\":\"#C8D4E3\"},\"line\":{\"color\":\"white\"}},\"type\":\"table\"}],\"barpolar\":[{\"marker\":{\"line\":{\"color\":\"#E5ECF6\",\"width\":0.5},\"pattern\":{\"fillmode\":\"overlay\",\"size\":10,\"solidity\":0.2}},\"type\":\"barpolar\"}],\"pie\":[{\"automargin\":true,\"type\":\"pie\"}]},\"layout\":{\"autotypenumbers\":\"strict\",\"colorway\":[\"#636efa\",\"#EF553B\",\"#00cc96\",\"#ab63fa\",\"#FFA15A\",\"#19d3f3\",\"#FF6692\",\"#B6E880\",\"#FF97FF\",\"#FECB52\"],\"font\":{\"color\":\"#2a3f5f\"},\"hovermode\":\"closest\",\"hoverlabel\":{\"align\":\"left\"},\"paper_bgcolor\":\"white\",\"plot_bgcolor\":\"#E5ECF6\",\"polar\":{\"bgcolor\":\"#E5ECF6\",\"angularaxis\":{\"gridcolor\":\"white\",\"linecolor\":\"white\",\"ticks\":\"\"},\"radialaxis\":{\"gridcolor\":\"white\",\"linecolor\":\"white\",\"ticks\":\"\"}},\"ternary\":{\"bgcolor\":\"#E5ECF6\",\"aaxis\":{\"gridcolor\":\"white\",\"linecolor\":\"white\",\"ticks\":\"\"},\"baxis\":{\"gridcolor\":\"white\",\"linecolor\":\"white\",\"ticks\":\"\"},\"caxis\":{\"gridcolor\":\"white\",\"linecolor\":\"white\",\"ticks\":\"\"}},\"coloraxis\":{\"colorbar\":{\"outlinewidth\":0,\"ticks\":\"\"}},\"colorscale\":{\"sequential\":[[0.0,\"#0d0887\"],[0.1111111111111111,\"#46039f\"],[0.2222222222222222,\"#7201a8\"],[0.3333333333333333,\"#9c179e\"],[0.4444444444444444,\"#bd3786\"],[0.5555555555555556,\"#d8576b\"],[0.6666666666666666,\"#ed7953\"],[0.7777777777777778,\"#fb9f3a\"],[0.8888888888888888,\"#fdca26\"],[1.0,\"#f0f921\"]],\"sequentialminus\":[[0.0,\"#0d0887\"],[0.1111111111111111,\"#46039f\"],[0.2222222222222222,\"#7201a8\"],[0.3333333333333333,\"#9c179e\"],[0.4444444444444444,\"#bd3786\"],[0.5555555555555556,\"#d8576b\"],[0.6666666666666666,\"#ed7953\"],[0.7777777777777778,\"#fb9f3a\"],[0.8888888888888888,\"#fdca26\"],[1.0,\"#f0f921\"]],\"diverging\":[[0,\"#8e0152\"],[0.1,\"#c51b7d\"],[0.2,\"#de77ae\"],[0.3,\"#f1b6da\"],[0.4,\"#fde0ef\"],[0.5,\"#f7f7f7\"],[0.6,\"#e6f5d0\"],[0.7,\"#b8e186\"],[0.8,\"#7fbc41\"],[0.9,\"#4d9221\"],[1,\"#276419\"]]},\"xaxis\":{\"gridcolor\":\"white\",\"linecolor\":\"white\",\"ticks\":\"\",\"title\":{\"standoff\":15},\"zerolinecolor\":\"white\",\"automargin\":true,\"zerolinewidth\":2},\"yaxis\":{\"gridcolor\":\"white\",\"linecolor\":\"white\",\"ticks\":\"\",\"title\":{\"standoff\":15},\"zerolinecolor\":\"white\",\"automargin\":true,\"zerolinewidth\":2},\"scene\":{\"xaxis\":{\"backgroundcolor\":\"#E5ECF6\",\"gridcolor\":\"white\",\"linecolor\":\"white\",\"showbackground\":true,\"ticks\":\"\",\"zerolinecolor\":\"white\",\"gridwidth\":2},\"yaxis\":{\"backgroundcolor\":\"#E5ECF6\",\"gridcolor\":\"white\",\"linecolor\":\"white\",\"showbackground\":true,\"ticks\":\"\",\"zerolinecolor\":\"white\",\"gridwidth\":2},\"zaxis\":{\"backgroundcolor\":\"#E5ECF6\",\"gridcolor\":\"white\",\"linecolor\":\"white\",\"showbackground\":true,\"ticks\":\"\",\"zerolinecolor\":\"white\",\"gridwidth\":2}},\"shapedefaults\":{\"line\":{\"color\":\"#2a3f5f\"}},\"annotationdefaults\":{\"arrowcolor\":\"#2a3f5f\",\"arrowhead\":0,\"arrowwidth\":1},\"geo\":{\"bgcolor\":\"white\",\"landcolor\":\"#E5ECF6\",\"subunitcolor\":\"white\",\"showland\":true,\"showlakes\":true,\"lakecolor\":\"white\"},\"title\":{\"x\":0.05},\"mapbox\":{\"style\":\"light\"}}},\"xaxis\":{\"anchor\":\"y\",\"domain\":[0.0,1.0],\"title\":{\"text\":\"Team\"}},\"yaxis\":{\"anchor\":\"x\",\"domain\":[0.0,1.0],\"title\":{\"text\":\"Number of Appearances\"}},\"legend\":{\"tracegroupgap\":0},\"title\":{\"text\":\"Number of Appearances by Team\"},\"barmode\":\"relative\"},                        {\"responsive\": true}                    ).then(function(){\n",
              "                            \n",
              "var gd = document.getElementById('92913d59-bf9f-417a-95dd-03d7728161b0');\n",
              "var x = new MutationObserver(function (mutations, observer) {{\n",
              "        var display = window.getComputedStyle(gd).display;\n",
              "        if (!display || display === 'none') {{\n",
              "            console.log([gd, 'removed!']);\n",
              "            Plotly.purge(gd);\n",
              "            observer.disconnect();\n",
              "        }}\n",
              "}});\n",
              "\n",
              "// Listen for the removal of the full notebook cells\n",
              "var notebookContainer = gd.closest('#notebook-container');\n",
              "if (notebookContainer) {{\n",
              "    x.observe(notebookContainer, {childList: true});\n",
              "}}\n",
              "\n",
              "// Listen for the clearing of the current output cell\n",
              "var outputEl = gd.closest('.output');\n",
              "if (outputEl) {{\n",
              "    x.observe(outputEl, {childList: true});\n",
              "}}\n",
              "\n",
              "                        })                };                            </script>        </div>\n",
              "</body>\n",
              "</html>"
            ]
          },
          "metadata": {}
        }
      ]
    },
    {
      "cell_type": "markdown",
      "source": [
        "###Rank by the number of qualifications Times"
      ],
      "metadata": {
        "id": "Tk3GBTy3WfdF"
      }
    },
    {
      "cell_type": "code",
      "source": [
        "team_unique_tournaments = qualifications_data.groupby('team_name')['tournament_id'].nunique().reset_index()\n",
        "team_unique_tournaments = team_unique_tournaments.rename(columns={'tournament_id': 'unique_tournaments'})\n",
        "\n",
        "team_unique_tournaments = team_unique_tournaments.sort_values('unique_tournaments', ascending=False)\n",
        "\n",
        "fig = px.bar(team_unique_tournaments, x='team_name', y='unique_tournaments', title='Number of Unique Tournament Appearances by Team')\n",
        "fig.update_layout(xaxis_title='Team', yaxis_title='Number of Unique Tournaments Appearances')\n",
        "\n",
        "fig.show()"
      ],
      "metadata": {
        "colab": {
          "base_uri": "https://localhost:8080/"
        },
        "id": "KUCGlwkXWkPH",
        "outputId": "20179829-8d50-47e2-d88a-2af70df08be0"
      },
      "execution_count": null,
      "outputs": [
        {
          "output_type": "display_data",
          "data": {
            "text/html": [
              "<html>\n",
              "<head><meta charset=\"utf-8\" /></head>\n",
              "<body>\n",
              "    <div>            <script src=\"https://cdnjs.cloudflare.com/ajax/libs/mathjax/2.7.5/MathJax.js?config=TeX-AMS-MML_SVG\"></script><script type=\"text/javascript\">if (window.MathJax && window.MathJax.Hub && window.MathJax.Hub.Config) {window.MathJax.Hub.Config({SVG: {font: \"STIX-Web\"}});}</script>                <script type=\"text/javascript\">window.PlotlyConfig = {MathJaxConfig: 'local'};</script>\n",
              "        <script src=\"https://cdn.plot.ly/plotly-2.18.2.min.js\"></script>                <div id=\"3c369f0e-66c8-4abc-b218-58c1e5ab5275\" class=\"plotly-graph-div\" style=\"height:525px; width:100%;\"></div>            <script type=\"text/javascript\">                                    window.PLOTLYENV=window.PLOTLYENV || {};                                    if (document.getElementById(\"3c369f0e-66c8-4abc-b218-58c1e5ab5275\")) {                    Plotly.newPlot(                        \"3c369f0e-66c8-4abc-b218-58c1e5ab5275\",                        [{\"alignmentgroup\":\"True\",\"hovertemplate\":\"team_name=%{x}<br>unique_tournaments=%{y}<extra></extra>\",\"legendgroup\":\"\",\"marker\":{\"color\":\"#636efa\",\"pattern\":{\"shape\":\"\"}},\"name\":\"\",\"offsetgroup\":\"\",\"orientation\":\"v\",\"showlegend\":false,\"textposition\":\"auto\",\"x\":[\"Brazil\",\"Argentina\",\"Italy\",\"Mexico\",\"France\",\"Spain\",\"England\",\"Belgium\",\"Uruguay\",\"Switzerland\",\"Sweden\",\"Netherlands\",\"South Korea\",\"United States\",\"Germany\",\"West Germany\",\"Poland\",\"Hungary\",\"Chile\",\"Yugoslavia\",\"Scotland\",\"Paraguay\",\"Czechoslovakia\",\"Portugal\",\"Cameroon\",\"Bulgaria\",\"Soviet Union\",\"Austria\",\"Japan\",\"Romania\",\"Saudi Arabia\",\"Croatia\",\"Colombia\",\"Nigeria\",\"Iran\",\"Tunisia\",\"Denmark\",\"Morocco\",\"Australia\",\"Costa Rica\",\"Peru\",\"Russia\",\"Algeria\",\"Ghana\",\"Ecuador\",\"Egypt\",\"Bolivia\",\"Serbia\",\"Senegal\",\"Northern Ireland\",\"Norway\",\"South Africa\",\"Honduras\",\"Greece\",\"Ivory Coast\",\"Republic of Ireland\",\"Canada\",\"Wales\",\"Slovenia\",\"El Salvador\",\"North Korea\",\"Turkey\",\"New Zealand\",\"United Arab Emirates\",\"Ukraine\",\"Trinidad and Tobago\",\"Togo\",\"Kuwait\",\"Slovakia\",\"Haiti\",\"Bosnia and Herzegovina\",\"China\",\"Cuba\",\"Czech Republic\",\"Dutch East Indies\",\"East Germany\",\"Iceland\",\"Serbia and Montenegro\",\"Iraq\",\"Israel\",\"Jamaica\",\"Angola\",\"Panama\",\"Qatar\",\"Zaire\"],\"xaxis\":\"x\",\"y\":[22,18,18,17,16,16,16,14,14,12,12,11,11,11,10,10,9,9,9,9,8,8,8,8,8,7,7,7,7,7,6,6,6,6,6,6,6,6,6,6,5,4,4,4,4,3,3,3,3,3,3,3,3,3,3,3,2,2,2,2,2,2,2,1,1,1,1,1,1,1,1,1,1,1,1,1,1,1,1,1,1,1,1,1,1],\"yaxis\":\"y\",\"type\":\"bar\"}],                        {\"template\":{\"data\":{\"histogram2dcontour\":[{\"type\":\"histogram2dcontour\",\"colorbar\":{\"outlinewidth\":0,\"ticks\":\"\"},\"colorscale\":[[0.0,\"#0d0887\"],[0.1111111111111111,\"#46039f\"],[0.2222222222222222,\"#7201a8\"],[0.3333333333333333,\"#9c179e\"],[0.4444444444444444,\"#bd3786\"],[0.5555555555555556,\"#d8576b\"],[0.6666666666666666,\"#ed7953\"],[0.7777777777777778,\"#fb9f3a\"],[0.8888888888888888,\"#fdca26\"],[1.0,\"#f0f921\"]]}],\"choropleth\":[{\"type\":\"choropleth\",\"colorbar\":{\"outlinewidth\":0,\"ticks\":\"\"}}],\"histogram2d\":[{\"type\":\"histogram2d\",\"colorbar\":{\"outlinewidth\":0,\"ticks\":\"\"},\"colorscale\":[[0.0,\"#0d0887\"],[0.1111111111111111,\"#46039f\"],[0.2222222222222222,\"#7201a8\"],[0.3333333333333333,\"#9c179e\"],[0.4444444444444444,\"#bd3786\"],[0.5555555555555556,\"#d8576b\"],[0.6666666666666666,\"#ed7953\"],[0.7777777777777778,\"#fb9f3a\"],[0.8888888888888888,\"#fdca26\"],[1.0,\"#f0f921\"]]}],\"heatmap\":[{\"type\":\"heatmap\",\"colorbar\":{\"outlinewidth\":0,\"ticks\":\"\"},\"colorscale\":[[0.0,\"#0d0887\"],[0.1111111111111111,\"#46039f\"],[0.2222222222222222,\"#7201a8\"],[0.3333333333333333,\"#9c179e\"],[0.4444444444444444,\"#bd3786\"],[0.5555555555555556,\"#d8576b\"],[0.6666666666666666,\"#ed7953\"],[0.7777777777777778,\"#fb9f3a\"],[0.8888888888888888,\"#fdca26\"],[1.0,\"#f0f921\"]]}],\"heatmapgl\":[{\"type\":\"heatmapgl\",\"colorbar\":{\"outlinewidth\":0,\"ticks\":\"\"},\"colorscale\":[[0.0,\"#0d0887\"],[0.1111111111111111,\"#46039f\"],[0.2222222222222222,\"#7201a8\"],[0.3333333333333333,\"#9c179e\"],[0.4444444444444444,\"#bd3786\"],[0.5555555555555556,\"#d8576b\"],[0.6666666666666666,\"#ed7953\"],[0.7777777777777778,\"#fb9f3a\"],[0.8888888888888888,\"#fdca26\"],[1.0,\"#f0f921\"]]}],\"contourcarpet\":[{\"type\":\"contourcarpet\",\"colorbar\":{\"outlinewidth\":0,\"ticks\":\"\"}}],\"contour\":[{\"type\":\"contour\",\"colorbar\":{\"outlinewidth\":0,\"ticks\":\"\"},\"colorscale\":[[0.0,\"#0d0887\"],[0.1111111111111111,\"#46039f\"],[0.2222222222222222,\"#7201a8\"],[0.3333333333333333,\"#9c179e\"],[0.4444444444444444,\"#bd3786\"],[0.5555555555555556,\"#d8576b\"],[0.6666666666666666,\"#ed7953\"],[0.7777777777777778,\"#fb9f3a\"],[0.8888888888888888,\"#fdca26\"],[1.0,\"#f0f921\"]]}],\"surface\":[{\"type\":\"surface\",\"colorbar\":{\"outlinewidth\":0,\"ticks\":\"\"},\"colorscale\":[[0.0,\"#0d0887\"],[0.1111111111111111,\"#46039f\"],[0.2222222222222222,\"#7201a8\"],[0.3333333333333333,\"#9c179e\"],[0.4444444444444444,\"#bd3786\"],[0.5555555555555556,\"#d8576b\"],[0.6666666666666666,\"#ed7953\"],[0.7777777777777778,\"#fb9f3a\"],[0.8888888888888888,\"#fdca26\"],[1.0,\"#f0f921\"]]}],\"mesh3d\":[{\"type\":\"mesh3d\",\"colorbar\":{\"outlinewidth\":0,\"ticks\":\"\"}}],\"scatter\":[{\"fillpattern\":{\"fillmode\":\"overlay\",\"size\":10,\"solidity\":0.2},\"type\":\"scatter\"}],\"parcoords\":[{\"type\":\"parcoords\",\"line\":{\"colorbar\":{\"outlinewidth\":0,\"ticks\":\"\"}}}],\"scatterpolargl\":[{\"type\":\"scatterpolargl\",\"marker\":{\"colorbar\":{\"outlinewidth\":0,\"ticks\":\"\"}}}],\"bar\":[{\"error_x\":{\"color\":\"#2a3f5f\"},\"error_y\":{\"color\":\"#2a3f5f\"},\"marker\":{\"line\":{\"color\":\"#E5ECF6\",\"width\":0.5},\"pattern\":{\"fillmode\":\"overlay\",\"size\":10,\"solidity\":0.2}},\"type\":\"bar\"}],\"scattergeo\":[{\"type\":\"scattergeo\",\"marker\":{\"colorbar\":{\"outlinewidth\":0,\"ticks\":\"\"}}}],\"scatterpolar\":[{\"type\":\"scatterpolar\",\"marker\":{\"colorbar\":{\"outlinewidth\":0,\"ticks\":\"\"}}}],\"histogram\":[{\"marker\":{\"pattern\":{\"fillmode\":\"overlay\",\"size\":10,\"solidity\":0.2}},\"type\":\"histogram\"}],\"scattergl\":[{\"type\":\"scattergl\",\"marker\":{\"colorbar\":{\"outlinewidth\":0,\"ticks\":\"\"}}}],\"scatter3d\":[{\"type\":\"scatter3d\",\"line\":{\"colorbar\":{\"outlinewidth\":0,\"ticks\":\"\"}},\"marker\":{\"colorbar\":{\"outlinewidth\":0,\"ticks\":\"\"}}}],\"scattermapbox\":[{\"type\":\"scattermapbox\",\"marker\":{\"colorbar\":{\"outlinewidth\":0,\"ticks\":\"\"}}}],\"scatterternary\":[{\"type\":\"scatterternary\",\"marker\":{\"colorbar\":{\"outlinewidth\":0,\"ticks\":\"\"}}}],\"scattercarpet\":[{\"type\":\"scattercarpet\",\"marker\":{\"colorbar\":{\"outlinewidth\":0,\"ticks\":\"\"}}}],\"carpet\":[{\"aaxis\":{\"endlinecolor\":\"#2a3f5f\",\"gridcolor\":\"white\",\"linecolor\":\"white\",\"minorgridcolor\":\"white\",\"startlinecolor\":\"#2a3f5f\"},\"baxis\":{\"endlinecolor\":\"#2a3f5f\",\"gridcolor\":\"white\",\"linecolor\":\"white\",\"minorgridcolor\":\"white\",\"startlinecolor\":\"#2a3f5f\"},\"type\":\"carpet\"}],\"table\":[{\"cells\":{\"fill\":{\"color\":\"#EBF0F8\"},\"line\":{\"color\":\"white\"}},\"header\":{\"fill\":{\"color\":\"#C8D4E3\"},\"line\":{\"color\":\"white\"}},\"type\":\"table\"}],\"barpolar\":[{\"marker\":{\"line\":{\"color\":\"#E5ECF6\",\"width\":0.5},\"pattern\":{\"fillmode\":\"overlay\",\"size\":10,\"solidity\":0.2}},\"type\":\"barpolar\"}],\"pie\":[{\"automargin\":true,\"type\":\"pie\"}]},\"layout\":{\"autotypenumbers\":\"strict\",\"colorway\":[\"#636efa\",\"#EF553B\",\"#00cc96\",\"#ab63fa\",\"#FFA15A\",\"#19d3f3\",\"#FF6692\",\"#B6E880\",\"#FF97FF\",\"#FECB52\"],\"font\":{\"color\":\"#2a3f5f\"},\"hovermode\":\"closest\",\"hoverlabel\":{\"align\":\"left\"},\"paper_bgcolor\":\"white\",\"plot_bgcolor\":\"#E5ECF6\",\"polar\":{\"bgcolor\":\"#E5ECF6\",\"angularaxis\":{\"gridcolor\":\"white\",\"linecolor\":\"white\",\"ticks\":\"\"},\"radialaxis\":{\"gridcolor\":\"white\",\"linecolor\":\"white\",\"ticks\":\"\"}},\"ternary\":{\"bgcolor\":\"#E5ECF6\",\"aaxis\":{\"gridcolor\":\"white\",\"linecolor\":\"white\",\"ticks\":\"\"},\"baxis\":{\"gridcolor\":\"white\",\"linecolor\":\"white\",\"ticks\":\"\"},\"caxis\":{\"gridcolor\":\"white\",\"linecolor\":\"white\",\"ticks\":\"\"}},\"coloraxis\":{\"colorbar\":{\"outlinewidth\":0,\"ticks\":\"\"}},\"colorscale\":{\"sequential\":[[0.0,\"#0d0887\"],[0.1111111111111111,\"#46039f\"],[0.2222222222222222,\"#7201a8\"],[0.3333333333333333,\"#9c179e\"],[0.4444444444444444,\"#bd3786\"],[0.5555555555555556,\"#d8576b\"],[0.6666666666666666,\"#ed7953\"],[0.7777777777777778,\"#fb9f3a\"],[0.8888888888888888,\"#fdca26\"],[1.0,\"#f0f921\"]],\"sequentialminus\":[[0.0,\"#0d0887\"],[0.1111111111111111,\"#46039f\"],[0.2222222222222222,\"#7201a8\"],[0.3333333333333333,\"#9c179e\"],[0.4444444444444444,\"#bd3786\"],[0.5555555555555556,\"#d8576b\"],[0.6666666666666666,\"#ed7953\"],[0.7777777777777778,\"#fb9f3a\"],[0.8888888888888888,\"#fdca26\"],[1.0,\"#f0f921\"]],\"diverging\":[[0,\"#8e0152\"],[0.1,\"#c51b7d\"],[0.2,\"#de77ae\"],[0.3,\"#f1b6da\"],[0.4,\"#fde0ef\"],[0.5,\"#f7f7f7\"],[0.6,\"#e6f5d0\"],[0.7,\"#b8e186\"],[0.8,\"#7fbc41\"],[0.9,\"#4d9221\"],[1,\"#276419\"]]},\"xaxis\":{\"gridcolor\":\"white\",\"linecolor\":\"white\",\"ticks\":\"\",\"title\":{\"standoff\":15},\"zerolinecolor\":\"white\",\"automargin\":true,\"zerolinewidth\":2},\"yaxis\":{\"gridcolor\":\"white\",\"linecolor\":\"white\",\"ticks\":\"\",\"title\":{\"standoff\":15},\"zerolinecolor\":\"white\",\"automargin\":true,\"zerolinewidth\":2},\"scene\":{\"xaxis\":{\"backgroundcolor\":\"#E5ECF6\",\"gridcolor\":\"white\",\"linecolor\":\"white\",\"showbackground\":true,\"ticks\":\"\",\"zerolinecolor\":\"white\",\"gridwidth\":2},\"yaxis\":{\"backgroundcolor\":\"#E5ECF6\",\"gridcolor\":\"white\",\"linecolor\":\"white\",\"showbackground\":true,\"ticks\":\"\",\"zerolinecolor\":\"white\",\"gridwidth\":2},\"zaxis\":{\"backgroundcolor\":\"#E5ECF6\",\"gridcolor\":\"white\",\"linecolor\":\"white\",\"showbackground\":true,\"ticks\":\"\",\"zerolinecolor\":\"white\",\"gridwidth\":2}},\"shapedefaults\":{\"line\":{\"color\":\"#2a3f5f\"}},\"annotationdefaults\":{\"arrowcolor\":\"#2a3f5f\",\"arrowhead\":0,\"arrowwidth\":1},\"geo\":{\"bgcolor\":\"white\",\"landcolor\":\"#E5ECF6\",\"subunitcolor\":\"white\",\"showland\":true,\"showlakes\":true,\"lakecolor\":\"white\"},\"title\":{\"x\":0.05},\"mapbox\":{\"style\":\"light\"}}},\"xaxis\":{\"anchor\":\"y\",\"domain\":[0.0,1.0],\"title\":{\"text\":\"Team\"}},\"yaxis\":{\"anchor\":\"x\",\"domain\":[0.0,1.0],\"title\":{\"text\":\"Number of Unique Tournaments Appearances\"}},\"legend\":{\"tracegroupgap\":0},\"title\":{\"text\":\"Number of Unique Tournament Appearances by Team\"},\"barmode\":\"relative\"},                        {\"responsive\": true}                    ).then(function(){\n",
              "                            \n",
              "var gd = document.getElementById('3c369f0e-66c8-4abc-b218-58c1e5ab5275');\n",
              "var x = new MutationObserver(function (mutations, observer) {{\n",
              "        var display = window.getComputedStyle(gd).display;\n",
              "        if (!display || display === 'none') {{\n",
              "            console.log([gd, 'removed!']);\n",
              "            Plotly.purge(gd);\n",
              "            observer.disconnect();\n",
              "        }}\n",
              "}});\n",
              "\n",
              "// Listen for the removal of the full notebook cells\n",
              "var notebookContainer = gd.closest('#notebook-container');\n",
              "if (notebookContainer) {{\n",
              "    x.observe(notebookContainer, {childList: true});\n",
              "}}\n",
              "\n",
              "// Listen for the clearing of the current output cell\n",
              "var outputEl = gd.closest('.output');\n",
              "if (outputEl) {{\n",
              "    x.observe(outputEl, {childList: true});\n",
              "}}\n",
              "\n",
              "                        })                };                            </script>        </div>\n",
              "</body>\n",
              "</html>"
            ]
          },
          "metadata": {}
        }
      ]
    },
    {
      "cell_type": "markdown",
      "source": [
        "###Number of titles for each Continents"
      ],
      "metadata": {
        "id": "WM6URPRfS3DM"
      }
    },
    {
      "cell_type": "code",
      "source": [
        "merged_data = pd.merge(tournaments_data, teams_data, left_on='winner', right_on='team_name', how='left')\n",
        "\n",
        "winner_count = merged_data['confederation_name'].value_counts().reset_index()\n",
        "winner_count.columns = ['confederation_name', 'winner_count']\n",
        "\n",
        "fig = px.bar(winner_count, x='confederation_name', y='winner_count', title='Number of Winners by Confederation')\n",
        "fig.update_layout(xaxis_title='Confederation', yaxis_title='Number of Winners')\n",
        "\n",
        "fig.show()"
      ],
      "metadata": {
        "colab": {
          "base_uri": "https://localhost:8080/"
        },
        "id": "nUK1fyWSY8WV",
        "outputId": "46d03a90-8fcf-4d60-fc20-5ee4e19f4ae5"
      },
      "execution_count": null,
      "outputs": [
        {
          "output_type": "display_data",
          "data": {
            "text/html": [
              "<html>\n",
              "<head><meta charset=\"utf-8\" /></head>\n",
              "<body>\n",
              "    <div>            <script src=\"https://cdnjs.cloudflare.com/ajax/libs/mathjax/2.7.5/MathJax.js?config=TeX-AMS-MML_SVG\"></script><script type=\"text/javascript\">if (window.MathJax && window.MathJax.Hub && window.MathJax.Hub.Config) {window.MathJax.Hub.Config({SVG: {font: \"STIX-Web\"}});}</script>                <script type=\"text/javascript\">window.PlotlyConfig = {MathJaxConfig: 'local'};</script>\n",
              "        <script src=\"https://cdn.plot.ly/plotly-2.18.2.min.js\"></script>                <div id=\"0ba51b42-52ad-41c4-ac18-f70b29f0bf1e\" class=\"plotly-graph-div\" style=\"height:525px; width:100%;\"></div>            <script type=\"text/javascript\">                                    window.PLOTLYENV=window.PLOTLYENV || {};                                    if (document.getElementById(\"0ba51b42-52ad-41c4-ac18-f70b29f0bf1e\")) {                    Plotly.newPlot(                        \"0ba51b42-52ad-41c4-ac18-f70b29f0bf1e\",                        [{\"alignmentgroup\":\"True\",\"hovertemplate\":\"confederation_name=%{x}<br>winner_count=%{y}<extra></extra>\",\"legendgroup\":\"\",\"marker\":{\"color\":\"#636efa\",\"pattern\":{\"shape\":\"\"}},\"name\":\"\",\"offsetgroup\":\"\",\"orientation\":\"v\",\"showlegend\":false,\"textposition\":\"auto\",\"x\":[\"Union of European Football Associations\",\"South American Football Confederation\"],\"xaxis\":\"x\",\"y\":[12,10],\"yaxis\":\"y\",\"type\":\"bar\"}],                        {\"template\":{\"data\":{\"histogram2dcontour\":[{\"type\":\"histogram2dcontour\",\"colorbar\":{\"outlinewidth\":0,\"ticks\":\"\"},\"colorscale\":[[0.0,\"#0d0887\"],[0.1111111111111111,\"#46039f\"],[0.2222222222222222,\"#7201a8\"],[0.3333333333333333,\"#9c179e\"],[0.4444444444444444,\"#bd3786\"],[0.5555555555555556,\"#d8576b\"],[0.6666666666666666,\"#ed7953\"],[0.7777777777777778,\"#fb9f3a\"],[0.8888888888888888,\"#fdca26\"],[1.0,\"#f0f921\"]]}],\"choropleth\":[{\"type\":\"choropleth\",\"colorbar\":{\"outlinewidth\":0,\"ticks\":\"\"}}],\"histogram2d\":[{\"type\":\"histogram2d\",\"colorbar\":{\"outlinewidth\":0,\"ticks\":\"\"},\"colorscale\":[[0.0,\"#0d0887\"],[0.1111111111111111,\"#46039f\"],[0.2222222222222222,\"#7201a8\"],[0.3333333333333333,\"#9c179e\"],[0.4444444444444444,\"#bd3786\"],[0.5555555555555556,\"#d8576b\"],[0.6666666666666666,\"#ed7953\"],[0.7777777777777778,\"#fb9f3a\"],[0.8888888888888888,\"#fdca26\"],[1.0,\"#f0f921\"]]}],\"heatmap\":[{\"type\":\"heatmap\",\"colorbar\":{\"outlinewidth\":0,\"ticks\":\"\"},\"colorscale\":[[0.0,\"#0d0887\"],[0.1111111111111111,\"#46039f\"],[0.2222222222222222,\"#7201a8\"],[0.3333333333333333,\"#9c179e\"],[0.4444444444444444,\"#bd3786\"],[0.5555555555555556,\"#d8576b\"],[0.6666666666666666,\"#ed7953\"],[0.7777777777777778,\"#fb9f3a\"],[0.8888888888888888,\"#fdca26\"],[1.0,\"#f0f921\"]]}],\"heatmapgl\":[{\"type\":\"heatmapgl\",\"colorbar\":{\"outlinewidth\":0,\"ticks\":\"\"},\"colorscale\":[[0.0,\"#0d0887\"],[0.1111111111111111,\"#46039f\"],[0.2222222222222222,\"#7201a8\"],[0.3333333333333333,\"#9c179e\"],[0.4444444444444444,\"#bd3786\"],[0.5555555555555556,\"#d8576b\"],[0.6666666666666666,\"#ed7953\"],[0.7777777777777778,\"#fb9f3a\"],[0.8888888888888888,\"#fdca26\"],[1.0,\"#f0f921\"]]}],\"contourcarpet\":[{\"type\":\"contourcarpet\",\"colorbar\":{\"outlinewidth\":0,\"ticks\":\"\"}}],\"contour\":[{\"type\":\"contour\",\"colorbar\":{\"outlinewidth\":0,\"ticks\":\"\"},\"colorscale\":[[0.0,\"#0d0887\"],[0.1111111111111111,\"#46039f\"],[0.2222222222222222,\"#7201a8\"],[0.3333333333333333,\"#9c179e\"],[0.4444444444444444,\"#bd3786\"],[0.5555555555555556,\"#d8576b\"],[0.6666666666666666,\"#ed7953\"],[0.7777777777777778,\"#fb9f3a\"],[0.8888888888888888,\"#fdca26\"],[1.0,\"#f0f921\"]]}],\"surface\":[{\"type\":\"surface\",\"colorbar\":{\"outlinewidth\":0,\"ticks\":\"\"},\"colorscale\":[[0.0,\"#0d0887\"],[0.1111111111111111,\"#46039f\"],[0.2222222222222222,\"#7201a8\"],[0.3333333333333333,\"#9c179e\"],[0.4444444444444444,\"#bd3786\"],[0.5555555555555556,\"#d8576b\"],[0.6666666666666666,\"#ed7953\"],[0.7777777777777778,\"#fb9f3a\"],[0.8888888888888888,\"#fdca26\"],[1.0,\"#f0f921\"]]}],\"mesh3d\":[{\"type\":\"mesh3d\",\"colorbar\":{\"outlinewidth\":0,\"ticks\":\"\"}}],\"scatter\":[{\"fillpattern\":{\"fillmode\":\"overlay\",\"size\":10,\"solidity\":0.2},\"type\":\"scatter\"}],\"parcoords\":[{\"type\":\"parcoords\",\"line\":{\"colorbar\":{\"outlinewidth\":0,\"ticks\":\"\"}}}],\"scatterpolargl\":[{\"type\":\"scatterpolargl\",\"marker\":{\"colorbar\":{\"outlinewidth\":0,\"ticks\":\"\"}}}],\"bar\":[{\"error_x\":{\"color\":\"#2a3f5f\"},\"error_y\":{\"color\":\"#2a3f5f\"},\"marker\":{\"line\":{\"color\":\"#E5ECF6\",\"width\":0.5},\"pattern\":{\"fillmode\":\"overlay\",\"size\":10,\"solidity\":0.2}},\"type\":\"bar\"}],\"scattergeo\":[{\"type\":\"scattergeo\",\"marker\":{\"colorbar\":{\"outlinewidth\":0,\"ticks\":\"\"}}}],\"scatterpolar\":[{\"type\":\"scatterpolar\",\"marker\":{\"colorbar\":{\"outlinewidth\":0,\"ticks\":\"\"}}}],\"histogram\":[{\"marker\":{\"pattern\":{\"fillmode\":\"overlay\",\"size\":10,\"solidity\":0.2}},\"type\":\"histogram\"}],\"scattergl\":[{\"type\":\"scattergl\",\"marker\":{\"colorbar\":{\"outlinewidth\":0,\"ticks\":\"\"}}}],\"scatter3d\":[{\"type\":\"scatter3d\",\"line\":{\"colorbar\":{\"outlinewidth\":0,\"ticks\":\"\"}},\"marker\":{\"colorbar\":{\"outlinewidth\":0,\"ticks\":\"\"}}}],\"scattermapbox\":[{\"type\":\"scattermapbox\",\"marker\":{\"colorbar\":{\"outlinewidth\":0,\"ticks\":\"\"}}}],\"scatterternary\":[{\"type\":\"scatterternary\",\"marker\":{\"colorbar\":{\"outlinewidth\":0,\"ticks\":\"\"}}}],\"scattercarpet\":[{\"type\":\"scattercarpet\",\"marker\":{\"colorbar\":{\"outlinewidth\":0,\"ticks\":\"\"}}}],\"carpet\":[{\"aaxis\":{\"endlinecolor\":\"#2a3f5f\",\"gridcolor\":\"white\",\"linecolor\":\"white\",\"minorgridcolor\":\"white\",\"startlinecolor\":\"#2a3f5f\"},\"baxis\":{\"endlinecolor\":\"#2a3f5f\",\"gridcolor\":\"white\",\"linecolor\":\"white\",\"minorgridcolor\":\"white\",\"startlinecolor\":\"#2a3f5f\"},\"type\":\"carpet\"}],\"table\":[{\"cells\":{\"fill\":{\"color\":\"#EBF0F8\"},\"line\":{\"color\":\"white\"}},\"header\":{\"fill\":{\"color\":\"#C8D4E3\"},\"line\":{\"color\":\"white\"}},\"type\":\"table\"}],\"barpolar\":[{\"marker\":{\"line\":{\"color\":\"#E5ECF6\",\"width\":0.5},\"pattern\":{\"fillmode\":\"overlay\",\"size\":10,\"solidity\":0.2}},\"type\":\"barpolar\"}],\"pie\":[{\"automargin\":true,\"type\":\"pie\"}]},\"layout\":{\"autotypenumbers\":\"strict\",\"colorway\":[\"#636efa\",\"#EF553B\",\"#00cc96\",\"#ab63fa\",\"#FFA15A\",\"#19d3f3\",\"#FF6692\",\"#B6E880\",\"#FF97FF\",\"#FECB52\"],\"font\":{\"color\":\"#2a3f5f\"},\"hovermode\":\"closest\",\"hoverlabel\":{\"align\":\"left\"},\"paper_bgcolor\":\"white\",\"plot_bgcolor\":\"#E5ECF6\",\"polar\":{\"bgcolor\":\"#E5ECF6\",\"angularaxis\":{\"gridcolor\":\"white\",\"linecolor\":\"white\",\"ticks\":\"\"},\"radialaxis\":{\"gridcolor\":\"white\",\"linecolor\":\"white\",\"ticks\":\"\"}},\"ternary\":{\"bgcolor\":\"#E5ECF6\",\"aaxis\":{\"gridcolor\":\"white\",\"linecolor\":\"white\",\"ticks\":\"\"},\"baxis\":{\"gridcolor\":\"white\",\"linecolor\":\"white\",\"ticks\":\"\"},\"caxis\":{\"gridcolor\":\"white\",\"linecolor\":\"white\",\"ticks\":\"\"}},\"coloraxis\":{\"colorbar\":{\"outlinewidth\":0,\"ticks\":\"\"}},\"colorscale\":{\"sequential\":[[0.0,\"#0d0887\"],[0.1111111111111111,\"#46039f\"],[0.2222222222222222,\"#7201a8\"],[0.3333333333333333,\"#9c179e\"],[0.4444444444444444,\"#bd3786\"],[0.5555555555555556,\"#d8576b\"],[0.6666666666666666,\"#ed7953\"],[0.7777777777777778,\"#fb9f3a\"],[0.8888888888888888,\"#fdca26\"],[1.0,\"#f0f921\"]],\"sequentialminus\":[[0.0,\"#0d0887\"],[0.1111111111111111,\"#46039f\"],[0.2222222222222222,\"#7201a8\"],[0.3333333333333333,\"#9c179e\"],[0.4444444444444444,\"#bd3786\"],[0.5555555555555556,\"#d8576b\"],[0.6666666666666666,\"#ed7953\"],[0.7777777777777778,\"#fb9f3a\"],[0.8888888888888888,\"#fdca26\"],[1.0,\"#f0f921\"]],\"diverging\":[[0,\"#8e0152\"],[0.1,\"#c51b7d\"],[0.2,\"#de77ae\"],[0.3,\"#f1b6da\"],[0.4,\"#fde0ef\"],[0.5,\"#f7f7f7\"],[0.6,\"#e6f5d0\"],[0.7,\"#b8e186\"],[0.8,\"#7fbc41\"],[0.9,\"#4d9221\"],[1,\"#276419\"]]},\"xaxis\":{\"gridcolor\":\"white\",\"linecolor\":\"white\",\"ticks\":\"\",\"title\":{\"standoff\":15},\"zerolinecolor\":\"white\",\"automargin\":true,\"zerolinewidth\":2},\"yaxis\":{\"gridcolor\":\"white\",\"linecolor\":\"white\",\"ticks\":\"\",\"title\":{\"standoff\":15},\"zerolinecolor\":\"white\",\"automargin\":true,\"zerolinewidth\":2},\"scene\":{\"xaxis\":{\"backgroundcolor\":\"#E5ECF6\",\"gridcolor\":\"white\",\"linecolor\":\"white\",\"showbackground\":true,\"ticks\":\"\",\"zerolinecolor\":\"white\",\"gridwidth\":2},\"yaxis\":{\"backgroundcolor\":\"#E5ECF6\",\"gridcolor\":\"white\",\"linecolor\":\"white\",\"showbackground\":true,\"ticks\":\"\",\"zerolinecolor\":\"white\",\"gridwidth\":2},\"zaxis\":{\"backgroundcolor\":\"#E5ECF6\",\"gridcolor\":\"white\",\"linecolor\":\"white\",\"showbackground\":true,\"ticks\":\"\",\"zerolinecolor\":\"white\",\"gridwidth\":2}},\"shapedefaults\":{\"line\":{\"color\":\"#2a3f5f\"}},\"annotationdefaults\":{\"arrowcolor\":\"#2a3f5f\",\"arrowhead\":0,\"arrowwidth\":1},\"geo\":{\"bgcolor\":\"white\",\"landcolor\":\"#E5ECF6\",\"subunitcolor\":\"white\",\"showland\":true,\"showlakes\":true,\"lakecolor\":\"white\"},\"title\":{\"x\":0.05},\"mapbox\":{\"style\":\"light\"}}},\"xaxis\":{\"anchor\":\"y\",\"domain\":[0.0,1.0],\"title\":{\"text\":\"Confederation\"}},\"yaxis\":{\"anchor\":\"x\",\"domain\":[0.0,1.0],\"title\":{\"text\":\"Number of Winners\"}},\"legend\":{\"tracegroupgap\":0},\"title\":{\"text\":\"Number of Winners by Confederation\"},\"barmode\":\"relative\"},                        {\"responsive\": true}                    ).then(function(){\n",
              "                            \n",
              "var gd = document.getElementById('0ba51b42-52ad-41c4-ac18-f70b29f0bf1e');\n",
              "var x = new MutationObserver(function (mutations, observer) {{\n",
              "        var display = window.getComputedStyle(gd).display;\n",
              "        if (!display || display === 'none') {{\n",
              "            console.log([gd, 'removed!']);\n",
              "            Plotly.purge(gd);\n",
              "            observer.disconnect();\n",
              "        }}\n",
              "}});\n",
              "\n",
              "// Listen for the removal of the full notebook cells\n",
              "var notebookContainer = gd.closest('#notebook-container');\n",
              "if (notebookContainer) {{\n",
              "    x.observe(notebookContainer, {childList: true});\n",
              "}}\n",
              "\n",
              "// Listen for the clearing of the current output cell\n",
              "var outputEl = gd.closest('.output');\n",
              "if (outputEl) {{\n",
              "    x.observe(outputEl, {childList: true});\n",
              "}}\n",
              "\n",
              "                        })                };                            </script>        </div>\n",
              "</body>\n",
              "</html>"
            ]
          },
          "metadata": {}
        }
      ]
    },
    {
      "cell_type": "markdown",
      "source": [
        "###Association Between the number of goals and winning the Trophy"
      ],
      "metadata": {
        "id": "8b0S9HYGP2Go"
      }
    },
    {
      "cell_type": "markdown",
      "source": [
        "##Players"
      ],
      "metadata": {
        "id": "B3R9QShSTtlF"
      }
    },
    {
      "cell_type": "markdown",
      "source": [
        "###Top players by the number of tournaments apperances"
      ],
      "metadata": {
        "id": "H-9MzVOYaTn8"
      }
    },
    {
      "cell_type": "code",
      "source": [
        "player_tournament_counts = players_data.groupby(['player_id','full_name'])['count_tournaments'].sum().reset_index()\n",
        "\n",
        "top_players = player_tournament_counts.sort_values('count_tournaments', ascending=False).head(10)\n",
        "\n",
        "\n",
        "fig = px.bar(top_players, x='full_name', y='count_tournaments', title='Top Players by Count of Tournaments')\n",
        "fig.update_layout(xaxis_title='Player Name', yaxis_title='Number of Tournaments')\n",
        "\n",
        "fig.show()\n"
      ],
      "metadata": {
        "colab": {
          "base_uri": "https://localhost:8080/",
          "height": 542
        },
        "id": "yanE5gAqYAJ-",
        "outputId": "2dfa2862-008d-41f4-cb7f-0a8d74566ca9"
      },
      "execution_count": null,
      "outputs": [
        {
          "output_type": "display_data",
          "data": {
            "text/html": [
              "<html>\n",
              "<head><meta charset=\"utf-8\" /></head>\n",
              "<body>\n",
              "    <div>            <script src=\"https://cdnjs.cloudflare.com/ajax/libs/mathjax/2.7.5/MathJax.js?config=TeX-AMS-MML_SVG\"></script><script type=\"text/javascript\">if (window.MathJax && window.MathJax.Hub && window.MathJax.Hub.Config) {window.MathJax.Hub.Config({SVG: {font: \"STIX-Web\"}});}</script>                <script type=\"text/javascript\">window.PlotlyConfig = {MathJaxConfig: 'local'};</script>\n",
              "        <script src=\"https://cdn.plot.ly/plotly-2.18.2.min.js\"></script>                <div id=\"168076ab-2987-4086-aff9-34c3e6ed4562\" class=\"plotly-graph-div\" style=\"height:525px; width:100%;\"></div>            <script type=\"text/javascript\">                                    window.PLOTLYENV=window.PLOTLYENV || {};                                    if (document.getElementById(\"168076ab-2987-4086-aff9-34c3e6ed4562\")) {                    Plotly.newPlot(                        \"168076ab-2987-4086-aff9-34c3e6ed4562\",                        [{\"alignmentgroup\":\"True\",\"hovertemplate\":\"full_name=%{x}<br>count_tournaments=%{y}<extra></extra>\",\"legendgroup\":\"\",\"marker\":{\"color\":\"#636efa\",\"pattern\":{\"shape\":\"\"}},\"name\":\"\",\"offsetgroup\":\"\",\"orientation\":\"v\",\"showlegend\":false,\"textposition\":\"auto\",\"x\":[\"Guillermo Ochoa\",\"Rafael M\\u00e1rquez\",\"Andr\\u00e9s Guardado\",\"Gianluigi Buffon\",\"Lothar Matth\\u00e4us\",\"Lionel Messi\",\"Antonio Carbajal\",\"Cristiano Ronaldo\",\"Edinson Cavani\",\"Fernando Hierro\"],\"xaxis\":\"x\",\"y\":[5,5,5,5,5,5,5,5,4,4],\"yaxis\":\"y\",\"type\":\"bar\"}],                        {\"template\":{\"data\":{\"histogram2dcontour\":[{\"type\":\"histogram2dcontour\",\"colorbar\":{\"outlinewidth\":0,\"ticks\":\"\"},\"colorscale\":[[0.0,\"#0d0887\"],[0.1111111111111111,\"#46039f\"],[0.2222222222222222,\"#7201a8\"],[0.3333333333333333,\"#9c179e\"],[0.4444444444444444,\"#bd3786\"],[0.5555555555555556,\"#d8576b\"],[0.6666666666666666,\"#ed7953\"],[0.7777777777777778,\"#fb9f3a\"],[0.8888888888888888,\"#fdca26\"],[1.0,\"#f0f921\"]]}],\"choropleth\":[{\"type\":\"choropleth\",\"colorbar\":{\"outlinewidth\":0,\"ticks\":\"\"}}],\"histogram2d\":[{\"type\":\"histogram2d\",\"colorbar\":{\"outlinewidth\":0,\"ticks\":\"\"},\"colorscale\":[[0.0,\"#0d0887\"],[0.1111111111111111,\"#46039f\"],[0.2222222222222222,\"#7201a8\"],[0.3333333333333333,\"#9c179e\"],[0.4444444444444444,\"#bd3786\"],[0.5555555555555556,\"#d8576b\"],[0.6666666666666666,\"#ed7953\"],[0.7777777777777778,\"#fb9f3a\"],[0.8888888888888888,\"#fdca26\"],[1.0,\"#f0f921\"]]}],\"heatmap\":[{\"type\":\"heatmap\",\"colorbar\":{\"outlinewidth\":0,\"ticks\":\"\"},\"colorscale\":[[0.0,\"#0d0887\"],[0.1111111111111111,\"#46039f\"],[0.2222222222222222,\"#7201a8\"],[0.3333333333333333,\"#9c179e\"],[0.4444444444444444,\"#bd3786\"],[0.5555555555555556,\"#d8576b\"],[0.6666666666666666,\"#ed7953\"],[0.7777777777777778,\"#fb9f3a\"],[0.8888888888888888,\"#fdca26\"],[1.0,\"#f0f921\"]]}],\"heatmapgl\":[{\"type\":\"heatmapgl\",\"colorbar\":{\"outlinewidth\":0,\"ticks\":\"\"},\"colorscale\":[[0.0,\"#0d0887\"],[0.1111111111111111,\"#46039f\"],[0.2222222222222222,\"#7201a8\"],[0.3333333333333333,\"#9c179e\"],[0.4444444444444444,\"#bd3786\"],[0.5555555555555556,\"#d8576b\"],[0.6666666666666666,\"#ed7953\"],[0.7777777777777778,\"#fb9f3a\"],[0.8888888888888888,\"#fdca26\"],[1.0,\"#f0f921\"]]}],\"contourcarpet\":[{\"type\":\"contourcarpet\",\"colorbar\":{\"outlinewidth\":0,\"ticks\":\"\"}}],\"contour\":[{\"type\":\"contour\",\"colorbar\":{\"outlinewidth\":0,\"ticks\":\"\"},\"colorscale\":[[0.0,\"#0d0887\"],[0.1111111111111111,\"#46039f\"],[0.2222222222222222,\"#7201a8\"],[0.3333333333333333,\"#9c179e\"],[0.4444444444444444,\"#bd3786\"],[0.5555555555555556,\"#d8576b\"],[0.6666666666666666,\"#ed7953\"],[0.7777777777777778,\"#fb9f3a\"],[0.8888888888888888,\"#fdca26\"],[1.0,\"#f0f921\"]]}],\"surface\":[{\"type\":\"surface\",\"colorbar\":{\"outlinewidth\":0,\"ticks\":\"\"},\"colorscale\":[[0.0,\"#0d0887\"],[0.1111111111111111,\"#46039f\"],[0.2222222222222222,\"#7201a8\"],[0.3333333333333333,\"#9c179e\"],[0.4444444444444444,\"#bd3786\"],[0.5555555555555556,\"#d8576b\"],[0.6666666666666666,\"#ed7953\"],[0.7777777777777778,\"#fb9f3a\"],[0.8888888888888888,\"#fdca26\"],[1.0,\"#f0f921\"]]}],\"mesh3d\":[{\"type\":\"mesh3d\",\"colorbar\":{\"outlinewidth\":0,\"ticks\":\"\"}}],\"scatter\":[{\"fillpattern\":{\"fillmode\":\"overlay\",\"size\":10,\"solidity\":0.2},\"type\":\"scatter\"}],\"parcoords\":[{\"type\":\"parcoords\",\"line\":{\"colorbar\":{\"outlinewidth\":0,\"ticks\":\"\"}}}],\"scatterpolargl\":[{\"type\":\"scatterpolargl\",\"marker\":{\"colorbar\":{\"outlinewidth\":0,\"ticks\":\"\"}}}],\"bar\":[{\"error_x\":{\"color\":\"#2a3f5f\"},\"error_y\":{\"color\":\"#2a3f5f\"},\"marker\":{\"line\":{\"color\":\"#E5ECF6\",\"width\":0.5},\"pattern\":{\"fillmode\":\"overlay\",\"size\":10,\"solidity\":0.2}},\"type\":\"bar\"}],\"scattergeo\":[{\"type\":\"scattergeo\",\"marker\":{\"colorbar\":{\"outlinewidth\":0,\"ticks\":\"\"}}}],\"scatterpolar\":[{\"type\":\"scatterpolar\",\"marker\":{\"colorbar\":{\"outlinewidth\":0,\"ticks\":\"\"}}}],\"histogram\":[{\"marker\":{\"pattern\":{\"fillmode\":\"overlay\",\"size\":10,\"solidity\":0.2}},\"type\":\"histogram\"}],\"scattergl\":[{\"type\":\"scattergl\",\"marker\":{\"colorbar\":{\"outlinewidth\":0,\"ticks\":\"\"}}}],\"scatter3d\":[{\"type\":\"scatter3d\",\"line\":{\"colorbar\":{\"outlinewidth\":0,\"ticks\":\"\"}},\"marker\":{\"colorbar\":{\"outlinewidth\":0,\"ticks\":\"\"}}}],\"scattermapbox\":[{\"type\":\"scattermapbox\",\"marker\":{\"colorbar\":{\"outlinewidth\":0,\"ticks\":\"\"}}}],\"scatterternary\":[{\"type\":\"scatterternary\",\"marker\":{\"colorbar\":{\"outlinewidth\":0,\"ticks\":\"\"}}}],\"scattercarpet\":[{\"type\":\"scattercarpet\",\"marker\":{\"colorbar\":{\"outlinewidth\":0,\"ticks\":\"\"}}}],\"carpet\":[{\"aaxis\":{\"endlinecolor\":\"#2a3f5f\",\"gridcolor\":\"white\",\"linecolor\":\"white\",\"minorgridcolor\":\"white\",\"startlinecolor\":\"#2a3f5f\"},\"baxis\":{\"endlinecolor\":\"#2a3f5f\",\"gridcolor\":\"white\",\"linecolor\":\"white\",\"minorgridcolor\":\"white\",\"startlinecolor\":\"#2a3f5f\"},\"type\":\"carpet\"}],\"table\":[{\"cells\":{\"fill\":{\"color\":\"#EBF0F8\"},\"line\":{\"color\":\"white\"}},\"header\":{\"fill\":{\"color\":\"#C8D4E3\"},\"line\":{\"color\":\"white\"}},\"type\":\"table\"}],\"barpolar\":[{\"marker\":{\"line\":{\"color\":\"#E5ECF6\",\"width\":0.5},\"pattern\":{\"fillmode\":\"overlay\",\"size\":10,\"solidity\":0.2}},\"type\":\"barpolar\"}],\"pie\":[{\"automargin\":true,\"type\":\"pie\"}]},\"layout\":{\"autotypenumbers\":\"strict\",\"colorway\":[\"#636efa\",\"#EF553B\",\"#00cc96\",\"#ab63fa\",\"#FFA15A\",\"#19d3f3\",\"#FF6692\",\"#B6E880\",\"#FF97FF\",\"#FECB52\"],\"font\":{\"color\":\"#2a3f5f\"},\"hovermode\":\"closest\",\"hoverlabel\":{\"align\":\"left\"},\"paper_bgcolor\":\"white\",\"plot_bgcolor\":\"#E5ECF6\",\"polar\":{\"bgcolor\":\"#E5ECF6\",\"angularaxis\":{\"gridcolor\":\"white\",\"linecolor\":\"white\",\"ticks\":\"\"},\"radialaxis\":{\"gridcolor\":\"white\",\"linecolor\":\"white\",\"ticks\":\"\"}},\"ternary\":{\"bgcolor\":\"#E5ECF6\",\"aaxis\":{\"gridcolor\":\"white\",\"linecolor\":\"white\",\"ticks\":\"\"},\"baxis\":{\"gridcolor\":\"white\",\"linecolor\":\"white\",\"ticks\":\"\"},\"caxis\":{\"gridcolor\":\"white\",\"linecolor\":\"white\",\"ticks\":\"\"}},\"coloraxis\":{\"colorbar\":{\"outlinewidth\":0,\"ticks\":\"\"}},\"colorscale\":{\"sequential\":[[0.0,\"#0d0887\"],[0.1111111111111111,\"#46039f\"],[0.2222222222222222,\"#7201a8\"],[0.3333333333333333,\"#9c179e\"],[0.4444444444444444,\"#bd3786\"],[0.5555555555555556,\"#d8576b\"],[0.6666666666666666,\"#ed7953\"],[0.7777777777777778,\"#fb9f3a\"],[0.8888888888888888,\"#fdca26\"],[1.0,\"#f0f921\"]],\"sequentialminus\":[[0.0,\"#0d0887\"],[0.1111111111111111,\"#46039f\"],[0.2222222222222222,\"#7201a8\"],[0.3333333333333333,\"#9c179e\"],[0.4444444444444444,\"#bd3786\"],[0.5555555555555556,\"#d8576b\"],[0.6666666666666666,\"#ed7953\"],[0.7777777777777778,\"#fb9f3a\"],[0.8888888888888888,\"#fdca26\"],[1.0,\"#f0f921\"]],\"diverging\":[[0,\"#8e0152\"],[0.1,\"#c51b7d\"],[0.2,\"#de77ae\"],[0.3,\"#f1b6da\"],[0.4,\"#fde0ef\"],[0.5,\"#f7f7f7\"],[0.6,\"#e6f5d0\"],[0.7,\"#b8e186\"],[0.8,\"#7fbc41\"],[0.9,\"#4d9221\"],[1,\"#276419\"]]},\"xaxis\":{\"gridcolor\":\"white\",\"linecolor\":\"white\",\"ticks\":\"\",\"title\":{\"standoff\":15},\"zerolinecolor\":\"white\",\"automargin\":true,\"zerolinewidth\":2},\"yaxis\":{\"gridcolor\":\"white\",\"linecolor\":\"white\",\"ticks\":\"\",\"title\":{\"standoff\":15},\"zerolinecolor\":\"white\",\"automargin\":true,\"zerolinewidth\":2},\"scene\":{\"xaxis\":{\"backgroundcolor\":\"#E5ECF6\",\"gridcolor\":\"white\",\"linecolor\":\"white\",\"showbackground\":true,\"ticks\":\"\",\"zerolinecolor\":\"white\",\"gridwidth\":2},\"yaxis\":{\"backgroundcolor\":\"#E5ECF6\",\"gridcolor\":\"white\",\"linecolor\":\"white\",\"showbackground\":true,\"ticks\":\"\",\"zerolinecolor\":\"white\",\"gridwidth\":2},\"zaxis\":{\"backgroundcolor\":\"#E5ECF6\",\"gridcolor\":\"white\",\"linecolor\":\"white\",\"showbackground\":true,\"ticks\":\"\",\"zerolinecolor\":\"white\",\"gridwidth\":2}},\"shapedefaults\":{\"line\":{\"color\":\"#2a3f5f\"}},\"annotationdefaults\":{\"arrowcolor\":\"#2a3f5f\",\"arrowhead\":0,\"arrowwidth\":1},\"geo\":{\"bgcolor\":\"white\",\"landcolor\":\"#E5ECF6\",\"subunitcolor\":\"white\",\"showland\":true,\"showlakes\":true,\"lakecolor\":\"white\"},\"title\":{\"x\":0.05},\"mapbox\":{\"style\":\"light\"}}},\"xaxis\":{\"anchor\":\"y\",\"domain\":[0.0,1.0],\"title\":{\"text\":\"Player Name\"}},\"yaxis\":{\"anchor\":\"x\",\"domain\":[0.0,1.0],\"title\":{\"text\":\"Number of Tournaments\"}},\"legend\":{\"tracegroupgap\":0},\"title\":{\"text\":\"Top Players by Count of Tournaments\"},\"barmode\":\"relative\"},                        {\"responsive\": true}                    ).then(function(){\n",
              "                            \n",
              "var gd = document.getElementById('168076ab-2987-4086-aff9-34c3e6ed4562');\n",
              "var x = new MutationObserver(function (mutations, observer) {{\n",
              "        var display = window.getComputedStyle(gd).display;\n",
              "        if (!display || display === 'none') {{\n",
              "            console.log([gd, 'removed!']);\n",
              "            Plotly.purge(gd);\n",
              "            observer.disconnect();\n",
              "        }}\n",
              "}});\n",
              "\n",
              "// Listen for the removal of the full notebook cells\n",
              "var notebookContainer = gd.closest('#notebook-container');\n",
              "if (notebookContainer) {{\n",
              "    x.observe(notebookContainer, {childList: true});\n",
              "}}\n",
              "\n",
              "// Listen for the clearing of the current output cell\n",
              "var outputEl = gd.closest('.output');\n",
              "if (outputEl) {{\n",
              "    x.observe(outputEl, {childList: true});\n",
              "}}\n",
              "\n",
              "                        })                };                            </script>        </div>\n",
              "</body>\n",
              "</html>"
            ]
          },
          "metadata": {}
        }
      ]
    },
    {
      "cell_type": "markdown",
      "source": [
        "I wanted to merge the booking dataset with the refrees and see how they associate but I Ran out of time -_-"
      ],
      "metadata": {
        "id": "IrIRiuZMQ30e"
      }
    },
    {
      "cell_type": "code",
      "source": [],
      "metadata": {
        "id": "vMlmHSKFRC4Q"
      },
      "execution_count": null,
      "outputs": []
    }
  ]
}